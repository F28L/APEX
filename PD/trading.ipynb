{
 "cells": [
  {
   "cell_type": "code",
   "execution_count": 1,
   "metadata": {},
   "outputs": [],
   "source": [
    "import numpy as np\n",
    "import pandas as pd\n",
    "import sys\n",
    "import gc\n",
    "import joblib\n",
    "import pathlib\n",
    "import json\n",
    "import glob\n",
    "from tqdm.notebook import tqdm\n",
    "\n",
    "# visualize\n",
    "import matplotlib.pyplot as plt\n",
    "import matplotlib.style as style\n",
    "import seaborn as sns\n",
    "from matplotlib import pyplot\n",
    "from matplotlib.ticker import ScalarFormatter\n",
    "sns.set_context(\"talk\")\n",
    "style.use('seaborn-colorblind')\n",
    "\n",
    "import plotly.graph_objects as go"
   ]
  },
  {
   "cell_type": "code",
   "execution_count": 2,
   "metadata": {},
   "outputs": [
    {
     "data": {
      "text/html": [
       "<div>\n",
       "<style scoped>\n",
       "    .dataframe tbody tr th:only-of-type {\n",
       "        vertical-align: middle;\n",
       "    }\n",
       "\n",
       "    .dataframe tbody tr th {\n",
       "        vertical-align: top;\n",
       "    }\n",
       "\n",
       "    .dataframe thead th {\n",
       "        text-align: right;\n",
       "    }\n",
       "</style>\n",
       "<table border=\"1\" class=\"dataframe\">\n",
       "  <thead>\n",
       "    <tr style=\"text-align: right;\">\n",
       "      <th></th>\n",
       "      <th>Date</th>\n",
       "      <th>Open</th>\n",
       "      <th>High</th>\n",
       "      <th>Low</th>\n",
       "      <th>Close</th>\n",
       "      <th>Adj Close</th>\n",
       "      <th>Volume</th>\n",
       "    </tr>\n",
       "  </thead>\n",
       "  <tbody>\n",
       "    <tr>\n",
       "      <th>0</th>\n",
       "      <td>2019-04-11</td>\n",
       "      <td>36.750000</td>\n",
       "      <td>39.610001</td>\n",
       "      <td>36.000000</td>\n",
       "      <td>38.250000</td>\n",
       "      <td>38.250000</td>\n",
       "      <td>9287900</td>\n",
       "    </tr>\n",
       "    <tr>\n",
       "      <th>1</th>\n",
       "      <td>2019-04-12</td>\n",
       "      <td>39.119999</td>\n",
       "      <td>40.880001</td>\n",
       "      <td>37.398998</td>\n",
       "      <td>39.500000</td>\n",
       "      <td>39.500000</td>\n",
       "      <td>1504700</td>\n",
       "    </tr>\n",
       "    <tr>\n",
       "      <th>2</th>\n",
       "      <td>2019-04-15</td>\n",
       "      <td>38.500000</td>\n",
       "      <td>39.860001</td>\n",
       "      <td>36.250000</td>\n",
       "      <td>39.169998</td>\n",
       "      <td>39.169998</td>\n",
       "      <td>961200</td>\n",
       "    </tr>\n",
       "    <tr>\n",
       "      <th>3</th>\n",
       "      <td>2019-04-16</td>\n",
       "      <td>39.639999</td>\n",
       "      <td>39.700001</td>\n",
       "      <td>37.900002</td>\n",
       "      <td>38.049999</td>\n",
       "      <td>38.049999</td>\n",
       "      <td>727600</td>\n",
       "    </tr>\n",
       "    <tr>\n",
       "      <th>4</th>\n",
       "      <td>2019-04-17</td>\n",
       "      <td>38.209999</td>\n",
       "      <td>41.950001</td>\n",
       "      <td>37.500000</td>\n",
       "      <td>40.000000</td>\n",
       "      <td>40.000000</td>\n",
       "      <td>1143200</td>\n",
       "    </tr>\n",
       "  </tbody>\n",
       "</table>\n",
       "</div>"
      ],
      "text/plain": [
       "         Date       Open       High        Low      Close  Adj Close   Volume\n",
       "0  2019-04-11  36.750000  39.610001  36.000000  38.250000  38.250000  9287900\n",
       "1  2019-04-12  39.119999  40.880001  37.398998  39.500000  39.500000  1504700\n",
       "2  2019-04-15  38.500000  39.860001  36.250000  39.169998  39.169998   961200\n",
       "3  2019-04-16  39.639999  39.700001  37.900002  38.049999  38.049999   727600\n",
       "4  2019-04-17  38.209999  41.950001  37.500000  40.000000  40.000000  1143200"
      ]
     },
     "execution_count": 2,
     "metadata": {},
     "output_type": "execute_result"
    }
   ],
   "source": [
    "df = pd.read_csv(\"/Users/sandeep/Workspace/APEX/PD/PD.csv\")\n",
    "df.head()"
   ]
  },
  {
   "cell_type": "code",
   "execution_count": 3,
   "metadata": {},
   "outputs": [
    {
     "data": {
      "text/plain": [
       "1    146\n",
       "2    144\n",
       "3    143\n",
       "4    139\n",
       "0    134\n",
       "Name: dayofweek, dtype: int64"
      ]
     },
     "execution_count": 3,
     "metadata": {},
     "output_type": "execute_result"
    }
   ],
   "source": [
    "# Add day of the week so we can start to see weekly patterns\n",
    "df['dayofweek'] = pd.to_datetime(df['Date']).dt.dayofweek\n",
    "df['dayofweek'].value_counts()"
   ]
  },
  {
   "cell_type": "code",
   "execution_count": 4,
   "metadata": {},
   "outputs": [
    {
     "data": {
      "text/plain": [
       "<AxesSubplot:xlabel='dayofweek', ylabel='intraday'>"
      ]
     },
     "execution_count": 4,
     "metadata": {},
     "output_type": "execute_result"
    },
    {
     "data": {
      "image/png": "[encoded data removed]",
      "text/plain": [
       "<Figure size 432x288 with 1 Axes>"
      ]
     },
     "metadata": {
      "needs_background": "light"
     },
     "output_type": "display_data"
    }
   ],
   "source": [
    "df['intraday'] = df['Close'] / df['Open']\n",
    "sns.violinplot(x='dayofweek', y='intraday', data=df)"
   ]
  },
  {
   "cell_type": "code",
   "execution_count": 5,
   "metadata": {},
   "outputs": [
    {
     "data": {
      "application/vnd.plotly.v1+json": {
       "config": {
        "plotlyServerURL": "https://plot.ly"
       },
       "data": [
        {
         "alignmentgroup": "True",
         "box": {
          "visible": false
         },
         "hovertemplate": "dayofweek=%{x}<br>intraday=%{y}<extra></extra>",
         "legendgroup": "",
         "marker": {
          "color": "#636efa"
         },
         "name": "",
         "offsetgroup": "",
         "orientation": "v",
         "scalegroup": "True",
         "showlegend": false,
         "type": "violin",
         "x": [
          3,
          4,
          0,
          1,
          2,
          3,
          0,
          1,
          2,
          3,
          4,
          0,
          1,
          2,
          3,
          4,
          0,
          1,
          2,
          3,
          4,
          0,
          1,
          2,
          3,
          4,
          0,
          1,
          2,
          3,
          4,
          1,
          2,
          3,
          4,
          0,
          1,
          2,
          3,
          4,
          0,
          1,
          2,
          3,
          4,
          0,
          1,
          2,
          3,
          4,
          0,
          1,
          2,
          3,
          4,
          0,
          1,
          2,
          4,
          0,
          1,
          2,
          3,
          4,
          0,
          1,
          2,
          3,
          4,
          0,
          1,
          2,
          3,
          4,
          0,
          1,
          2,
          3,
          4,
          0,
          1,
          2,
          3,
          4,
          0,
          1,
          2,
          3,
          4,
          0,
          1,
          2,
          3,
          4,
          0,
          1,
          2,
          3,
          4,
          1,
          2,
          3,
          4,
          0,
          1,
          2,
          3,
          4,
          0,
          1,
          2,
          3,
          4,
          0,
          1,
          2,
          3,
          4,
          0,
          1,
          2,
          3,
          4,
          0,
          1,
          2,
          3,
          4,
          0,
          1,
          2,
          3,
          4,
          0,
          1,
          2,
          3,
          4,
          0,
          1,
          2,
          3,
          4,
          0,
          1,
          2,
          3,
          4,
          0,
          1,
          2,
          3,
          4,
          0,
          1,
          2,
          3,
          4,
          0,
          1,
          2,
          4,
          0,
          1,
          2,
          3,
          4,
          0,
          1,
          2,
          3,
          4,
          0,
          1,
          2,
          3,
          4,
          0,
          1,
          3,
          4,
          0,
          1,
          3,
          4,
          0,
          1,
          2,
          3,
          4,
          0,
          1,
          2,
          3,
          4,
          1,
          2,
          3,
          4,
          0,
          1,
          2,
          3,
          4,
          0,
          1,
          2,
          3,
          4,
          0,
          1,
          2,
          3,
          4,
          1,
          2,
          3,
          4,
          0,
          1,
          2,
          3,
          4,
          0,
          1,
          2,
          3,
          4,
          0,
          1,
          2,
          3,
          4,
          0,
          1,
          2,
          3,
          4,
          0,
          1,
          2,
          3,
          4,
          0,
          1,
          2,
          3,
          4,
          0,
          1,
          2,
          3,
          0,
          1,
          2,
          3,
          4,
          0,
          1,
          2,
          3,
          4,
          0,
          1,
          2,
          3,
          4,
          0,
          1,
          2,
          3,
          4,
          0,
          1,
          2,
          3,
          4,
          0,
          1,
          2,
          3,
          4,
          1,
          2,
          3,
          4,
          0,
          1,
          2,
          3,
          4,
          0,
          1,
          2,
          3,
          4,
          0,
          1,
          2,
          3,
          4,
          0,
          1,
          2,
          3,
          4,
          0,
          1,
          2,
          3,
          0,
          1,
          2,
          3,
          4,
          0,
          1,
          2,
          3,
          4,
          0,
          1,
          2,
          3,
          4,
          0,
          1,
          2,
          3,
          4,
          0,
          1,
          2,
          3,
          4,
          0,
          1,
          2,
          3,
          4,
          0,
          1,
          2,
          3,
          4,
          0,
          1,
          2,
          3,
          4,
          0,
          1,
          2,
          3,
          4,
          1,
          2,
          3,
          4,
          0,
          1,
          2,
          3,
          4,
          0,
          1,
          2,
          3,
          4,
          0,
          1,
          2,
          3,
          4,
          0,
          1,
          2,
          3,
          4,
          0,
          1,
          2,
          3,
          4,
          0,
          1,
          2,
          3,
          4,
          0,
          1,
          2,
          3,
          4,
          0,
          1,
          2,
          3,
          4,
          0,
          1,
          2,
          3,
          4,
          0,
          1,
          2,
          3,
          4,
          0,
          1,
          2,
          4,
          0,
          1,
          2,
          3,
          4,
          0,
          1,
          2,
          3,
          4,
          0,
          1,
          2,
          3,
          4,
          0,
          1,
          2,
          3,
          0,
          1,
          2,
          3,
          0,
          1,
          2,
          3,
          4,
          0,
          1,
          2,
          3,
          4,
          1,
          2,
          3,
          4,
          0,
          1,
          2,
          3,
          4,
          0,
          1,
          2,
          3,
          4,
          0,
          1,
          2,
          3,
          4,
          1,
          2,
          3,
          4,
          0,
          1,
          2,
          3,
          4,
          0,
          1,
          2,
          3,
          4,
          0,
          1,
          2,
          3,
          4,
          0,
          1,
          2,
          3,
          4,
          0,
          1,
          2,
          3,
          4,
          0,
          1,
          2,
          3,
          0,
          1,
          2,
          3,
          4,
          0,
          1,
          2,
          3,
          4,
          0,
          1,
          2,
          3,
          4,
          0,
          1,
          2,
          3,
          4,
          0,
          1,
          2,
          3,
          4,
          0,
          1,
          2,
          3,
          4,
          0,
          1,
          2,
          3,
          4,
          0,
          1,
          2,
          3,
          4,
          1,
          2,
          3,
          4,
          0,
          1,
          2,
          3,
          4,
          0,
          1,
          2,
          3,
          4,
          0,
          1,
          2,
          3,
          4,
          0,
          1,
          2,
          3,
          4,
          1,
          2,
          3,
          4,
          0,
          1,
          2,
          3,
          4,
          0,
          1,
          2,
          3,
          4,
          0,
          1,
          2,
          3,
          4,
          0,
          1,
          2,
          3,
          4,
          0,
          1,
          2,
          3,
          4,
          0,
          1,
          2,
          3,
          4,
          0,
          1,
          2,
          3,
          4,
          0,
          1,
          2,
          3,
          4,
          1,
          2,
          3,
          4,
          0,
          1,
          2,
          3,
          4,
          0,
          1,
          2,
          3,
          4,
          0,
          1,
          2,
          3,
          4,
          0,
          1,
          2,
          3,
          4,
          0,
          1,
          2,
          3,
          4,
          0,
          1,
          2,
          3,
          4,
          0,
          1,
          2,
          3,
          4,
          0,
          1,
          2,
          3,
          4,
          0,
          1,
          2,
          3,
          4,
          0,
          1,
          2,
          3,
          4,
          0,
          1,
          2,
          4,
          0,
          1,
          2,
          3,
          4,
          0,
          1,
          2,
          3,
          4,
          0,
          1,
          2,
          3,
          4,
          0,
          1,
          2,
          3,
          0,
          1,
          2,
          3,
          4,
          0,
          1,
          2,
          3,
          4,
          0,
          1,
          2,
          3,
          4,
          1,
          2,
          3,
          4,
          0,
          1,
          2,
          3
         ],
         "x0": " ",
         "xaxis": "x",
         "y": [
          1.0408163265306123,
          1.009713727242171,
          1.0174025454545454,
          0.9598889999971999,
          1.0468464026916098,
          0.9681009636028923,
          1.0061301912577167,
          1.0121827151176286,
          1.0004977849676455,
          0.9777227238751126,
          1.0922882956330795,
          1.0604333436913727,
          1.018458263158703,
          0.9930010183244531,
          0.988118405959853,
          1.0060711839998089,
          1.0946429038982792,
          1.0008163469387756,
          0.9917154984152152,
          1.005514726419827,
          1.0479271779994503,
          0.9699882502942331,
          1.045319001285649,
          1.0224772636068,
          1.0365126490312966,
          0.9943636181818182,
          1.010089947168958,
          0.9835095539790364,
          0.9875618067518496,
          0.9716432333909103,
          1.0141032587363585,
          0.9862807928261754,
          1.0025111454510334,
          0.9948156492006279,
          1.003514271700229,
          0.90536830122711,
          0.9410029696797929,
          1.044658168781931,
          1.010410048863395,
          0.97800004,
          0.9742036339340877,
          0.9988072166760879,
          1.10620002,
          0.9641774556375431,
          1.0534337137979015,
          0.9512909105435771,
          0.9794927325058463,
          0.9990810696563133,
          0.9898785609127715,
          0.9990647399750232,
          0.9209493709941832,
          0.9636990273027981,
          0.9683333333333333,
          1.0268643891438725,
          0.9777639230624257,
          0.9600000416666666,
          1.009382412856975,
          1.0066352310223623,
          1.0183642315454098,
          1.0012599958265433,
          1.0463158105263157,
          0.9946839733277422,
          0.9751283458349783,
          0.9906199227035088,
          1.0042476335810606,
          0.979418886613824,
          0.9832989484536082,
          0.9434874346003124,
          1.024568415227977,
          1.0015027908328558,
          0.9433761312687208,
          1.0076233411490287,
          0.9740259740259741,
          1.0445918134004117,
          0.9645281569751766,
          1.0369003220272064,
          0.9872682823319187,
          0.9498860842876499,
          0.9485205677171037,
          0.9871391856765978,
          0.9520124846239674,
          1.0358225121018871,
          1.0533648513836789,
          0.9402349617286839,
          0.9770177165696268,
          1.0049972515269294,
          0.9799890350877194,
          0.9424741429077312,
          1.021201443498276,
          1.011999942857143,
          0.981787165104928,
          1.0130132149789928,
          1.0179028422251446,
          0.9770179652466369,
          1.0159816490872815,
          0.9932886461570833,
          1.0126760845070422,
          1.056090213255161,
          1.006923076923077,
          0.9720568707861904,
          1.0133191259105188,
          0.9491700479987021,
          0.956406481401871,
          0.863914346669286,
          0.9658691414496833,
          1.1443636,
          1,
          0.9388715047021944,
          1.0428134896364254,
          0.9960975284552845,
          0.9937969962062357,
          0.966017880766014,
          0.9979872860780707,
          1.0802175730795378,
          0.9223918281681988,
          0.9770913216623159,
          1.0513280670736516,
          0.9416472157385796,
          0.9996461429582448,
          1.0017730141215244,
          0.981274756931941,
          1.0152727272727273,
          0.9964029495108975,
          0.9727173517642779,
          1.0149999615384615,
          0.9984945803537826,
          0.9822440869755984,
          0.9992339716877069,
          1.013798428516673,
          1.0197026022304834,
          1.008945210585166,
          0.9940007499062617,
          0.9713740468941203,
          0.9853696723855409,
          0.9719776220976782,
          0.9841667083333334,
          1.0301255648535566,
          0.999595141716796,
          0.9436165928312525,
          0.9522198731501057,
          1.0141843977918616,
          1.0074496056091147,
          0.9982608260869565,
          1.0190807033426152,
          0.9851505727619855,
          1.020671921648231,
          0.9403110575741465,
          0.9982127345045906,
          1.0067689079422382,
          1.0201161814878774,
          0.9722221781305115,
          1.013617747906593,
          1.04162976085031,
          1.0354852516239952,
          1.0382401315789473,
          1.026429980276134,
          0.9843166548052033,
          1.006364657669961,
          0.9697417343173432,
          1.0253651037663336,
          0.9988505747126436,
          1.0081268962848298,
          0.9326959464627151,
          1.0844293169282986,
          1.0078585065674457,
          0.9719953703615468,
          1.0623476832758068,
          1.0733272227314392,
          0.9898990338164252,
          1.0053933033707867,
          0.9950738468428123,
          1.0386864597390912,
          0.9948253128578993,
          0.9975309052481853,
          1.0172131147540984,
          0.9987820137548525,
          1.0020325203252032,
          0.9602434077079108,
          1.0046491969568891,
          1.002507312996239,
          0.9736841280833696,
          1.0090283319002578,
          0.9987190008539709,
          1.0274376940718575,
          1.0120381486093815,
          1.0215587884925874,
          0.997981388776746,
          1.0390625,
          0.9670459003530797,
          0.9758162021691336,
          1.0340248962655603,
          0.9782264053840063,
          0.98906435848261,
          1.0304630369430123,
          0.9894117647058823,
          0.978269497363473,
          1.0250403473344103,
          0.9664,
          0.9595469239298917,
          0.9956896122547582,
          1.0189492256222752,
          1.020964360587002,
          1.0198923340195747,
          0.9518367346938775,
          1.0038478411221823,
          1.013047138047138,
          0.9404761518687951,
          0.9995632751091703,
          0.9825327510917031,
          1.0186915896168933,
          0.9667099855905745,
          0.9977375113122171,
          0.9625400165619012,
          1.009478625592417,
          1.0169014561925567,
          1.0110344827586206,
          0.9611912906137184,
          0.9943289697542533,
          1.021825396825397,
          0.9538016865350487,
          0.9823677581863979,
          0.9727890647415455,
          1.1431742508324085,
          0.9942830395426395,
          0.9528795811518324,
          1.010742236328125,
          0.9787340246653822,
          1.0171339563862927,
          0.9816216216216216,
          1.0288307528029899,
          0.9679143867425463,
          0.9460107978404317,
          0.9535735520113895,
          0.9809451219512195,
          1.136986301369863,
          1.0764790764790766,
          1.2736696613683482,
          1.0127456186935742,
          1.036713344988345,
          0.9616000533333334,
          1.0154952960708357,
          0.990845449649973,
          0.9141895120583288,
          1.0525340543881336,
          1.0194690254000576,
          0.9581840501792116,
          0.9863438245596633,
          0.9539141414141414,
          1.0889589905362778,
          0.9238888333333333,
          1.0696163970727788,
          1.0054673589137584,
          1.0396955975908428,
          0.9881626865671642,
          1.0498105062160534,
          1.0149253216675242,
          1.0455,
          1.0536062865497078,
          1.0052330637488105,
          0.9804741980474198,
          1.0185186143646068,
          0.998139488372093,
          1.019788311090658,
          0.9479074776450347,
          0.9949097179588284,
          0.9934118117647059,
          1.0201771653543308,
          1.0161211536942432,
          1.0056656751652502,
          1.027919962773383,
          1.070191026210573,
          1.002857142857143,
          1.0209016393442623,
          0.9916201513016821,
          0.9671868747499001,
          1.0657950681482526,
          1.022663976143141,
          0.9313320825515948,
          1.0431452436752116,
          1.0064467195128282,
          1.0007492693612112,
          1.0345082733021047,
          0.9466571853962594,
          0.9316981509433964,
          1.010113269017527,
          1.0473372386587771,
          1.023009533345856,
          0.9781767335445266,
          1.0024778761061948,
          0.9652205437511848,
          1.037929713075058,
          1.0398936550151976,
          0.9841678939617085,
          0.982918640920906,
          0.9474707802540553,
          0.9923878602719495,
          1.1048123980424143,
          1.0606170620913633,
          0.9829351530011997,
          1.0715520221223644,
          0.935454295975965,
          1.0185001651800463,
          0.9480644838709678,
          0.995172448275862,
          0.9962147968415278,
          1.0034471216821785,
          0.9638554548659365,
          1.0152536355000483,
          1.0412298378326401,
          0.9933797084865843,
          0.9805151921890624,
          0.9979866106706916,
          1.0073726206434315,
          0.9911037891268533,
          0.9403531822725757,
          0.9038732394366198,
          1.001577247571875,
          1.0058456352299296,
          1,
          1.0145727063636356,
          1.0321346990105087,
          1.005847916452927,
          1.0032632342277013,
          0.9891696393801573,
          1.0081997390980246,
          1.0324245037739317,
          1.0111230351229623,
          1.0512640800561799,
          1.0201227830832196,
          1.03956343792633,
          1.0055664045328616,
          1.0061748131296717,
          1.0566280566280568,
          0.9575757575757576,
          0.9476190476190477,
          0.9453333666666667,
          1.0213523487544485,
          1.0003467406380029,
          1.0243055911217218,
          0.9834850016852038,
          0.9856557381948177,
          0.9938101788170564,
          0.9982722184425632,
          1.0383274551105417,
          0.9800878157302673,
          0.9695934062179705,
          1.0262411338212365,
          1.031015678254942,
          1.0009910472414931,
          1.0075484741564975,
          1.0565976067270375,
          1.0779412352941176,
          0.9456757297297298,
          0.9618518148148147,
          0.9673076923076922,
          0.9818556288659793,
          0.982651878672114,
          0.9807208306487497,
          1.0178117048346056,
          1.008642016816544,
          0.9991854174820946,
          0.9955120359037126,
          1.0109106168694924,
          1.0320033679136895,
          1.1001230159982347,
          1.0011211136023916,
          0.9559148036706394,
          1.0055226824457593,
          1.032333463186599,
          1.0014847438201653,
          1.008468298969072,
          0.9974246136865342,
          1.011649144945364,
          1.021064302330536,
          1.0144247746123332,
          1.0063897763578276,
          1.0308231534438932,
          0.9929719207821929,
          0.9929412100840336,
          1.009,
          1.0148220680229885,
          0.9909619431891543,
          1.0126666333333332,
          0.9980340432503276,
          0.9974051248783653,
          0.9741100323624596,
          0.9524438258770203,
          0.9886206896551725,
          1.0128696000000001,
          0.9975862068965518,
          0.9965905216501876,
          0.9853351950186869,
          1.0161686813297475,
          0.9565831274267562,
          0.9845132749073275,
          0.9907166728555514,
          1.0345324113141157,
          1.0191725193407333,
          0.9940495867768595,
          0.9851100502575313,
          0.9818625741192883,
          1.037101248266297,
          0.99270076286333,
          0.9976889403206027,
          0.9896563560112231,
          1.004707431069267,
          0.9767595957251131,
          1.032213879369431,
          1.027027027027027,
          1.0111821409323367,
          1.0267632556675064,
          1.0132226629766297,
          1.0205969850746268,
          0.9834285142857143,
          0.9985643698785891,
          0.9985434606150037,
          0.9301523446348852,
          1.0331394139423076,
          0.9934338276613285,
          1.0051457729687387,
          1.0012145494881979,
          1.0501467453486608,
          1.0086287078211589,
          1.0191465291417083,
          1.012186797287592,
          1.0292085185823197,
          0.9744145701304113,
          1.0091517859185666,
          1.0174011299435028,
          1.0277532586892837,
          0.9893025250619373,
          0.9978336438474871,
          0.9410512687358472,
          0.9747861537499394,
          0.9760929178548687,
          0.9718014681892334,
          0.9691982593274927,
          1.004123259762309,
          0.9774510288590939,
          1.0383094176547063,
          1.048269341929142,
          1.0119814741022362,
          1.0265203462953658,
          1.0042034954822234,
          1.0279842139053688,
          0.9656634378974142,
          1.0478261086956522,
          0.9943673505203652,
          0.9691444399919856,
          1.0200375495721143,
          0.9611921799883104,
          0.998957029598603,
          1.028297914893617,
          1.015631513130471,
          1.003914276804403,
          1.0205645371195378,
          1.0245126611752045,
          0.9848148148148148,
          1.0052083893306694,
          1.007511908848959,
          0.9952093506882655,
          0.9808883730627632,
          0.9880378856646274,
          0.9920480473581904,
          1.0161638290229884,
          0.9624674189829264,
          0.988025091894346,
          0.9832380761904762,
          0.9971253162131084,
          0.9509803921568627,
          1.0569159030701123,
          0.9987463017395256,
          0.9317032447660887,
          1.0044903681075354,
          1.0326682080099054,
          0.9812710648148147,
          0.9005382368021908,
          0.9246244267874177,
          0.9801876178261829,
          0.9095276512002227,
          1.0380555277777779,
          0.9770144892299976,
          1.0433258201853242,
          1.0370734593665605,
          0.9871645501593722,
          0.9530123073732353,
          1.0354878824971385,
          1.0016000266666667,
          1.0825446613421486,
          1.0149145778205437,
          0.9914307065665655,
          0.9204681614632951,
          1.0500535050842208,
          0.9831331463548902,
          0.9400000253164557,
          1.0331235432007542,
          1.034722195608997,
          0.9825774709986888,
          0.9980782609157276,
          1.0240116662624303,
          0.9943462427715843,
          1.0018765657547133,
          0.9903438528107361,
          1.0055354995315402,
          1.0215588728158937,
          0.9672962214323455,
          1.0161027545438859,
          0.9717306583190374,
          0.9826212647839729,
          0.970696799539601,
          1.0415597229348383,
          1.005631733594515,
          1.01977809984993,
          1.0599999764705883,
          0.9942350773496709,
          1.0049649739344397,
          0.9557876452249566,
          1,
          0.9498115445290185,
          0.9977192092680996,
          0.9696743226447924,
          0.9780850520174772,
          0.9650385365018748,
          0.9687244764753875,
          1.075555525925926,
          0.9713961492099646,
          0.9631322970487397,
          1.016025611888112,
          0.9988365038151105,
          1.0248053374563217,
          1.0428529204578807,
          1.0094287573647045,
          0.981106585185063,
          1.0114691974732168,
          1.0298507196162046,
          1.045303301766061,
          1.0198314080317301,
          0.9790462909441232,
          0.9928659044100416,
          1.0434350944791488,
          0.9840155005082223,
          0.9151139211986007,
          1.0467157701019254,
          1.0318049297641134,
          0.9923546639982331,
          1.0299509166021172,
          1.0155700401808136,
          1.0034296668299851,
          0.9951016166984268,
          0.9955719313371744,
          1.0584399814005514,
          1.029675036026261,
          1.0034434801780652,
          1.033133986036217,
          1.0158128946185794,
          0.976891257398981,
          1.0024444666666668,
          1.0077433184127584,
          0.9731734121340638,
          0.9594412131716716,
          0.998351389504272,
          0.9857542970574497,
          0.9983361064891847,
          0.9803317066272107,
          1.0628883420333084,
          1.0322580402105477,
          0.9513465026328696,
          0.9803121257953361,
          0.9650708100896631,
          0.9625884994290066,
          0.997147302978545,
          1.0402773518123578,
          1.0205636461173813,
          1.0318883665144087,
          1,
          0.9985541927710844,
          0.9906563492737733,
          0.9856132643556823,
          1.0103550046756655,
          0.9982980793022592,
          0.9977876106194691,
          1.031972429906542,
          0.9897789160922271,
          1.014846815845154,
          1.0245341123975966,
          0.9846761086603203,
          0.9983451772658434,
          0.9564706352941177,
          0.9953670322051712,
          0.999260305738158,
          0.9987648221343874,
          0.9792965328011971,
          0.9865702482807269,
          1.013061651333899,
          1.0015592775467776,
          1.0010365638766519,
          1.0285494077019186,
          1.029484587971145,
          0.9836577509334834,
          0.9831870618131806,
          1.0277573330326049,
          1.0152380714285714,
          0.9990662698412698,
          1.007596708278009,
          1.0079635493068588,
          0.9499749573934837,
          0.9878227590211471,
          0.9882050399269775,
          0.992545472647545,
          0.9743419591758895,
          0.9977502137738984,
          1.0069522762951333,
          0.9986612672913877,
          1.0355319128476996,
          1.0102106790134304,
          1.0015217391304347,
          0.9944206435373668,
          1.0021551292174513,
          1.0021386442317644,
          0.997421508435292,
          0.9822047750779177,
          0.9744170918911974,
          0.9781608965517241,
          0.969569218877125,
          1.0200144195800718,
          0.9430545879662952,
          1.0042564347585488,
          1.0179293695923923,
          0.9944010713534045,
          0.9624389999999999,
          1.0058824555438597,
          1.0154352479757085,
          1.0182671448169414,
          1.009870004577034,
          0.9690431746961345,
          1.0067978151686774,
          1.0097945291496768,
          0.9889853053192081,
          1.0104241414457271,
          0.9912653684781547,
          1.0338983536380606,
          0.9781371213846505,
          0.9666976936818279,
          1.0120134553583242,
          0.9961822953948939,
          1.013682189150264,
          0.974207286995139,
          1.0541331896675539,
          1.011671335200747,
          0.9958800411050592,
          0.9829351539718963,
          0.994246260201467,
          0.9784895487491231,
          0.9888414764682212,
          1.0100718942428801,
          0.991674548247513,
          1.0035885646791523,
          0.9818702758525895,
          0.9767779632317367,
          0.9658246417576859,
          0.9456886458526974,
          0.9803974407841002,
          1.0435394406482832,
          1.0101038506309081,
          0.997724534868157,
          0.9532132818825836,
          0.894517088783746,
          1.0218886804252658,
          0.9450884974096553,
          1.0498338870431894,
          0.9973198333936968,
          1.0172037415948592,
          0.9473966960492055,
          0.9690837004449858,
          0.9912536732143928,
          0.9803149303452452,
          1.0796129590887593,
          0.9429962188484675,
          1.0691259807269675,
          1.0313701381660212,
          1.0453385648813098,
          0.9945784764049466,
          0.9796747978496044,
          0.9952778333333333,
          0.9730704886174346,
          1.0017143142857143,
          1.0319999714285715,
          0.9644740761719145,
          1.003718564179593,
          0.9433800702493546,
          0.9610991034609171,
          1.0302832963296418,
          1.0191632391939713,
          1.0461938841899805,
          1.031657385733787,
          0.9501027003228647,
          0.9430593140622151,
          1.0180623639388386,
          0.9880279015630196,
          0.9919327731092438,
          0.9920608666887197,
          1.0040000333333334,
          1.1089546779382131,
          0.9656254905038456,
          0.9354939233406044,
          0.9927939078678706
         ],
         "y0": " ",
         "yaxis": "y"
        }
       ],
       "layout": {
        "legend": {
         "tracegroupgap": 0
        },
        "margin": {
         "t": 60
        },
        "template": {
         "data": {
          "bar": [
           {
            "error_x": {
             "color": "#2a3f5f"
            },
            "error_y": {
             "color": "#2a3f5f"
            },
            "marker": {
             "line": {
              "color": "#E5ECF6",
              "width": 0.5
             },
             "pattern": {
              "fillmode": "overlay",
              "size": 10,
              "solidity": 0.2
             }
            },
            "type": "bar"
           }
          ],
          "barpolar": [
           {
            "marker": {
             "line": {
              "color": "#E5ECF6",
              "width": 0.5
             },
             "pattern": {
              "fillmode": "overlay",
              "size": 10,
              "solidity": 0.2
             }
            },
            "type": "barpolar"
           }
          ],
          "carpet": [
           {
            "aaxis": {
             "endlinecolor": "#2a3f5f",
             "gridcolor": "white",
             "linecolor": "white",
             "minorgridcolor": "white",
             "startlinecolor": "#2a3f5f"
            },
            "baxis": {
             "endlinecolor": "#2a3f5f",
             "gridcolor": "white",
             "linecolor": "white",
             "minorgridcolor": "white",
             "startlinecolor": "#2a3f5f"
            },
            "type": "carpet"
           }
          ],
          "choropleth": [
           {
            "colorbar": {
             "outlinewidth": 0,
             "ticks": ""
            },
            "type": "choropleth"
           }
          ],
          "contour": [
           {
            "colorbar": {
             "outlinewidth": 0,
             "ticks": ""
            },
            "colorscale": [
             [
              0,
              "#0d0887"
             ],
             [
              0.1111111111111111,
              "#46039f"
             ],
             [
              0.2222222222222222,
              "#7201a8"
             ],
             [
              0.3333333333333333,
              "#9c179e"
             ],
             [
              0.4444444444444444,
              "#bd3786"
             ],
             [
              0.5555555555555556,
              "#d8576b"
             ],
             [
              0.6666666666666666,
              "#ed7953"
             ],
             [
              0.7777777777777778,
              "#fb9f3a"
             ],
             [
              0.8888888888888888,
              "#fdca26"
             ],
             [
              1,
              "#f0f921"
             ]
            ],
            "type": "contour"
           }
          ],
          "contourcarpet": [
           {
            "colorbar": {
             "outlinewidth": 0,
             "ticks": ""
            },
            "type": "contourcarpet"
           }
          ],
          "heatmap": [
           {
            "colorbar": {
             "outlinewidth": 0,
             "ticks": ""
            },
            "colorscale": [
             [
              0,
              "#0d0887"
             ],
             [
              0.1111111111111111,
              "#46039f"
             ],
             [
              0.2222222222222222,
              "#7201a8"
             ],
             [
              0.3333333333333333,
              "#9c179e"
             ],
             [
              0.4444444444444444,
              "#bd3786"
             ],
             [
              0.5555555555555556,
              "#d8576b"
             ],
             [
              0.6666666666666666,
              "#ed7953"
             ],
             [
              0.7777777777777778,
              "#fb9f3a"
             ],
             [
              0.8888888888888888,
              "#fdca26"
             ],
             [
              1,
              "#f0f921"
             ]
            ],
            "type": "heatmap"
           }
          ],
          "heatmapgl": [
           {
            "colorbar": {
             "outlinewidth": 0,
             "ticks": ""
            },
            "colorscale": [
             [
              0,
              "#0d0887"
             ],
             [
              0.1111111111111111,
              "#46039f"
             ],
             [
              0.2222222222222222,
              "#7201a8"
             ],
             [
              0.3333333333333333,
              "#9c179e"
             ],
             [
              0.4444444444444444,
              "#bd3786"
             ],
             [
              0.5555555555555556,
              "#d8576b"
             ],
             [
              0.6666666666666666,
              "#ed7953"
             ],
             [
              0.7777777777777778,
              "#fb9f3a"
             ],
             [
              0.8888888888888888,
              "#fdca26"
             ],
             [
              1,
              "#f0f921"
             ]
            ],
            "type": "heatmapgl"
           }
          ],
          "histogram": [
           {
            "marker": {
             "pattern": {
              "fillmode": "overlay",
              "size": 10,
              "solidity": 0.2
             }
            },
            "type": "histogram"
           }
          ],
          "histogram2d": [
           {
            "colorbar": {
             "outlinewidth": 0,
             "ticks": ""
            },
            "colorscale": [
             [
              0,
              "#0d0887"
             ],
             [
              0.1111111111111111,
              "#46039f"
             ],
             [
              0.2222222222222222,
              "#7201a8"
             ],
             [
              0.3333333333333333,
              "#9c179e"
             ],
             [
              0.4444444444444444,
              "#bd3786"
             ],
             [
              0.5555555555555556,
              "#d8576b"
             ],
             [
              0.6666666666666666,
              "#ed7953"
             ],
             [
              0.7777777777777778,
              "#fb9f3a"
             ],
             [
              0.8888888888888888,
              "#fdca26"
             ],
             [
              1,
              "#f0f921"
             ]
            ],
            "type": "histogram2d"
           }
          ],
          "histogram2dcontour": [
           {
            "colorbar": {
             "outlinewidth": 0,
             "ticks": ""
            },
            "colorscale": [
             [
              0,
              "#0d0887"
             ],
             [
              0.1111111111111111,
              "#46039f"
             ],
             [
              0.2222222222222222,
              "#7201a8"
             ],
             [
              0.3333333333333333,
              "#9c179e"
             ],
             [
              0.4444444444444444,
              "#bd3786"
             ],
             [
              0.5555555555555556,
              "#d8576b"
             ],
             [
              0.6666666666666666,
              "#ed7953"
             ],
             [
              0.7777777777777778,
              "#fb9f3a"
             ],
             [
              0.8888888888888888,
              "#fdca26"
             ],
             [
              1,
              "#f0f921"
             ]
            ],
            "type": "histogram2dcontour"
           }
          ],
          "mesh3d": [
           {
            "colorbar": {
             "outlinewidth": 0,
             "ticks": ""
            },
            "type": "mesh3d"
           }
          ],
          "parcoords": [
           {
            "line": {
             "colorbar": {
              "outlinewidth": 0,
              "ticks": ""
             }
            },
            "type": "parcoords"
           }
          ],
          "pie": [
           {
            "automargin": true,
            "type": "pie"
           }
          ],
          "scatter": [
           {
            "marker": {
             "colorbar": {
              "outlinewidth": 0,
              "ticks": ""
             }
            },
            "type": "scatter"
           }
          ],
          "scatter3d": [
           {
            "line": {
             "colorbar": {
              "outlinewidth": 0,
              "ticks": ""
             }
            },
            "marker": {
             "colorbar": {
              "outlinewidth": 0,
              "ticks": ""
             }
            },
            "type": "scatter3d"
           }
          ],
          "scattercarpet": [
           {
            "marker": {
             "colorbar": {
              "outlinewidth": 0,
              "ticks": ""
             }
            },
            "type": "scattercarpet"
           }
          ],
          "scattergeo": [
           {
            "marker": {
             "colorbar": {
              "outlinewidth": 0,
              "ticks": ""
             }
            },
            "type": "scattergeo"
           }
          ],
          "scattergl": [
           {
            "marker": {
             "colorbar": {
              "outlinewidth": 0,
              "ticks": ""
             }
            },
            "type": "scattergl"
           }
          ],
          "scattermapbox": [
           {
            "marker": {
             "colorbar": {
              "outlinewidth": 0,
              "ticks": ""
             }
            },
            "type": "scattermapbox"
           }
          ],
          "scatterpolar": [
           {
            "marker": {
             "colorbar": {
              "outlinewidth": 0,
              "ticks": ""
             }
            },
            "type": "scatterpolar"
           }
          ],
          "scatterpolargl": [
           {
            "marker": {
             "colorbar": {
              "outlinewidth": 0,
              "ticks": ""
             }
            },
            "type": "scatterpolargl"
           }
          ],
          "scatterternary": [
           {
            "marker": {
             "colorbar": {
              "outlinewidth": 0,
              "ticks": ""
             }
            },
            "type": "scatterternary"
           }
          ],
          "surface": [
           {
            "colorbar": {
             "outlinewidth": 0,
             "ticks": ""
            },
            "colorscale": [
             [
              0,
              "#0d0887"
             ],
             [
              0.1111111111111111,
              "#46039f"
             ],
             [
              0.2222222222222222,
              "#7201a8"
             ],
             [
              0.3333333333333333,
              "#9c179e"
             ],
             [
              0.4444444444444444,
              "#bd3786"
             ],
             [
              0.5555555555555556,
              "#d8576b"
             ],
             [
              0.6666666666666666,
              "#ed7953"
             ],
             [
              0.7777777777777778,
              "#fb9f3a"
             ],
             [
              0.8888888888888888,
              "#fdca26"
             ],
             [
              1,
              "#f0f921"
             ]
            ],
            "type": "surface"
           }
          ],
          "table": [
           {
            "cells": {
             "fill": {
              "color": "#EBF0F8"
             },
             "line": {
              "color": "white"
             }
            },
            "header": {
             "fill": {
              "color": "#C8D4E3"
             },
             "line": {
              "color": "white"
             }
            },
            "type": "table"
           }
          ]
         },
         "layout": {
          "annotationdefaults": {
           "arrowcolor": "#2a3f5f",
           "arrowhead": 0,
           "arrowwidth": 1
          },
          "autotypenumbers": "strict",
          "coloraxis": {
           "colorbar": {
            "outlinewidth": 0,
            "ticks": ""
           }
          },
          "colorscale": {
           "diverging": [
            [
             0,
             "#8e0152"
            ],
            [
             0.1,
             "#c51b7d"
            ],
            [
             0.2,
             "#de77ae"
            ],
            [
             0.3,
             "#f1b6da"
            ],
            [
             0.4,
             "#fde0ef"
            ],
            [
             0.5,
             "#f7f7f7"
            ],
            [
             0.6,
             "#e6f5d0"
            ],
            [
             0.7,
             "#b8e186"
            ],
            [
             0.8,
             "#7fbc41"
            ],
            [
             0.9,
             "#4d9221"
            ],
            [
             1,
             "#276419"
            ]
           ],
           "sequential": [
            [
             0,
             "#0d0887"
            ],
            [
             0.1111111111111111,
             "#46039f"
            ],
            [
             0.2222222222222222,
             "#7201a8"
            ],
            [
             0.3333333333333333,
             "#9c179e"
            ],
            [
             0.4444444444444444,
             "#bd3786"
            ],
            [
             0.5555555555555556,
             "#d8576b"
            ],
            [
             0.6666666666666666,
             "#ed7953"
            ],
            [
             0.7777777777777778,
             "#fb9f3a"
            ],
            [
             0.8888888888888888,
             "#fdca26"
            ],
            [
             1,
             "#f0f921"
            ]
           ],
           "sequentialminus": [
            [
             0,
             "#0d0887"
            ],
            [
             0.1111111111111111,
             "#46039f"
            ],
            [
             0.2222222222222222,
             "#7201a8"
            ],
            [
             0.3333333333333333,
             "#9c179e"
            ],
            [
             0.4444444444444444,
             "#bd3786"
            ],
            [
             0.5555555555555556,
             "#d8576b"
            ],
            [
             0.6666666666666666,
             "#ed7953"
            ],
            [
             0.7777777777777778,
             "#fb9f3a"
            ],
            [
             0.8888888888888888,
             "#fdca26"
            ],
            [
             1,
             "#f0f921"
            ]
           ]
          },
          "colorway": [
           "#636efa",
           "#EF553B",
           "#00cc96",
           "#ab63fa",
           "#FFA15A",
           "#19d3f3",
           "#FF6692",
           "#B6E880",
           "#FF97FF",
           "#FECB52"
          ],
          "font": {
           "color": "#2a3f5f"
          },
          "geo": {
           "bgcolor": "white",
           "lakecolor": "white",
           "landcolor": "#E5ECF6",
           "showlakes": true,
           "showland": true,
           "subunitcolor": "white"
          },
          "hoverlabel": {
           "align": "left"
          },
          "hovermode": "closest",
          "mapbox": {
           "style": "light"
          },
          "paper_bgcolor": "white",
          "plot_bgcolor": "#E5ECF6",
          "polar": {
           "angularaxis": {
            "gridcolor": "white",
            "linecolor": "white",
            "ticks": ""
           },
           "bgcolor": "#E5ECF6",
           "radialaxis": {
            "gridcolor": "white",
            "linecolor": "white",
            "ticks": ""
           }
          },
          "scene": {
           "xaxis": {
            "backgroundcolor": "#E5ECF6",
            "gridcolor": "white",
            "gridwidth": 2,
            "linecolor": "white",
            "showbackground": true,
            "ticks": "",
            "zerolinecolor": "white"
           },
           "yaxis": {
            "backgroundcolor": "#E5ECF6",
            "gridcolor": "white",
            "gridwidth": 2,
            "linecolor": "white",
            "showbackground": true,
            "ticks": "",
            "zerolinecolor": "white"
           },
           "zaxis": {
            "backgroundcolor": "#E5ECF6",
            "gridcolor": "white",
            "gridwidth": 2,
            "linecolor": "white",
            "showbackground": true,
            "ticks": "",
            "zerolinecolor": "white"
           }
          },
          "shapedefaults": {
           "line": {
            "color": "#2a3f5f"
           }
          },
          "ternary": {
           "aaxis": {
            "gridcolor": "white",
            "linecolor": "white",
            "ticks": ""
           },
           "baxis": {
            "gridcolor": "white",
            "linecolor": "white",
            "ticks": ""
           },
           "bgcolor": "#E5ECF6",
           "caxis": {
            "gridcolor": "white",
            "linecolor": "white",
            "ticks": ""
           }
          },
          "title": {
           "x": 0.05
          },
          "xaxis": {
           "automargin": true,
           "gridcolor": "white",
           "linecolor": "white",
           "ticks": "",
           "title": {
            "standoff": 15
           },
           "zerolinecolor": "white",
           "zerolinewidth": 2
          },
          "yaxis": {
           "automargin": true,
           "gridcolor": "white",
           "linecolor": "white",
           "ticks": "",
           "title": {
            "standoff": 15
           },
           "zerolinecolor": "white",
           "zerolinewidth": 2
          }
         }
        },
        "violinmode": "group",
        "xaxis": {
         "anchor": "y",
         "domain": [
          0,
          1
         ],
         "title": {
          "text": "dayofweek"
         }
        },
        "yaxis": {
         "anchor": "x",
         "domain": [
          0,
          1
         ],
         "title": {
          "text": "intraday"
         }
        }
       }
      }
     },
     "metadata": {},
     "output_type": "display_data"
    }
   ],
   "source": [
    "import plotly.express as px\n",
    "# plotting violins to see the spread of intraday changes on each day\n",
    "fig = px.violin(df, y=\"intraday\", x='dayofweek')\n",
    "fig.show()"
   ]
  },
  {
   "cell_type": "code",
   "execution_count": 6,
   "metadata": {},
   "outputs": [
    {
     "data": {
      "application/vnd.plotly.v1+json": {
       "config": {
        "plotlyServerURL": "https://plot.ly"
       },
       "data": [
        {
         "box": {
          "visible": true
         },
         "fillcolor": "lightseagreen",
         "line": {
          "color": "black"
         },
         "meanline": {
          "visible": true
         },
         "opacity": 0.6,
         "type": "violin",
         "x": [
          3,
          4,
          0,
          1,
          2,
          3,
          0,
          1,
          2,
          3,
          4,
          0,
          1,
          2,
          3,
          4,
          0,
          1,
          2,
          3,
          4,
          0,
          1,
          2,
          3,
          4,
          0,
          1,
          2,
          3,
          4,
          1,
          2,
          3,
          4,
          0,
          1,
          2,
          3,
          4,
          0,
          1,
          2,
          3,
          4,
          0,
          1,
          2,
          3,
          4,
          0,
          1,
          2,
          3,
          4,
          0,
          1,
          2,
          4,
          0,
          1,
          2,
          3,
          4,
          0,
          1,
          2,
          3,
          4,
          0,
          1,
          2,
          3,
          4,
          0,
          1,
          2,
          3,
          4,
          0,
          1,
          2,
          3,
          4,
          0,
          1,
          2,
          3,
          4,
          0,
          1,
          2,
          3,
          4,
          0,
          1,
          2,
          3,
          4,
          1,
          2,
          3,
          4,
          0,
          1,
          2,
          3,
          4,
          0,
          1,
          2,
          3,
          4,
          0,
          1,
          2,
          3,
          4,
          0,
          1,
          2,
          3,
          4,
          0,
          1,
          2,
          3,
          4,
          0,
          1,
          2,
          3,
          4,
          0,
          1,
          2,
          3,
          4,
          0,
          1,
          2,
          3,
          4,
          0,
          1,
          2,
          3,
          4,
          0,
          1,
          2,
          3,
          4,
          0,
          1,
          2,
          3,
          4,
          0,
          1,
          2,
          4,
          0,
          1,
          2,
          3,
          4,
          0,
          1,
          2,
          3,
          4,
          0,
          1,
          2,
          3,
          4,
          0,
          1,
          3,
          4,
          0,
          1,
          3,
          4,
          0,
          1,
          2,
          3,
          4,
          0,
          1,
          2,
          3,
          4,
          1,
          2,
          3,
          4,
          0,
          1,
          2,
          3,
          4,
          0,
          1,
          2,
          3,
          4,
          0,
          1,
          2,
          3,
          4,
          1,
          2,
          3,
          4,
          0,
          1,
          2,
          3,
          4,
          0,
          1,
          2,
          3,
          4,
          0,
          1,
          2,
          3,
          4,
          0,
          1,
          2,
          3,
          4,
          0,
          1,
          2,
          3,
          4,
          0,
          1,
          2,
          3,
          4,
          0,
          1,
          2,
          3,
          0,
          1,
          2,
          3,
          4,
          0,
          1,
          2,
          3,
          4,
          0,
          1,
          2,
          3,
          4,
          0,
          1,
          2,
          3,
          4,
          0,
          1,
          2,
          3,
          4,
          0,
          1,
          2,
          3,
          4,
          1,
          2,
          3,
          4,
          0,
          1,
          2,
          3,
          4,
          0,
          1,
          2,
          3,
          4,
          0,
          1,
          2,
          3,
          4,
          0,
          1,
          2,
          3,
          4,
          0,
          1,
          2,
          3,
          0,
          1,
          2,
          3,
          4,
          0,
          1,
          2,
          3,
          4,
          0,
          1,
          2,
          3,
          4,
          0,
          1,
          2,
          3,
          4,
          0,
          1,
          2,
          3,
          4,
          0,
          1,
          2,
          3,
          4,
          0,
          1,
          2,
          3,
          4,
          0,
          1,
          2,
          3,
          4,
          0,
          1,
          2,
          3,
          4,
          1,
          2,
          3,
          4,
          0,
          1,
          2,
          3,
          4,
          0,
          1,
          2,
          3,
          4,
          0,
          1,
          2,
          3,
          4,
          0,
          1,
          2,
          3,
          4,
          0,
          1,
          2,
          3,
          4,
          0,
          1,
          2,
          3,
          4,
          0,
          1,
          2,
          3,
          4,
          0,
          1,
          2,
          3,
          4,
          0,
          1,
          2,
          3,
          4,
          0,
          1,
          2,
          3,
          4,
          0,
          1,
          2,
          4,
          0,
          1,
          2,
          3,
          4,
          0,
          1,
          2,
          3,
          4,
          0,
          1,
          2,
          3,
          4,
          0,
          1,
          2,
          3,
          0,
          1,
          2,
          3,
          0,
          1,
          2,
          3,
          4,
          0,
          1,
          2,
          3,
          4,
          1,
          2,
          3,
          4,
          0,
          1,
          2,
          3,
          4,
          0,
          1,
          2,
          3,
          4,
          0,
          1,
          2,
          3,
          4,
          1,
          2,
          3,
          4,
          0,
          1,
          2,
          3,
          4,
          0,
          1,
          2,
          3,
          4,
          0,
          1,
          2,
          3,
          4,
          0,
          1,
          2,
          3,
          4,
          0,
          1,
          2,
          3,
          4,
          0,
          1,
          2,
          3,
          0,
          1,
          2,
          3,
          4,
          0,
          1,
          2,
          3,
          4,
          0,
          1,
          2,
          3,
          4,
          0,
          1,
          2,
          3,
          4,
          0,
          1,
          2,
          3,
          4,
          0,
          1,
          2,
          3,
          4,
          0,
          1,
          2,
          3,
          4,
          0,
          1,
          2,
          3,
          4,
          1,
          2,
          3,
          4,
          0,
          1,
          2,
          3,
          4,
          0,
          1,
          2,
          3,
          4,
          0,
          1,
          2,
          3,
          4,
          0,
          1,
          2,
          3,
          4,
          1,
          2,
          3,
          4,
          0,
          1,
          2,
          3,
          4,
          0,
          1,
          2,
          3,
          4,
          0,
          1,
          2,
          3,
          4,
          0,
          1,
          2,
          3,
          4,
          0,
          1,
          2,
          3,
          4,
          0,
          1,
          2,
          3,
          4,
          0,
          1,
          2,
          3,
          4,
          0,
          1,
          2,
          3,
          4,
          1,
          2,
          3,
          4,
          0,
          1,
          2,
          3,
          4,
          0,
          1,
          2,
          3,
          4,
          0,
          1,
          2,
          3,
          4,
          0,
          1,
          2,
          3,
          4,
          0,
          1,
          2,
          3,
          4,
          0,
          1,
          2,
          3,
          4,
          0,
          1,
          2,
          3,
          4,
          0,
          1,
          2,
          3,
          4,
          0,
          1,
          2,
          3,
          4,
          0,
          1,
          2,
          3,
          4,
          0,
          1,
          2,
          4,
          0,
          1,
          2,
          3,
          4,
          0,
          1,
          2,
          3,
          4,
          0,
          1,
          2,
          3,
          4,
          0,
          1,
          2,
          3,
          0,
          1,
          2,
          3,
          4,
          0,
          1,
          2,
          3,
          4,
          0,
          1,
          2,
          3,
          4,
          1,
          2,
          3,
          4,
          0,
          1,
          2,
          3
         ],
         "y": [
          1.0408163265306123,
          1.009713727242171,
          1.0174025454545454,
          0.9598889999971999,
          1.0468464026916098,
          0.9681009636028923,
          1.0061301912577167,
          1.0121827151176286,
          1.0004977849676455,
          0.9777227238751126,
          1.0922882956330795,
          1.0604333436913727,
          1.018458263158703,
          0.9930010183244531,
          0.988118405959853,
          1.0060711839998089,
          1.0946429038982792,
          1.0008163469387756,
          0.9917154984152152,
          1.005514726419827,
          1.0479271779994503,
          0.9699882502942331,
          1.045319001285649,
          1.0224772636068,
          1.0365126490312966,
          0.9943636181818182,
          1.010089947168958,
          0.9835095539790364,
          0.9875618067518496,
          0.9716432333909103,
          1.0141032587363585,
          0.9862807928261754,
          1.0025111454510334,
          0.9948156492006279,
          1.003514271700229,
          0.90536830122711,
          0.9410029696797929,
          1.044658168781931,
          1.010410048863395,
          0.97800004,
          0.9742036339340877,
          0.9988072166760879,
          1.10620002,
          0.9641774556375431,
          1.0534337137979015,
          0.9512909105435771,
          0.9794927325058463,
          0.9990810696563133,
          0.9898785609127715,
          0.9990647399750232,
          0.9209493709941832,
          0.9636990273027981,
          0.9683333333333333,
          1.0268643891438725,
          0.9777639230624257,
          0.9600000416666666,
          1.009382412856975,
          1.0066352310223623,
          1.0183642315454098,
          1.0012599958265433,
          1.0463158105263157,
          0.9946839733277422,
          0.9751283458349783,
          0.9906199227035088,
          1.0042476335810606,
          0.979418886613824,
          0.9832989484536082,
          0.9434874346003124,
          1.024568415227977,
          1.0015027908328558,
          0.9433761312687208,
          1.0076233411490287,
          0.9740259740259741,
          1.0445918134004117,
          0.9645281569751766,
          1.0369003220272064,
          0.9872682823319187,
          0.9498860842876499,
          0.9485205677171037,
          0.9871391856765978,
          0.9520124846239674,
          1.0358225121018871,
          1.0533648513836789,
          0.9402349617286839,
          0.9770177165696268,
          1.0049972515269294,
          0.9799890350877194,
          0.9424741429077312,
          1.021201443498276,
          1.011999942857143,
          0.981787165104928,
          1.0130132149789928,
          1.0179028422251446,
          0.9770179652466369,
          1.0159816490872815,
          0.9932886461570833,
          1.0126760845070422,
          1.056090213255161,
          1.006923076923077,
          0.9720568707861904,
          1.0133191259105188,
          0.9491700479987021,
          0.956406481401871,
          0.863914346669286,
          0.9658691414496833,
          1.1443636,
          1,
          0.9388715047021944,
          1.0428134896364254,
          0.9960975284552845,
          0.9937969962062357,
          0.966017880766014,
          0.9979872860780707,
          1.0802175730795378,
          0.9223918281681988,
          0.9770913216623159,
          1.0513280670736516,
          0.9416472157385796,
          0.9996461429582448,
          1.0017730141215244,
          0.981274756931941,
          1.0152727272727273,
          0.9964029495108975,
          0.9727173517642779,
          1.0149999615384615,
          0.9984945803537826,
          0.9822440869755984,
          0.9992339716877069,
          1.013798428516673,
          1.0197026022304834,
          1.008945210585166,
          0.9940007499062617,
          0.9713740468941203,
          0.9853696723855409,
          0.9719776220976782,
          0.9841667083333334,
          1.0301255648535566,
          0.999595141716796,
          0.9436165928312525,
          0.9522198731501057,
          1.0141843977918616,
          1.0074496056091147,
          0.9982608260869565,
          1.0190807033426152,
          0.9851505727619855,
          1.020671921648231,
          0.9403110575741465,
          0.9982127345045906,
          1.0067689079422382,
          1.0201161814878774,
          0.9722221781305115,
          1.013617747906593,
          1.04162976085031,
          1.0354852516239952,
          1.0382401315789473,
          1.026429980276134,
          0.9843166548052033,
          1.006364657669961,
          0.9697417343173432,
          1.0253651037663336,
          0.9988505747126436,
          1.0081268962848298,
          0.9326959464627151,
          1.0844293169282986,
          1.0078585065674457,
          0.9719953703615468,
          1.0623476832758068,
          1.0733272227314392,
          0.9898990338164252,
          1.0053933033707867,
          0.9950738468428123,
          1.0386864597390912,
          0.9948253128578993,
          0.9975309052481853,
          1.0172131147540984,
          0.9987820137548525,
          1.0020325203252032,
          0.9602434077079108,
          1.0046491969568891,
          1.002507312996239,
          0.9736841280833696,
          1.0090283319002578,
          0.9987190008539709,
          1.0274376940718575,
          1.0120381486093815,
          1.0215587884925874,
          0.997981388776746,
          1.0390625,
          0.9670459003530797,
          0.9758162021691336,
          1.0340248962655603,
          0.9782264053840063,
          0.98906435848261,
          1.0304630369430123,
          0.9894117647058823,
          0.978269497363473,
          1.0250403473344103,
          0.9664,
          0.9595469239298917,
          0.9956896122547582,
          1.0189492256222752,
          1.020964360587002,
          1.0198923340195747,
          0.9518367346938775,
          1.0038478411221823,
          1.013047138047138,
          0.9404761518687951,
          0.9995632751091703,
          0.9825327510917031,
          1.0186915896168933,
          0.9667099855905745,
          0.9977375113122171,
          0.9625400165619012,
          1.009478625592417,
          1.0169014561925567,
          1.0110344827586206,
          0.9611912906137184,
          0.9943289697542533,
          1.021825396825397,
          0.9538016865350487,
          0.9823677581863979,
          0.9727890647415455,
          1.1431742508324085,
          0.9942830395426395,
          0.9528795811518324,
          1.010742236328125,
          0.9787340246653822,
          1.0171339563862927,
          0.9816216216216216,
          1.0288307528029899,
          0.9679143867425463,
          0.9460107978404317,
          0.9535735520113895,
          0.9809451219512195,
          1.136986301369863,
          1.0764790764790766,
          1.2736696613683482,
          1.0127456186935742,
          1.036713344988345,
          0.9616000533333334,
          1.0154952960708357,
          0.990845449649973,
          0.9141895120583288,
          1.0525340543881336,
          1.0194690254000576,
          0.9581840501792116,
          0.9863438245596633,
          0.9539141414141414,
          1.0889589905362778,
          0.9238888333333333,
          1.0696163970727788,
          1.0054673589137584,
          1.0396955975908428,
          0.9881626865671642,
          1.0498105062160534,
          1.0149253216675242,
          1.0455,
          1.0536062865497078,
          1.0052330637488105,
          0.9804741980474198,
          1.0185186143646068,
          0.998139488372093,
          1.019788311090658,
          0.9479074776450347,
          0.9949097179588284,
          0.9934118117647059,
          1.0201771653543308,
          1.0161211536942432,
          1.0056656751652502,
          1.027919962773383,
          1.070191026210573,
          1.002857142857143,
          1.0209016393442623,
          0.9916201513016821,
          0.9671868747499001,
          1.0657950681482526,
          1.022663976143141,
          0.9313320825515948,
          1.0431452436752116,
          1.0064467195128282,
          1.0007492693612112,
          1.0345082733021047,
          0.9466571853962594,
          0.9316981509433964,
          1.010113269017527,
          1.0473372386587771,
          1.023009533345856,
          0.9781767335445266,
          1.0024778761061948,
          0.9652205437511848,
          1.037929713075058,
          1.0398936550151976,
          0.9841678939617085,
          0.982918640920906,
          0.9474707802540553,
          0.9923878602719495,
          1.1048123980424143,
          1.0606170620913633,
          0.9829351530011997,
          1.0715520221223644,
          0.935454295975965,
          1.0185001651800463,
          0.9480644838709678,
          0.995172448275862,
          0.9962147968415278,
          1.0034471216821785,
          0.9638554548659365,
          1.0152536355000483,
          1.0412298378326401,
          0.9933797084865843,
          0.9805151921890624,
          0.9979866106706916,
          1.0073726206434315,
          0.9911037891268533,
          0.9403531822725757,
          0.9038732394366198,
          1.001577247571875,
          1.0058456352299296,
          1,
          1.0145727063636356,
          1.0321346990105087,
          1.005847916452927,
          1.0032632342277013,
          0.9891696393801573,
          1.0081997390980246,
          1.0324245037739317,
          1.0111230351229623,
          1.0512640800561799,
          1.0201227830832196,
          1.03956343792633,
          1.0055664045328616,
          1.0061748131296717,
          1.0566280566280568,
          0.9575757575757576,
          0.9476190476190477,
          0.9453333666666667,
          1.0213523487544485,
          1.0003467406380029,
          1.0243055911217218,
          0.9834850016852038,
          0.9856557381948177,
          0.9938101788170564,
          0.9982722184425632,
          1.0383274551105417,
          0.9800878157302673,
          0.9695934062179705,
          1.0262411338212365,
          1.031015678254942,
          1.0009910472414931,
          1.0075484741564975,
          1.0565976067270375,
          1.0779412352941176,
          0.9456757297297298,
          0.9618518148148147,
          0.9673076923076922,
          0.9818556288659793,
          0.982651878672114,
          0.9807208306487497,
          1.0178117048346056,
          1.008642016816544,
          0.9991854174820946,
          0.9955120359037126,
          1.0109106168694924,
          1.0320033679136895,
          1.1001230159982347,
          1.0011211136023916,
          0.9559148036706394,
          1.0055226824457593,
          1.032333463186599,
          1.0014847438201653,
          1.008468298969072,
          0.9974246136865342,
          1.011649144945364,
          1.021064302330536,
          1.0144247746123332,
          1.0063897763578276,
          1.0308231534438932,
          0.9929719207821929,
          0.9929412100840336,
          1.009,
          1.0148220680229885,
          0.9909619431891543,
          1.0126666333333332,
          0.9980340432503276,
          0.9974051248783653,
          0.9741100323624596,
          0.9524438258770203,
          0.9886206896551725,
          1.0128696000000001,
          0.9975862068965518,
          0.9965905216501876,
          0.9853351950186869,
          1.0161686813297475,
          0.9565831274267562,
          0.9845132749073275,
          0.9907166728555514,
          1.0345324113141157,
          1.0191725193407333,
          0.9940495867768595,
          0.9851100502575313,
          0.9818625741192883,
          1.037101248266297,
          0.99270076286333,
          0.9976889403206027,
          0.9896563560112231,
          1.004707431069267,
          0.9767595957251131,
          1.032213879369431,
          1.027027027027027,
          1.0111821409323367,
          1.0267632556675064,
          1.0132226629766297,
          1.0205969850746268,
          0.9834285142857143,
          0.9985643698785891,
          0.9985434606150037,
          0.9301523446348852,
          1.0331394139423076,
          0.9934338276613285,
          1.0051457729687387,
          1.0012145494881979,
          1.0501467453486608,
          1.0086287078211589,
          1.0191465291417083,
          1.012186797287592,
          1.0292085185823197,
          0.9744145701304113,
          1.0091517859185666,
          1.0174011299435028,
          1.0277532586892837,
          0.9893025250619373,
          0.9978336438474871,
          0.9410512687358472,
          0.9747861537499394,
          0.9760929178548687,
          0.9718014681892334,
          0.9691982593274927,
          1.004123259762309,
          0.9774510288590939,
          1.0383094176547063,
          1.048269341929142,
          1.0119814741022362,
          1.0265203462953658,
          1.0042034954822234,
          1.0279842139053688,
          0.9656634378974142,
          1.0478261086956522,
          0.9943673505203652,
          0.9691444399919856,
          1.0200375495721143,
          0.9611921799883104,
          0.998957029598603,
          1.028297914893617,
          1.015631513130471,
          1.003914276804403,
          1.0205645371195378,
          1.0245126611752045,
          0.9848148148148148,
          1.0052083893306694,
          1.007511908848959,
          0.9952093506882655,
          0.9808883730627632,
          0.9880378856646274,
          0.9920480473581904,
          1.0161638290229884,
          0.9624674189829264,
          0.988025091894346,
          0.9832380761904762,
          0.9971253162131084,
          0.9509803921568627,
          1.0569159030701123,
          0.9987463017395256,
          0.9317032447660887,
          1.0044903681075354,
          1.0326682080099054,
          0.9812710648148147,
          0.9005382368021908,
          0.9246244267874177,
          0.9801876178261829,
          0.9095276512002227,
          1.0380555277777779,
          0.9770144892299976,
          1.0433258201853242,
          1.0370734593665605,
          0.9871645501593722,
          0.9530123073732353,
          1.0354878824971385,
          1.0016000266666667,
          1.0825446613421486,
          1.0149145778205437,
          0.9914307065665655,
          0.9204681614632951,
          1.0500535050842208,
          0.9831331463548902,
          0.9400000253164557,
          1.0331235432007542,
          1.034722195608997,
          0.9825774709986888,
          0.9980782609157276,
          1.0240116662624303,
          0.9943462427715843,
          1.0018765657547133,
          0.9903438528107361,
          1.0055354995315402,
          1.0215588728158937,
          0.9672962214323455,
          1.0161027545438859,
          0.9717306583190374,
          0.9826212647839729,
          0.970696799539601,
          1.0415597229348383,
          1.005631733594515,
          1.01977809984993,
          1.0599999764705883,
          0.9942350773496709,
          1.0049649739344397,
          0.9557876452249566,
          1,
          0.9498115445290185,
          0.9977192092680996,
          0.9696743226447924,
          0.9780850520174772,
          0.9650385365018748,
          0.9687244764753875,
          1.075555525925926,
          0.9713961492099646,
          0.9631322970487397,
          1.016025611888112,
          0.9988365038151105,
          1.0248053374563217,
          1.0428529204578807,
          1.0094287573647045,
          0.981106585185063,
          1.0114691974732168,
          1.0298507196162046,
          1.045303301766061,
          1.0198314080317301,
          0.9790462909441232,
          0.9928659044100416,
          1.0434350944791488,
          0.9840155005082223,
          0.9151139211986007,
          1.0467157701019254,
          1.0318049297641134,
          0.9923546639982331,
          1.0299509166021172,
          1.0155700401808136,
          1.0034296668299851,
          0.9951016166984268,
          0.9955719313371744,
          1.0584399814005514,
          1.029675036026261,
          1.0034434801780652,
          1.033133986036217,
          1.0158128946185794,
          0.976891257398981,
          1.0024444666666668,
          1.0077433184127584,
          0.9731734121340638,
          0.9594412131716716,
          0.998351389504272,
          0.9857542970574497,
          0.9983361064891847,
          0.9803317066272107,
          1.0628883420333084,
          1.0322580402105477,
          0.9513465026328696,
          0.9803121257953361,
          0.9650708100896631,
          0.9625884994290066,
          0.997147302978545,
          1.0402773518123578,
          1.0205636461173813,
          1.0318883665144087,
          1,
          0.9985541927710844,
          0.9906563492737733,
          0.9856132643556823,
          1.0103550046756655,
          0.9982980793022592,
          0.9977876106194691,
          1.031972429906542,
          0.9897789160922271,
          1.014846815845154,
          1.0245341123975966,
          0.9846761086603203,
          0.9983451772658434,
          0.9564706352941177,
          0.9953670322051712,
          0.999260305738158,
          0.9987648221343874,
          0.9792965328011971,
          0.9865702482807269,
          1.013061651333899,
          1.0015592775467776,
          1.0010365638766519,
          1.0285494077019186,
          1.029484587971145,
          0.9836577509334834,
          0.9831870618131806,
          1.0277573330326049,
          1.0152380714285714,
          0.9990662698412698,
          1.007596708278009,
          1.0079635493068588,
          0.9499749573934837,
          0.9878227590211471,
          0.9882050399269775,
          0.992545472647545,
          0.9743419591758895,
          0.9977502137738984,
          1.0069522762951333,
          0.9986612672913877,
          1.0355319128476996,
          1.0102106790134304,
          1.0015217391304347,
          0.9944206435373668,
          1.0021551292174513,
          1.0021386442317644,
          0.997421508435292,
          0.9822047750779177,
          0.9744170918911974,
          0.9781608965517241,
          0.969569218877125,
          1.0200144195800718,
          0.9430545879662952,
          1.0042564347585488,
          1.0179293695923923,
          0.9944010713534045,
          0.9624389999999999,
          1.0058824555438597,
          1.0154352479757085,
          1.0182671448169414,
          1.009870004577034,
          0.9690431746961345,
          1.0067978151686774,
          1.0097945291496768,
          0.9889853053192081,
          1.0104241414457271,
          0.9912653684781547,
          1.0338983536380606,
          0.9781371213846505,
          0.9666976936818279,
          1.0120134553583242,
          0.9961822953948939,
          1.013682189150264,
          0.974207286995139,
          1.0541331896675539,
          1.011671335200747,
          0.9958800411050592,
          0.9829351539718963,
          0.994246260201467,
          0.9784895487491231,
          0.9888414764682212,
          1.0100718942428801,
          0.991674548247513,
          1.0035885646791523,
          0.9818702758525895,
          0.9767779632317367,
          0.9658246417576859,
          0.9456886458526974,
          0.9803974407841002,
          1.0435394406482832,
          1.0101038506309081,
          0.997724534868157,
          0.9532132818825836,
          0.894517088783746,
          1.0218886804252658,
          0.9450884974096553,
          1.0498338870431894,
          0.9973198333936968,
          1.0172037415948592,
          0.9473966960492055,
          0.9690837004449858,
          0.9912536732143928,
          0.9803149303452452,
          1.0796129590887593,
          0.9429962188484675,
          1.0691259807269675,
          1.0313701381660212,
          1.0453385648813098,
          0.9945784764049466,
          0.9796747978496044,
          0.9952778333333333,
          0.9730704886174346,
          1.0017143142857143,
          1.0319999714285715,
          0.9644740761719145,
          1.003718564179593,
          0.9433800702493546,
          0.9610991034609171,
          1.0302832963296418,
          1.0191632391939713,
          1.0461938841899805,
          1.031657385733787,
          0.9501027003228647,
          0.9430593140622151,
          1.0180623639388386,
          0.9880279015630196,
          0.9919327731092438,
          0.9920608666887197,
          1.0040000333333334,
          1.1089546779382131,
          0.9656254905038456,
          0.9354939233406044,
          0.9927939078678706
         ]
        }
       ],
       "layout": {
        "template": {
         "data": {
          "bar": [
           {
            "error_x": {
             "color": "#2a3f5f"
            },
            "error_y": {
             "color": "#2a3f5f"
            },
            "marker": {
             "line": {
              "color": "#E5ECF6",
              "width": 0.5
             },
             "pattern": {
              "fillmode": "overlay",
              "size": 10,
              "solidity": 0.2
             }
            },
            "type": "bar"
           }
          ],
          "barpolar": [
           {
            "marker": {
             "line": {
              "color": "#E5ECF6",
              "width": 0.5
             },
             "pattern": {
              "fillmode": "overlay",
              "size": 10,
              "solidity": 0.2
             }
            },
            "type": "barpolar"
           }
          ],
          "carpet": [
           {
            "aaxis": {
             "endlinecolor": "#2a3f5f",
             "gridcolor": "white",
             "linecolor": "white",
             "minorgridcolor": "white",
             "startlinecolor": "#2a3f5f"
            },
            "baxis": {
             "endlinecolor": "#2a3f5f",
             "gridcolor": "white",
             "linecolor": "white",
             "minorgridcolor": "white",
             "startlinecolor": "#2a3f5f"
            },
            "type": "carpet"
           }
          ],
          "choropleth": [
           {
            "colorbar": {
             "outlinewidth": 0,
             "ticks": ""
            },
            "type": "choropleth"
           }
          ],
          "contour": [
           {
            "colorbar": {
             "outlinewidth": 0,
             "ticks": ""
            },
            "colorscale": [
             [
              0,
              "#0d0887"
             ],
             [
              0.1111111111111111,
              "#46039f"
             ],
             [
              0.2222222222222222,
              "#7201a8"
             ],
             [
              0.3333333333333333,
              "#9c179e"
             ],
             [
              0.4444444444444444,
              "#bd3786"
             ],
             [
              0.5555555555555556,
              "#d8576b"
             ],
             [
              0.6666666666666666,
              "#ed7953"
             ],
             [
              0.7777777777777778,
              "#fb9f3a"
             ],
             [
              0.8888888888888888,
              "#fdca26"
             ],
             [
              1,
              "#f0f921"
             ]
            ],
            "type": "contour"
           }
          ],
          "contourcarpet": [
           {
            "colorbar": {
             "outlinewidth": 0,
             "ticks": ""
            },
            "type": "contourcarpet"
           }
          ],
          "heatmap": [
           {
            "colorbar": {
             "outlinewidth": 0,
             "ticks": ""
            },
            "colorscale": [
             [
              0,
              "#0d0887"
             ],
             [
              0.1111111111111111,
              "#46039f"
             ],
             [
              0.2222222222222222,
              "#7201a8"
             ],
             [
              0.3333333333333333,
              "#9c179e"
             ],
             [
              0.4444444444444444,
              "#bd3786"
             ],
             [
              0.5555555555555556,
              "#d8576b"
             ],
             [
              0.6666666666666666,
              "#ed7953"
             ],
             [
              0.7777777777777778,
              "#fb9f3a"
             ],
             [
              0.8888888888888888,
              "#fdca26"
             ],
             [
              1,
              "#f0f921"
             ]
            ],
            "type": "heatmap"
           }
          ],
          "heatmapgl": [
           {
            "colorbar": {
             "outlinewidth": 0,
             "ticks": ""
            },
            "colorscale": [
             [
              0,
              "#0d0887"
             ],
             [
              0.1111111111111111,
              "#46039f"
             ],
             [
              0.2222222222222222,
              "#7201a8"
             ],
             [
              0.3333333333333333,
              "#9c179e"
             ],
             [
              0.4444444444444444,
              "#bd3786"
             ],
             [
              0.5555555555555556,
              "#d8576b"
             ],
             [
              0.6666666666666666,
              "#ed7953"
             ],
             [
              0.7777777777777778,
              "#fb9f3a"
             ],
             [
              0.8888888888888888,
              "#fdca26"
             ],
             [
              1,
              "#f0f921"
             ]
            ],
            "type": "heatmapgl"
           }
          ],
          "histogram": [
           {
            "marker": {
             "pattern": {
              "fillmode": "overlay",
              "size": 10,
              "solidity": 0.2
             }
            },
            "type": "histogram"
           }
          ],
          "histogram2d": [
           {
            "colorbar": {
             "outlinewidth": 0,
             "ticks": ""
            },
            "colorscale": [
             [
              0,
              "#0d0887"
             ],
             [
              0.1111111111111111,
              "#46039f"
             ],
             [
              0.2222222222222222,
              "#7201a8"
             ],
             [
              0.3333333333333333,
              "#9c179e"
             ],
             [
              0.4444444444444444,
              "#bd3786"
             ],
             [
              0.5555555555555556,
              "#d8576b"
             ],
             [
              0.6666666666666666,
              "#ed7953"
             ],
             [
              0.7777777777777778,
              "#fb9f3a"
             ],
             [
              0.8888888888888888,
              "#fdca26"
             ],
             [
              1,
              "#f0f921"
             ]
            ],
            "type": "histogram2d"
           }
          ],
          "histogram2dcontour": [
           {
            "colorbar": {
             "outlinewidth": 0,
             "ticks": ""
            },
            "colorscale": [
             [
              0,
              "#0d0887"
             ],
             [
              0.1111111111111111,
              "#46039f"
             ],
             [
              0.2222222222222222,
              "#7201a8"
             ],
             [
              0.3333333333333333,
              "#9c179e"
             ],
             [
              0.4444444444444444,
              "#bd3786"
             ],
             [
              0.5555555555555556,
              "#d8576b"
             ],
             [
              0.6666666666666666,
              "#ed7953"
             ],
             [
              0.7777777777777778,
              "#fb9f3a"
             ],
             [
              0.8888888888888888,
              "#fdca26"
             ],
             [
              1,
              "#f0f921"
             ]
            ],
            "type": "histogram2dcontour"
           }
          ],
          "mesh3d": [
           {
            "colorbar": {
             "outlinewidth": 0,
             "ticks": ""
            },
            "type": "mesh3d"
           }
          ],
          "parcoords": [
           {
            "line": {
             "colorbar": {
              "outlinewidth": 0,
              "ticks": ""
             }
            },
            "type": "parcoords"
           }
          ],
          "pie": [
           {
            "automargin": true,
            "type": "pie"
           }
          ],
          "scatter": [
           {
            "marker": {
             "colorbar": {
              "outlinewidth": 0,
              "ticks": ""
             }
            },
            "type": "scatter"
           }
          ],
          "scatter3d": [
           {
            "line": {
             "colorbar": {
              "outlinewidth": 0,
              "ticks": ""
             }
            },
            "marker": {
             "colorbar": {
              "outlinewidth": 0,
              "ticks": ""
             }
            },
            "type": "scatter3d"
           }
          ],
          "scattercarpet": [
           {
            "marker": {
             "colorbar": {
              "outlinewidth": 0,
              "ticks": ""
             }
            },
            "type": "scattercarpet"
           }
          ],
          "scattergeo": [
           {
            "marker": {
             "colorbar": {
              "outlinewidth": 0,
              "ticks": ""
             }
            },
            "type": "scattergeo"
           }
          ],
          "scattergl": [
           {
            "marker": {
             "colorbar": {
              "outlinewidth": 0,
              "ticks": ""
             }
            },
            "type": "scattergl"
           }
          ],
          "scattermapbox": [
           {
            "marker": {
             "colorbar": {
              "outlinewidth": 0,
              "ticks": ""
             }
            },
            "type": "scattermapbox"
           }
          ],
          "scatterpolar": [
           {
            "marker": {
             "colorbar": {
              "outlinewidth": 0,
              "ticks": ""
             }
            },
            "type": "scatterpolar"
           }
          ],
          "scatterpolargl": [
           {
            "marker": {
             "colorbar": {
              "outlinewidth": 0,
              "ticks": ""
             }
            },
            "type": "scatterpolargl"
           }
          ],
          "scatterternary": [
           {
            "marker": {
             "colorbar": {
              "outlinewidth": 0,
              "ticks": ""
             }
            },
            "type": "scatterternary"
           }
          ],
          "surface": [
           {
            "colorbar": {
             "outlinewidth": 0,
             "ticks": ""
            },
            "colorscale": [
             [
              0,
              "#0d0887"
             ],
             [
              0.1111111111111111,
              "#46039f"
             ],
             [
              0.2222222222222222,
              "#7201a8"
             ],
             [
              0.3333333333333333,
              "#9c179e"
             ],
             [
              0.4444444444444444,
              "#bd3786"
             ],
             [
              0.5555555555555556,
              "#d8576b"
             ],
             [
              0.6666666666666666,
              "#ed7953"
             ],
             [
              0.7777777777777778,
              "#fb9f3a"
             ],
             [
              0.8888888888888888,
              "#fdca26"
             ],
             [
              1,
              "#f0f921"
             ]
            ],
            "type": "surface"
           }
          ],
          "table": [
           {
            "cells": {
             "fill": {
              "color": "#EBF0F8"
             },
             "line": {
              "color": "white"
             }
            },
            "header": {
             "fill": {
              "color": "#C8D4E3"
             },
             "line": {
              "color": "white"
             }
            },
            "type": "table"
           }
          ]
         },
         "layout": {
          "annotationdefaults": {
           "arrowcolor": "#2a3f5f",
           "arrowhead": 0,
           "arrowwidth": 1
          },
          "autotypenumbers": "strict",
          "coloraxis": {
           "colorbar": {
            "outlinewidth": 0,
            "ticks": ""
           }
          },
          "colorscale": {
           "diverging": [
            [
             0,
             "#8e0152"
            ],
            [
             0.1,
             "#c51b7d"
            ],
            [
             0.2,
             "#de77ae"
            ],
            [
             0.3,
             "#f1b6da"
            ],
            [
             0.4,
             "#fde0ef"
            ],
            [
             0.5,
             "#f7f7f7"
            ],
            [
             0.6,
             "#e6f5d0"
            ],
            [
             0.7,
             "#b8e186"
            ],
            [
             0.8,
             "#7fbc41"
            ],
            [
             0.9,
             "#4d9221"
            ],
            [
             1,
             "#276419"
            ]
           ],
           "sequential": [
            [
             0,
             "#0d0887"
            ],
            [
             0.1111111111111111,
             "#46039f"
            ],
            [
             0.2222222222222222,
             "#7201a8"
            ],
            [
             0.3333333333333333,
             "#9c179e"
            ],
            [
             0.4444444444444444,
             "#bd3786"
            ],
            [
             0.5555555555555556,
             "#d8576b"
            ],
            [
             0.6666666666666666,
             "#ed7953"
            ],
            [
             0.7777777777777778,
             "#fb9f3a"
            ],
            [
             0.8888888888888888,
             "#fdca26"
            ],
            [
             1,
             "#f0f921"
            ]
           ],
           "sequentialminus": [
            [
             0,
             "#0d0887"
            ],
            [
             0.1111111111111111,
             "#46039f"
            ],
            [
             0.2222222222222222,
             "#7201a8"
            ],
            [
             0.3333333333333333,
             "#9c179e"
            ],
            [
             0.4444444444444444,
             "#bd3786"
            ],
            [
             0.5555555555555556,
             "#d8576b"
            ],
            [
             0.6666666666666666,
             "#ed7953"
            ],
            [
             0.7777777777777778,
             "#fb9f3a"
            ],
            [
             0.8888888888888888,
             "#fdca26"
            ],
            [
             1,
             "#f0f921"
            ]
           ]
          },
          "colorway": [
           "#636efa",
           "#EF553B",
           "#00cc96",
           "#ab63fa",
           "#FFA15A",
           "#19d3f3",
           "#FF6692",
           "#B6E880",
           "#FF97FF",
           "#FECB52"
          ],
          "font": {
           "color": "#2a3f5f"
          },
          "geo": {
           "bgcolor": "white",
           "lakecolor": "white",
           "landcolor": "#E5ECF6",
           "showlakes": true,
           "showland": true,
           "subunitcolor": "white"
          },
          "hoverlabel": {
           "align": "left"
          },
          "hovermode": "closest",
          "mapbox": {
           "style": "light"
          },
          "paper_bgcolor": "white",
          "plot_bgcolor": "#E5ECF6",
          "polar": {
           "angularaxis": {
            "gridcolor": "white",
            "linecolor": "white",
            "ticks": ""
           },
           "bgcolor": "#E5ECF6",
           "radialaxis": {
            "gridcolor": "white",
            "linecolor": "white",
            "ticks": ""
           }
          },
          "scene": {
           "xaxis": {
            "backgroundcolor": "#E5ECF6",
            "gridcolor": "white",
            "gridwidth": 2,
            "linecolor": "white",
            "showbackground": true,
            "ticks": "",
            "zerolinecolor": "white"
           },
           "yaxis": {
            "backgroundcolor": "#E5ECF6",
            "gridcolor": "white",
            "gridwidth": 2,
            "linecolor": "white",
            "showbackground": true,
            "ticks": "",
            "zerolinecolor": "white"
           },
           "zaxis": {
            "backgroundcolor": "#E5ECF6",
            "gridcolor": "white",
            "gridwidth": 2,
            "linecolor": "white",
            "showbackground": true,
            "ticks": "",
            "zerolinecolor": "white"
           }
          },
          "shapedefaults": {
           "line": {
            "color": "#2a3f5f"
           }
          },
          "ternary": {
           "aaxis": {
            "gridcolor": "white",
            "linecolor": "white",
            "ticks": ""
           },
           "baxis": {
            "gridcolor": "white",
            "linecolor": "white",
            "ticks": ""
           },
           "bgcolor": "#E5ECF6",
           "caxis": {
            "gridcolor": "white",
            "linecolor": "white",
            "ticks": ""
           }
          },
          "title": {
           "x": 0.05
          },
          "xaxis": {
           "automargin": true,
           "gridcolor": "white",
           "linecolor": "white",
           "ticks": "",
           "title": {
            "standoff": 15
           },
           "zerolinecolor": "white",
           "zerolinewidth": 2
          },
          "yaxis": {
           "automargin": true,
           "gridcolor": "white",
           "linecolor": "white",
           "ticks": "",
           "title": {
            "standoff": 15
           },
           "zerolinecolor": "white",
           "zerolinewidth": 2
          }
         }
        }
       }
      }
     },
     "metadata": {},
     "output_type": "display_data"
    }
   ],
   "source": [
    "# plotting violins to see the spread of intraday changes on each day with a different library\n",
    "fig = go.Figure(data=go.Violin(y=df['intraday'], x=df['dayofweek'], box_visible=True, line_color='black',\n",
    "                               meanline_visible=True, fillcolor='lightseagreen', opacity=0.6,\n",
    "                               ))\n",
    "fig.show()\n",
    "                            "
   ]
  },
  {
   "cell_type": "code",
   "execution_count": 7,
   "metadata": {},
   "outputs": [],
   "source": [
    "def backtest(df, day=1):\n",
    "    \"\"\"\n",
    "    Every time buy LOVE with 1000 USD\n",
    "    \"\"\"\n",
    "    \n",
    "    usd = 1000\n",
    "    profits = []\n",
    "    for i in range(len(df)):\n",
    "        if df['dayofweek'].values[i] == day:\n",
    "            # buy\n",
    "            pos_volume = usd / df['Open'].values[i]\n",
    "            profits.append(pos_volume * (df['Close'].values[i] - df['Open'].values[i]))\n",
    "    return profits\n",
    "\n",
    "def plot_profits(profits, day):\n",
    "    plt.figure()\n",
    "    profits = np.array(profits)\n",
    "    plt.plot(np.cumsum(profits))\n",
    "    winp = np.sum(profits > 0) / len(profits)\n",
    "    plt.xlabel('week')\n",
    "    plt.ylabel('profits (USD)')\n",
    "    plt.title(f'P(win) = {winp:.3f}')"
   ]
  },
  {
   "cell_type": "code",
   "execution_count": 8,
   "metadata": {},
   "outputs": [
    {
     "data": {
      "image/png": "[encoded data removed]",
      "text/plain": [
       "<Figure size 432x288 with 1 Axes>"
      ]
     },
     "metadata": {
      "needs_background": "light"
     },
     "output_type": "display_data"
    },
    {
     "data": {
      "image/png": "[encoded data removed]",
      "text/plain": [
       "<Figure size 432x288 with 1 Axes>"
      ]
     },
     "metadata": {
      "needs_background": "light"
     },
     "output_type": "display_data"
    },
    {
     "data": {
      "image/png": "[encoded data removed]",
      "text/plain": [
       "<Figure size 432x288 with 1 Axes>"
      ]
     },
     "metadata": {
      "needs_background": "light"
     },
     "output_type": "display_data"
    },
    {
     "data": {
      "image/png": "[encoded data removed]",
      "text/plain": [
       "<Figure size 432x288 with 1 Axes>"
      ]
     },
     "metadata": {
      "needs_background": "light"
     },
     "output_type": "display_data"
    },
    {
     "data": {
      "image/png": "[encoded data removed]",
      "text/plain": [
       "<Figure size 432x288 with 1 Axes>"
      ]
     },
     "metadata": {
      "needs_background": "light"
     },
     "output_type": "display_data"
    }
   ],
   "source": [
    "for i in range(0,5):\n",
    "    profits = backtest(df, day=i)\n",
    "    plot_profits(profits, day = i)"
   ]
  },
  {
   "cell_type": "code",
   "execution_count": null,
   "metadata": {},
   "outputs": [],
   "source": []
  }
 ],
 "metadata": {
  "interpreter": {
   "hash": "40d3a090f54c6569ab1632332b64b2c03c39dcf918b08424e98f38b5ae0af88f"
  },
  "kernelspec": {
   "display_name": "Python 3.8.5 64-bit ('base': conda)",
   "language": "python",
   "name": "python3"
  },
  "language_info": {
   "codemirror_mode": {
    "name": "ipython",
    "version": 3
   },
   "file_extension": ".py",
   "mimetype": "text/x-python",
   "name": "python",
   "nbconvert_exporter": "python",
   "pygments_lexer": "ipython3",
   "version": "3.8.5"
  },
  "orig_nbformat": 4
 },
 "nbformat": 4,
 "nbformat_minor": 2
}
