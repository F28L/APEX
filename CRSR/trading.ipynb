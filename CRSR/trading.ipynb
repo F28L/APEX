{
 "cells": [
  {
   "cell_type": "code",
   "execution_count": 6,
   "metadata": {},
   "outputs": [],
   "source": [
    "import numpy as np\n",
    "import pandas as pd\n",
    "import sys\n",
    "import gc\n",
    "import joblib\n",
    "import pathlib\n",
    "import json\n",
    "import glob\n",
    "from tqdm.notebook import tqdm\n",
    "\n",
    "# visualize\n",
    "import matplotlib.pyplot as plt\n",
    "import matplotlib.style as style\n",
    "import seaborn as sns\n",
    "from matplotlib import pyplot\n",
    "from matplotlib.ticker import ScalarFormatter\n",
    "sns.set_context(\"talk\")\n",
    "style.use('seaborn-colorblind')\n",
    "\n",
    "import plotly.graph_objects as go"
   ]
  },
  {
   "cell_type": "code",
   "execution_count": 7,
   "metadata": {},
   "outputs": [
    {
     "data": {
      "text/html": [
       "<div>\n",
       "<style scoped>\n",
       "    .dataframe tbody tr th:only-of-type {\n",
       "        vertical-align: middle;\n",
       "    }\n",
       "\n",
       "    .dataframe tbody tr th {\n",
       "        vertical-align: top;\n",
       "    }\n",
       "\n",
       "    .dataframe thead th {\n",
       "        text-align: right;\n",
       "    }\n",
       "</style>\n",
       "<table border=\"1\" class=\"dataframe\">\n",
       "  <thead>\n",
       "    <tr style=\"text-align: right;\">\n",
       "      <th></th>\n",
       "      <th>Date</th>\n",
       "      <th>Open</th>\n",
       "      <th>High</th>\n",
       "      <th>Low</th>\n",
       "      <th>Close</th>\n",
       "      <th>Adj Close</th>\n",
       "      <th>Volume</th>\n",
       "    </tr>\n",
       "  </thead>\n",
       "  <tbody>\n",
       "    <tr>\n",
       "      <th>0</th>\n",
       "      <td>2020-09-23</td>\n",
       "      <td>15.120000</td>\n",
       "      <td>16.75</td>\n",
       "      <td>14.090000</td>\n",
       "      <td>14.250000</td>\n",
       "      <td>14.250000</td>\n",
       "      <td>12759300</td>\n",
       "    </tr>\n",
       "    <tr>\n",
       "      <th>1</th>\n",
       "      <td>2020-09-24</td>\n",
       "      <td>14.180000</td>\n",
       "      <td>15.64</td>\n",
       "      <td>14.105000</td>\n",
       "      <td>15.580000</td>\n",
       "      <td>15.580000</td>\n",
       "      <td>2554900</td>\n",
       "    </tr>\n",
       "    <tr>\n",
       "      <th>2</th>\n",
       "      <td>2020-09-25</td>\n",
       "      <td>15.830000</td>\n",
       "      <td>18.33</td>\n",
       "      <td>15.766000</td>\n",
       "      <td>17.250000</td>\n",
       "      <td>17.250000</td>\n",
       "      <td>4579800</td>\n",
       "    </tr>\n",
       "    <tr>\n",
       "      <th>3</th>\n",
       "      <td>2020-09-28</td>\n",
       "      <td>17.450001</td>\n",
       "      <td>18.60</td>\n",
       "      <td>17.450001</td>\n",
       "      <td>18.469999</td>\n",
       "      <td>18.469999</td>\n",
       "      <td>1289900</td>\n",
       "    </tr>\n",
       "    <tr>\n",
       "      <th>4</th>\n",
       "      <td>2020-09-29</td>\n",
       "      <td>18.879999</td>\n",
       "      <td>20.09</td>\n",
       "      <td>18.600000</td>\n",
       "      <td>18.780001</td>\n",
       "      <td>18.780001</td>\n",
       "      <td>2071000</td>\n",
       "    </tr>\n",
       "  </tbody>\n",
       "</table>\n",
       "</div>"
      ],
      "text/plain": [
       "         Date       Open   High        Low      Close  Adj Close    Volume\n",
       "0  2020-09-23  15.120000  16.75  14.090000  14.250000  14.250000  12759300\n",
       "1  2020-09-24  14.180000  15.64  14.105000  15.580000  15.580000   2554900\n",
       "2  2020-09-25  15.830000  18.33  15.766000  17.250000  17.250000   4579800\n",
       "3  2020-09-28  17.450001  18.60  17.450001  18.469999  18.469999   1289900\n",
       "4  2020-09-29  18.879999  20.09  18.600000  18.780001  18.780001   2071000"
      ]
     },
     "execution_count": 7,
     "metadata": {},
     "output_type": "execute_result"
    }
   ],
   "source": [
    "df = pd.read_csv(\"/Users/sandeep/Workspace/APEX/CRSR/CRSR.csv\")\n",
    "df.head()"
   ]
  },
  {
   "cell_type": "code",
   "execution_count": 8,
   "metadata": {},
   "outputs": [
    {
     "data": {
      "text/plain": [
       "2    71\n",
       "1    70\n",
       "3    69\n",
       "4    66\n",
       "0    64\n",
       "Name: dayofweek, dtype: int64"
      ]
     },
     "execution_count": 8,
     "metadata": {},
     "output_type": "execute_result"
    }
   ],
   "source": [
    "# Add day of the week so we can start to see weekly patterns\n",
    "df['dayofweek'] = pd.to_datetime(df['Date']).dt.dayofweek\n",
    "df['dayofweek'].value_counts()"
   ]
  },
  {
   "cell_type": "code",
   "execution_count": 9,
   "metadata": {},
   "outputs": [
    {
     "data": {
      "text/plain": [
       "<AxesSubplot:xlabel='dayofweek', ylabel='intraday'>"
      ]
     },
     "execution_count": 9,
     "metadata": {},
     "output_type": "execute_result"
    },
    {
     "data": {
      "image/png": "[encoded data removed]",
      "text/plain": [
       "<Figure size 432x288 with 1 Axes>"
      ]
     },
     "metadata": {
      "needs_background": "light"
     },
     "output_type": "display_data"
    }
   ],
   "source": [
    "df['intraday'] = df['Close'] / df['Open']\n",
    "sns.violinplot(x='dayofweek', y='intraday', data=df)"
   ]
  },
  {
   "cell_type": "code",
   "execution_count": 10,
   "metadata": {},
   "outputs": [
    {
     "data": {
      "application/vnd.plotly.v1+json": {
       "config": {
        "plotlyServerURL": "https://plot.ly"
       },
       "data": [
        {
         "alignmentgroup": "True",
         "box": {
          "visible": false
         },
         "hovertemplate": "dayofweek=%{x}<br>intraday=%{y}<extra></extra>",
         "legendgroup": "",
         "marker": {
          "color": "#636efa"
         },
         "name": "",
         "offsetgroup": "",
         "orientation": "v",
         "scalegroup": "True",
         "showlegend": false,
         "type": "violin",
         "x": [
          2,
          3,
          4,
          0,
          1,
          2,
          3,
          4,
          0,
          1,
          2,
          3,
          4,
          0,
          1,
          2,
          3,
          4,
          0,
          1,
          2,
          3,
          4,
          0,
          1,
          2,
          3,
          4,
          0,
          1,
          2,
          3,
          4,
          0,
          1,
          2,
          3,
          4,
          0,
          1,
          2,
          3,
          4,
          0,
          1,
          2,
          4,
          0,
          1,
          2,
          3,
          4,
          0,
          1,
          2,
          3,
          4,
          0,
          1,
          2,
          3,
          4,
          0,
          1,
          2,
          3,
          0,
          1,
          2,
          3,
          0,
          1,
          2,
          3,
          4,
          0,
          1,
          2,
          3,
          4,
          1,
          2,
          3,
          4,
          0,
          1,
          2,
          3,
          4,
          0,
          1,
          2,
          3,
          4,
          0,
          1,
          2,
          3,
          4,
          1,
          2,
          3,
          4,
          0,
          1,
          2,
          3,
          4,
          0,
          1,
          2,
          3,
          4,
          0,
          1,
          2,
          3,
          4,
          0,
          1,
          2,
          3,
          4,
          0,
          1,
          2,
          3,
          4,
          0,
          1,
          2,
          3,
          0,
          1,
          2,
          3,
          4,
          0,
          1,
          2,
          3,
          4,
          0,
          1,
          2,
          3,
          4,
          0,
          1,
          2,
          3,
          4,
          0,
          1,
          2,
          3,
          4,
          0,
          1,
          2,
          3,
          4,
          0,
          1,
          2,
          3,
          4,
          0,
          1,
          2,
          3,
          4,
          1,
          2,
          3,
          4,
          0,
          1,
          2,
          3,
          4,
          0,
          1,
          2,
          3,
          4,
          0,
          1,
          2,
          3,
          4,
          0,
          1,
          2,
          3,
          4,
          1,
          2,
          3,
          4,
          0,
          1,
          2,
          3,
          4,
          0,
          1,
          2,
          3,
          4,
          0,
          1,
          2,
          3,
          4,
          0,
          1,
          2,
          3,
          4,
          0,
          1,
          2,
          3,
          4,
          0,
          1,
          2,
          3,
          4,
          0,
          1,
          2,
          3,
          4,
          0,
          1,
          2,
          3,
          4,
          1,
          2,
          3,
          4,
          0,
          1,
          2,
          3,
          4,
          0,
          1,
          2,
          3,
          4,
          0,
          1,
          2,
          3,
          4,
          0,
          1,
          2,
          3,
          4,
          0,
          1,
          2,
          3,
          4,
          0,
          1,
          2,
          3,
          4,
          0,
          1,
          2,
          3,
          4,
          0,
          1,
          2,
          3,
          4,
          0,
          1,
          2,
          3,
          4,
          0,
          1,
          2,
          3,
          4,
          0,
          1,
          2,
          4,
          0,
          1,
          2,
          3,
          4,
          0,
          1,
          2,
          3,
          4,
          0,
          1,
          2,
          3,
          4,
          0,
          1,
          2,
          3,
          0,
          1,
          2,
          3,
          4,
          0,
          1,
          2,
          3,
          4,
          0,
          1,
          2,
          3,
          4,
          1,
          2,
          3,
          4,
          0,
          1,
          2,
          3
         ],
         "x0": " ",
         "xaxis": "x",
         "y": [
          0.9424603174603176,
          1.0987306064880114,
          1.0897030953885027,
          1.0584526041001372,
          0.9947034954821768,
          1.0265577119509706,
          0.9632184367816092,
          0.9952380952380951,
          0.9386129803186505,
          0.8717826978074357,
          1.0241158092175777,
          0.9425346844535661,
          0.9607427586206896,
          1.0197694134963984,
          0.9983861753630984,
          1.0102151075268817,
          1.004364429896345,
          1.0328133942980098,
          0.9700192940038683,
          1.0177225963668586,
          0.9681728106808326,
          0.927162542942062,
          1.0085854868595867,
          0.992298338062424,
          0.9836003807627911,
          0.9724699118856179,
          0.9841269053917895,
          0.96935491811915,
          0.9659376801540083,
          1.0113314856872313,
          1.0589641434262946,
          1.0101818545454546,
          0.9858027297343549,
          0.9457420050305426,
          1.049887471867967,
          1.0410860664523045,
          0.9874608494413393,
          1.0362215909090908,
          1.0380789022298458,
          1.0562684783240697,
          1.0730886521991239,
          1.0680569517244765,
          1.0711819351297778,
          1.1053658536585367,
          1.1078452128809162,
          0.866046149981633,
          0.8931121861322278,
          0.9473684210526314,
          1.0419580149713021,
          0.9391964712269272,
          1.0398166427957607,
          0.9886395123302852,
          1.0575519106555842,
          0.982261000794281,
          0.952355377391475,
          1.0240822327190082,
          0.9637786127950514,
          1.051537273702063,
          0.9569950486121365,
          1.0621049933984805,
          1.0563230355027373,
          0.9723618586020568,
          1.107708640660365,
          0.9662576695078416,
          0.9470732195121951,
          0.9272958436914326,
          1.0255329546968697,
          0.8987854251012146,
          1.0230171374648602,
          0.9826370053543948,
          0.9391891891891891,
          1.049707630125508,
          1.0501662111881256,
          1.021767297227261,
          0.9686473316977834,
          1.0313157631578946,
          1.0432298633540373,
          1.0033285781424495,
          0.9509651446960756,
          0.9623927804743256,
          0.9627456229330345,
          0.9708737340413304,
          1.0013631406761176,
          1.0872521837748494,
          0.9577944885194197,
          0.9512375766714071,
          1.1027711650670524,
          0.909047619047619,
          0.986165440194063,
          0.9601215683414507,
          1.0023560208807325,
          1.0878618311868504,
          1.0179464548396586,
          0.9834746256371112,
          0.9879699890004295,
          0.9510638510638298,
          0.990139233881171,
          0.9936500470366886,
          1.0129411529411765,
          0.9166666895604396,
          1.011985019025843,
          0.9856521133910356,
          0.9997438124453963,
          1.0177499749999999,
          1.0041895523485087,
          1.01844049047525,
          0.9555263421052631,
          0.9819178082191782,
          1.0040761414151125,
          0.955783256942572,
          0.9632449682277524,
          0.9589443670935113,
          0.9769868057686406,
          1.0012582258176084,
          1.0131773369826216,
          0.9533947326464173,
          0.9920890714301475,
          1.0300741432695828,
          1.010264018197303,
          0.991011830037006,
          1.0316264749510098,
          0.9563136119876489,
          1.005898882517817,
          0.9813993374262964,
          0.9726555864263502,
          0.9589041083095924,
          1.1135134797297295,
          0.973211596542563,
          1.011023559055118,
          1.0393749374999999,
          0.9949193662558091,
          1.0029611785608528,
          0.9921739130434781,
          1.0084376202629508,
          1.0023188985507248,
          0.9956621749183242,
          0.9829912599994876,
          0.9988133787841407,
          1.0098860991645864,
          1.0113264086833504,
          0.9997074041385662,
          0.9571343817635237,
          0.9910658962127511,
          1.0194968245124787,
          1.0336583820805796,
          0.9898050968398857,
          1.007824315377671,
          1.0050444508888887,
          1,
          0.9752762659896373,
          1.0133017136682403,
          0.9845697037219673,
          1.0011975148983523,
          0.9619244108050647,
          1.013561908004826,
          0.991230692470517,
          1.0237009723488302,
          0.938806,
          1.0718582887700534,
          0.9971410101651842,
          0.9830345390524968,
          1.012540459522741,
          1.0283439808917199,
          0.9867651285463139,
          1.0165762825445877,
          0.9931570144225808,
          0.9810184857943524,
          0.9854889279025574,
          0.9971599559116454,
          1.0211489267676768,
          0.9966153538461537,
          0.9591397836909303,
          1.0144836586901764,
          1.0538793103448276,
          1.008902047213589,
          0.9834851365951535,
          0.99374996875,
          0.9951539473142427,
          0.9943502512758866,
          0.9852201567679294,
          1.0266497779187818,
          0.8845208627881852,
          0.9819128538277415,
          0.9650543865698222,
          1.001818212121212,
          0.9714025242288569,
          0.9962535434359522,
          1.0050585521675168,
          1.01625,
          0.9947932009315037,
          1.0406169042644708,
          0.980882294117647,
          0.9928357611940297,
          1.0072617853937,
          0.9876580376984334,
          0.9789377887019408,
          0.9916408666142682,
          0.9909460190741811,
          1.0048371493066752,
          1.0169871468914375,
          0.9915546447155035,
          0.9828025796178345,
          0.9796774516129033,
          0.996379229637236,
          0.9532011699707507,
          0.9947826086956523,
          1.0252333218112686,
          0.9986776528925619,
          0.980794702622692,
          0.992602555480834,
          1.0044567492740901,
          0.9854533147988266,
          0.9989771224002728,
          0.987882900972161,
          1.0062047914512238,
          0.9820399864452728,
          1.0051870692849203,
          1.021244875139769,
          1.037728975740988,
          0.9964513839602555,
          1.0096324648721917,
          0.9815072923935798,
          0.9925400000000001,
          0.9935297987059669,
          0.9721014492753622,
          0.9996274217585692,
          1.0090327060594655,
          0.9846384419393615,
          0.988040162037037,
          1.0113016757599376,
          0.9924098671726754,
          1.0364880667612342,
          1.0058931491712706,
          0.9908458436779877,
          1.013617997791682,
          1.0187116941809393,
          0.9744194538680395,
          0.9426365561111147,
          1.0165726016723342,
          0.9910096818810511,
          1.0129100139567342,
          0.994471320163396,
          1.0207017543859649,
          1.0103412271630472,
          1.0006854352296093,
          1.0058219176088385,
          1.015300052099022,
          1.0010186417311158,
          0.9900854358974359,
          0.9700493999312686,
          0.9764748815227972,
          0.9981529368304396,
          1.0310765804263196,
          1.0159420652173912,
          1.0025125268301318,
          0.9655671982602392,
          0.985810269387219,
          0.9821969696969698,
          1.0142088704220864,
          0.9789915584415584,
          1.0046783625730995,
          0.9941199921599372,
          1.0279307238394964,
          0.9585665935585445,
          0.9992217510030447,
          1.0210279984423676,
          1.0053434730784934,
          1.0114718452425584,
          0.9794548391724552,
          0.9967871485943776,
          1.006,
          1.01839996,
          0.9925285096342902,
          0.9940071117056686,
          1.0172690763052208,
          0.9705765407554673,
          0.9934560329874833,
          1.01685162351007,
          0.9987745506535948,
          1.0176157312576812,
          1.0031999999999999,
          1.0491606714628297,
          0.9973684586466166,
          0.9916571485909309,
          0.9851371951219513,
          0.9887813926499032,
          1.0063241109219017,
          1.0216535826771653,
          1.0235339891975308,
          0.9932075471698113,
          1.0041825476875494,
          0.9835877487180248,
          0.973879142300195,
          0.9943366098032609,
          0.9699309236110962,
          0.9786432989381617,
          1.0107944732297063,
          1.0048034934497818,
          0.977125550280535,
          1.0039890186908242,
          0.9396741937329015,
          1.027843321007866,
          0.9664522518382354,
          1.010047894736842,
          0.995819786538793,
          1.018527095877721,
          0.9663483401546158,
          0.9920337394564199,
          0.9813576003824092,
          1.0118460019743336,
          1.0633283719524609,
          0.9963235294117646,
          1.0166976352828219,
          0.9894736842105263,
          1.0074765887850468,
          1.0206801011029412,
          1.0131280669986418,
          0.9791758972086841,
          0.98451739455908,
          0.9782406944444443,
          1.024136300243081,
          0.9749420406005588,
          1.0407004751869606,
          0.9666665780780821,
          0.978952337649782,
          0.9657794217785446,
          1.0186366365196977,
          0.9960784313725491,
          1.0201771653543308,
          0.9851533038866526,
          0.9922928709055877,
          1.022048930989546,
          0.9916502951055848,
          1.0089153041646703,
          1.0120714636442039,
          0.989994227438907,
          0.9745287811782364,
          1.023771737982039,
          0.9444639691521859,
          0.9604166687282986
         ],
         "y0": " ",
         "yaxis": "y"
        }
       ],
       "layout": {
        "legend": {
         "tracegroupgap": 0
        },
        "margin": {
         "t": 60
        },
        "template": {
         "data": {
          "bar": [
           {
            "error_x": {
             "color": "#2a3f5f"
            },
            "error_y": {
             "color": "#2a3f5f"
            },
            "marker": {
             "line": {
              "color": "#E5ECF6",
              "width": 0.5
             },
             "pattern": {
              "fillmode": "overlay",
              "size": 10,
              "solidity": 0.2
             }
            },
            "type": "bar"
           }
          ],
          "barpolar": [
           {
            "marker": {
             "line": {
              "color": "#E5ECF6",
              "width": 0.5
             },
             "pattern": {
              "fillmode": "overlay",
              "size": 10,
              "solidity": 0.2
             }
            },
            "type": "barpolar"
           }
          ],
          "carpet": [
           {
            "aaxis": {
             "endlinecolor": "#2a3f5f",
             "gridcolor": "white",
             "linecolor": "white",
             "minorgridcolor": "white",
             "startlinecolor": "#2a3f5f"
            },
            "baxis": {
             "endlinecolor": "#2a3f5f",
             "gridcolor": "white",
             "linecolor": "white",
             "minorgridcolor": "white",
             "startlinecolor": "#2a3f5f"
            },
            "type": "carpet"
           }
          ],
          "choropleth": [
           {
            "colorbar": {
             "outlinewidth": 0,
             "ticks": ""
            },
            "type": "choropleth"
           }
          ],
          "contour": [
           {
            "colorbar": {
             "outlinewidth": 0,
             "ticks": ""
            },
            "colorscale": [
             [
              0,
              "#0d0887"
             ],
             [
              0.1111111111111111,
              "#46039f"
             ],
             [
              0.2222222222222222,
              "#7201a8"
             ],
             [
              0.3333333333333333,
              "#9c179e"
             ],
             [
              0.4444444444444444,
              "#bd3786"
             ],
             [
              0.5555555555555556,
              "#d8576b"
             ],
             [
              0.6666666666666666,
              "#ed7953"
             ],
             [
              0.7777777777777778,
              "#fb9f3a"
             ],
             [
              0.8888888888888888,
              "#fdca26"
             ],
             [
              1,
              "#f0f921"
             ]
            ],
            "type": "contour"
           }
          ],
          "contourcarpet": [
           {
            "colorbar": {
             "outlinewidth": 0,
             "ticks": ""
            },
            "type": "contourcarpet"
           }
          ],
          "heatmap": [
           {
            "colorbar": {
             "outlinewidth": 0,
             "ticks": ""
            },
            "colorscale": [
             [
              0,
              "#0d0887"
             ],
             [
              0.1111111111111111,
              "#46039f"
             ],
             [
              0.2222222222222222,
              "#7201a8"
             ],
             [
              0.3333333333333333,
              "#9c179e"
             ],
             [
              0.4444444444444444,
              "#bd3786"
             ],
             [
              0.5555555555555556,
              "#d8576b"
             ],
             [
              0.6666666666666666,
              "#ed7953"
             ],
             [
              0.7777777777777778,
              "#fb9f3a"
             ],
             [
              0.8888888888888888,
              "#fdca26"
             ],
             [
              1,
              "#f0f921"
             ]
            ],
            "type": "heatmap"
           }
          ],
          "heatmapgl": [
           {
            "colorbar": {
             "outlinewidth": 0,
             "ticks": ""
            },
            "colorscale": [
             [
              0,
              "#0d0887"
             ],
             [
              0.1111111111111111,
              "#46039f"
             ],
             [
              0.2222222222222222,
              "#7201a8"
             ],
             [
              0.3333333333333333,
              "#9c179e"
             ],
             [
              0.4444444444444444,
              "#bd3786"
             ],
             [
              0.5555555555555556,
              "#d8576b"
             ],
             [
              0.6666666666666666,
              "#ed7953"
             ],
             [
              0.7777777777777778,
              "#fb9f3a"
             ],
             [
              0.8888888888888888,
              "#fdca26"
             ],
             [
              1,
              "#f0f921"
             ]
            ],
            "type": "heatmapgl"
           }
          ],
          "histogram": [
           {
            "marker": {
             "pattern": {
              "fillmode": "overlay",
              "size": 10,
              "solidity": 0.2
             }
            },
            "type": "histogram"
           }
          ],
          "histogram2d": [
           {
            "colorbar": {
             "outlinewidth": 0,
             "ticks": ""
            },
            "colorscale": [
             [
              0,
              "#0d0887"
             ],
             [
              0.1111111111111111,
              "#46039f"
             ],
             [
              0.2222222222222222,
              "#7201a8"
             ],
             [
              0.3333333333333333,
              "#9c179e"
             ],
             [
              0.4444444444444444,
              "#bd3786"
             ],
             [
              0.5555555555555556,
              "#d8576b"
             ],
             [
              0.6666666666666666,
              "#ed7953"
             ],
             [
              0.7777777777777778,
              "#fb9f3a"
             ],
             [
              0.8888888888888888,
              "#fdca26"
             ],
             [
              1,
              "#f0f921"
             ]
            ],
            "type": "histogram2d"
           }
          ],
          "histogram2dcontour": [
           {
            "colorbar": {
             "outlinewidth": 0,
             "ticks": ""
            },
            "colorscale": [
             [
              0,
              "#0d0887"
             ],
             [
              0.1111111111111111,
              "#46039f"
             ],
             [
              0.2222222222222222,
              "#7201a8"
             ],
             [
              0.3333333333333333,
              "#9c179e"
             ],
             [
              0.4444444444444444,
              "#bd3786"
             ],
             [
              0.5555555555555556,
              "#d8576b"
             ],
             [
              0.6666666666666666,
              "#ed7953"
             ],
             [
              0.7777777777777778,
              "#fb9f3a"
             ],
             [
              0.8888888888888888,
              "#fdca26"
             ],
             [
              1,
              "#f0f921"
             ]
            ],
            "type": "histogram2dcontour"
           }
          ],
          "mesh3d": [
           {
            "colorbar": {
             "outlinewidth": 0,
             "ticks": ""
            },
            "type": "mesh3d"
           }
          ],
          "parcoords": [
           {
            "line": {
             "colorbar": {
              "outlinewidth": 0,
              "ticks": ""
             }
            },
            "type": "parcoords"
           }
          ],
          "pie": [
           {
            "automargin": true,
            "type": "pie"
           }
          ],
          "scatter": [
           {
            "marker": {
             "colorbar": {
              "outlinewidth": 0,
              "ticks": ""
             }
            },
            "type": "scatter"
           }
          ],
          "scatter3d": [
           {
            "line": {
             "colorbar": {
              "outlinewidth": 0,
              "ticks": ""
             }
            },
            "marker": {
             "colorbar": {
              "outlinewidth": 0,
              "ticks": ""
             }
            },
            "type": "scatter3d"
           }
          ],
          "scattercarpet": [
           {
            "marker": {
             "colorbar": {
              "outlinewidth": 0,
              "ticks": ""
             }
            },
            "type": "scattercarpet"
           }
          ],
          "scattergeo": [
           {
            "marker": {
             "colorbar": {
              "outlinewidth": 0,
              "ticks": ""
             }
            },
            "type": "scattergeo"
           }
          ],
          "scattergl": [
           {
            "marker": {
             "colorbar": {
              "outlinewidth": 0,
              "ticks": ""
             }
            },
            "type": "scattergl"
           }
          ],
          "scattermapbox": [
           {
            "marker": {
             "colorbar": {
              "outlinewidth": 0,
              "ticks": ""
             }
            },
            "type": "scattermapbox"
           }
          ],
          "scatterpolar": [
           {
            "marker": {
             "colorbar": {
              "outlinewidth": 0,
              "ticks": ""
             }
            },
            "type": "scatterpolar"
           }
          ],
          "scatterpolargl": [
           {
            "marker": {
             "colorbar": {
              "outlinewidth": 0,
              "ticks": ""
             }
            },
            "type": "scatterpolargl"
           }
          ],
          "scatterternary": [
           {
            "marker": {
             "colorbar": {
              "outlinewidth": 0,
              "ticks": ""
             }
            },
            "type": "scatterternary"
           }
          ],
          "surface": [
           {
            "colorbar": {
             "outlinewidth": 0,
             "ticks": ""
            },
            "colorscale": [
             [
              0,
              "#0d0887"
             ],
             [
              0.1111111111111111,
              "#46039f"
             ],
             [
              0.2222222222222222,
              "#7201a8"
             ],
             [
              0.3333333333333333,
              "#9c179e"
             ],
             [
              0.4444444444444444,
              "#bd3786"
             ],
             [
              0.5555555555555556,
              "#d8576b"
             ],
             [
              0.6666666666666666,
              "#ed7953"
             ],
             [
              0.7777777777777778,
              "#fb9f3a"
             ],
             [
              0.8888888888888888,
              "#fdca26"
             ],
             [
              1,
              "#f0f921"
             ]
            ],
            "type": "surface"
           }
          ],
          "table": [
           {
            "cells": {
             "fill": {
              "color": "#EBF0F8"
             },
             "line": {
              "color": "white"
             }
            },
            "header": {
             "fill": {
              "color": "#C8D4E3"
             },
             "line": {
              "color": "white"
             }
            },
            "type": "table"
           }
          ]
         },
         "layout": {
          "annotationdefaults": {
           "arrowcolor": "#2a3f5f",
           "arrowhead": 0,
           "arrowwidth": 1
          },
          "autotypenumbers": "strict",
          "coloraxis": {
           "colorbar": {
            "outlinewidth": 0,
            "ticks": ""
           }
          },
          "colorscale": {
           "diverging": [
            [
             0,
             "#8e0152"
            ],
            [
             0.1,
             "#c51b7d"
            ],
            [
             0.2,
             "#de77ae"
            ],
            [
             0.3,
             "#f1b6da"
            ],
            [
             0.4,
             "#fde0ef"
            ],
            [
             0.5,
             "#f7f7f7"
            ],
            [
             0.6,
             "#e6f5d0"
            ],
            [
             0.7,
             "#b8e186"
            ],
            [
             0.8,
             "#7fbc41"
            ],
            [
             0.9,
             "#4d9221"
            ],
            [
             1,
             "#276419"
            ]
           ],
           "sequential": [
            [
             0,
             "#0d0887"
            ],
            [
             0.1111111111111111,
             "#46039f"
            ],
            [
             0.2222222222222222,
             "#7201a8"
            ],
            [
             0.3333333333333333,
             "#9c179e"
            ],
            [
             0.4444444444444444,
             "#bd3786"
            ],
            [
             0.5555555555555556,
             "#d8576b"
            ],
            [
             0.6666666666666666,
             "#ed7953"
            ],
            [
             0.7777777777777778,
             "#fb9f3a"
            ],
            [
             0.8888888888888888,
             "#fdca26"
            ],
            [
             1,
             "#f0f921"
            ]
           ],
           "sequentialminus": [
            [
             0,
             "#0d0887"
            ],
            [
             0.1111111111111111,
             "#46039f"
            ],
            [
             0.2222222222222222,
             "#7201a8"
            ],
            [
             0.3333333333333333,
             "#9c179e"
            ],
            [
             0.4444444444444444,
             "#bd3786"
            ],
            [
             0.5555555555555556,
             "#d8576b"
            ],
            [
             0.6666666666666666,
             "#ed7953"
            ],
            [
             0.7777777777777778,
             "#fb9f3a"
            ],
            [
             0.8888888888888888,
             "#fdca26"
            ],
            [
             1,
             "#f0f921"
            ]
           ]
          },
          "colorway": [
           "#636efa",
           "#EF553B",
           "#00cc96",
           "#ab63fa",
           "#FFA15A",
           "#19d3f3",
           "#FF6692",
           "#B6E880",
           "#FF97FF",
           "#FECB52"
          ],
          "font": {
           "color": "#2a3f5f"
          },
          "geo": {
           "bgcolor": "white",
           "lakecolor": "white",
           "landcolor": "#E5ECF6",
           "showlakes": true,
           "showland": true,
           "subunitcolor": "white"
          },
          "hoverlabel": {
           "align": "left"
          },
          "hovermode": "closest",
          "mapbox": {
           "style": "light"
          },
          "paper_bgcolor": "white",
          "plot_bgcolor": "#E5ECF6",
          "polar": {
           "angularaxis": {
            "gridcolor": "white",
            "linecolor": "white",
            "ticks": ""
           },
           "bgcolor": "#E5ECF6",
           "radialaxis": {
            "gridcolor": "white",
            "linecolor": "white",
            "ticks": ""
           }
          },
          "scene": {
           "xaxis": {
            "backgroundcolor": "#E5ECF6",
            "gridcolor": "white",
            "gridwidth": 2,
            "linecolor": "white",
            "showbackground": true,
            "ticks": "",
            "zerolinecolor": "white"
           },
           "yaxis": {
            "backgroundcolor": "#E5ECF6",
            "gridcolor": "white",
            "gridwidth": 2,
            "linecolor": "white",
            "showbackground": true,
            "ticks": "",
            "zerolinecolor": "white"
           },
           "zaxis": {
            "backgroundcolor": "#E5ECF6",
            "gridcolor": "white",
            "gridwidth": 2,
            "linecolor": "white",
            "showbackground": true,
            "ticks": "",
            "zerolinecolor": "white"
           }
          },
          "shapedefaults": {
           "line": {
            "color": "#2a3f5f"
           }
          },
          "ternary": {
           "aaxis": {
            "gridcolor": "white",
            "linecolor": "white",
            "ticks": ""
           },
           "baxis": {
            "gridcolor": "white",
            "linecolor": "white",
            "ticks": ""
           },
           "bgcolor": "#E5ECF6",
           "caxis": {
            "gridcolor": "white",
            "linecolor": "white",
            "ticks": ""
           }
          },
          "title": {
           "x": 0.05
          },
          "xaxis": {
           "automargin": true,
           "gridcolor": "white",
           "linecolor": "white",
           "ticks": "",
           "title": {
            "standoff": 15
           },
           "zerolinecolor": "white",
           "zerolinewidth": 2
          },
          "yaxis": {
           "automargin": true,
           "gridcolor": "white",
           "linecolor": "white",
           "ticks": "",
           "title": {
            "standoff": 15
           },
           "zerolinecolor": "white",
           "zerolinewidth": 2
          }
         }
        },
        "violinmode": "group",
        "xaxis": {
         "anchor": "y",
         "domain": [
          0,
          1
         ],
         "title": {
          "text": "dayofweek"
         }
        },
        "yaxis": {
         "anchor": "x",
         "domain": [
          0,
          1
         ],
         "title": {
          "text": "intraday"
         }
        }
       }
      }
     },
     "metadata": {},
     "output_type": "display_data"
    }
   ],
   "source": [
    "import plotly.express as px\n",
    "# plotting violins to see the spread of intraday changes on each day\n",
    "fig = px.violin(df, y=\"intraday\", x='dayofweek')\n",
    "fig.show()"
   ]
  },
  {
   "cell_type": "code",
   "execution_count": 11,
   "metadata": {},
   "outputs": [
    {
     "data": {
      "application/vnd.plotly.v1+json": {
       "config": {
        "plotlyServerURL": "https://plot.ly"
       },
       "data": [
        {
         "box": {
          "visible": true
         },
         "fillcolor": "lightseagreen",
         "line": {
          "color": "black"
         },
         "meanline": {
          "visible": true
         },
         "opacity": 0.6,
         "type": "violin",
         "x": [
          2,
          3,
          4,
          0,
          1,
          2,
          3,
          4,
          0,
          1,
          2,
          3,
          4,
          0,
          1,
          2,
          3,
          4,
          0,
          1,
          2,
          3,
          4,
          0,
          1,
          2,
          3,
          4,
          0,
          1,
          2,
          3,
          4,
          0,
          1,
          2,
          3,
          4,
          0,
          1,
          2,
          3,
          4,
          0,
          1,
          2,
          4,
          0,
          1,
          2,
          3,
          4,
          0,
          1,
          2,
          3,
          4,
          0,
          1,
          2,
          3,
          4,
          0,
          1,
          2,
          3,
          0,
          1,
          2,
          3,
          0,
          1,
          2,
          3,
          4,
          0,
          1,
          2,
          3,
          4,
          1,
          2,
          3,
          4,
          0,
          1,
          2,
          3,
          4,
          0,
          1,
          2,
          3,
          4,
          0,
          1,
          2,
          3,
          4,
          1,
          2,
          3,
          4,
          0,
          1,
          2,
          3,
          4,
          0,
          1,
          2,
          3,
          4,
          0,
          1,
          2,
          3,
          4,
          0,
          1,
          2,
          3,
          4,
          0,
          1,
          2,
          3,
          4,
          0,
          1,
          2,
          3,
          0,
          1,
          2,
          3,
          4,
          0,
          1,
          2,
          3,
          4,
          0,
          1,
          2,
          3,
          4,
          0,
          1,
          2,
          3,
          4,
          0,
          1,
          2,
          3,
          4,
          0,
          1,
          2,
          3,
          4,
          0,
          1,
          2,
          3,
          4,
          0,
          1,
          2,
          3,
          4,
          1,
          2,
          3,
          4,
          0,
          1,
          2,
          3,
          4,
          0,
          1,
          2,
          3,
          4,
          0,
          1,
          2,
          3,
          4,
          0,
          1,
          2,
          3,
          4,
          1,
          2,
          3,
          4,
          0,
          1,
          2,
          3,
          4,
          0,
          1,
          2,
          3,
          4,
          0,
          1,
          2,
          3,
          4,
          0,
          1,
          2,
          3,
          4,
          0,
          1,
          2,
          3,
          4,
          0,
          1,
          2,
          3,
          4,
          0,
          1,
          2,
          3,
          4,
          0,
          1,
          2,
          3,
          4,
          1,
          2,
          3,
          4,
          0,
          1,
          2,
          3,
          4,
          0,
          1,
          2,
          3,
          4,
          0,
          1,
          2,
          3,
          4,
          0,
          1,
          2,
          3,
          4,
          0,
          1,
          2,
          3,
          4,
          0,
          1,
          2,
          3,
          4,
          0,
          1,
          2,
          3,
          4,
          0,
          1,
          2,
          3,
          4,
          0,
          1,
          2,
          3,
          4,
          0,
          1,
          2,
          3,
          4,
          0,
          1,
          2,
          4,
          0,
          1,
          2,
          3,
          4,
          0,
          1,
          2,
          3,
          4,
          0,
          1,
          2,
          3,
          4,
          0,
          1,
          2,
          3,
          0,
          1,
          2,
          3,
          4,
          0,
          1,
          2,
          3,
          4,
          0,
          1,
          2,
          3,
          4,
          1,
          2,
          3,
          4,
          0,
          1,
          2,
          3
         ],
         "y": [
          0.9424603174603176,
          1.0987306064880114,
          1.0897030953885027,
          1.0584526041001372,
          0.9947034954821768,
          1.0265577119509706,
          0.9632184367816092,
          0.9952380952380951,
          0.9386129803186505,
          0.8717826978074357,
          1.0241158092175777,
          0.9425346844535661,
          0.9607427586206896,
          1.0197694134963984,
          0.9983861753630984,
          1.0102151075268817,
          1.004364429896345,
          1.0328133942980098,
          0.9700192940038683,
          1.0177225963668586,
          0.9681728106808326,
          0.927162542942062,
          1.0085854868595867,
          0.992298338062424,
          0.9836003807627911,
          0.9724699118856179,
          0.9841269053917895,
          0.96935491811915,
          0.9659376801540083,
          1.0113314856872313,
          1.0589641434262946,
          1.0101818545454546,
          0.9858027297343549,
          0.9457420050305426,
          1.049887471867967,
          1.0410860664523045,
          0.9874608494413393,
          1.0362215909090908,
          1.0380789022298458,
          1.0562684783240697,
          1.0730886521991239,
          1.0680569517244765,
          1.0711819351297778,
          1.1053658536585367,
          1.1078452128809162,
          0.866046149981633,
          0.8931121861322278,
          0.9473684210526314,
          1.0419580149713021,
          0.9391964712269272,
          1.0398166427957607,
          0.9886395123302852,
          1.0575519106555842,
          0.982261000794281,
          0.952355377391475,
          1.0240822327190082,
          0.9637786127950514,
          1.051537273702063,
          0.9569950486121365,
          1.0621049933984805,
          1.0563230355027373,
          0.9723618586020568,
          1.107708640660365,
          0.9662576695078416,
          0.9470732195121951,
          0.9272958436914326,
          1.0255329546968697,
          0.8987854251012146,
          1.0230171374648602,
          0.9826370053543948,
          0.9391891891891891,
          1.049707630125508,
          1.0501662111881256,
          1.021767297227261,
          0.9686473316977834,
          1.0313157631578946,
          1.0432298633540373,
          1.0033285781424495,
          0.9509651446960756,
          0.9623927804743256,
          0.9627456229330345,
          0.9708737340413304,
          1.0013631406761176,
          1.0872521837748494,
          0.9577944885194197,
          0.9512375766714071,
          1.1027711650670524,
          0.909047619047619,
          0.986165440194063,
          0.9601215683414507,
          1.0023560208807325,
          1.0878618311868504,
          1.0179464548396586,
          0.9834746256371112,
          0.9879699890004295,
          0.9510638510638298,
          0.990139233881171,
          0.9936500470366886,
          1.0129411529411765,
          0.9166666895604396,
          1.011985019025843,
          0.9856521133910356,
          0.9997438124453963,
          1.0177499749999999,
          1.0041895523485087,
          1.01844049047525,
          0.9555263421052631,
          0.9819178082191782,
          1.0040761414151125,
          0.955783256942572,
          0.9632449682277524,
          0.9589443670935113,
          0.9769868057686406,
          1.0012582258176084,
          1.0131773369826216,
          0.9533947326464173,
          0.9920890714301475,
          1.0300741432695828,
          1.010264018197303,
          0.991011830037006,
          1.0316264749510098,
          0.9563136119876489,
          1.005898882517817,
          0.9813993374262964,
          0.9726555864263502,
          0.9589041083095924,
          1.1135134797297295,
          0.973211596542563,
          1.011023559055118,
          1.0393749374999999,
          0.9949193662558091,
          1.0029611785608528,
          0.9921739130434781,
          1.0084376202629508,
          1.0023188985507248,
          0.9956621749183242,
          0.9829912599994876,
          0.9988133787841407,
          1.0098860991645864,
          1.0113264086833504,
          0.9997074041385662,
          0.9571343817635237,
          0.9910658962127511,
          1.0194968245124787,
          1.0336583820805796,
          0.9898050968398857,
          1.007824315377671,
          1.0050444508888887,
          1,
          0.9752762659896373,
          1.0133017136682403,
          0.9845697037219673,
          1.0011975148983523,
          0.9619244108050647,
          1.013561908004826,
          0.991230692470517,
          1.0237009723488302,
          0.938806,
          1.0718582887700534,
          0.9971410101651842,
          0.9830345390524968,
          1.012540459522741,
          1.0283439808917199,
          0.9867651285463139,
          1.0165762825445877,
          0.9931570144225808,
          0.9810184857943524,
          0.9854889279025574,
          0.9971599559116454,
          1.0211489267676768,
          0.9966153538461537,
          0.9591397836909303,
          1.0144836586901764,
          1.0538793103448276,
          1.008902047213589,
          0.9834851365951535,
          0.99374996875,
          0.9951539473142427,
          0.9943502512758866,
          0.9852201567679294,
          1.0266497779187818,
          0.8845208627881852,
          0.9819128538277415,
          0.9650543865698222,
          1.001818212121212,
          0.9714025242288569,
          0.9962535434359522,
          1.0050585521675168,
          1.01625,
          0.9947932009315037,
          1.0406169042644708,
          0.980882294117647,
          0.9928357611940297,
          1.0072617853937,
          0.9876580376984334,
          0.9789377887019408,
          0.9916408666142682,
          0.9909460190741811,
          1.0048371493066752,
          1.0169871468914375,
          0.9915546447155035,
          0.9828025796178345,
          0.9796774516129033,
          0.996379229637236,
          0.9532011699707507,
          0.9947826086956523,
          1.0252333218112686,
          0.9986776528925619,
          0.980794702622692,
          0.992602555480834,
          1.0044567492740901,
          0.9854533147988266,
          0.9989771224002728,
          0.987882900972161,
          1.0062047914512238,
          0.9820399864452728,
          1.0051870692849203,
          1.021244875139769,
          1.037728975740988,
          0.9964513839602555,
          1.0096324648721917,
          0.9815072923935798,
          0.9925400000000001,
          0.9935297987059669,
          0.9721014492753622,
          0.9996274217585692,
          1.0090327060594655,
          0.9846384419393615,
          0.988040162037037,
          1.0113016757599376,
          0.9924098671726754,
          1.0364880667612342,
          1.0058931491712706,
          0.9908458436779877,
          1.013617997791682,
          1.0187116941809393,
          0.9744194538680395,
          0.9426365561111147,
          1.0165726016723342,
          0.9910096818810511,
          1.0129100139567342,
          0.994471320163396,
          1.0207017543859649,
          1.0103412271630472,
          1.0006854352296093,
          1.0058219176088385,
          1.015300052099022,
          1.0010186417311158,
          0.9900854358974359,
          0.9700493999312686,
          0.9764748815227972,
          0.9981529368304396,
          1.0310765804263196,
          1.0159420652173912,
          1.0025125268301318,
          0.9655671982602392,
          0.985810269387219,
          0.9821969696969698,
          1.0142088704220864,
          0.9789915584415584,
          1.0046783625730995,
          0.9941199921599372,
          1.0279307238394964,
          0.9585665935585445,
          0.9992217510030447,
          1.0210279984423676,
          1.0053434730784934,
          1.0114718452425584,
          0.9794548391724552,
          0.9967871485943776,
          1.006,
          1.01839996,
          0.9925285096342902,
          0.9940071117056686,
          1.0172690763052208,
          0.9705765407554673,
          0.9934560329874833,
          1.01685162351007,
          0.9987745506535948,
          1.0176157312576812,
          1.0031999999999999,
          1.0491606714628297,
          0.9973684586466166,
          0.9916571485909309,
          0.9851371951219513,
          0.9887813926499032,
          1.0063241109219017,
          1.0216535826771653,
          1.0235339891975308,
          0.9932075471698113,
          1.0041825476875494,
          0.9835877487180248,
          0.973879142300195,
          0.9943366098032609,
          0.9699309236110962,
          0.9786432989381617,
          1.0107944732297063,
          1.0048034934497818,
          0.977125550280535,
          1.0039890186908242,
          0.9396741937329015,
          1.027843321007866,
          0.9664522518382354,
          1.010047894736842,
          0.995819786538793,
          1.018527095877721,
          0.9663483401546158,
          0.9920337394564199,
          0.9813576003824092,
          1.0118460019743336,
          1.0633283719524609,
          0.9963235294117646,
          1.0166976352828219,
          0.9894736842105263,
          1.0074765887850468,
          1.0206801011029412,
          1.0131280669986418,
          0.9791758972086841,
          0.98451739455908,
          0.9782406944444443,
          1.024136300243081,
          0.9749420406005588,
          1.0407004751869606,
          0.9666665780780821,
          0.978952337649782,
          0.9657794217785446,
          1.0186366365196977,
          0.9960784313725491,
          1.0201771653543308,
          0.9851533038866526,
          0.9922928709055877,
          1.022048930989546,
          0.9916502951055848,
          1.0089153041646703,
          1.0120714636442039,
          0.989994227438907,
          0.9745287811782364,
          1.023771737982039,
          0.9444639691521859,
          0.9604166687282986
         ]
        }
       ],
       "layout": {
        "template": {
         "data": {
          "bar": [
           {
            "error_x": {
             "color": "#2a3f5f"
            },
            "error_y": {
             "color": "#2a3f5f"
            },
            "marker": {
             "line": {
              "color": "#E5ECF6",
              "width": 0.5
             },
             "pattern": {
              "fillmode": "overlay",
              "size": 10,
              "solidity": 0.2
             }
            },
            "type": "bar"
           }
          ],
          "barpolar": [
           {
            "marker": {
             "line": {
              "color": "#E5ECF6",
              "width": 0.5
             },
             "pattern": {
              "fillmode": "overlay",
              "size": 10,
              "solidity": 0.2
             }
            },
            "type": "barpolar"
           }
          ],
          "carpet": [
           {
            "aaxis": {
             "endlinecolor": "#2a3f5f",
             "gridcolor": "white",
             "linecolor": "white",
             "minorgridcolor": "white",
             "startlinecolor": "#2a3f5f"
            },
            "baxis": {
             "endlinecolor": "#2a3f5f",
             "gridcolor": "white",
             "linecolor": "white",
             "minorgridcolor": "white",
             "startlinecolor": "#2a3f5f"
            },
            "type": "carpet"
           }
          ],
          "choropleth": [
           {
            "colorbar": {
             "outlinewidth": 0,
             "ticks": ""
            },
            "type": "choropleth"
           }
          ],
          "contour": [
           {
            "colorbar": {
             "outlinewidth": 0,
             "ticks": ""
            },
            "colorscale": [
             [
              0,
              "#0d0887"
             ],
             [
              0.1111111111111111,
              "#46039f"
             ],
             [
              0.2222222222222222,
              "#7201a8"
             ],
             [
              0.3333333333333333,
              "#9c179e"
             ],
             [
              0.4444444444444444,
              "#bd3786"
             ],
             [
              0.5555555555555556,
              "#d8576b"
             ],
             [
              0.6666666666666666,
              "#ed7953"
             ],
             [
              0.7777777777777778,
              "#fb9f3a"
             ],
             [
              0.8888888888888888,
              "#fdca26"
             ],
             [
              1,
              "#f0f921"
             ]
            ],
            "type": "contour"
           }
          ],
          "contourcarpet": [
           {
            "colorbar": {
             "outlinewidth": 0,
             "ticks": ""
            },
            "type": "contourcarpet"
           }
          ],
          "heatmap": [
           {
            "colorbar": {
             "outlinewidth": 0,
             "ticks": ""
            },
            "colorscale": [
             [
              0,
              "#0d0887"
             ],
             [
              0.1111111111111111,
              "#46039f"
             ],
             [
              0.2222222222222222,
              "#7201a8"
             ],
             [
              0.3333333333333333,
              "#9c179e"
             ],
             [
              0.4444444444444444,
              "#bd3786"
             ],
             [
              0.5555555555555556,
              "#d8576b"
             ],
             [
              0.6666666666666666,
              "#ed7953"
             ],
             [
              0.7777777777777778,
              "#fb9f3a"
             ],
             [
              0.8888888888888888,
              "#fdca26"
             ],
             [
              1,
              "#f0f921"
             ]
            ],
            "type": "heatmap"
           }
          ],
          "heatmapgl": [
           {
            "colorbar": {
             "outlinewidth": 0,
             "ticks": ""
            },
            "colorscale": [
             [
              0,
              "#0d0887"
             ],
             [
              0.1111111111111111,
              "#46039f"
             ],
             [
              0.2222222222222222,
              "#7201a8"
             ],
             [
              0.3333333333333333,
              "#9c179e"
             ],
             [
              0.4444444444444444,
              "#bd3786"
             ],
             [
              0.5555555555555556,
              "#d8576b"
             ],
             [
              0.6666666666666666,
              "#ed7953"
             ],
             [
              0.7777777777777778,
              "#fb9f3a"
             ],
             [
              0.8888888888888888,
              "#fdca26"
             ],
             [
              1,
              "#f0f921"
             ]
            ],
            "type": "heatmapgl"
           }
          ],
          "histogram": [
           {
            "marker": {
             "pattern": {
              "fillmode": "overlay",
              "size": 10,
              "solidity": 0.2
             }
            },
            "type": "histogram"
           }
          ],
          "histogram2d": [
           {
            "colorbar": {
             "outlinewidth": 0,
             "ticks": ""
            },
            "colorscale": [
             [
              0,
              "#0d0887"
             ],
             [
              0.1111111111111111,
              "#46039f"
             ],
             [
              0.2222222222222222,
              "#7201a8"
             ],
             [
              0.3333333333333333,
              "#9c179e"
             ],
             [
              0.4444444444444444,
              "#bd3786"
             ],
             [
              0.5555555555555556,
              "#d8576b"
             ],
             [
              0.6666666666666666,
              "#ed7953"
             ],
             [
              0.7777777777777778,
              "#fb9f3a"
             ],
             [
              0.8888888888888888,
              "#fdca26"
             ],
             [
              1,
              "#f0f921"
             ]
            ],
            "type": "histogram2d"
           }
          ],
          "histogram2dcontour": [
           {
            "colorbar": {
             "outlinewidth": 0,
             "ticks": ""
            },
            "colorscale": [
             [
              0,
              "#0d0887"
             ],
             [
              0.1111111111111111,
              "#46039f"
             ],
             [
              0.2222222222222222,
              "#7201a8"
             ],
             [
              0.3333333333333333,
              "#9c179e"
             ],
             [
              0.4444444444444444,
              "#bd3786"
             ],
             [
              0.5555555555555556,
              "#d8576b"
             ],
             [
              0.6666666666666666,
              "#ed7953"
             ],
             [
              0.7777777777777778,
              "#fb9f3a"
             ],
             [
              0.8888888888888888,
              "#fdca26"
             ],
             [
              1,
              "#f0f921"
             ]
            ],
            "type": "histogram2dcontour"
           }
          ],
          "mesh3d": [
           {
            "colorbar": {
             "outlinewidth": 0,
             "ticks": ""
            },
            "type": "mesh3d"
           }
          ],
          "parcoords": [
           {
            "line": {
             "colorbar": {
              "outlinewidth": 0,
              "ticks": ""
             }
            },
            "type": "parcoords"
           }
          ],
          "pie": [
           {
            "automargin": true,
            "type": "pie"
           }
          ],
          "scatter": [
           {
            "marker": {
             "colorbar": {
              "outlinewidth": 0,
              "ticks": ""
             }
            },
            "type": "scatter"
           }
          ],
          "scatter3d": [
           {
            "line": {
             "colorbar": {
              "outlinewidth": 0,
              "ticks": ""
             }
            },
            "marker": {
             "colorbar": {
              "outlinewidth": 0,
              "ticks": ""
             }
            },
            "type": "scatter3d"
           }
          ],
          "scattercarpet": [
           {
            "marker": {
             "colorbar": {
              "outlinewidth": 0,
              "ticks": ""
             }
            },
            "type": "scattercarpet"
           }
          ],
          "scattergeo": [
           {
            "marker": {
             "colorbar": {
              "outlinewidth": 0,
              "ticks": ""
             }
            },
            "type": "scattergeo"
           }
          ],
          "scattergl": [
           {
            "marker": {
             "colorbar": {
              "outlinewidth": 0,
              "ticks": ""
             }
            },
            "type": "scattergl"
           }
          ],
          "scattermapbox": [
           {
            "marker": {
             "colorbar": {
              "outlinewidth": 0,
              "ticks": ""
             }
            },
            "type": "scattermapbox"
           }
          ],
          "scatterpolar": [
           {
            "marker": {
             "colorbar": {
              "outlinewidth": 0,
              "ticks": ""
             }
            },
            "type": "scatterpolar"
           }
          ],
          "scatterpolargl": [
           {
            "marker": {
             "colorbar": {
              "outlinewidth": 0,
              "ticks": ""
             }
            },
            "type": "scatterpolargl"
           }
          ],
          "scatterternary": [
           {
            "marker": {
             "colorbar": {
              "outlinewidth": 0,
              "ticks": ""
             }
            },
            "type": "scatterternary"
           }
          ],
          "surface": [
           {
            "colorbar": {
             "outlinewidth": 0,
             "ticks": ""
            },
            "colorscale": [
             [
              0,
              "#0d0887"
             ],
             [
              0.1111111111111111,
              "#46039f"
             ],
             [
              0.2222222222222222,
              "#7201a8"
             ],
             [
              0.3333333333333333,
              "#9c179e"
             ],
             [
              0.4444444444444444,
              "#bd3786"
             ],
             [
              0.5555555555555556,
              "#d8576b"
             ],
             [
              0.6666666666666666,
              "#ed7953"
             ],
             [
              0.7777777777777778,
              "#fb9f3a"
             ],
             [
              0.8888888888888888,
              "#fdca26"
             ],
             [
              1,
              "#f0f921"
             ]
            ],
            "type": "surface"
           }
          ],
          "table": [
           {
            "cells": {
             "fill": {
              "color": "#EBF0F8"
             },
             "line": {
              "color": "white"
             }
            },
            "header": {
             "fill": {
              "color": "#C8D4E3"
             },
             "line": {
              "color": "white"
             }
            },
            "type": "table"
           }
          ]
         },
         "layout": {
          "annotationdefaults": {
           "arrowcolor": "#2a3f5f",
           "arrowhead": 0,
           "arrowwidth": 1
          },
          "autotypenumbers": "strict",
          "coloraxis": {
           "colorbar": {
            "outlinewidth": 0,
            "ticks": ""
           }
          },
          "colorscale": {
           "diverging": [
            [
             0,
             "#8e0152"
            ],
            [
             0.1,
             "#c51b7d"
            ],
            [
             0.2,
             "#de77ae"
            ],
            [
             0.3,
             "#f1b6da"
            ],
            [
             0.4,
             "#fde0ef"
            ],
            [
             0.5,
             "#f7f7f7"
            ],
            [
             0.6,
             "#e6f5d0"
            ],
            [
             0.7,
             "#b8e186"
            ],
            [
             0.8,
             "#7fbc41"
            ],
            [
             0.9,
             "#4d9221"
            ],
            [
             1,
             "#276419"
            ]
           ],
           "sequential": [
            [
             0,
             "#0d0887"
            ],
            [
             0.1111111111111111,
             "#46039f"
            ],
            [
             0.2222222222222222,
             "#7201a8"
            ],
            [
             0.3333333333333333,
             "#9c179e"
            ],
            [
             0.4444444444444444,
             "#bd3786"
            ],
            [
             0.5555555555555556,
             "#d8576b"
            ],
            [
             0.6666666666666666,
             "#ed7953"
            ],
            [
             0.7777777777777778,
             "#fb9f3a"
            ],
            [
             0.8888888888888888,
             "#fdca26"
            ],
            [
             1,
             "#f0f921"
            ]
           ],
           "sequentialminus": [
            [
             0,
             "#0d0887"
            ],
            [
             0.1111111111111111,
             "#46039f"
            ],
            [
             0.2222222222222222,
             "#7201a8"
            ],
            [
             0.3333333333333333,
             "#9c179e"
            ],
            [
             0.4444444444444444,
             "#bd3786"
            ],
            [
             0.5555555555555556,
             "#d8576b"
            ],
            [
             0.6666666666666666,
             "#ed7953"
            ],
            [
             0.7777777777777778,
             "#fb9f3a"
            ],
            [
             0.8888888888888888,
             "#fdca26"
            ],
            [
             1,
             "#f0f921"
            ]
           ]
          },
          "colorway": [
           "#636efa",
           "#EF553B",
           "#00cc96",
           "#ab63fa",
           "#FFA15A",
           "#19d3f3",
           "#FF6692",
           "#B6E880",
           "#FF97FF",
           "#FECB52"
          ],
          "font": {
           "color": "#2a3f5f"
          },
          "geo": {
           "bgcolor": "white",
           "lakecolor": "white",
           "landcolor": "#E5ECF6",
           "showlakes": true,
           "showland": true,
           "subunitcolor": "white"
          },
          "hoverlabel": {
           "align": "left"
          },
          "hovermode": "closest",
          "mapbox": {
           "style": "light"
          },
          "paper_bgcolor": "white",
          "plot_bgcolor": "#E5ECF6",
          "polar": {
           "angularaxis": {
            "gridcolor": "white",
            "linecolor": "white",
            "ticks": ""
           },
           "bgcolor": "#E5ECF6",
           "radialaxis": {
            "gridcolor": "white",
            "linecolor": "white",
            "ticks": ""
           }
          },
          "scene": {
           "xaxis": {
            "backgroundcolor": "#E5ECF6",
            "gridcolor": "white",
            "gridwidth": 2,
            "linecolor": "white",
            "showbackground": true,
            "ticks": "",
            "zerolinecolor": "white"
           },
           "yaxis": {
            "backgroundcolor": "#E5ECF6",
            "gridcolor": "white",
            "gridwidth": 2,
            "linecolor": "white",
            "showbackground": true,
            "ticks": "",
            "zerolinecolor": "white"
           },
           "zaxis": {
            "backgroundcolor": "#E5ECF6",
            "gridcolor": "white",
            "gridwidth": 2,
            "linecolor": "white",
            "showbackground": true,
            "ticks": "",
            "zerolinecolor": "white"
           }
          },
          "shapedefaults": {
           "line": {
            "color": "#2a3f5f"
           }
          },
          "ternary": {
           "aaxis": {
            "gridcolor": "white",
            "linecolor": "white",
            "ticks": ""
           },
           "baxis": {
            "gridcolor": "white",
            "linecolor": "white",
            "ticks": ""
           },
           "bgcolor": "#E5ECF6",
           "caxis": {
            "gridcolor": "white",
            "linecolor": "white",
            "ticks": ""
           }
          },
          "title": {
           "x": 0.05
          },
          "xaxis": {
           "automargin": true,
           "gridcolor": "white",
           "linecolor": "white",
           "ticks": "",
           "title": {
            "standoff": 15
           },
           "zerolinecolor": "white",
           "zerolinewidth": 2
          },
          "yaxis": {
           "automargin": true,
           "gridcolor": "white",
           "linecolor": "white",
           "ticks": "",
           "title": {
            "standoff": 15
           },
           "zerolinecolor": "white",
           "zerolinewidth": 2
          }
         }
        }
       }
      }
     },
     "metadata": {},
     "output_type": "display_data"
    }
   ],
   "source": [
    "# plotting violins to see the spread of intraday changes on each day with a different library\n",
    "fig = go.Figure(data=go.Violin(y=df['intraday'], x=df['dayofweek'], box_visible=True, line_color='black',\n",
    "                               meanline_visible=True, fillcolor='lightseagreen', opacity=0.6,\n",
    "                               ))\n",
    "fig.show()\n",
    "                            "
   ]
  },
  {
   "cell_type": "code",
   "execution_count": 12,
   "metadata": {},
   "outputs": [],
   "source": [
    "def backtest(df, day=1):\n",
    "    \"\"\"\n",
    "    Every time buy LOVE with 1000 USD\n",
    "    \"\"\"\n",
    "    \n",
    "    usd = 1000\n",
    "    profits = []\n",
    "    for i in range(len(df)):\n",
    "        if df['dayofweek'].values[i] == day:\n",
    "            # buy\n",
    "            pos_volume = usd / df['Open'].values[i]\n",
    "            profits.append(pos_volume * (df['Close'].values[i] - df['Open'].values[i]))\n",
    "    return profits\n",
    "\n",
    "def plot_profits(profits, day):\n",
    "    plt.figure()\n",
    "    profits = np.array(profits)\n",
    "    plt.plot(np.cumsum(profits))\n",
    "    winp = np.sum(profits > 0) / len(profits)\n",
    "    plt.xlabel('week')\n",
    "    plt.ylabel('profits (USD)')\n",
    "    plt.title(f'P(win) = {winp:.3f} on day {day}')"
   ]
  },
  {
   "cell_type": "code",
   "execution_count": 13,
   "metadata": {},
   "outputs": [
    {
     "data": {
      "image/png": "[encoded data removed]",
      "text/plain": [
       "<Figure size 432x288 with 1 Axes>"
      ]
     },
     "metadata": {
      "needs_background": "light"
     },
     "output_type": "display_data"
    },
    {
     "data": {
      "image/png": "[encoded data removed]",
      "text/plain": [
       "<Figure size 432x288 with 1 Axes>"
      ]
     },
     "metadata": {
      "needs_background": "light"
     },
     "output_type": "display_data"
    },
    {
     "data": {
      "image/png": "[encoded data removed]",
      "text/plain": [
       "<Figure size 432x288 with 1 Axes>"
      ]
     },
     "metadata": {
      "needs_background": "light"
     },
     "output_type": "display_data"
    },
    {
     "data": {
      "image/png": "[encoded data removed]",
      "text/plain": [
       "<Figure size 432x288 with 1 Axes>"
      ]
     },
     "metadata": {
      "needs_background": "light"
     },
     "output_type": "display_data"
    },
    {
     "data": {
      "image/png": "[encoded data removed]",
      "text/plain": [
       "<Figure size 432x288 with 1 Axes>"
      ]
     },
     "metadata": {
      "needs_background": "light"
     },
     "output_type": "display_data"
    }
   ],
   "source": [
    "for i in range(0,5):\n",
    "    profits = backtest(df, day=i)\n",
    "    plot_profits(profits, day = i)"
   ]
  },
  {
   "cell_type": "code",
   "execution_count": null,
   "metadata": {},
   "outputs": [],
   "source": []
  }
 ],
 "metadata": {
  "interpreter": {
   "hash": "40d3a090f54c6569ab1632332b64b2c03c39dcf918b08424e98f38b5ae0af88f"
  },
  "kernelspec": {
   "display_name": "Python 3.8.5 64-bit ('base': conda)",
   "language": "python",
   "name": "python3"
  },
  "language_info": {
   "codemirror_mode": {
    "name": "ipython",
    "version": 3
   },
   "file_extension": ".py",
   "mimetype": "text/x-python",
   "name": "python",
   "nbconvert_exporter": "python",
   "pygments_lexer": "ipython3",
   "version": "3.8.5"
  },
  "orig_nbformat": 4
 },
 "nbformat": 4,
 "nbformat_minor": 2
}
