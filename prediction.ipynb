{
 "metadata": {
  "language_info": {
   "codemirror_mode": {
    "name": "ipython",
    "version": 3
   },
   "file_extension": ".py",
   "mimetype": "text/x-python",
   "name": "python",
   "nbconvert_exporter": "python",
   "pygments_lexer": "ipython3",
   "version": "3.8.5"
  },
  "orig_nbformat": 2,
  "kernelspec": {
   "name": "python385jvsc74a57bd0dca0ade3e726a953b501b15e8e990130d2b7799f14cfd9f4271676035ebe5511",
   "display_name": "Python 3.8.5 64-bit ('base': conda)"
  }
 },
 "nbformat": 4,
 "nbformat_minor": 2,
 "cells": [
  {
   "cell_type": "code",
   "execution_count": 1,
   "metadata": {},
   "outputs": [],
   "source": [
    "import yfinance as yf\n",
    "import pandas as pd\n",
    "import numpy as np\n",
    "import matplotlib.pyplot as plt\n",
    "import datetime as dt"
   ]
  },
  {
   "cell_type": "code",
   "execution_count": 5,
   "metadata": {},
   "outputs": [],
   "source": [
    "# Given a m x n matrix  of m closing prices for n equities, returns an 1 x n \n",
    "# array of average closing prices\n",
    "def compute_average(closing_prices_for_multiple_equities):\n",
    "    sums = [0] * len(closing_prices_for_multiple_equities[0])\n",
    "    for row in closing_prices_for_multiple_equities:\n",
    "        for i in range(len(row)):\n",
    "            sums[i] += row[i]\n",
    "\n",
    "    avgs = [x/len(closing_prices_for_multiple_equities) for x in sums]\n",
    "    return avgs\n",
    "\n",
    "# Given an m x n matrix of m closing prices for n equities and n averages for n \n",
    "# equities, returns all of the difference of the closing prices and their averages\n",
    "# essentially substracts mean to make the new mean of the data set 0 for each column\n",
    "def compute_stocks_demeaned(closing_prices_matrix, average_closing_prices):\n",
    "    m = len(closing_prices_matrix)\n",
    "    n = len(closing_prices_matrix[0])\n",
    "    demeaned = [[0 for i in range(n)] for j in range(m)]\n",
    "    for i in range(len(closing_prices_matrix)):\n",
    "        for j in range(len(closing_prices_matrix[i])):\n",
    "            demeaned[i][j] = closing_prices_matrix[i][j] - average_closing_prices[j]\n",
    "\n",
    "    return demeaned\n",
    "\n",
    "# Given an m x n matrix of the demeaned closing prices for n equities, returns\n",
    "# the associated covariance matrix calculated by demeaned transpose x demeaned.\n",
    "def compute_covariance_matrix(demeaned):\n",
    "    s_minus_m = np.array(demeaned)\n",
    "    s_minus_m_t = np_demeaned.transpose()\n",
    "    return np.matmul(s_minus_m_t, s_minus_m)/len(demeaned)\n",
    "\n",
    "def expected_portfolio_risk_based_on_stddev (asset_weights, covariance_matrix):\n",
    "    Wt = np.asmatrix(asset_weights)\n",
    "    W = Wt.transpose()\n",
    "    return np.sqrt(Wt.dot(covariance_matrix).dot(W))\n",
    "\n",
    "def expected_portfolio_return(average_closing_prices, asset_weights):\n",
    "    M = np.array(average_closing_prices)\n",
    "    W = np.array(asset_weights)\n",
    "    return M.dot(W)\n",
    "\n",
    "def sharpe_ratio(closing_prices_matrix, asset_weights, risk_free_rate):\n",
    "    average_closing_prices = compute_average(closing_prices_matrix)\n",
    "    demeaned = compute_stocks_demeaned(closing_prices_matrix, average_closing_prices)\n",
    "    cov = compute_covariance_matrix(demeaned)\n",
    "    risk = expected_portfolio_risk_based_on_stddev(asset_weights, cov)\n",
    "    ret = expected_portfolio_return(average_closing_prices, asset_weights)\n",
    "    return (ret - risk_free_rate)/risk"
   ]
  },
  {
   "cell_type": "code",
   "execution_count": null,
   "metadata": {},
   "outputs": [],
   "source": []
  }
 ]
}