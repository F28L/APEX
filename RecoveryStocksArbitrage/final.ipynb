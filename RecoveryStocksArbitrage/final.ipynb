{
 "cells": [
  {
   "cell_type": "code",
   "execution_count": 1,
   "metadata": {},
   "outputs": [],
   "source": [
    "import numpy as np\n",
    "import pandas as pd\n",
    "import sys\n",
    "import gc\n",
    "import joblib\n",
    "import pathlib\n",
    "import json\n",
    "import glob\n",
    "from tqdm.notebook import tqdm\n",
    "\n",
    "# visualize\n",
    "import matplotlib.pyplot as plt\n",
    "import matplotlib.style as style\n",
    "import plotly.express as px\n",
    "import seaborn as sns\n",
    "from matplotlib import pyplot\n",
    "from matplotlib.ticker import ScalarFormatter\n",
    "sns.set_context(\"talk\")\n",
    "style.use('seaborn-colorblind')\n",
    "\n",
    "import plotly.graph_objects as go\n",
    "import yfinance as yf\n",
    "import statistics as st"
   ]
  },
  {
   "cell_type": "markdown",
   "metadata": {},
   "source": [
    "# Introduction:\n",
    "## The Monday Effect\n",
    "According to Investopedia.com, **The Monday Effect** is \"a financial theory that suggests that stock market returns will follow the prevailing trends from the previous Friday when it opens the following Monday.\" Then for a Security A, if A was trending down on Friday January 1st, the intraday percentage change $$\\mathrm{pct\\_change}(A, \\mathrm{''Friday, January, 01''}) < 0,$$ then the Monday Effect implies that the $$\\mathrm{pct\\_change}(A, \\mathrm{''Monday, January, 04''}) < 0.$$\n",
    "\n",
    "## The History of The Monday Effect\n",
    "So I certainly am not the first person to ever look at this effect. **The Monday Effect** is a financial markets anomaly that was originally discovered and researched by Frank Cross in 1973 (Seen here: [\"Frank Cross' Research on The Monday Effect\"](https://dailyspeculations.com/scholarly/faj.v29.n6.67.pdf )). \n",
    "Here's the TLDR:\n",
    "* Cross looked at the Standard & Poor's 500 Composite Index from 1953 to 1970. 1953 is significant because it was the first year the market closed on Saturdays.\n",
    "* The probability that the SP500 Composite Index trended positive on a Monday given it also trended up on the preceding Friday is ~$48.8\\%$\n",
    "* The average percent change of the SP500 Composite on Monday's after a positive trending Friday was $0\\%$\n",
    "* The median percent change of the SP500 Copmositve on Monday's after a positive trending Friday was $0\\%$\n",
    "* The probability that the SP500 Composite Index trended positive on a Monday given it also trended down on the preceding Friday is ~$24.0\\%$\n",
    "* The average percent change of the SP500 Composite on Monday's after a negative trending Friday was $-0.48\\%$\n",
    "* The median percent change of the SP500 Copmositve on Monday's after a negative trending Friday was $-0.40\\%$\n",
    "\n",
    "## What Factors Impact The Monday Effect?\n",
    "To begin, **The Monday Effect**, is not a perfect estimator of where the market will be headed on a Monday. There are so many factors welded deep into the market that dictate where the market goes. These factors include, earnings, breaking news, supply and demand, even global economic and social conditions (just as seen with the COVID-19 pandemic in 2020 and the subsequent high volatility markets since then).\n",
    "\n",
    "However, part of this research will try to find out if we can dig a little deeper and find out if there are predictors built into the market. Frank Cross used the SP500 Composite Index to perform his research. I aim to replicate this trial first with the SPDR S&P 500 ETF Trust, an exchange-traded fund which tracks the S&P 500 stock market index, but using a more recent scope of time. The second goal of this project will be to breakdown the S&P 500 into the securities that form it and to use a Bayesian Classifier Algorithm to see if we can use the trends of each individual seucrity to predict how the overall index will move."
   ]
  },
  {
   "cell_type": "markdown",
   "metadata": {},
   "source": []
  }
 ],
 "metadata": {
  "interpreter": {
   "hash": "40d3a090f54c6569ab1632332b64b2c03c39dcf918b08424e98f38b5ae0af88f"
  },
  "kernelspec": {
   "display_name": "Python 3.8.5 ('base')",
   "language": "python",
   "name": "python3"
  },
  "language_info": {
   "codemirror_mode": {
    "name": "ipython",
    "version": 3
   },
   "file_extension": ".py",
   "mimetype": "text/x-python",
   "name": "python",
   "nbconvert_exporter": "python",
   "pygments_lexer": "ipython3",
   "version": "3.8.5"
  },
  "orig_nbformat": 4
 },
 "nbformat": 4,
 "nbformat_minor": 2
}
