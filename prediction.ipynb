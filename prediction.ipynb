{
 "metadata": {
  "language_info": {
   "codemirror_mode": {
    "name": "ipython",
    "version": 3
   },
   "file_extension": ".py",
   "mimetype": "text/x-python",
   "name": "python",
   "nbconvert_exporter": "python",
   "pygments_lexer": "ipython3",
   "version": "3.8.5"
  },
  "orig_nbformat": 2,
  "kernelspec": {
   "name": "python385jvsc74a57bd0dca0ade3e726a953b501b15e8e990130d2b7799f14cfd9f4271676035ebe5511",
   "display_name": "Python 3.8.5 64-bit ('base': conda)"
  }
 },
 "nbformat": 4,
 "nbformat_minor": 2,
 "cells": [
  {
   "cell_type": "code",
   "execution_count": 27,
   "metadata": {},
   "outputs": [],
   "source": [
    "import yfinance as yf\n",
    "import pandas as pd\n",
    "import numpy as np\n",
    "import matplotlib.pyplot as plt\n",
    "import datetime as dt\n",
    "import statistics"
   ]
  },
  {
   "cell_type": "code",
   "execution_count": 53,
   "metadata": {},
   "outputs": [],
   "source": [
    "# Given array of equities, returning dataframe with historical data dating back \n",
    "def get_closing_price_historical_data(equities, period, interval):\n",
    "    data = {}\n",
    "    for x in equities:\n",
    "        ticker = yf.Ticker(x)\n",
    "        history = ticker.history(period= period, interval= interval)['Close']\n",
    "        data[x] = history\n",
    "    return data\n",
    "\n",
    "# Given a m x n matrix  of m closing prices for n equities, returns an 1 x n \n",
    "# array of average closing prices\n",
    "def compute_average(closing_prices_for_multiple_equities):\n",
    "    # print(closing_prices_for_multiple_equities)\n",
    "    sums = [0] * len(closing_prices_for_multiple_equities[0])\n",
    "    for row in closing_prices_for_multiple_equities:\n",
    "        for i in range(len(row)):\n",
    "            sums[i] += row[i]\n",
    "\n",
    "    avgs = [x/len(closing_prices_for_multiple_equities) for x in sums]\n",
    "    return avgs\n",
    "\n",
    "# Given an m x n matrix of m closing prices for n equities and n averages for n \n",
    "# equities, returns all of the difference of the closing prices and their averages\n",
    "# essentially substracts mean to make the new mean of the data set 0 for each column\n",
    "def compute_stocks_demeaned(closing_prices_matrix, average_closing_prices):\n",
    "    m = len(closing_prices_matrix)\n",
    "    n = len(closing_prices_matrix[0])\n",
    "    demeaned = [[0 for i in range(n)] for j in range(m)]\n",
    "    for i in range(m):\n",
    "        for j in range(n):\n",
    "            demeaned[i][j] = closing_prices_matrix[i][j] - average_closing_prices[j]\n",
    "\n",
    "    return demeaned\n",
    "\n",
    "# Given an m x n matrix of the demeaned closing prices for n equities, returns\n",
    "# the associated covariance matrix calculated by demeaned transpose x demeaned.\n",
    "def compute_covariance_matrix(demeaned):\n",
    "    s_minus_m = np.array(demeaned)\n",
    "    s_minus_m_t = s_minus_m.transpose()\n",
    "    m = len(demeaned)\n",
    "    return np.matmul(s_minus_m_t, s_minus_m)/m\n",
    "\n",
    "def expected_portfolio_risk_based_on_stddev (asset_weights, covariance_matrix):\n",
    "    Wt = np.asmatrix(asset_weights)\n",
    "    W = Wt.transpose()\n",
    "    return np.sqrt(Wt.dot(covariance_matrix).dot(W))\n",
    "\n",
    "def expected_portfolio_return(average_closing_prices, asset_weights):\n",
    "    M = np.array(average_closing_prices)\n",
    "    W = np.array(asset_weights)\n",
    "    return M.dot(W)\n",
    "\n",
    "def sharpe_ratio(closing_prices_matrix, asset_weights, risk_free_rate):\n",
    "    average_closing_prices = compute_average(closing_prices_matrix)\n",
    "    \n",
    "    demeaned = compute_stocks_demeaned(closing_prices_matrix, average_closing_prices)\n",
    "    cov = compute_covariance_matrix(demeaned)\n",
    "    risk = expected_portfolio_risk_based_on_stddev(asset_weights, cov)\n",
    "    ret = expected_portfolio_return(average_closing_prices, asset_weights)\n",
    "    print(risk, ret, risk_free_rate)\n",
    "    return (ret - risk_free_rate)/risk"
   ]
  },
  {
   "cell_type": "code",
   "execution_count": 29,
   "metadata": {},
   "outputs": [],
   "source": [
    "trimmed_senbet = pd.read_excel('Senbet Portfolio.xlsx')\n",
    "trimmed_senbet.columns = ['Ticker', 'Allocation', 'Shares']\n",
    "trimmed_senbet['Ticker'] = trimmed_senbet.apply(lambda x: x['Ticker'].replace('.O', ''), axis = 1)\n",
    "trimmed_senbet['Ticker'] = trimmed_senbet.apply(lambda x: x['Ticker'].replace('.K', ''), axis = 1)\n",
    "trimmed_senbet['Ticker'] = trimmed_senbet.apply(lambda x: x['Ticker'].replace(' ', ''), axis = 1)\n",
    "asset_weights = list(trimmed_senbet['Allocation'])"
   ]
  },
  {
   "cell_type": "code",
   "execution_count": 30,
   "metadata": {},
   "outputs": [],
   "source": [
    "historical_data = get_closing_price_historical_data(trimmed_senbet['Ticker'], '200d', '1d')"
   ]
  },
  {
   "cell_type": "code",
   "execution_count": 34,
   "metadata": {},
   "outputs": [
    {
     "output_type": "execute_result",
     "data": {
      "text/plain": [
       "                   MCD         AMZN        FIVE        TJX        DAN  \\\n",
       "Date                                                                    \n",
       "2020-07-23  194.046616  2986.550049  109.139999  53.188820  12.578026   \n",
       "2020-07-24  195.195847  3008.909912  110.180000  52.690704  12.429231   \n",
       "2020-07-27  197.680984  3055.209961  111.599998  51.883759  12.617703   \n",
       "2020-07-28  192.759842  3000.330078  110.480003  51.584888  12.548265   \n",
       "2020-07-29  192.730377  3033.530029  113.290001  52.401798  12.786336   \n",
       "...                ...          ...         ...        ...        ...   \n",
       "2021-05-03  235.559998  3386.489990  198.830002  72.080002  25.677780   \n",
       "2021-05-04  233.860001  3311.870117  195.970001  70.820000  25.149881   \n",
       "2021-05-05  235.039993  3270.540039  197.550003  71.029999  25.120001   \n",
       "2021-05-06  234.860001  3306.370117  192.360001  71.760002  26.100000   \n",
       "2021-05-07  234.839996  3291.610107  196.500000  73.779999  26.740000   \n",
       "\n",
       "                    PG         STZ          EL        COST         ZTS  ...  \\\n",
       "Date                                                                    ...   \n",
       "2020-07-23  123.918304  176.338181  192.905685  315.196838  143.453598  ...   \n",
       "2020-07-24  123.721855  177.175522  190.570129  314.877899  143.602936  ...   \n",
       "2020-07-27  124.075462  176.229797  191.653427  316.636993  146.291382  ...   \n",
       "2020-07-28  125.607742  176.850433  191.414917  316.608002  145.355408  ...   \n",
       "2020-07-29  126.030106  178.909363  189.705505  315.225861  146.958511  ...   \n",
       "...                ...         ...         ...         ...         ...  ...   \n",
       "2021-05-03  135.000000  243.020004  288.929993  379.320007  175.240005  ...   \n",
       "2021-05-04  134.539993  240.000000  302.109985  375.290009  173.770004  ...   \n",
       "2021-05-05  133.460007  239.699997  294.209991  372.500000  173.860001  ...   \n",
       "2021-05-06  135.139999  241.619995  299.350006  382.760010  167.520004  ...   \n",
       "2021-05-07  135.149994  240.919998  303.350006  384.320007  171.550003  ...   \n",
       "\n",
       "                  NEE        EQIX         ARE         PXD        BKR  \\\n",
       "Date                                                                   \n",
       "2020-07-23  69.200691  728.419434  165.299011   99.192329  16.188866   \n",
       "2020-07-24  69.023354  729.111633  165.328445   98.226616  15.878473   \n",
       "2020-07-27  68.378075  745.535156  167.103836   97.083527  15.839675   \n",
       "2020-07-28  68.971642  744.081604  170.468277   95.142258  15.393486   \n",
       "2020-07-29  69.316444  761.355530  172.694901   97.103241  15.335289   \n",
       "...               ...         ...         ...         ...        ...   \n",
       "2021-05-03  76.699997  711.049988  179.960007  158.660004  21.690001   \n",
       "2021-05-04  75.690002  710.030029  180.919998  158.449997  21.570000   \n",
       "2021-05-05  73.779999  693.000000  175.500000  164.339996  22.600000   \n",
       "2021-05-06  74.010002  699.080017  176.500000  164.940002  23.070000   \n",
       "2021-05-07  74.529999  713.450012  178.139999  167.830002  24.629999   \n",
       "\n",
       "                   ICE          GS         AXP       KBWB        BAM  \n",
       "Date                                                                  \n",
       "2020-07-23   95.025688  199.918991   95.644043  38.295872  33.586208  \n",
       "2020-07-24   95.491646  198.392654   94.318268  38.129070  33.189907  \n",
       "2020-07-27   93.726959  199.918991   94.773384  37.559978  33.397961  \n",
       "2020-07-28   92.120888  198.540359   93.417923  37.432430  33.744724  \n",
       "2020-07-29   93.489029  199.485703   95.663841  38.619667  33.606022  \n",
       "...                ...         ...         ...        ...        ...  \n",
       "2021-05-03  115.459999  350.160004  154.800003  65.760002  45.730000  \n",
       "2021-05-04  114.540001  349.839996  154.529999  66.699997  45.259998  \n",
       "2021-05-05  114.720001  357.619995  156.389999  67.400002  45.439999  \n",
       "2021-05-06  113.620003  365.970001  156.880005  68.059998  45.740002  \n",
       "2021-05-07  114.809998  370.890015  158.979996  68.370003  46.439999  \n",
       "\n",
       "[200 rows x 45 columns]"
      ],
      "text/html": "<div>\n<style scoped>\n    .dataframe tbody tr th:only-of-type {\n        vertical-align: middle;\n    }\n\n    .dataframe tbody tr th {\n        vertical-align: top;\n    }\n\n    .dataframe thead th {\n        text-align: right;\n    }\n</style>\n<table border=\"1\" class=\"dataframe\">\n  <thead>\n    <tr style=\"text-align: right;\">\n      <th></th>\n      <th>MCD</th>\n      <th>AMZN</th>\n      <th>FIVE</th>\n      <th>TJX</th>\n      <th>DAN</th>\n      <th>PG</th>\n      <th>STZ</th>\n      <th>EL</th>\n      <th>COST</th>\n      <th>ZTS</th>\n      <th>...</th>\n      <th>NEE</th>\n      <th>EQIX</th>\n      <th>ARE</th>\n      <th>PXD</th>\n      <th>BKR</th>\n      <th>ICE</th>\n      <th>GS</th>\n      <th>AXP</th>\n      <th>KBWB</th>\n      <th>BAM</th>\n    </tr>\n    <tr>\n      <th>Date</th>\n      <th></th>\n      <th></th>\n      <th></th>\n      <th></th>\n      <th></th>\n      <th></th>\n      <th></th>\n      <th></th>\n      <th></th>\n      <th></th>\n      <th></th>\n      <th></th>\n      <th></th>\n      <th></th>\n      <th></th>\n      <th></th>\n      <th></th>\n      <th></th>\n      <th></th>\n      <th></th>\n      <th></th>\n    </tr>\n  </thead>\n  <tbody>\n    <tr>\n      <th>2020-07-23</th>\n      <td>194.046616</td>\n      <td>2986.550049</td>\n      <td>109.139999</td>\n      <td>53.188820</td>\n      <td>12.578026</td>\n      <td>123.918304</td>\n      <td>176.338181</td>\n      <td>192.905685</td>\n      <td>315.196838</td>\n      <td>143.453598</td>\n      <td>...</td>\n      <td>69.200691</td>\n      <td>728.419434</td>\n      <td>165.299011</td>\n      <td>99.192329</td>\n      <td>16.188866</td>\n      <td>95.025688</td>\n      <td>199.918991</td>\n      <td>95.644043</td>\n      <td>38.295872</td>\n      <td>33.586208</td>\n    </tr>\n    <tr>\n      <th>2020-07-24</th>\n      <td>195.195847</td>\n      <td>3008.909912</td>\n      <td>110.180000</td>\n      <td>52.690704</td>\n      <td>12.429231</td>\n      <td>123.721855</td>\n      <td>177.175522</td>\n      <td>190.570129</td>\n      <td>314.877899</td>\n      <td>143.602936</td>\n      <td>...</td>\n      <td>69.023354</td>\n      <td>729.111633</td>\n      <td>165.328445</td>\n      <td>98.226616</td>\n      <td>15.878473</td>\n      <td>95.491646</td>\n      <td>198.392654</td>\n      <td>94.318268</td>\n      <td>38.129070</td>\n      <td>33.189907</td>\n    </tr>\n    <tr>\n      <th>2020-07-27</th>\n      <td>197.680984</td>\n      <td>3055.209961</td>\n      <td>111.599998</td>\n      <td>51.883759</td>\n      <td>12.617703</td>\n      <td>124.075462</td>\n      <td>176.229797</td>\n      <td>191.653427</td>\n      <td>316.636993</td>\n      <td>146.291382</td>\n      <td>...</td>\n      <td>68.378075</td>\n      <td>745.535156</td>\n      <td>167.103836</td>\n      <td>97.083527</td>\n      <td>15.839675</td>\n      <td>93.726959</td>\n      <td>199.918991</td>\n      <td>94.773384</td>\n      <td>37.559978</td>\n      <td>33.397961</td>\n    </tr>\n    <tr>\n      <th>2020-07-28</th>\n      <td>192.759842</td>\n      <td>3000.330078</td>\n      <td>110.480003</td>\n      <td>51.584888</td>\n      <td>12.548265</td>\n      <td>125.607742</td>\n      <td>176.850433</td>\n      <td>191.414917</td>\n      <td>316.608002</td>\n      <td>145.355408</td>\n      <td>...</td>\n      <td>68.971642</td>\n      <td>744.081604</td>\n      <td>170.468277</td>\n      <td>95.142258</td>\n      <td>15.393486</td>\n      <td>92.120888</td>\n      <td>198.540359</td>\n      <td>93.417923</td>\n      <td>37.432430</td>\n      <td>33.744724</td>\n    </tr>\n    <tr>\n      <th>2020-07-29</th>\n      <td>192.730377</td>\n      <td>3033.530029</td>\n      <td>113.290001</td>\n      <td>52.401798</td>\n      <td>12.786336</td>\n      <td>126.030106</td>\n      <td>178.909363</td>\n      <td>189.705505</td>\n      <td>315.225861</td>\n      <td>146.958511</td>\n      <td>...</td>\n      <td>69.316444</td>\n      <td>761.355530</td>\n      <td>172.694901</td>\n      <td>97.103241</td>\n      <td>15.335289</td>\n      <td>93.489029</td>\n      <td>199.485703</td>\n      <td>95.663841</td>\n      <td>38.619667</td>\n      <td>33.606022</td>\n    </tr>\n    <tr>\n      <th>...</th>\n      <td>...</td>\n      <td>...</td>\n      <td>...</td>\n      <td>...</td>\n      <td>...</td>\n      <td>...</td>\n      <td>...</td>\n      <td>...</td>\n      <td>...</td>\n      <td>...</td>\n      <td>...</td>\n      <td>...</td>\n      <td>...</td>\n      <td>...</td>\n      <td>...</td>\n      <td>...</td>\n      <td>...</td>\n      <td>...</td>\n      <td>...</td>\n      <td>...</td>\n      <td>...</td>\n    </tr>\n    <tr>\n      <th>2021-05-03</th>\n      <td>235.559998</td>\n      <td>3386.489990</td>\n      <td>198.830002</td>\n      <td>72.080002</td>\n      <td>25.677780</td>\n      <td>135.000000</td>\n      <td>243.020004</td>\n      <td>288.929993</td>\n      <td>379.320007</td>\n      <td>175.240005</td>\n      <td>...</td>\n      <td>76.699997</td>\n      <td>711.049988</td>\n      <td>179.960007</td>\n      <td>158.660004</td>\n      <td>21.690001</td>\n      <td>115.459999</td>\n      <td>350.160004</td>\n      <td>154.800003</td>\n      <td>65.760002</td>\n      <td>45.730000</td>\n    </tr>\n    <tr>\n      <th>2021-05-04</th>\n      <td>233.860001</td>\n      <td>3311.870117</td>\n      <td>195.970001</td>\n      <td>70.820000</td>\n      <td>25.149881</td>\n      <td>134.539993</td>\n      <td>240.000000</td>\n      <td>302.109985</td>\n      <td>375.290009</td>\n      <td>173.770004</td>\n      <td>...</td>\n      <td>75.690002</td>\n      <td>710.030029</td>\n      <td>180.919998</td>\n      <td>158.449997</td>\n      <td>21.570000</td>\n      <td>114.540001</td>\n      <td>349.839996</td>\n      <td>154.529999</td>\n      <td>66.699997</td>\n      <td>45.259998</td>\n    </tr>\n    <tr>\n      <th>2021-05-05</th>\n      <td>235.039993</td>\n      <td>3270.540039</td>\n      <td>197.550003</td>\n      <td>71.029999</td>\n      <td>25.120001</td>\n      <td>133.460007</td>\n      <td>239.699997</td>\n      <td>294.209991</td>\n      <td>372.500000</td>\n      <td>173.860001</td>\n      <td>...</td>\n      <td>73.779999</td>\n      <td>693.000000</td>\n      <td>175.500000</td>\n      <td>164.339996</td>\n      <td>22.600000</td>\n      <td>114.720001</td>\n      <td>357.619995</td>\n      <td>156.389999</td>\n      <td>67.400002</td>\n      <td>45.439999</td>\n    </tr>\n    <tr>\n      <th>2021-05-06</th>\n      <td>234.860001</td>\n      <td>3306.370117</td>\n      <td>192.360001</td>\n      <td>71.760002</td>\n      <td>26.100000</td>\n      <td>135.139999</td>\n      <td>241.619995</td>\n      <td>299.350006</td>\n      <td>382.760010</td>\n      <td>167.520004</td>\n      <td>...</td>\n      <td>74.010002</td>\n      <td>699.080017</td>\n      <td>176.500000</td>\n      <td>164.940002</td>\n      <td>23.070000</td>\n      <td>113.620003</td>\n      <td>365.970001</td>\n      <td>156.880005</td>\n      <td>68.059998</td>\n      <td>45.740002</td>\n    </tr>\n    <tr>\n      <th>2021-05-07</th>\n      <td>234.839996</td>\n      <td>3291.610107</td>\n      <td>196.500000</td>\n      <td>73.779999</td>\n      <td>26.740000</td>\n      <td>135.149994</td>\n      <td>240.919998</td>\n      <td>303.350006</td>\n      <td>384.320007</td>\n      <td>171.550003</td>\n      <td>...</td>\n      <td>74.529999</td>\n      <td>713.450012</td>\n      <td>178.139999</td>\n      <td>167.830002</td>\n      <td>24.629999</td>\n      <td>114.809998</td>\n      <td>370.890015</td>\n      <td>158.979996</td>\n      <td>68.370003</td>\n      <td>46.439999</td>\n    </tr>\n  </tbody>\n</table>\n<p>200 rows × 45 columns</p>\n</div>"
     },
     "metadata": {},
     "execution_count": 34
    }
   ],
   "source": [
    "portfolio = pd.DataFrame(historical_data)\n",
    "portfolio"
   ]
  },
  {
   "cell_type": "code",
   "execution_count": 32,
   "metadata": {},
   "outputs": [],
   "source": [
    "# # Convert closing prices to total equity based on number of shares owned\n",
    "# for index, x in trimmed_senbet.iterrows():\n",
    "#     portfolio[x.Ticker]*=x.Shares"
   ]
  },
  {
   "cell_type": "code",
   "execution_count": 55,
   "metadata": {},
   "outputs": [
    {
     "output_type": "execute_result",
     "data": {
      "text/plain": [
       "                 MCD      AMZN      FIVE       TJX       DAN        PG  \\\n",
       "Date                                                                     \n",
       "2020-07-23  0.000000  0.000000  0.000000  0.000000  0.000000  0.000000   \n",
       "2020-07-24  0.588758  0.743122  0.943911 -0.945358 -1.197139 -0.158783   \n",
       "2020-07-27  1.257146  1.515446  1.272400 -1.555296  1.493717  0.284994   \n",
       "2020-07-28 -2.552992 -1.829128 -1.013754 -0.579375 -0.553367  1.219893   \n",
       "2020-07-29 -0.015288  1.094433  2.480358  1.558935  1.861913  0.335129   \n",
       "...              ...       ...       ...       ...       ...       ...   \n",
       "2021-05-03 -0.220752 -2.389788 -1.227180  1.498338  1.861913  1.170372   \n",
       "2021-05-04 -0.726929 -2.253104 -1.459407 -1.779161 -2.099011 -0.341911   \n",
       "2021-05-05  0.502039 -1.263708  0.799798  0.295648 -0.118951 -0.809221   \n",
       "2021-05-06 -0.076638  1.083668 -2.698067  1.017284  3.754787  1.243150   \n",
       "2021-05-07 -0.008518 -0.448413  2.106870  2.737865  2.393416  0.007395   \n",
       "\n",
       "                 STZ        EL      COST       ZTS  ...       NEE      EQIX  \\\n",
       "Date                                                ...                       \n",
       "2020-07-23  0.000000  0.000000  0.000000  0.000000  ...  0.000000  0.000000   \n",
       "2020-07-24  0.472606 -1.225562 -0.101290  0.103994  ... -0.256924  0.094937   \n",
       "2020-07-27 -0.536643  0.565238  0.555556  1.837734  ... -0.943693  2.202917   \n",
       "2020-07-28  0.350938 -0.124604 -0.009157 -0.643921  ...  0.860596 -0.195348   \n",
       "2020-07-29  1.150823 -0.901087 -0.438461  1.090855  ...  0.497433  2.268838   \n",
       "...              ...       ...       ...       ...  ...       ...       ...   \n",
       "2021-05-03  1.423748 -8.607620  1.906045  1.261131  ... -1.056069 -1.365589   \n",
       "2021-05-04 -1.258335  4.362647 -1.073836 -0.845946  ... -1.334383 -0.143650   \n",
       "2021-05-05 -0.125158 -2.685155 -0.748996  0.051764  ... -2.588782 -2.457436   \n",
       "2021-05-06  0.794635  1.717058  2.680533 -3.784620  ...  0.310773  0.869717   \n",
       "2021-05-07 -0.290552  1.318609  0.405911  2.349169  ...  0.697701  2.014156   \n",
       "\n",
       "                 ARE       PXD       BKR       ICE        GS       AXP  \\\n",
       "Date                                                                     \n",
       "2020-07-23  0.000000  0.000000  0.000000  0.000000  0.000000  0.000000   \n",
       "2020-07-24  0.017803 -0.983149 -1.954800  0.487956 -0.769351 -1.405640   \n",
       "2020-07-27  1.062448 -1.177429 -0.244944 -1.882795  0.763478  0.480215   \n",
       "2020-07-28  1.973646 -2.040386 -2.898557 -1.743439 -0.694384 -1.450965   \n",
       "2020-07-29  1.289339  2.019483 -0.379497  1.463424  0.473890  2.347719   \n",
       "...              ...       ...       ...       ...       ...       ...   \n",
       "2021-05-03 -0.633474  3.044247  7.422778 -1.948727  0.488346  0.936691   \n",
       "2021-05-04  0.530617 -0.132538 -0.556332 -0.803211 -0.091472 -0.174726   \n",
       "2021-05-05 -3.088318  3.584033  4.557525  0.156904  2.175493  1.189335   \n",
       "2021-05-06  0.566572  0.363772  2.037275 -0.968138  2.281609  0.312344   \n",
       "2021-05-07  0.920624  1.721980  6.333737  1.036491  1.326542  1.320915   \n",
       "\n",
       "                KBWB       BAM  \n",
       "Date                            \n",
       "2020-07-23  0.000000  0.000000  \n",
       "2020-07-24 -0.437465 -1.194042  \n",
       "2020-07-27 -1.515155  0.622953  \n",
       "2020-07-28 -0.340743  1.027608  \n",
       "2020-07-29  3.074177 -0.412731  \n",
       "...              ...       ...  \n",
       "2021-05-03  0.182486  0.328007  \n",
       "2021-05-04  1.409288 -1.038447  \n",
       "2021-05-05  1.038582  0.396127  \n",
       "2021-05-06  0.969727  0.655888  \n",
       "2021-05-07  0.453423  1.507315  \n",
       "\n",
       "[200 rows x 45 columns]"
      ],
      "text/html": "<div>\n<style scoped>\n    .dataframe tbody tr th:only-of-type {\n        vertical-align: middle;\n    }\n\n    .dataframe tbody tr th {\n        vertical-align: top;\n    }\n\n    .dataframe thead th {\n        text-align: right;\n    }\n</style>\n<table border=\"1\" class=\"dataframe\">\n  <thead>\n    <tr style=\"text-align: right;\">\n      <th></th>\n      <th>MCD</th>\n      <th>AMZN</th>\n      <th>FIVE</th>\n      <th>TJX</th>\n      <th>DAN</th>\n      <th>PG</th>\n      <th>STZ</th>\n      <th>EL</th>\n      <th>COST</th>\n      <th>ZTS</th>\n      <th>...</th>\n      <th>NEE</th>\n      <th>EQIX</th>\n      <th>ARE</th>\n      <th>PXD</th>\n      <th>BKR</th>\n      <th>ICE</th>\n      <th>GS</th>\n      <th>AXP</th>\n      <th>KBWB</th>\n      <th>BAM</th>\n    </tr>\n    <tr>\n      <th>Date</th>\n      <th></th>\n      <th></th>\n      <th></th>\n      <th></th>\n      <th></th>\n      <th></th>\n      <th></th>\n      <th></th>\n      <th></th>\n      <th></th>\n      <th></th>\n      <th></th>\n      <th></th>\n      <th></th>\n      <th></th>\n      <th></th>\n      <th></th>\n      <th></th>\n      <th></th>\n      <th></th>\n      <th></th>\n    </tr>\n  </thead>\n  <tbody>\n    <tr>\n      <th>2020-07-23</th>\n      <td>0.000000</td>\n      <td>0.000000</td>\n      <td>0.000000</td>\n      <td>0.000000</td>\n      <td>0.000000</td>\n      <td>0.000000</td>\n      <td>0.000000</td>\n      <td>0.000000</td>\n      <td>0.000000</td>\n      <td>0.000000</td>\n      <td>...</td>\n      <td>0.000000</td>\n      <td>0.000000</td>\n      <td>0.000000</td>\n      <td>0.000000</td>\n      <td>0.000000</td>\n      <td>0.000000</td>\n      <td>0.000000</td>\n      <td>0.000000</td>\n      <td>0.000000</td>\n      <td>0.000000</td>\n    </tr>\n    <tr>\n      <th>2020-07-24</th>\n      <td>0.588758</td>\n      <td>0.743122</td>\n      <td>0.943911</td>\n      <td>-0.945358</td>\n      <td>-1.197139</td>\n      <td>-0.158783</td>\n      <td>0.472606</td>\n      <td>-1.225562</td>\n      <td>-0.101290</td>\n      <td>0.103994</td>\n      <td>...</td>\n      <td>-0.256924</td>\n      <td>0.094937</td>\n      <td>0.017803</td>\n      <td>-0.983149</td>\n      <td>-1.954800</td>\n      <td>0.487956</td>\n      <td>-0.769351</td>\n      <td>-1.405640</td>\n      <td>-0.437465</td>\n      <td>-1.194042</td>\n    </tr>\n    <tr>\n      <th>2020-07-27</th>\n      <td>1.257146</td>\n      <td>1.515446</td>\n      <td>1.272400</td>\n      <td>-1.555296</td>\n      <td>1.493717</td>\n      <td>0.284994</td>\n      <td>-0.536643</td>\n      <td>0.565238</td>\n      <td>0.555556</td>\n      <td>1.837734</td>\n      <td>...</td>\n      <td>-0.943693</td>\n      <td>2.202917</td>\n      <td>1.062448</td>\n      <td>-1.177429</td>\n      <td>-0.244944</td>\n      <td>-1.882795</td>\n      <td>0.763478</td>\n      <td>0.480215</td>\n      <td>-1.515155</td>\n      <td>0.622953</td>\n    </tr>\n    <tr>\n      <th>2020-07-28</th>\n      <td>-2.552992</td>\n      <td>-1.829128</td>\n      <td>-1.013754</td>\n      <td>-0.579375</td>\n      <td>-0.553367</td>\n      <td>1.219893</td>\n      <td>0.350938</td>\n      <td>-0.124604</td>\n      <td>-0.009157</td>\n      <td>-0.643921</td>\n      <td>...</td>\n      <td>0.860596</td>\n      <td>-0.195348</td>\n      <td>1.973646</td>\n      <td>-2.040386</td>\n      <td>-2.898557</td>\n      <td>-1.743439</td>\n      <td>-0.694384</td>\n      <td>-1.450965</td>\n      <td>-0.340743</td>\n      <td>1.027608</td>\n    </tr>\n    <tr>\n      <th>2020-07-29</th>\n      <td>-0.015288</td>\n      <td>1.094433</td>\n      <td>2.480358</td>\n      <td>1.558935</td>\n      <td>1.861913</td>\n      <td>0.335129</td>\n      <td>1.150823</td>\n      <td>-0.901087</td>\n      <td>-0.438461</td>\n      <td>1.090855</td>\n      <td>...</td>\n      <td>0.497433</td>\n      <td>2.268838</td>\n      <td>1.289339</td>\n      <td>2.019483</td>\n      <td>-0.379497</td>\n      <td>1.463424</td>\n      <td>0.473890</td>\n      <td>2.347719</td>\n      <td>3.074177</td>\n      <td>-0.412731</td>\n    </tr>\n    <tr>\n      <th>...</th>\n      <td>...</td>\n      <td>...</td>\n      <td>...</td>\n      <td>...</td>\n      <td>...</td>\n      <td>...</td>\n      <td>...</td>\n      <td>...</td>\n      <td>...</td>\n      <td>...</td>\n      <td>...</td>\n      <td>...</td>\n      <td>...</td>\n      <td>...</td>\n      <td>...</td>\n      <td>...</td>\n      <td>...</td>\n      <td>...</td>\n      <td>...</td>\n      <td>...</td>\n      <td>...</td>\n    </tr>\n    <tr>\n      <th>2021-05-03</th>\n      <td>-0.220752</td>\n      <td>-2.389788</td>\n      <td>-1.227180</td>\n      <td>1.498338</td>\n      <td>1.861913</td>\n      <td>1.170372</td>\n      <td>1.423748</td>\n      <td>-8.607620</td>\n      <td>1.906045</td>\n      <td>1.261131</td>\n      <td>...</td>\n      <td>-1.056069</td>\n      <td>-1.365589</td>\n      <td>-0.633474</td>\n      <td>3.044247</td>\n      <td>7.422778</td>\n      <td>-1.948727</td>\n      <td>0.488346</td>\n      <td>0.936691</td>\n      <td>0.182486</td>\n      <td>0.328007</td>\n    </tr>\n    <tr>\n      <th>2021-05-04</th>\n      <td>-0.726929</td>\n      <td>-2.253104</td>\n      <td>-1.459407</td>\n      <td>-1.779161</td>\n      <td>-2.099011</td>\n      <td>-0.341911</td>\n      <td>-1.258335</td>\n      <td>4.362647</td>\n      <td>-1.073836</td>\n      <td>-0.845946</td>\n      <td>...</td>\n      <td>-1.334383</td>\n      <td>-0.143650</td>\n      <td>0.530617</td>\n      <td>-0.132538</td>\n      <td>-0.556332</td>\n      <td>-0.803211</td>\n      <td>-0.091472</td>\n      <td>-0.174726</td>\n      <td>1.409288</td>\n      <td>-1.038447</td>\n    </tr>\n    <tr>\n      <th>2021-05-05</th>\n      <td>0.502039</td>\n      <td>-1.263708</td>\n      <td>0.799798</td>\n      <td>0.295648</td>\n      <td>-0.118951</td>\n      <td>-0.809221</td>\n      <td>-0.125158</td>\n      <td>-2.685155</td>\n      <td>-0.748996</td>\n      <td>0.051764</td>\n      <td>...</td>\n      <td>-2.588782</td>\n      <td>-2.457436</td>\n      <td>-3.088318</td>\n      <td>3.584033</td>\n      <td>4.557525</td>\n      <td>0.156904</td>\n      <td>2.175493</td>\n      <td>1.189335</td>\n      <td>1.038582</td>\n      <td>0.396127</td>\n    </tr>\n    <tr>\n      <th>2021-05-06</th>\n      <td>-0.076638</td>\n      <td>1.083668</td>\n      <td>-2.698067</td>\n      <td>1.017284</td>\n      <td>3.754787</td>\n      <td>1.243150</td>\n      <td>0.794635</td>\n      <td>1.717058</td>\n      <td>2.680533</td>\n      <td>-3.784620</td>\n      <td>...</td>\n      <td>0.310773</td>\n      <td>0.869717</td>\n      <td>0.566572</td>\n      <td>0.363772</td>\n      <td>2.037275</td>\n      <td>-0.968138</td>\n      <td>2.281609</td>\n      <td>0.312344</td>\n      <td>0.969727</td>\n      <td>0.655888</td>\n    </tr>\n    <tr>\n      <th>2021-05-07</th>\n      <td>-0.008518</td>\n      <td>-0.448413</td>\n      <td>2.106870</td>\n      <td>2.737865</td>\n      <td>2.393416</td>\n      <td>0.007395</td>\n      <td>-0.290552</td>\n      <td>1.318609</td>\n      <td>0.405911</td>\n      <td>2.349169</td>\n      <td>...</td>\n      <td>0.697701</td>\n      <td>2.014156</td>\n      <td>0.920624</td>\n      <td>1.721980</td>\n      <td>6.333737</td>\n      <td>1.036491</td>\n      <td>1.326542</td>\n      <td>1.320915</td>\n      <td>0.453423</td>\n      <td>1.507315</td>\n    </tr>\n  </tbody>\n</table>\n<p>200 rows × 45 columns</p>\n</div>"
     },
     "metadata": {},
     "execution_count": 55
    }
   ],
   "source": [
    "for sym in portfolio.columns:\n",
    "    data = list(portfolio[sym])\n",
    "    pct_change = []\n",
    "    for i in range(1, len(data)):\n",
    "        curr = data[i]\n",
    "        yester = data[i-1]\n",
    "        delta = curr-yester\n",
    "        pct_change.append(delta/curr * 100)\n",
    "    pct_change.insert(0, 0)\n",
    "    portfolio[sym] = pct_change\n",
    "\n",
    "portfolio"
   ]
  },
  {
   "cell_type": "code",
   "execution_count": 56,
   "metadata": {},
   "outputs": [
    {
     "output_type": "stream",
     "name": "stdout",
     "text": [
      "                 MCD      AMZN      FIVE       TJX       DAN        PG  \\\nDate                                                                     \n2020-07-23  0.000000  0.000000  0.000000  0.000000  0.000000  0.000000   \n2020-07-24  0.588758  0.743122  0.943911 -0.945358 -1.197139 -0.158783   \n2020-07-27  1.257146  1.515446  1.272400 -1.555296  1.493717  0.284994   \n2020-07-28 -2.552992 -1.829128 -1.013754 -0.579375 -0.553367  1.219893   \n2020-07-29 -0.015288  1.094433  2.480358  1.558935  1.861913  0.335129   \n...              ...       ...       ...       ...       ...       ...   \n2021-05-03 -0.220752 -2.389788 -1.227180  1.498338  1.861913  1.170372   \n2021-05-04 -0.726929 -2.253104 -1.459407 -1.779161 -2.099011 -0.341911   \n2021-05-05  0.502039 -1.263708  0.799798  0.295648 -0.118951 -0.809221   \n2021-05-06 -0.076638  1.083668 -2.698067  1.017284  3.754787  1.243150   \n2021-05-07 -0.008518 -0.448413  2.106870  2.737865  2.393416  0.007395   \n\n                 STZ        EL      COST       ZTS  ...       NEE      EQIX  \\\nDate                                                ...                       \n2020-07-23  0.000000  0.000000  0.000000  0.000000  ...  0.000000  0.000000   \n2020-07-24  0.472606 -1.225562 -0.101290  0.103994  ... -0.256924  0.094937   \n2020-07-27 -0.536643  0.565238  0.555556  1.837734  ... -0.943693  2.202917   \n2020-07-28  0.350938 -0.124604 -0.009157 -0.643921  ...  0.860596 -0.195348   \n2020-07-29  1.150823 -0.901087 -0.438461  1.090855  ...  0.497433  2.268838   \n...              ...       ...       ...       ...  ...       ...       ...   \n2021-05-03  1.423748 -8.607620  1.906045  1.261131  ... -1.056069 -1.365589   \n2021-05-04 -1.258335  4.362647 -1.073836 -0.845946  ... -1.334383 -0.143650   \n2021-05-05 -0.125158 -2.685155 -0.748996  0.051764  ... -2.588782 -2.457436   \n2021-05-06  0.794635  1.717058  2.680533 -3.784620  ...  0.310773  0.869717   \n2021-05-07 -0.290552  1.318609  0.405911  2.349169  ...  0.697701  2.014156   \n\n                 ARE       PXD       BKR       ICE        GS       AXP  \\\nDate                                                                     \n2020-07-23  0.000000  0.000000  0.000000  0.000000  0.000000  0.000000   \n2020-07-24  0.017803 -0.983149 -1.954800  0.487956 -0.769351 -1.405640   \n2020-07-27  1.062448 -1.177429 -0.244944 -1.882795  0.763478  0.480215   \n2020-07-28  1.973646 -2.040386 -2.898557 -1.743439 -0.694384 -1.450965   \n2020-07-29  1.289339  2.019483 -0.379497  1.463424  0.473890  2.347719   \n...              ...       ...       ...       ...       ...       ...   \n2021-05-03 -0.633474  3.044247  7.422778 -1.948727  0.488346  0.936691   \n2021-05-04  0.530617 -0.132538 -0.556332 -0.803211 -0.091472 -0.174726   \n2021-05-05 -3.088318  3.584033  4.557525  0.156904  2.175493  1.189335   \n2021-05-06  0.566572  0.363772  2.037275 -0.968138  2.281609  0.312344   \n2021-05-07  0.920624  1.721980  6.333737  1.036491  1.326542  1.320915   \n\n                KBWB       BAM  \nDate                            \n2020-07-23  0.000000  0.000000  \n2020-07-24 -0.437465 -1.194042  \n2020-07-27 -1.515155  0.622953  \n2020-07-28 -0.340743  1.027608  \n2020-07-29  3.074177 -0.412731  \n...              ...       ...  \n2021-05-03  0.182486  0.328007  \n2021-05-04  1.409288 -1.038447  \n2021-05-05  1.038582  0.396127  \n2021-05-06  0.969727  0.655888  \n2021-05-07  0.453423  1.507315  \n\n[200 rows x 45 columns]\n[0.0211, 0.0246, 0.0213, 0.0197, 0.0266, 0.0212, 0.0146, 0.0204, 0.0201, 0.027, 0.0242, 0.0225, 0.0248, 0.0238, 0.0282, 0.0296, 0.0237, 0.0264, 0.0228, 0.0268, 0.0331, 0.0246, 0.0232, 0.0284, 0.0259, 0.025, 0.0202, 0.0208, 0.0109, 0.0138, 0.03, 0.0308, 0.0239, 0.03, 0.0138, 0.0136, 0.0162, 0.0098, 0.0156, 0.0122, 0.022, 0.0216, 0.0221, 0.0224, 0.0222]\n"
     ]
    }
   ],
   "source": [
    "print(portfolio)\n",
    "print(asset_weights)"
   ]
  },
  {
   "cell_type": "code",
   "execution_count": 57,
   "metadata": {},
   "outputs": [
    {
     "output_type": "stream",
     "name": "stdout",
     "text": [
      "[[1.02251943]] 0.1281540572175306 0.014\n"
     ]
    },
    {
     "output_type": "execute_result",
     "data": {
      "text/plain": [
       "matrix([[0.11163999]])"
      ]
     },
     "metadata": {},
     "execution_count": 57
    }
   ],
   "source": [
    "sharpe_ratio(portfolio.to_numpy(), asset_weights, 0.014)"
   ]
  },
  {
   "cell_type": "code",
   "execution_count": 52,
   "metadata": {},
   "outputs": [
    {
     "output_type": "execute_result",
     "data": {
      "text/plain": [
       "1.0015"
      ]
     },
     "metadata": {},
     "execution_count": 52
    }
   ],
   "source": []
  },
  {
   "cell_type": "code",
   "execution_count": null,
   "metadata": {},
   "outputs": [],
   "source": []
  }
 ]
}