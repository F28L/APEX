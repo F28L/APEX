{
 "metadata": {
  "language_info": {
   "codemirror_mode": {
    "name": "ipython",
    "version": 3
   },
   "file_extension": ".py",
   "mimetype": "text/x-python",
   "name": "python",
   "nbconvert_exporter": "python",
   "pygments_lexer": "ipython3",
   "version": "3.8.5"
  },
  "orig_nbformat": 2,
  "kernelspec": {
   "name": "python385jvsc74a57bd0dca0ade3e726a953b501b15e8e990130d2b7799f14cfd9f4271676035ebe5511",
   "display_name": "Python 3.8.5 64-bit ('base': conda)"
  }
 },
 "nbformat": 4,
 "nbformat_minor": 2,
 "cells": [
  {
   "cell_type": "code",
   "execution_count": 1,
   "metadata": {},
   "outputs": [],
   "source": [
    "import yfinance as yf\n",
    "import pandas as pd\n",
    "import numpy as np\n",
    "import matplotlib.pyplot as plt\n",
    "import datetime as dt"
   ]
  },
  {
   "cell_type": "code",
   "execution_count": 2,
   "metadata": {},
   "outputs": [],
   "source": [
    "# Given a m x n matrix  of m closing prices for n equities, returns an 1 x n \n",
    "# array of average closing prices\n",
    "def compute_average(closing_prices_for_multiple_equities):\n",
    "  sums = [0] * len(closing_prices_for_multiple_equities[0])\n",
    "  for row in closing_prices_for_multiple_equities:\n",
    "    for i in range(len(row)):\n",
    "      sums[i] += row[i]\n",
    "\n",
    "  avgs = [x/len(closing_prices_for_multiple_equities) for x in sums]\n",
    "  return avgs"
   ]
  },
  {
   "cell_type": "code",
   "execution_count": 3,
   "metadata": {},
   "outputs": [],
   "source": [
    "# Given an m x n matrix of m closing prices for n equities and n averages for n \n",
    "# equities, returns all of the difference of the closing prices and their averages\n",
    "# essentially substracts mean to make the new mean of the data set 0 for each column\n",
    "def compute_stocks_demeaned(closing_prices_matrix, average_closing_prices):\n",
    "  m = len(closing_prices_matrix)\n",
    "  n = len(closing_prices_matrix[0])\n",
    "  demeaned = [[0 for i in range(n)] for j in range(m)]\n",
    "  for i in range(len(closing_prices_matrix)):\n",
    "    for j in range(len(closing_prices_matrix[i])):\n",
    "      demeaned[i][j] = closing_prices_matrix[i][j] - average_closing_prices[j]\n",
    "\n",
    "  return demeaned"
   ]
  },
  {
   "cell_type": "code",
   "execution_count": 4,
   "metadata": {},
   "outputs": [],
   "source": [
    "# Given an m x n matrix of the demeaned closing prices for n equities, returns\n",
    "# the associated covariance matrix calculated by demeaned transpose x demeaned.\n",
    "def compute_covariance_matrix(demeaned):\n",
    "    s_minus_m = np.array(demeaned)\n",
    "    s_minus_m_t = np_demeaned.transpose()\n",
    "    return np.matmul(s_minus_m_t, s_minus_m)/len(demeaned)"
   ]
  },
  {
   "cell_type": "code",
   "execution_count": 5,
   "metadata": {},
   "outputs": [],
   "source": [
    "def estimated_portfolio_risk_based_on_stddev (asset_weights, covariance_matrix):\n",
    "  Wt = np.asmatrix(asset_weights)\n",
    "  W = Wt.transpose()\n",
    "  return np.sqrt(Wt.dot(covariance_matrix).dot(W))"
   ]
  },
  {
   "cell_type": "code",
   "execution_count": 6,
   "metadata": {},
   "outputs": [],
   "source": [
    "def expected_portfolio_return(average_closing_prices, asset_weights):\n",
    "  M = np.array(average_closing_prices)\n",
    "  W = np.array(asset_weights)\n",
    "  return M.dot(W)"
   ]
  },
  {
   "cell_type": "code",
   "execution_count": 7,
   "metadata": {},
   "outputs": [],
   "source": [
    "def sharpe_ratio(expected_return, portfolio_std_dev, risk_free_rate):\n",
    "  return (expected_return - risk_free_rate)/portfolio_std_dev"
   ]
  },
  {
   "cell_type": "code",
   "execution_count": 8,
   "metadata": {},
   "outputs": [],
   "source": [
    "# Given array of equities, returning dataframe with historical data dating back \n",
    "def get_closing_price_historical_data(equities, period, interval):\n",
    "  data = {}\n",
    "  for x in equities:\n",
    "    ticker = yf.Ticker(x)\n",
    "    history = ticker.history(period= period, interval= interval)['Close']\n",
    "    data[x] = history\n",
    "  return data"
   ]
  },
  {
   "cell_type": "code",
   "execution_count": 9,
   "metadata": {},
   "outputs": [
    {
     "output_type": "execute_result",
     "data": {
      "text/plain": [
       "                     $  Allocation  Shares\n",
       "0                  MCD      0.0211     142\n",
       "1               AMZN.O      0.0246      12\n",
       "2               FIVE.O      0.0213     169\n",
       "3                  TJX      0.0197     451\n",
       "4   DAN                     0.0266    1650\n",
       "5                   PG      0.0212     236\n",
       "6                  STZ      0.0146      97\n",
       "7                   EL      0.0204     106\n",
       "8               COST.O      0.0201      86\n",
       "9                  ZTS      0.0270     259\n",
       "10                 SYK      0.0242     150\n",
       "11              ICLR.O      0.0225     173\n",
       "12                 BMY      0.0248     593\n",
       "13                 DGX      0.0238     280\n",
       "14              ABBV.K      0.0282     394\n",
       "15                 HON      0.0296     206\n",
       "16                 RTX      0.0237     464\n",
       "17                  WM      0.0264     309\n",
       "18              AAPL.O      0.0228     282\n",
       "19              MSFT.O      0.0268     172\n",
       "20                   V      0.0331     236\n",
       "21              CSCO.O      0.0246     718\n",
       "22                MU.O      0.0232     398\n",
       "23              INTU.O      0.0284     112\n",
       "24              CYBR.O      0.0259     303\n",
       "25              FIVN.O      0.0250     242\n",
       "26                JAMF      0.0202     865\n",
       "27                 NOW      0.0208      58\n",
       "28                 HUN      0.0109     569\n",
       "29              LTHM.K      0.0138    1205\n",
       "30             GOOGL.O      0.0300      22\n",
       "31                FB.O      0.0308     158\n",
       "32              MTCH.O      0.0239     263\n",
       "33                 XLC      0.0300     618\n",
       "34                 AWK      0.0138     139\n",
       "35                 NEE      0.0136     272\n",
       "36              EQIX.O      0.0162      36\n",
       "37                 ARE      0.0098      90\n",
       "38                 PXD      0.0156     148\n",
       "39                 BKR      0.0122     853\n",
       "40                 ICE      0.0220     297\n",
       "41                  GS      0.0216     100\n",
       "42                 AXP      0.0221     236\n",
       "43              KBWB.O      0.0224     547\n",
       "44                 BAM      0.0222     753"
      ],
      "text/html": "<div>\n<style scoped>\n    .dataframe tbody tr th:only-of-type {\n        vertical-align: middle;\n    }\n\n    .dataframe tbody tr th {\n        vertical-align: top;\n    }\n\n    .dataframe thead th {\n        text-align: right;\n    }\n</style>\n<table border=\"1\" class=\"dataframe\">\n  <thead>\n    <tr style=\"text-align: right;\">\n      <th></th>\n      <th>$</th>\n      <th>Allocation</th>\n      <th>Shares</th>\n    </tr>\n  </thead>\n  <tbody>\n    <tr>\n      <th>0</th>\n      <td>MCD</td>\n      <td>0.0211</td>\n      <td>142</td>\n    </tr>\n    <tr>\n      <th>1</th>\n      <td>AMZN.O</td>\n      <td>0.0246</td>\n      <td>12</td>\n    </tr>\n    <tr>\n      <th>2</th>\n      <td>FIVE.O</td>\n      <td>0.0213</td>\n      <td>169</td>\n    </tr>\n    <tr>\n      <th>3</th>\n      <td>TJX</td>\n      <td>0.0197</td>\n      <td>451</td>\n    </tr>\n    <tr>\n      <th>4</th>\n      <td>DAN</td>\n      <td>0.0266</td>\n      <td>1650</td>\n    </tr>\n    <tr>\n      <th>5</th>\n      <td>PG</td>\n      <td>0.0212</td>\n      <td>236</td>\n    </tr>\n    <tr>\n      <th>6</th>\n      <td>STZ</td>\n      <td>0.0146</td>\n      <td>97</td>\n    </tr>\n    <tr>\n      <th>7</th>\n      <td>EL</td>\n      <td>0.0204</td>\n      <td>106</td>\n    </tr>\n    <tr>\n      <th>8</th>\n      <td>COST.O</td>\n      <td>0.0201</td>\n      <td>86</td>\n    </tr>\n    <tr>\n      <th>9</th>\n      <td>ZTS</td>\n      <td>0.0270</td>\n      <td>259</td>\n    </tr>\n    <tr>\n      <th>10</th>\n      <td>SYK</td>\n      <td>0.0242</td>\n      <td>150</td>\n    </tr>\n    <tr>\n      <th>11</th>\n      <td>ICLR.O</td>\n      <td>0.0225</td>\n      <td>173</td>\n    </tr>\n    <tr>\n      <th>12</th>\n      <td>BMY</td>\n      <td>0.0248</td>\n      <td>593</td>\n    </tr>\n    <tr>\n      <th>13</th>\n      <td>DGX</td>\n      <td>0.0238</td>\n      <td>280</td>\n    </tr>\n    <tr>\n      <th>14</th>\n      <td>ABBV.K</td>\n      <td>0.0282</td>\n      <td>394</td>\n    </tr>\n    <tr>\n      <th>15</th>\n      <td>HON</td>\n      <td>0.0296</td>\n      <td>206</td>\n    </tr>\n    <tr>\n      <th>16</th>\n      <td>RTX</td>\n      <td>0.0237</td>\n      <td>464</td>\n    </tr>\n    <tr>\n      <th>17</th>\n      <td>WM</td>\n      <td>0.0264</td>\n      <td>309</td>\n    </tr>\n    <tr>\n      <th>18</th>\n      <td>AAPL.O</td>\n      <td>0.0228</td>\n      <td>282</td>\n    </tr>\n    <tr>\n      <th>19</th>\n      <td>MSFT.O</td>\n      <td>0.0268</td>\n      <td>172</td>\n    </tr>\n    <tr>\n      <th>20</th>\n      <td>V</td>\n      <td>0.0331</td>\n      <td>236</td>\n    </tr>\n    <tr>\n      <th>21</th>\n      <td>CSCO.O</td>\n      <td>0.0246</td>\n      <td>718</td>\n    </tr>\n    <tr>\n      <th>22</th>\n      <td>MU.O</td>\n      <td>0.0232</td>\n      <td>398</td>\n    </tr>\n    <tr>\n      <th>23</th>\n      <td>INTU.O</td>\n      <td>0.0284</td>\n      <td>112</td>\n    </tr>\n    <tr>\n      <th>24</th>\n      <td>CYBR.O</td>\n      <td>0.0259</td>\n      <td>303</td>\n    </tr>\n    <tr>\n      <th>25</th>\n      <td>FIVN.O</td>\n      <td>0.0250</td>\n      <td>242</td>\n    </tr>\n    <tr>\n      <th>26</th>\n      <td>JAMF</td>\n      <td>0.0202</td>\n      <td>865</td>\n    </tr>\n    <tr>\n      <th>27</th>\n      <td>NOW</td>\n      <td>0.0208</td>\n      <td>58</td>\n    </tr>\n    <tr>\n      <th>28</th>\n      <td>HUN</td>\n      <td>0.0109</td>\n      <td>569</td>\n    </tr>\n    <tr>\n      <th>29</th>\n      <td>LTHM.K</td>\n      <td>0.0138</td>\n      <td>1205</td>\n    </tr>\n    <tr>\n      <th>30</th>\n      <td>GOOGL.O</td>\n      <td>0.0300</td>\n      <td>22</td>\n    </tr>\n    <tr>\n      <th>31</th>\n      <td>FB.O</td>\n      <td>0.0308</td>\n      <td>158</td>\n    </tr>\n    <tr>\n      <th>32</th>\n      <td>MTCH.O</td>\n      <td>0.0239</td>\n      <td>263</td>\n    </tr>\n    <tr>\n      <th>33</th>\n      <td>XLC</td>\n      <td>0.0300</td>\n      <td>618</td>\n    </tr>\n    <tr>\n      <th>34</th>\n      <td>AWK</td>\n      <td>0.0138</td>\n      <td>139</td>\n    </tr>\n    <tr>\n      <th>35</th>\n      <td>NEE</td>\n      <td>0.0136</td>\n      <td>272</td>\n    </tr>\n    <tr>\n      <th>36</th>\n      <td>EQIX.O</td>\n      <td>0.0162</td>\n      <td>36</td>\n    </tr>\n    <tr>\n      <th>37</th>\n      <td>ARE</td>\n      <td>0.0098</td>\n      <td>90</td>\n    </tr>\n    <tr>\n      <th>38</th>\n      <td>PXD</td>\n      <td>0.0156</td>\n      <td>148</td>\n    </tr>\n    <tr>\n      <th>39</th>\n      <td>BKR</td>\n      <td>0.0122</td>\n      <td>853</td>\n    </tr>\n    <tr>\n      <th>40</th>\n      <td>ICE</td>\n      <td>0.0220</td>\n      <td>297</td>\n    </tr>\n    <tr>\n      <th>41</th>\n      <td>GS</td>\n      <td>0.0216</td>\n      <td>100</td>\n    </tr>\n    <tr>\n      <th>42</th>\n      <td>AXP</td>\n      <td>0.0221</td>\n      <td>236</td>\n    </tr>\n    <tr>\n      <th>43</th>\n      <td>KBWB.O</td>\n      <td>0.0224</td>\n      <td>547</td>\n    </tr>\n    <tr>\n      <th>44</th>\n      <td>BAM</td>\n      <td>0.0222</td>\n      <td>753</td>\n    </tr>\n  </tbody>\n</table>\n</div>"
     },
     "metadata": {},
     "execution_count": 9
    }
   ],
   "source": [
    "senbet = pd.read_excel('Senbet Portfolio.xlsx')\n",
    "senbet"
   ]
  },
  {
   "cell_type": "code",
   "execution_count": 10,
   "metadata": {},
   "outputs": [
    {
     "output_type": "stream",
     "name": "stdout",
     "text": [
      "                Ticker  Allocation  Shares\n0                  MCD        2.11     142\n1               AMZN.O        2.46      12\n2               FIVE.O        2.13     169\n3                  TJX        1.97     451\n4   DAN                       2.66    1650\n5                   PG        2.12     236\n6                  STZ        1.46      97\n7                   EL        2.04     106\n8               COST.O        2.01      86\n9                  ZTS        2.70     259\n10                 SYK        2.42     150\n11              ICLR.O        2.25     173\n12                 BMY        2.48     593\n13                 DGX        2.38     280\n14              ABBV.K        2.82     394\n15                 HON        2.96     206\n16                 RTX        2.37     464\n17                  WM        2.64     309\n18              AAPL.O        2.28     282\n19              MSFT.O        2.68     172\n20                   V        3.31     236\n21              CSCO.O        2.46     718\n22                MU.O        2.32     398\n23              INTU.O        2.84     112\n24              CYBR.O        2.59     303\n25              FIVN.O        2.50     242\n26                JAMF        2.02     865\n27                 NOW        2.08      58\n28                 HUN        1.09     569\n29              LTHM.K        1.38    1205\n30             GOOGL.O        3.00      22\n31                FB.O        3.08     158\n32              MTCH.O        2.39     263\n33                 XLC        3.00     618\n34                 AWK        1.38     139\n35                 NEE        1.36     272\n36              EQIX.O        1.62      36\n37                 ARE        0.98      90\n38                 PXD        1.56     148\n39                 BKR        1.22     853\n40                 ICE        2.20     297\n41                  GS        2.16     100\n42                 AXP        2.21     236\n43              KBWB.O        2.24     547\n44                 BAM        2.22     753\n"
     ]
    }
   ],
   "source": [
    "trimmed_senbet = senbet\n",
    "trimmed_senbet.columns = ['Ticker', 'Allocation', 'Shares']\n",
    "trimmed_senbet['Allocation'] *= 100\n",
    "print(trimmed_senbet)"
   ]
  },
  {
   "cell_type": "code",
   "execution_count": 11,
   "metadata": {},
   "outputs": [
    {
     "output_type": "execute_result",
     "data": {
      "text/plain": [
       "   Ticker  Allocation  Shares\n",
       "0     MCD        2.11     142\n",
       "1    AMZN        2.46      12\n",
       "2    FIVE        2.13     169\n",
       "3     TJX        1.97     451\n",
       "4     DAN        2.66    1650\n",
       "5      PG        2.12     236\n",
       "6     STZ        1.46      97\n",
       "7      EL        2.04     106\n",
       "8    COST        2.01      86\n",
       "9     ZTS        2.70     259\n",
       "10    SYK        2.42     150\n",
       "11   ICLR        2.25     173\n",
       "12    BMY        2.48     593\n",
       "13    DGX        2.38     280\n",
       "14   ABBV        2.82     394\n",
       "15    HON        2.96     206\n",
       "16    RTX        2.37     464\n",
       "17     WM        2.64     309\n",
       "18   AAPL        2.28     282\n",
       "19   MSFT        2.68     172\n",
       "20      V        3.31     236\n",
       "21   CSCO        2.46     718\n",
       "22     MU        2.32     398\n",
       "23   INTU        2.84     112\n",
       "24   CYBR        2.59     303\n",
       "25   FIVN        2.50     242\n",
       "26   JAMF        2.02     865\n",
       "27    NOW        2.08      58\n",
       "28    HUN        1.09     569\n",
       "29   LTHM        1.38    1205\n",
       "30  GOOGL        3.00      22\n",
       "31     FB        3.08     158\n",
       "32   MTCH        2.39     263\n",
       "33    XLC        3.00     618\n",
       "34    AWK        1.38     139\n",
       "35    NEE        1.36     272\n",
       "36   EQIX        1.62      36\n",
       "37    ARE        0.98      90\n",
       "38    PXD        1.56     148\n",
       "39    BKR        1.22     853\n",
       "40    ICE        2.20     297\n",
       "41     GS        2.16     100\n",
       "42    AXP        2.21     236\n",
       "43   KBWB        2.24     547\n",
       "44    BAM        2.22     753"
      ],
      "text/html": "<div>\n<style scoped>\n    .dataframe tbody tr th:only-of-type {\n        vertical-align: middle;\n    }\n\n    .dataframe tbody tr th {\n        vertical-align: top;\n    }\n\n    .dataframe thead th {\n        text-align: right;\n    }\n</style>\n<table border=\"1\" class=\"dataframe\">\n  <thead>\n    <tr style=\"text-align: right;\">\n      <th></th>\n      <th>Ticker</th>\n      <th>Allocation</th>\n      <th>Shares</th>\n    </tr>\n  </thead>\n  <tbody>\n    <tr>\n      <th>0</th>\n      <td>MCD</td>\n      <td>2.11</td>\n      <td>142</td>\n    </tr>\n    <tr>\n      <th>1</th>\n      <td>AMZN</td>\n      <td>2.46</td>\n      <td>12</td>\n    </tr>\n    <tr>\n      <th>2</th>\n      <td>FIVE</td>\n      <td>2.13</td>\n      <td>169</td>\n    </tr>\n    <tr>\n      <th>3</th>\n      <td>TJX</td>\n      <td>1.97</td>\n      <td>451</td>\n    </tr>\n    <tr>\n      <th>4</th>\n      <td>DAN</td>\n      <td>2.66</td>\n      <td>1650</td>\n    </tr>\n    <tr>\n      <th>5</th>\n      <td>PG</td>\n      <td>2.12</td>\n      <td>236</td>\n    </tr>\n    <tr>\n      <th>6</th>\n      <td>STZ</td>\n      <td>1.46</td>\n      <td>97</td>\n    </tr>\n    <tr>\n      <th>7</th>\n      <td>EL</td>\n      <td>2.04</td>\n      <td>106</td>\n    </tr>\n    <tr>\n      <th>8</th>\n      <td>COST</td>\n      <td>2.01</td>\n      <td>86</td>\n    </tr>\n    <tr>\n      <th>9</th>\n      <td>ZTS</td>\n      <td>2.70</td>\n      <td>259</td>\n    </tr>\n    <tr>\n      <th>10</th>\n      <td>SYK</td>\n      <td>2.42</td>\n      <td>150</td>\n    </tr>\n    <tr>\n      <th>11</th>\n      <td>ICLR</td>\n      <td>2.25</td>\n      <td>173</td>\n    </tr>\n    <tr>\n      <th>12</th>\n      <td>BMY</td>\n      <td>2.48</td>\n      <td>593</td>\n    </tr>\n    <tr>\n      <th>13</th>\n      <td>DGX</td>\n      <td>2.38</td>\n      <td>280</td>\n    </tr>\n    <tr>\n      <th>14</th>\n      <td>ABBV</td>\n      <td>2.82</td>\n      <td>394</td>\n    </tr>\n    <tr>\n      <th>15</th>\n      <td>HON</td>\n      <td>2.96</td>\n      <td>206</td>\n    </tr>\n    <tr>\n      <th>16</th>\n      <td>RTX</td>\n      <td>2.37</td>\n      <td>464</td>\n    </tr>\n    <tr>\n      <th>17</th>\n      <td>WM</td>\n      <td>2.64</td>\n      <td>309</td>\n    </tr>\n    <tr>\n      <th>18</th>\n      <td>AAPL</td>\n      <td>2.28</td>\n      <td>282</td>\n    </tr>\n    <tr>\n      <th>19</th>\n      <td>MSFT</td>\n      <td>2.68</td>\n      <td>172</td>\n    </tr>\n    <tr>\n      <th>20</th>\n      <td>V</td>\n      <td>3.31</td>\n      <td>236</td>\n    </tr>\n    <tr>\n      <th>21</th>\n      <td>CSCO</td>\n      <td>2.46</td>\n      <td>718</td>\n    </tr>\n    <tr>\n      <th>22</th>\n      <td>MU</td>\n      <td>2.32</td>\n      <td>398</td>\n    </tr>\n    <tr>\n      <th>23</th>\n      <td>INTU</td>\n      <td>2.84</td>\n      <td>112</td>\n    </tr>\n    <tr>\n      <th>24</th>\n      <td>CYBR</td>\n      <td>2.59</td>\n      <td>303</td>\n    </tr>\n    <tr>\n      <th>25</th>\n      <td>FIVN</td>\n      <td>2.50</td>\n      <td>242</td>\n    </tr>\n    <tr>\n      <th>26</th>\n      <td>JAMF</td>\n      <td>2.02</td>\n      <td>865</td>\n    </tr>\n    <tr>\n      <th>27</th>\n      <td>NOW</td>\n      <td>2.08</td>\n      <td>58</td>\n    </tr>\n    <tr>\n      <th>28</th>\n      <td>HUN</td>\n      <td>1.09</td>\n      <td>569</td>\n    </tr>\n    <tr>\n      <th>29</th>\n      <td>LTHM</td>\n      <td>1.38</td>\n      <td>1205</td>\n    </tr>\n    <tr>\n      <th>30</th>\n      <td>GOOGL</td>\n      <td>3.00</td>\n      <td>22</td>\n    </tr>\n    <tr>\n      <th>31</th>\n      <td>FB</td>\n      <td>3.08</td>\n      <td>158</td>\n    </tr>\n    <tr>\n      <th>32</th>\n      <td>MTCH</td>\n      <td>2.39</td>\n      <td>263</td>\n    </tr>\n    <tr>\n      <th>33</th>\n      <td>XLC</td>\n      <td>3.00</td>\n      <td>618</td>\n    </tr>\n    <tr>\n      <th>34</th>\n      <td>AWK</td>\n      <td>1.38</td>\n      <td>139</td>\n    </tr>\n    <tr>\n      <th>35</th>\n      <td>NEE</td>\n      <td>1.36</td>\n      <td>272</td>\n    </tr>\n    <tr>\n      <th>36</th>\n      <td>EQIX</td>\n      <td>1.62</td>\n      <td>36</td>\n    </tr>\n    <tr>\n      <th>37</th>\n      <td>ARE</td>\n      <td>0.98</td>\n      <td>90</td>\n    </tr>\n    <tr>\n      <th>38</th>\n      <td>PXD</td>\n      <td>1.56</td>\n      <td>148</td>\n    </tr>\n    <tr>\n      <th>39</th>\n      <td>BKR</td>\n      <td>1.22</td>\n      <td>853</td>\n    </tr>\n    <tr>\n      <th>40</th>\n      <td>ICE</td>\n      <td>2.20</td>\n      <td>297</td>\n    </tr>\n    <tr>\n      <th>41</th>\n      <td>GS</td>\n      <td>2.16</td>\n      <td>100</td>\n    </tr>\n    <tr>\n      <th>42</th>\n      <td>AXP</td>\n      <td>2.21</td>\n      <td>236</td>\n    </tr>\n    <tr>\n      <th>43</th>\n      <td>KBWB</td>\n      <td>2.24</td>\n      <td>547</td>\n    </tr>\n    <tr>\n      <th>44</th>\n      <td>BAM</td>\n      <td>2.22</td>\n      <td>753</td>\n    </tr>\n  </tbody>\n</table>\n</div>"
     },
     "metadata": {},
     "execution_count": 11
    }
   ],
   "source": [
    "trimmed_senbet['Ticker'] = trimmed_senbet.apply(lambda x: x['Ticker'].replace('.O', ''), axis = 1)\n",
    "trimmed_senbet['Ticker'] = trimmed_senbet.apply(lambda x: x['Ticker'].replace('.K', ''), axis = 1)\n",
    "trimmed_senbet['Ticker'] = trimmed_senbet.apply(lambda x: x['Ticker'].replace(' ', ''), axis = 1)\n",
    "trimmed_senbet"
   ]
  },
  {
   "cell_type": "code",
   "execution_count": 12,
   "metadata": {},
   "outputs": [
    {
     "output_type": "execute_result",
     "data": {
      "text/plain": [
       "[0.021099999999999997,\n",
       " 0.0246,\n",
       " 0.0213,\n",
       " 0.0197,\n",
       " 0.0266,\n",
       " 0.0212,\n",
       " 0.0146,\n",
       " 0.0204,\n",
       " 0.020099999999999996,\n",
       " 0.027000000000000003,\n",
       " 0.0242,\n",
       " 0.0225,\n",
       " 0.0248,\n",
       " 0.0238,\n",
       " 0.0282,\n",
       " 0.0296,\n",
       " 0.023700000000000002,\n",
       " 0.0264,\n",
       " 0.0228,\n",
       " 0.0268,\n",
       " 0.0331,\n",
       " 0.0246,\n",
       " 0.0232,\n",
       " 0.0284,\n",
       " 0.0259,\n",
       " 0.025,\n",
       " 0.0202,\n",
       " 0.0208,\n",
       " 0.0109,\n",
       " 0.0138,\n",
       " 0.03,\n",
       " 0.0308,\n",
       " 0.0239,\n",
       " 0.03,\n",
       " 0.0138,\n",
       " 0.0136,\n",
       " 0.0162,\n",
       " 0.0098,\n",
       " 0.015599999999999998,\n",
       " 0.012199999999999999,\n",
       " 0.022,\n",
       " 0.0216,\n",
       " 0.022099999999999998,\n",
       " 0.022399999999999996,\n",
       " 0.0222]"
      ]
     },
     "metadata": {},
     "execution_count": 12
    }
   ],
   "source": [
    "asset_weights = list(trimmed_senbet['Allocation']/100)\n",
    "asset_weights"
   ]
  },
  {
   "cell_type": "code",
   "execution_count": 13,
   "metadata": {},
   "outputs": [],
   "source": [
    "historical_data = get_closing_price_historical_data(trimmed_senbet['Ticker'], '179d', '1d')"
   ]
  },
  {
   "cell_type": "code",
   "execution_count": 14,
   "metadata": {},
   "outputs": [
    {
     "output_type": "execute_result",
     "data": {
      "text/plain": [
       "                   MCD         AMZN        FIVE        TJX        DAN  \\\n",
       "Date                                                                    \n",
       "2020-08-03  190.952454  3111.889893  107.970001  51.694473  11.990716   \n",
       "2020-08-04  195.824493  3138.830078  108.029999  53.079235  12.199857   \n",
       "2020-08-05  195.726273  3205.030029  106.629997  53.338257  12.787441   \n",
       "2020-08-06  199.576752  3225.000000  102.849998  53.208748  12.418956   \n",
       "2020-08-07  200.971588  3167.459961  102.459999  55.241062  12.717729   \n",
       "...                ...          ...         ...        ...        ...   \n",
       "2021-04-13  231.320007  3400.000000  200.949997  68.459999  25.559999   \n",
       "2021-04-14  230.309998  3333.000000  194.960007  68.610001  26.490000   \n",
       "2021-04-15  231.279999  3379.090088  196.550003  69.239998  26.650000   \n",
       "2021-04-16  233.080002  3399.439941  200.509995  69.989998  26.700001   \n",
       "2021-04-19  232.621094  3378.239990  196.630005  69.860001  26.340000   \n",
       "\n",
       "                    PG         STZ          EL        COST         ZTS  ...  \\\n",
       "Date                                                                    ...   \n",
       "2020-08-03  129.782211  171.254669  196.950623  319.667328  154.078049  ...   \n",
       "2020-08-04  132.253494  169.673447  198.192932  329.830444  155.204910  ...   \n",
       "2020-08-05  131.907532  171.393021  200.001755  330.005188  157.279099  ...   \n",
       "2020-08-06  131.185913  169.080505  198.014053  333.247253  160.878983  ...   \n",
       "2020-08-07  132.016266  170.246658  198.759445  330.917633  158.435852  ...   \n",
       "...                ...         ...         ...         ...         ...  ...   \n",
       "2021-04-13  135.110001  226.570007  303.000000  365.209991  163.470001  ...   \n",
       "2021-04-14  135.600006  228.820007  304.390015  363.170013  163.080002  ...   \n",
       "2021-04-15  137.240005  234.600006  305.130005  368.799988  165.449997  ...   \n",
       "2021-04-16  137.250000  238.860001  312.290009  370.720001  167.630005  ...   \n",
       "2021-04-19  136.943604  238.679993  309.459991  370.019989  167.179993  ...   \n",
       "\n",
       "                  NEE        EQIX         ARE         PXD        BKR  \\\n",
       "Date                                                                   \n",
       "2020-08-03  68.368225  770.373169  172.959732   96.413437  15.160692   \n",
       "2020-08-04  70.205559  784.522461  173.116684   98.068947  15.703879   \n",
       "2020-08-05  69.892776  785.125671  171.282410  101.153305  16.256763   \n",
       "2020-08-06  69.653862  783.167847  171.047012  100.867538  16.266462   \n",
       "2020-08-07  70.877937  782.811890  172.292725  102.759537  16.246853   \n",
       "...               ...         ...         ...         ...        ...   \n",
       "2021-04-13  79.040001  705.770020  171.130005  145.679993  19.879999   \n",
       "2021-04-14  79.129997  694.309998  171.000000  153.100006  20.350000   \n",
       "2021-04-15  80.180000  718.849976  174.220001  152.220001  19.900000   \n",
       "2021-04-16  80.940002  708.140015  175.649994  148.410004  20.100000   \n",
       "2021-04-19  80.255302  714.549988  175.940002  148.714996  20.145000   \n",
       "\n",
       "                   ICE          GS         AXP       KBWB        BAM  \n",
       "Date                                                                  \n",
       "2020-08-03   95.451996  196.344421   92.547272  37.628666  31.495737  \n",
       "2020-08-04   94.956284  198.560059   92.200989  37.442238  31.713697  \n",
       "2020-08-05   95.333038  201.396088   94.377632  38.089825  32.189259  \n",
       "2020-08-06   96.621849  201.130203   94.902000  37.932835  32.169441  \n",
       "2020-08-07  100.091743  205.088791   98.107628  39.139698  32.020828  \n",
       "...                ...         ...         ...        ...        ...  \n",
       "2021-04-13  118.720001  327.679993  145.990005  62.799999  45.509998  \n",
       "2021-04-14  118.190002  335.350006  147.419998  63.630001  45.389999  \n",
       "2021-04-15  119.860001  338.549988  148.529999  63.049999  46.259998  \n",
       "2021-04-16  120.730003  342.309998  149.990005  63.369999  46.110001  \n",
       "2021-04-19  119.559998  339.390015  148.544998  63.279999  46.299999  \n",
       "\n",
       "[179 rows x 45 columns]"
      ],
      "text/html": "<div>\n<style scoped>\n    .dataframe tbody tr th:only-of-type {\n        vertical-align: middle;\n    }\n\n    .dataframe tbody tr th {\n        vertical-align: top;\n    }\n\n    .dataframe thead th {\n        text-align: right;\n    }\n</style>\n<table border=\"1\" class=\"dataframe\">\n  <thead>\n    <tr style=\"text-align: right;\">\n      <th></th>\n      <th>MCD</th>\n      <th>AMZN</th>\n      <th>FIVE</th>\n      <th>TJX</th>\n      <th>DAN</th>\n      <th>PG</th>\n      <th>STZ</th>\n      <th>EL</th>\n      <th>COST</th>\n      <th>ZTS</th>\n      <th>...</th>\n      <th>NEE</th>\n      <th>EQIX</th>\n      <th>ARE</th>\n      <th>PXD</th>\n      <th>BKR</th>\n      <th>ICE</th>\n      <th>GS</th>\n      <th>AXP</th>\n      <th>KBWB</th>\n      <th>BAM</th>\n    </tr>\n    <tr>\n      <th>Date</th>\n      <th></th>\n      <th></th>\n      <th></th>\n      <th></th>\n      <th></th>\n      <th></th>\n      <th></th>\n      <th></th>\n      <th></th>\n      <th></th>\n      <th></th>\n      <th></th>\n      <th></th>\n      <th></th>\n      <th></th>\n      <th></th>\n      <th></th>\n      <th></th>\n      <th></th>\n      <th></th>\n      <th></th>\n    </tr>\n  </thead>\n  <tbody>\n    <tr>\n      <th>2020-08-03</th>\n      <td>190.952454</td>\n      <td>3111.889893</td>\n      <td>107.970001</td>\n      <td>51.694473</td>\n      <td>11.990716</td>\n      <td>129.782211</td>\n      <td>171.254669</td>\n      <td>196.950623</td>\n      <td>319.667328</td>\n      <td>154.078049</td>\n      <td>...</td>\n      <td>68.368225</td>\n      <td>770.373169</td>\n      <td>172.959732</td>\n      <td>96.413437</td>\n      <td>15.160692</td>\n      <td>95.451996</td>\n      <td>196.344421</td>\n      <td>92.547272</td>\n      <td>37.628666</td>\n      <td>31.495737</td>\n    </tr>\n    <tr>\n      <th>2020-08-04</th>\n      <td>195.824493</td>\n      <td>3138.830078</td>\n      <td>108.029999</td>\n      <td>53.079235</td>\n      <td>12.199857</td>\n      <td>132.253494</td>\n      <td>169.673447</td>\n      <td>198.192932</td>\n      <td>329.830444</td>\n      <td>155.204910</td>\n      <td>...</td>\n      <td>70.205559</td>\n      <td>784.522461</td>\n      <td>173.116684</td>\n      <td>98.068947</td>\n      <td>15.703879</td>\n      <td>94.956284</td>\n      <td>198.560059</td>\n      <td>92.200989</td>\n      <td>37.442238</td>\n      <td>31.713697</td>\n    </tr>\n    <tr>\n      <th>2020-08-05</th>\n      <td>195.726273</td>\n      <td>3205.030029</td>\n      <td>106.629997</td>\n      <td>53.338257</td>\n      <td>12.787441</td>\n      <td>131.907532</td>\n      <td>171.393021</td>\n      <td>200.001755</td>\n      <td>330.005188</td>\n      <td>157.279099</td>\n      <td>...</td>\n      <td>69.892776</td>\n      <td>785.125671</td>\n      <td>171.282410</td>\n      <td>101.153305</td>\n      <td>16.256763</td>\n      <td>95.333038</td>\n      <td>201.396088</td>\n      <td>94.377632</td>\n      <td>38.089825</td>\n      <td>32.189259</td>\n    </tr>\n    <tr>\n      <th>2020-08-06</th>\n      <td>199.576752</td>\n      <td>3225.000000</td>\n      <td>102.849998</td>\n      <td>53.208748</td>\n      <td>12.418956</td>\n      <td>131.185913</td>\n      <td>169.080505</td>\n      <td>198.014053</td>\n      <td>333.247253</td>\n      <td>160.878983</td>\n      <td>...</td>\n      <td>69.653862</td>\n      <td>783.167847</td>\n      <td>171.047012</td>\n      <td>100.867538</td>\n      <td>16.266462</td>\n      <td>96.621849</td>\n      <td>201.130203</td>\n      <td>94.902000</td>\n      <td>37.932835</td>\n      <td>32.169441</td>\n    </tr>\n    <tr>\n      <th>2020-08-07</th>\n      <td>200.971588</td>\n      <td>3167.459961</td>\n      <td>102.459999</td>\n      <td>55.241062</td>\n      <td>12.717729</td>\n      <td>132.016266</td>\n      <td>170.246658</td>\n      <td>198.759445</td>\n      <td>330.917633</td>\n      <td>158.435852</td>\n      <td>...</td>\n      <td>70.877937</td>\n      <td>782.811890</td>\n      <td>172.292725</td>\n      <td>102.759537</td>\n      <td>16.246853</td>\n      <td>100.091743</td>\n      <td>205.088791</td>\n      <td>98.107628</td>\n      <td>39.139698</td>\n      <td>32.020828</td>\n    </tr>\n    <tr>\n      <th>...</th>\n      <td>...</td>\n      <td>...</td>\n      <td>...</td>\n      <td>...</td>\n      <td>...</td>\n      <td>...</td>\n      <td>...</td>\n      <td>...</td>\n      <td>...</td>\n      <td>...</td>\n      <td>...</td>\n      <td>...</td>\n      <td>...</td>\n      <td>...</td>\n      <td>...</td>\n      <td>...</td>\n      <td>...</td>\n      <td>...</td>\n      <td>...</td>\n      <td>...</td>\n      <td>...</td>\n    </tr>\n    <tr>\n      <th>2021-04-13</th>\n      <td>231.320007</td>\n      <td>3400.000000</td>\n      <td>200.949997</td>\n      <td>68.459999</td>\n      <td>25.559999</td>\n      <td>135.110001</td>\n      <td>226.570007</td>\n      <td>303.000000</td>\n      <td>365.209991</td>\n      <td>163.470001</td>\n      <td>...</td>\n      <td>79.040001</td>\n      <td>705.770020</td>\n      <td>171.130005</td>\n      <td>145.679993</td>\n      <td>19.879999</td>\n      <td>118.720001</td>\n      <td>327.679993</td>\n      <td>145.990005</td>\n      <td>62.799999</td>\n      <td>45.509998</td>\n    </tr>\n    <tr>\n      <th>2021-04-14</th>\n      <td>230.309998</td>\n      <td>3333.000000</td>\n      <td>194.960007</td>\n      <td>68.610001</td>\n      <td>26.490000</td>\n      <td>135.600006</td>\n      <td>228.820007</td>\n      <td>304.390015</td>\n      <td>363.170013</td>\n      <td>163.080002</td>\n      <td>...</td>\n      <td>79.129997</td>\n      <td>694.309998</td>\n      <td>171.000000</td>\n      <td>153.100006</td>\n      <td>20.350000</td>\n      <td>118.190002</td>\n      <td>335.350006</td>\n      <td>147.419998</td>\n      <td>63.630001</td>\n      <td>45.389999</td>\n    </tr>\n    <tr>\n      <th>2021-04-15</th>\n      <td>231.279999</td>\n      <td>3379.090088</td>\n      <td>196.550003</td>\n      <td>69.239998</td>\n      <td>26.650000</td>\n      <td>137.240005</td>\n      <td>234.600006</td>\n      <td>305.130005</td>\n      <td>368.799988</td>\n      <td>165.449997</td>\n      <td>...</td>\n      <td>80.180000</td>\n      <td>718.849976</td>\n      <td>174.220001</td>\n      <td>152.220001</td>\n      <td>19.900000</td>\n      <td>119.860001</td>\n      <td>338.549988</td>\n      <td>148.529999</td>\n      <td>63.049999</td>\n      <td>46.259998</td>\n    </tr>\n    <tr>\n      <th>2021-04-16</th>\n      <td>233.080002</td>\n      <td>3399.439941</td>\n      <td>200.509995</td>\n      <td>69.989998</td>\n      <td>26.700001</td>\n      <td>137.250000</td>\n      <td>238.860001</td>\n      <td>312.290009</td>\n      <td>370.720001</td>\n      <td>167.630005</td>\n      <td>...</td>\n      <td>80.940002</td>\n      <td>708.140015</td>\n      <td>175.649994</td>\n      <td>148.410004</td>\n      <td>20.100000</td>\n      <td>120.730003</td>\n      <td>342.309998</td>\n      <td>149.990005</td>\n      <td>63.369999</td>\n      <td>46.110001</td>\n    </tr>\n    <tr>\n      <th>2021-04-19</th>\n      <td>232.621094</td>\n      <td>3378.239990</td>\n      <td>196.630005</td>\n      <td>69.860001</td>\n      <td>26.340000</td>\n      <td>136.943604</td>\n      <td>238.679993</td>\n      <td>309.459991</td>\n      <td>370.019989</td>\n      <td>167.179993</td>\n      <td>...</td>\n      <td>80.255302</td>\n      <td>714.549988</td>\n      <td>175.940002</td>\n      <td>148.714996</td>\n      <td>20.145000</td>\n      <td>119.559998</td>\n      <td>339.390015</td>\n      <td>148.544998</td>\n      <td>63.279999</td>\n      <td>46.299999</td>\n    </tr>\n  </tbody>\n</table>\n<p>179 rows × 45 columns</p>\n</div>"
     },
     "metadata": {},
     "execution_count": 14
    }
   ],
   "source": [
    "portfolio = pd.DataFrame(historical_data)\n",
    "# historical_df =historical_df.dropna(axis = 0)\n",
    "portfolio"
   ]
  },
  {
   "cell_type": "code",
   "execution_count": 15,
   "metadata": {},
   "outputs": [],
   "source": [
    "for index, x in trimmed_senbet.iterrows():\n",
    "    portfolio[x.Ticker]*=x.Shares"
   ]
  },
  {
   "cell_type": "code",
   "execution_count": 16,
   "metadata": {},
   "outputs": [
    {
     "output_type": "execute_result",
     "data": {
      "text/plain": [
       "                     MCD          AMZN          FIVE           TJX  \\\n",
       "Date                                                                 \n",
       "2020-08-03  27115.248413  37342.678711  18246.930206  23314.207443   \n",
       "2020-08-04  27807.078064  37665.960938  18257.069794  23938.735020   \n",
       "2020-08-05  27793.130707  38460.360352  18020.469536  24055.553833   \n",
       "2020-08-06  28339.898743  38700.000000  17381.649742  23997.145287   \n",
       "2020-08-07  28537.965515  38009.519531  17315.739845  24913.719036   \n",
       "...                  ...           ...           ...           ...   \n",
       "2021-04-13  32847.441040  40800.000000  33960.549484  30875.459587   \n",
       "2021-04-14  32704.019653  39996.000000  32948.241135  30943.110275   \n",
       "2021-04-15  32841.759827  40549.081055  33216.950516  31227.239037   \n",
       "2021-04-16  33097.360260  40793.279297  33886.189072  31565.489037   \n",
       "2021-04-19  33032.195312  40538.879883  33230.470825  31506.860275   \n",
       "\n",
       "                     DAN            PG           STZ            EL  \\\n",
       "Date                                                                 \n",
       "2020-08-03  19784.681368  30628.601868  16611.702911  20876.765991   \n",
       "2020-08-04  20129.763651  31211.824646  16458.324326  21008.450806   \n",
       "2020-08-05  21099.278069  31130.177490  16625.123001  21200.186005   \n",
       "2020-08-06  20491.277075  30959.875488  16400.809021  20989.489655   \n",
       "2020-08-07  20984.252214  31155.838745  16513.925858  21068.501190   \n",
       "...                  ...           ...           ...           ...   \n",
       "2021-04-13  42173.999119  31885.960144  21977.290710  32118.000000   \n",
       "2021-04-14  43708.499622  32001.601440  22195.540710  32265.341553   \n",
       "2021-04-15  43972.499371  32388.641296  22756.200592  32343.780518   \n",
       "2021-04-16  44055.001259  32391.000000  23169.420059  33102.740906   \n",
       "2021-04-19  43461.000252  32318.690430  23151.959290  32802.759094   \n",
       "\n",
       "                    COST           ZTS  ...           NEE          EQIX  \\\n",
       "Date                                    ...                               \n",
       "2020-08-03  27491.390198  39906.214615  ...  18596.157227  27733.434082   \n",
       "2020-08-04  28365.418213  40198.071762  ...  19095.911987  28242.808594   \n",
       "2020-08-05  28380.446167  40735.286514  ...  19010.835205  28264.524170   \n",
       "2020-08-06  28659.263794  41667.656479  ...  18945.850464  28194.042480   \n",
       "2020-08-07  28458.916443  41034.885681  ...  19278.798950  28181.228027   \n",
       "...                  ...           ...  ...           ...           ...   \n",
       "2021-04-13  31408.059265  42338.730316  ...  21498.880249  25407.720703   \n",
       "2021-04-14  31232.621155  42237.720474  ...  21523.359253  24995.159912   \n",
       "2021-04-15  31716.798950  42851.549210  ...  21808.960083  25878.599121   \n",
       "2021-04-16  31881.920105  43416.171265  ...  22015.680664  25493.040527   \n",
       "2021-04-19  31821.719055  43299.618103  ...  21829.442261  25723.799561   \n",
       "\n",
       "                     ARE           PXD           BKR           ICE  \\\n",
       "Date                                                                 \n",
       "2020-08-03  15566.375885  14269.188660  12932.070459  28349.242767   \n",
       "2020-08-04  15580.501556  14514.204132  13395.409091  28202.016220   \n",
       "2020-08-05  15415.416870  14970.689148  13867.019230  28313.912384   \n",
       "2020-08-06  15394.231110  14928.395691  13875.292364  28696.689171   \n",
       "2020-08-07  15506.345215  15208.411438  13858.565502  29727.247810   \n",
       "...                  ...           ...           ...           ...   \n",
       "2021-04-13  15401.700439  21560.638916  16957.639284  35259.840363   \n",
       "2021-04-14  15390.000000  22658.800903  17358.550325  35102.430725   \n",
       "2021-04-15  15679.800110  22528.560181  16974.699675  35598.420181   \n",
       "2021-04-16  15808.499451  21964.680542  17145.300325  35856.810997   \n",
       "2021-04-19  15834.600220  22009.819458  17183.685390  35509.319275   \n",
       "\n",
       "                      GS           AXP          KBWB           BAM  \n",
       "Date                                                                \n",
       "2020-08-03  19634.442139  21841.156128  20582.880260  23716.290018  \n",
       "2020-08-04  19856.005859  21759.433350  20480.904106  23880.414167  \n",
       "2020-08-05  20139.608765  22273.121185  20835.134098  24238.511707  \n",
       "2020-08-06  20113.020325  22396.872101  20749.260540  24223.589241  \n",
       "2020-08-07  20508.879089  23153.400177  21409.414822  24111.683670  \n",
       "...                  ...           ...           ...           ...  \n",
       "2021-04-13  32767.999268  34453.641296  34351.599583  34269.028736  \n",
       "2021-04-14  33535.000610  34791.119568  34805.610584  34178.669540  \n",
       "2021-04-15  33854.998779  35053.079712  34488.349583  34833.778736  \n",
       "2021-04-16  34230.999756  35397.641296  34663.389416  34720.830460  \n",
       "2021-04-19  33939.001465  35056.619568  34614.159332  34863.899426  \n",
       "\n",
       "[179 rows x 45 columns]"
      ],
      "text/html": "<div>\n<style scoped>\n    .dataframe tbody tr th:only-of-type {\n        vertical-align: middle;\n    }\n\n    .dataframe tbody tr th {\n        vertical-align: top;\n    }\n\n    .dataframe thead th {\n        text-align: right;\n    }\n</style>\n<table border=\"1\" class=\"dataframe\">\n  <thead>\n    <tr style=\"text-align: right;\">\n      <th></th>\n      <th>MCD</th>\n      <th>AMZN</th>\n      <th>FIVE</th>\n      <th>TJX</th>\n      <th>DAN</th>\n      <th>PG</th>\n      <th>STZ</th>\n      <th>EL</th>\n      <th>COST</th>\n      <th>ZTS</th>\n      <th>...</th>\n      <th>NEE</th>\n      <th>EQIX</th>\n      <th>ARE</th>\n      <th>PXD</th>\n      <th>BKR</th>\n      <th>ICE</th>\n      <th>GS</th>\n      <th>AXP</th>\n      <th>KBWB</th>\n      <th>BAM</th>\n    </tr>\n    <tr>\n      <th>Date</th>\n      <th></th>\n      <th></th>\n      <th></th>\n      <th></th>\n      <th></th>\n      <th></th>\n      <th></th>\n      <th></th>\n      <th></th>\n      <th></th>\n      <th></th>\n      <th></th>\n      <th></th>\n      <th></th>\n      <th></th>\n      <th></th>\n      <th></th>\n      <th></th>\n      <th></th>\n      <th></th>\n      <th></th>\n    </tr>\n  </thead>\n  <tbody>\n    <tr>\n      <th>2020-08-03</th>\n      <td>27115.248413</td>\n      <td>37342.678711</td>\n      <td>18246.930206</td>\n      <td>23314.207443</td>\n      <td>19784.681368</td>\n      <td>30628.601868</td>\n      <td>16611.702911</td>\n      <td>20876.765991</td>\n      <td>27491.390198</td>\n      <td>39906.214615</td>\n      <td>...</td>\n      <td>18596.157227</td>\n      <td>27733.434082</td>\n      <td>15566.375885</td>\n      <td>14269.188660</td>\n      <td>12932.070459</td>\n      <td>28349.242767</td>\n      <td>19634.442139</td>\n      <td>21841.156128</td>\n      <td>20582.880260</td>\n      <td>23716.290018</td>\n    </tr>\n    <tr>\n      <th>2020-08-04</th>\n      <td>27807.078064</td>\n      <td>37665.960938</td>\n      <td>18257.069794</td>\n      <td>23938.735020</td>\n      <td>20129.763651</td>\n      <td>31211.824646</td>\n      <td>16458.324326</td>\n      <td>21008.450806</td>\n      <td>28365.418213</td>\n      <td>40198.071762</td>\n      <td>...</td>\n      <td>19095.911987</td>\n      <td>28242.808594</td>\n      <td>15580.501556</td>\n      <td>14514.204132</td>\n      <td>13395.409091</td>\n      <td>28202.016220</td>\n      <td>19856.005859</td>\n      <td>21759.433350</td>\n      <td>20480.904106</td>\n      <td>23880.414167</td>\n    </tr>\n    <tr>\n      <th>2020-08-05</th>\n      <td>27793.130707</td>\n      <td>38460.360352</td>\n      <td>18020.469536</td>\n      <td>24055.553833</td>\n      <td>21099.278069</td>\n      <td>31130.177490</td>\n      <td>16625.123001</td>\n      <td>21200.186005</td>\n      <td>28380.446167</td>\n      <td>40735.286514</td>\n      <td>...</td>\n      <td>19010.835205</td>\n      <td>28264.524170</td>\n      <td>15415.416870</td>\n      <td>14970.689148</td>\n      <td>13867.019230</td>\n      <td>28313.912384</td>\n      <td>20139.608765</td>\n      <td>22273.121185</td>\n      <td>20835.134098</td>\n      <td>24238.511707</td>\n    </tr>\n    <tr>\n      <th>2020-08-06</th>\n      <td>28339.898743</td>\n      <td>38700.000000</td>\n      <td>17381.649742</td>\n      <td>23997.145287</td>\n      <td>20491.277075</td>\n      <td>30959.875488</td>\n      <td>16400.809021</td>\n      <td>20989.489655</td>\n      <td>28659.263794</td>\n      <td>41667.656479</td>\n      <td>...</td>\n      <td>18945.850464</td>\n      <td>28194.042480</td>\n      <td>15394.231110</td>\n      <td>14928.395691</td>\n      <td>13875.292364</td>\n      <td>28696.689171</td>\n      <td>20113.020325</td>\n      <td>22396.872101</td>\n      <td>20749.260540</td>\n      <td>24223.589241</td>\n    </tr>\n    <tr>\n      <th>2020-08-07</th>\n      <td>28537.965515</td>\n      <td>38009.519531</td>\n      <td>17315.739845</td>\n      <td>24913.719036</td>\n      <td>20984.252214</td>\n      <td>31155.838745</td>\n      <td>16513.925858</td>\n      <td>21068.501190</td>\n      <td>28458.916443</td>\n      <td>41034.885681</td>\n      <td>...</td>\n      <td>19278.798950</td>\n      <td>28181.228027</td>\n      <td>15506.345215</td>\n      <td>15208.411438</td>\n      <td>13858.565502</td>\n      <td>29727.247810</td>\n      <td>20508.879089</td>\n      <td>23153.400177</td>\n      <td>21409.414822</td>\n      <td>24111.683670</td>\n    </tr>\n    <tr>\n      <th>...</th>\n      <td>...</td>\n      <td>...</td>\n      <td>...</td>\n      <td>...</td>\n      <td>...</td>\n      <td>...</td>\n      <td>...</td>\n      <td>...</td>\n      <td>...</td>\n      <td>...</td>\n      <td>...</td>\n      <td>...</td>\n      <td>...</td>\n      <td>...</td>\n      <td>...</td>\n      <td>...</td>\n      <td>...</td>\n      <td>...</td>\n      <td>...</td>\n      <td>...</td>\n      <td>...</td>\n    </tr>\n    <tr>\n      <th>2021-04-13</th>\n      <td>32847.441040</td>\n      <td>40800.000000</td>\n      <td>33960.549484</td>\n      <td>30875.459587</td>\n      <td>42173.999119</td>\n      <td>31885.960144</td>\n      <td>21977.290710</td>\n      <td>32118.000000</td>\n      <td>31408.059265</td>\n      <td>42338.730316</td>\n      <td>...</td>\n      <td>21498.880249</td>\n      <td>25407.720703</td>\n      <td>15401.700439</td>\n      <td>21560.638916</td>\n      <td>16957.639284</td>\n      <td>35259.840363</td>\n      <td>32767.999268</td>\n      <td>34453.641296</td>\n      <td>34351.599583</td>\n      <td>34269.028736</td>\n    </tr>\n    <tr>\n      <th>2021-04-14</th>\n      <td>32704.019653</td>\n      <td>39996.000000</td>\n      <td>32948.241135</td>\n      <td>30943.110275</td>\n      <td>43708.499622</td>\n      <td>32001.601440</td>\n      <td>22195.540710</td>\n      <td>32265.341553</td>\n      <td>31232.621155</td>\n      <td>42237.720474</td>\n      <td>...</td>\n      <td>21523.359253</td>\n      <td>24995.159912</td>\n      <td>15390.000000</td>\n      <td>22658.800903</td>\n      <td>17358.550325</td>\n      <td>35102.430725</td>\n      <td>33535.000610</td>\n      <td>34791.119568</td>\n      <td>34805.610584</td>\n      <td>34178.669540</td>\n    </tr>\n    <tr>\n      <th>2021-04-15</th>\n      <td>32841.759827</td>\n      <td>40549.081055</td>\n      <td>33216.950516</td>\n      <td>31227.239037</td>\n      <td>43972.499371</td>\n      <td>32388.641296</td>\n      <td>22756.200592</td>\n      <td>32343.780518</td>\n      <td>31716.798950</td>\n      <td>42851.549210</td>\n      <td>...</td>\n      <td>21808.960083</td>\n      <td>25878.599121</td>\n      <td>15679.800110</td>\n      <td>22528.560181</td>\n      <td>16974.699675</td>\n      <td>35598.420181</td>\n      <td>33854.998779</td>\n      <td>35053.079712</td>\n      <td>34488.349583</td>\n      <td>34833.778736</td>\n    </tr>\n    <tr>\n      <th>2021-04-16</th>\n      <td>33097.360260</td>\n      <td>40793.279297</td>\n      <td>33886.189072</td>\n      <td>31565.489037</td>\n      <td>44055.001259</td>\n      <td>32391.000000</td>\n      <td>23169.420059</td>\n      <td>33102.740906</td>\n      <td>31881.920105</td>\n      <td>43416.171265</td>\n      <td>...</td>\n      <td>22015.680664</td>\n      <td>25493.040527</td>\n      <td>15808.499451</td>\n      <td>21964.680542</td>\n      <td>17145.300325</td>\n      <td>35856.810997</td>\n      <td>34230.999756</td>\n      <td>35397.641296</td>\n      <td>34663.389416</td>\n      <td>34720.830460</td>\n    </tr>\n    <tr>\n      <th>2021-04-19</th>\n      <td>33032.195312</td>\n      <td>40538.879883</td>\n      <td>33230.470825</td>\n      <td>31506.860275</td>\n      <td>43461.000252</td>\n      <td>32318.690430</td>\n      <td>23151.959290</td>\n      <td>32802.759094</td>\n      <td>31821.719055</td>\n      <td>43299.618103</td>\n      <td>...</td>\n      <td>21829.442261</td>\n      <td>25723.799561</td>\n      <td>15834.600220</td>\n      <td>22009.819458</td>\n      <td>17183.685390</td>\n      <td>35509.319275</td>\n      <td>33939.001465</td>\n      <td>35056.619568</td>\n      <td>34614.159332</td>\n      <td>34863.899426</td>\n    </tr>\n  </tbody>\n</table>\n<p>179 rows × 45 columns</p>\n</div>"
     },
     "metadata": {},
     "execution_count": 16
    }
   ],
   "source": [
    "portfolio"
   ]
  },
  {
   "cell_type": "code",
   "execution_count": 17,
   "metadata": {},
   "outputs": [],
   "source": [
    "# portfolio[\"PortValue\"] = portfolio.sum(axis=1)\n",
    "# portfolio"
   ]
  },
  {
   "cell_type": "code",
   "execution_count": 18,
   "metadata": {},
   "outputs": [],
   "source": [
    "import statistics"
   ]
  },
  {
   "cell_type": "code",
   "execution_count": 19,
   "metadata": {},
   "outputs": [
    {
     "output_type": "error",
     "ename": "NameError",
     "evalue": "name 'portvalue' is not defined",
     "traceback": [
      "\u001b[0;31m---------------------------------------------------------------------------\u001b[0m",
      "\u001b[0;31mNameError\u001b[0m                                 Traceback (most recent call last)",
      "\u001b[0;32m<ipython-input-19-c08b922009ff>\u001b[0m in \u001b[0;36m<module>\u001b[0;34m\u001b[0m\n\u001b[1;32m      1\u001b[0m \u001b[0mpct_change\u001b[0m \u001b[0;34m=\u001b[0m \u001b[0;34m[\u001b[0m\u001b[0;34m]\u001b[0m\u001b[0;34m\u001b[0m\u001b[0;34m\u001b[0m\u001b[0m\n\u001b[0;32m----> 2\u001b[0;31m \u001b[0;32mfor\u001b[0m \u001b[0mi\u001b[0m \u001b[0;32min\u001b[0m \u001b[0mrange\u001b[0m\u001b[0;34m(\u001b[0m\u001b[0;36m1\u001b[0m\u001b[0;34m,\u001b[0m \u001b[0mlen\u001b[0m\u001b[0;34m(\u001b[0m\u001b[0mportvalue\u001b[0m\u001b[0;34m)\u001b[0m\u001b[0;34m)\u001b[0m\u001b[0;34m:\u001b[0m\u001b[0;34m\u001b[0m\u001b[0;34m\u001b[0m\u001b[0m\n\u001b[0m\u001b[1;32m      3\u001b[0m     \u001b[0mcurr\u001b[0m \u001b[0;34m=\u001b[0m \u001b[0mportvalue\u001b[0m\u001b[0;34m[\u001b[0m\u001b[0mi\u001b[0m\u001b[0;34m]\u001b[0m\u001b[0;34m\u001b[0m\u001b[0;34m\u001b[0m\u001b[0m\n\u001b[1;32m      4\u001b[0m     \u001b[0myester\u001b[0m \u001b[0;34m=\u001b[0m \u001b[0mportvalue\u001b[0m\u001b[0;34m[\u001b[0m\u001b[0mi\u001b[0m\u001b[0;34m-\u001b[0m\u001b[0;36m1\u001b[0m\u001b[0;34m]\u001b[0m\u001b[0;34m\u001b[0m\u001b[0;34m\u001b[0m\u001b[0m\n\u001b[1;32m      5\u001b[0m     \u001b[0mdelta\u001b[0m \u001b[0;34m=\u001b[0m \u001b[0mcurr\u001b[0m\u001b[0;34m-\u001b[0m\u001b[0myester\u001b[0m\u001b[0;34m\u001b[0m\u001b[0;34m\u001b[0m\u001b[0m\n",
      "\u001b[0;31mNameError\u001b[0m: name 'portvalue' is not defined"
     ]
    }
   ],
   "source": [
    "pct_change = []\n",
    "for i in range(1, len(portvalue)):\n",
    "    curr = portvalue[i]\n",
    "    yester = portvalue[i-1]\n",
    "    delta = curr-yester\n",
    "    pct_change.append(delta/curr * 100)"
   ]
  },
  {
   "cell_type": "code",
   "execution_count": 31,
   "metadata": {},
   "outputs": [
    {
     "output_type": "stream",
     "name": "stdout",
     "text": [
      "0.14534711693706417 1.0541645918147067 0.12412399159775944\n"
     ]
    }
   ],
   "source": [
    "avg_pct_change = statistics.mean(pct_change)\n",
    "print(avg_pct_change)"
   ]
  },
  {
   "cell_type": "code",
   "execution_count": null,
   "metadata": {},
   "outputs": [],
   "source": [
    "stdev_pct_change = statistics.stdev(pct_change)\n",
    "print(stdev_pct_change)"
   ]
  },
  {
   "cell_type": "code",
   "execution_count": null,
   "metadata": {},
   "outputs": [],
   "source": [
    "print((avg_pct_change-.0145)/stdev_pct_change)"
   ]
  },
  {
   "cell_type": "code",
   "execution_count": 32,
   "metadata": {},
   "outputs": [
    {
     "output_type": "execute_result",
     "data": {
      "text/plain": [
       "                 MCD      AMZN      FIVE       TJX       DAN        PG  \\\n",
       "Date                                                                     \n",
       "2020-07-24  0.000000  0.000000  0.000000  0.000000  0.000000  0.000000   \n",
       "2020-07-27  1.257146  1.515446  1.272400 -1.555296  1.493711  0.284990   \n",
       "2020-07-28 -2.552992 -1.829128 -1.013754 -0.579375 -0.553361  1.219893   \n",
       "2020-07-29 -0.015288  1.094433  2.480358  1.558935  1.861915  0.335128   \n",
       "2020-07-30 -0.409403  0.601264 -1.714853 -1.937990 -8.410430  2.366456   \n",
       "...              ...       ...       ...       ...       ...       ...   \n",
       "2021-04-05  1.590561  2.037046  1.772533  2.626917  0.162539  1.590325   \n",
       "2021-04-06  1.319476 -0.090263 -0.871196 -0.177414  1.717254  0.036632   \n",
       "2021-04-07  0.300932  1.694517 -1.422988  0.206550 -3.087690  0.175520   \n",
       "2021-04-08 -1.024973  0.603466  1.268006  1.810807  0.450814  0.378835   \n",
       "2021-04-09  0.531362  2.161791  2.809818  0.604749  5.536199 -0.652636   \n",
       "\n",
       "                 STZ        EL      COST       ZTS  ...       NEE      EQIX  \\\n",
       "Date                                                ...                       \n",
       "2020-07-24  0.000000  0.000000  0.000000  0.000000  ...  0.000000  0.000000   \n",
       "2020-07-27 -0.536646  0.565238  0.555541  1.837729  ... -0.943693  2.202917   \n",
       "2020-07-28  0.350938 -0.124604 -0.009157 -0.643928  ...  0.860596 -0.195348   \n",
       "2020-07-29  1.150822 -0.901087 -0.438451  1.090860  ...  0.497433  2.268838   \n",
       "2020-07-30 -0.431338  1.113805 -0.190878  1.019389  ...  0.318767  1.021913   \n",
       "...              ...       ...       ...       ...  ...       ...       ...   \n",
       "2021-04-05  0.286609  0.995700  1.629623  0.328265  ...  1.315450  1.773295   \n",
       "2021-04-06  2.547611 -0.091522 -0.194383 -1.610013  ...  1.005671 -0.222150   \n",
       "2021-04-07 -0.578871  0.044050 -0.365095  1.254124  ... -0.193766 -0.622399   \n",
       "2021-04-08 -4.785690  1.155463  0.667184  1.324997  ...  0.450101  0.471141   \n",
       "2021-04-09 -0.026774  1.171723  0.547890 -0.093834  ...  0.230947 -0.033454   \n",
       "\n",
       "                 ARE       PXD       BKR       ICE        GS       AXP  \\\n",
       "Date                                                                     \n",
       "2020-07-24  0.000000  0.000000  0.000000  0.000000  0.000000  0.000000   \n",
       "2020-07-27  1.062448 -1.177429 -0.244944 -1.882795  0.763478  0.480215   \n",
       "2020-07-28  1.973646 -2.040386 -2.898557 -1.743439 -0.694384 -1.450965   \n",
       "2020-07-29  1.289339  2.019483 -0.379497  1.463424  0.473890  2.347719   \n",
       "2020-07-30  0.039745 -2.806470 -3.131129  0.074167 -1.528587 -2.155308   \n",
       "...              ...       ...       ...       ...       ...       ...   \n",
       "2021-04-05  0.568282 -8.161397 -1.494627  0.790551 -1.267233  1.020122   \n",
       "2021-04-06  0.181285 -0.528463 -0.752940 -1.053461  1.076252  0.061578   \n",
       "2021-04-07 -0.588235  1.400374  0.839945  0.732023 -0.156181  0.666085   \n",
       "2021-04-08 -0.431261 -2.702517 -3.476587  1.111686  1.386129 -0.061216   \n",
       "2021-04-09 -0.516633 -1.562608 -2.983583  0.964408 -0.099760  0.500748   \n",
       "\n",
       "                KBWB       BAM  \n",
       "Date                            \n",
       "2020-07-24  0.000000  0.000000  \n",
       "2020-07-27 -1.515155  0.622953  \n",
       "2020-07-28 -0.340743  1.027608  \n",
       "2020-07-29  3.074177 -0.412731  \n",
       "2020-07-30 -2.366699 -1.132980  \n",
       "...              ...       ...  \n",
       "2021-04-05  0.509960  1.431721  \n",
       "2021-04-06 -0.191600 -0.821681  \n",
       "2021-04-07  0.334181  0.464197  \n",
       "2021-04-08 -0.047761  0.044182  \n",
       "2021-04-09  0.977454  0.593017  \n",
       "\n",
       "[179 rows x 45 columns]"
      ],
      "text/html": "<div>\n<style scoped>\n    .dataframe tbody tr th:only-of-type {\n        vertical-align: middle;\n    }\n\n    .dataframe tbody tr th {\n        vertical-align: top;\n    }\n\n    .dataframe thead th {\n        text-align: right;\n    }\n</style>\n<table border=\"1\" class=\"dataframe\">\n  <thead>\n    <tr style=\"text-align: right;\">\n      <th></th>\n      <th>MCD</th>\n      <th>AMZN</th>\n      <th>FIVE</th>\n      <th>TJX</th>\n      <th>DAN</th>\n      <th>PG</th>\n      <th>STZ</th>\n      <th>EL</th>\n      <th>COST</th>\n      <th>ZTS</th>\n      <th>...</th>\n      <th>NEE</th>\n      <th>EQIX</th>\n      <th>ARE</th>\n      <th>PXD</th>\n      <th>BKR</th>\n      <th>ICE</th>\n      <th>GS</th>\n      <th>AXP</th>\n      <th>KBWB</th>\n      <th>BAM</th>\n    </tr>\n    <tr>\n      <th>Date</th>\n      <th></th>\n      <th></th>\n      <th></th>\n      <th></th>\n      <th></th>\n      <th></th>\n      <th></th>\n      <th></th>\n      <th></th>\n      <th></th>\n      <th></th>\n      <th></th>\n      <th></th>\n      <th></th>\n      <th></th>\n      <th></th>\n      <th></th>\n      <th></th>\n      <th></th>\n      <th></th>\n      <th></th>\n    </tr>\n  </thead>\n  <tbody>\n    <tr>\n      <th>2020-07-24</th>\n      <td>0.000000</td>\n      <td>0.000000</td>\n      <td>0.000000</td>\n      <td>0.000000</td>\n      <td>0.000000</td>\n      <td>0.000000</td>\n      <td>0.000000</td>\n      <td>0.000000</td>\n      <td>0.000000</td>\n      <td>0.000000</td>\n      <td>...</td>\n      <td>0.000000</td>\n      <td>0.000000</td>\n      <td>0.000000</td>\n      <td>0.000000</td>\n      <td>0.000000</td>\n      <td>0.000000</td>\n      <td>0.000000</td>\n      <td>0.000000</td>\n      <td>0.000000</td>\n      <td>0.000000</td>\n    </tr>\n    <tr>\n      <th>2020-07-27</th>\n      <td>1.257146</td>\n      <td>1.515446</td>\n      <td>1.272400</td>\n      <td>-1.555296</td>\n      <td>1.493711</td>\n      <td>0.284990</td>\n      <td>-0.536646</td>\n      <td>0.565238</td>\n      <td>0.555541</td>\n      <td>1.837729</td>\n      <td>...</td>\n      <td>-0.943693</td>\n      <td>2.202917</td>\n      <td>1.062448</td>\n      <td>-1.177429</td>\n      <td>-0.244944</td>\n      <td>-1.882795</td>\n      <td>0.763478</td>\n      <td>0.480215</td>\n      <td>-1.515155</td>\n      <td>0.622953</td>\n    </tr>\n    <tr>\n      <th>2020-07-28</th>\n      <td>-2.552992</td>\n      <td>-1.829128</td>\n      <td>-1.013754</td>\n      <td>-0.579375</td>\n      <td>-0.553361</td>\n      <td>1.219893</td>\n      <td>0.350938</td>\n      <td>-0.124604</td>\n      <td>-0.009157</td>\n      <td>-0.643928</td>\n      <td>...</td>\n      <td>0.860596</td>\n      <td>-0.195348</td>\n      <td>1.973646</td>\n      <td>-2.040386</td>\n      <td>-2.898557</td>\n      <td>-1.743439</td>\n      <td>-0.694384</td>\n      <td>-1.450965</td>\n      <td>-0.340743</td>\n      <td>1.027608</td>\n    </tr>\n    <tr>\n      <th>2020-07-29</th>\n      <td>-0.015288</td>\n      <td>1.094433</td>\n      <td>2.480358</td>\n      <td>1.558935</td>\n      <td>1.861915</td>\n      <td>0.335128</td>\n      <td>1.150822</td>\n      <td>-0.901087</td>\n      <td>-0.438451</td>\n      <td>1.090860</td>\n      <td>...</td>\n      <td>0.497433</td>\n      <td>2.268838</td>\n      <td>1.289339</td>\n      <td>2.019483</td>\n      <td>-0.379497</td>\n      <td>1.463424</td>\n      <td>0.473890</td>\n      <td>2.347719</td>\n      <td>3.074177</td>\n      <td>-0.412731</td>\n    </tr>\n    <tr>\n      <th>2020-07-30</th>\n      <td>-0.409403</td>\n      <td>0.601264</td>\n      <td>-1.714853</td>\n      <td>-1.937990</td>\n      <td>-8.410430</td>\n      <td>2.366456</td>\n      <td>-0.431338</td>\n      <td>1.113805</td>\n      <td>-0.190878</td>\n      <td>1.019389</td>\n      <td>...</td>\n      <td>0.318767</td>\n      <td>1.021913</td>\n      <td>0.039745</td>\n      <td>-2.806470</td>\n      <td>-3.131129</td>\n      <td>0.074167</td>\n      <td>-1.528587</td>\n      <td>-2.155308</td>\n      <td>-2.366699</td>\n      <td>-1.132980</td>\n    </tr>\n    <tr>\n      <th>...</th>\n      <td>...</td>\n      <td>...</td>\n      <td>...</td>\n      <td>...</td>\n      <td>...</td>\n      <td>...</td>\n      <td>...</td>\n      <td>...</td>\n      <td>...</td>\n      <td>...</td>\n      <td>...</td>\n      <td>...</td>\n      <td>...</td>\n      <td>...</td>\n      <td>...</td>\n      <td>...</td>\n      <td>...</td>\n      <td>...</td>\n      <td>...</td>\n      <td>...</td>\n      <td>...</td>\n    </tr>\n    <tr>\n      <th>2021-04-05</th>\n      <td>1.590561</td>\n      <td>2.037046</td>\n      <td>1.772533</td>\n      <td>2.626917</td>\n      <td>0.162539</td>\n      <td>1.590325</td>\n      <td>0.286609</td>\n      <td>0.995700</td>\n      <td>1.629623</td>\n      <td>0.328265</td>\n      <td>...</td>\n      <td>1.315450</td>\n      <td>1.773295</td>\n      <td>0.568282</td>\n      <td>-8.161397</td>\n      <td>-1.494627</td>\n      <td>0.790551</td>\n      <td>-1.267233</td>\n      <td>1.020122</td>\n      <td>0.509960</td>\n      <td>1.431721</td>\n    </tr>\n    <tr>\n      <th>2021-04-06</th>\n      <td>1.319476</td>\n      <td>-0.090263</td>\n      <td>-0.871196</td>\n      <td>-0.177414</td>\n      <td>1.717254</td>\n      <td>0.036632</td>\n      <td>2.547611</td>\n      <td>-0.091522</td>\n      <td>-0.194383</td>\n      <td>-1.610013</td>\n      <td>...</td>\n      <td>1.005671</td>\n      <td>-0.222150</td>\n      <td>0.181285</td>\n      <td>-0.528463</td>\n      <td>-0.752940</td>\n      <td>-1.053461</td>\n      <td>1.076252</td>\n      <td>0.061578</td>\n      <td>-0.191600</td>\n      <td>-0.821681</td>\n    </tr>\n    <tr>\n      <th>2021-04-07</th>\n      <td>0.300932</td>\n      <td>1.694517</td>\n      <td>-1.422988</td>\n      <td>0.206550</td>\n      <td>-3.087690</td>\n      <td>0.175520</td>\n      <td>-0.578871</td>\n      <td>0.044050</td>\n      <td>-0.365095</td>\n      <td>1.254124</td>\n      <td>...</td>\n      <td>-0.193766</td>\n      <td>-0.622399</td>\n      <td>-0.588235</td>\n      <td>1.400374</td>\n      <td>0.839945</td>\n      <td>0.732023</td>\n      <td>-0.156181</td>\n      <td>0.666085</td>\n      <td>0.334181</td>\n      <td>0.464197</td>\n    </tr>\n    <tr>\n      <th>2021-04-08</th>\n      <td>-1.024973</td>\n      <td>0.603466</td>\n      <td>1.268006</td>\n      <td>1.810807</td>\n      <td>0.450814</td>\n      <td>0.378835</td>\n      <td>-4.785690</td>\n      <td>1.155463</td>\n      <td>0.667184</td>\n      <td>1.324997</td>\n      <td>...</td>\n      <td>0.450101</td>\n      <td>0.471141</td>\n      <td>-0.431261</td>\n      <td>-2.702517</td>\n      <td>-3.476587</td>\n      <td>1.111686</td>\n      <td>1.386129</td>\n      <td>-0.061216</td>\n      <td>-0.047761</td>\n      <td>0.044182</td>\n    </tr>\n    <tr>\n      <th>2021-04-09</th>\n      <td>0.531362</td>\n      <td>2.161791</td>\n      <td>2.809818</td>\n      <td>0.604749</td>\n      <td>5.536199</td>\n      <td>-0.652636</td>\n      <td>-0.026774</td>\n      <td>1.171723</td>\n      <td>0.547890</td>\n      <td>-0.093834</td>\n      <td>...</td>\n      <td>0.230947</td>\n      <td>-0.033454</td>\n      <td>-0.516633</td>\n      <td>-1.562608</td>\n      <td>-2.983583</td>\n      <td>0.964408</td>\n      <td>-0.099760</td>\n      <td>0.500748</td>\n      <td>0.977454</td>\n      <td>0.593017</td>\n    </tr>\n  </tbody>\n</table>\n<p>179 rows × 45 columns</p>\n</div>"
     },
     "metadata": {},
     "execution_count": 32
    }
   ],
   "source": [
    "for sym in portfolio.columns:\n",
    "    data = list(portfolio[sym])\n",
    "    pct_change = []\n",
    "    for i in range(1, len(data)):\n",
    "        curr = data[i]\n",
    "        yester = data[i-1]\n",
    "        delta = curr-yester\n",
    "        pct_change.append(delta/curr * 100)\n",
    "    pct_change.insert(0, 0)\n",
    "    portfolio[sym] = pct_change\n",
    "\n",
    "portfolio"
   ]
  },
  {
   "cell_type": "code",
   "execution_count": 59,
   "metadata": {},
   "outputs": [
    {
     "output_type": "stream",
     "name": "stdout",
     "text": [
      "[212.94185165320027, 3185.0927257005064, 155.2734636274796, 61.29330548760611, 18.12850397525553, 134.56656318536685, 202.8972437341786, 244.9086320759864, 350.33772405698977, 159.5514459876375, 222.89504263254517, 193.6285483930364, 60.63190372829331, 120.17859253270666, 98.07970633053912, 188.8949817678782, 66.6889207935866, 115.16821080213153, 121.29994495754136, 220.0822888592768, 205.84657364317826, 43.25879323948695, 66.42413421716104, 354.46810179982106, 126.43673139177888, 150.9436312627526, 35.50430171050173, 504.9297753019706, 24.85622824770112, 14.379217917692728, 1757.9878727577252, 270.83759780969035, 132.61240267620406, 65.45226980454429, 149.69453677385212, 74.23517446677778, 724.9180836597634, 164.67803068533956, 114.01516438063297, 18.64497480445734, 106.04295638952841, 249.44612564854117, 115.55017592787077, 47.727342232645555, 37.866203340072204]\n"
     ]
    }
   ],
   "source": [
    "senbet_port = portfolio.to_numpy()\n",
    "senbet_avg_returns = compute_average(senbet_port)\n",
    "print(senbet_avg_returns)"
   ]
  },
  {
   "cell_type": "code",
   "execution_count": 69,
   "metadata": {},
   "outputs": [],
   "source": [
    "senbet_demeaned = compute_stocks_demeaned(senbet_port, senbet_avg_returns)\n",
    "# print(senbet_demeaned)"
   ]
  },
  {
   "cell_type": "code",
   "execution_count": 70,
   "metadata": {},
   "outputs": [
    {
     "output_type": "stream",
     "name": "stdout",
     "text": [
      "[[ 6.43382203e+01  1.12705867e+02  8.20977009e+01 ...  4.38268946e+01\n   1.84508749e+01  1.05772512e+01]\n [ 1.12705867e+02  1.25401595e+04 -2.71926627e+02 ... -2.81798374e+02\n  -1.29546836e+02 -3.73158053e+01]\n [ 8.20977009e+01 -2.71926627e+02  9.44032306e+02 ...  4.71732465e+02\n   2.58459024e+02  1.23202334e+02]\n ...\n [ 4.38268946e+01 -2.81798374e+02  4.71732465e+02 ...  2.83003850e+02\n   1.45679865e+02  7.13748462e+01]\n [ 1.84508749e+01 -1.29546836e+02  2.58459024e+02 ...  1.45679865e+02\n   7.90926493e+01  3.70697832e+01]\n [ 1.05772512e+01 -3.73158053e+01  1.23202334e+02 ...  7.13748462e+01\n   3.70697832e+01  2.06265805e+01]]\n"
     ]
    }
   ],
   "source": [
    "senbet_covmat = compute_covariance_matrix(senbet_demeaned)\n",
    "print(senbet_covmat)"
   ]
  },
  {
   "cell_type": "code",
   "execution_count": 78,
   "metadata": {},
   "outputs": [],
   "source": [
    "senbet_asset_weights = list(trimmed_senbet['Allocation']/100)"
   ]
  },
  {
   "cell_type": "code",
   "execution_count": 79,
   "metadata": {},
   "outputs": [
    {
     "output_type": "stream",
     "name": "stdout",
     "text": [
      "[[16.75346446]]\n"
     ]
    }
   ],
   "source": [
    "est_risk = estimated_portfolio_risk_based_on_stddev(senbet_asset_weights, senbet_covmat)\n",
    "print(est_risk)"
   ]
  },
  {
   "cell_type": "code",
   "execution_count": 80,
   "metadata": {},
   "outputs": [
    {
     "output_type": "stream",
     "name": "stdout",
     "text": [
      "280.82169842356836\n"
     ]
    }
   ],
   "source": [
    "exp_ret = expected_portfolio_return(asset_weights=senbet_asset_weights, average_closing_prices = senbet_avg_returns)\n",
    "print(exp_ret)"
   ]
  },
  {
   "cell_type": "code",
   "execution_count": 81,
   "metadata": {},
   "outputs": [
    {
     "output_type": "execute_result",
     "data": {
      "text/plain": [
       "matrix([[16.40387271]])"
      ]
     },
     "metadata": {},
     "execution_count": 81
    }
   ],
   "source": [
    "sharpe_ratio(exp_ret,est_risk, 6)"
   ]
  },
  {
   "cell_type": "code",
   "execution_count": null,
   "metadata": {},
   "outputs": [],
   "source": []
  }
 ]
}