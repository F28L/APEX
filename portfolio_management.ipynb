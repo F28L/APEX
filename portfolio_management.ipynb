{
 "metadata": {
  "language_info": {
   "codemirror_mode": {
    "name": "ipython",
    "version": 3
   },
   "file_extension": ".py",
   "mimetype": "text/x-python",
   "name": "python",
   "nbconvert_exporter": "python",
   "pygments_lexer": "ipython3",
   "version": "3.8.5"
  },
  "orig_nbformat": 2,
  "kernelspec": {
   "name": "python385jvsc74a57bd0dca0ade3e726a953b501b15e8e990130d2b7799f14cfd9f4271676035ebe5511",
   "display_name": "Python 3.8.5 64-bit ('base': conda)"
  }
 },
 "nbformat": 4,
 "nbformat_minor": 2,
 "cells": [
  {
   "cell_type": "code",
   "execution_count": 1,
   "metadata": {},
   "outputs": [],
   "source": [
    "import yfinance as yf\n",
    "import pandas as pd\n",
    "import numpy as np\n",
    "import matplotlib.pyplot as plt\n",
    "import datetime as dt"
   ]
  },
  {
   "cell_type": "code",
   "execution_count": 2,
   "metadata": {},
   "outputs": [],
   "source": [
    "# Given a m x n matrix  of m closing prices for n equities, returns an 1 x n \n",
    "# array of average closing prices\n",
    "def compute_average(closing_prices_for_multiple_equities):\n",
    "  sums = [0] * len(closing_prices_for_multiple_equities[0])\n",
    "  for row in closing_prices_for_multiple_equities:\n",
    "    for i in range(len(row)):\n",
    "      sums[i] += row[i]\n",
    "\n",
    "  avgs = [x/len(closing_prices_for_multiple_equities) for x in sums]\n",
    "  return avgs"
   ]
  },
  {
   "cell_type": "code",
   "execution_count": 3,
   "metadata": {},
   "outputs": [],
   "source": [
    "# Given an m x n matrix of m closing prices for n equities and n averages for n \n",
    "# equities, returns all of the difference of the closing prices and the averages\n",
    "def compute_stocks_demeaned(closing_prices_matrix, average_closing_prices):\n",
    "  m = len(closing_prices_matrix)\n",
    "  n = len(closing_prices_matrix[0])\n",
    "  demeaned = [[0 for i in range(n)] for j in range(m)]\n",
    "  for i in range(len(closing_prices_matrix)):\n",
    "    for j in range(len(closing_prices_matrix[i])):\n",
    "      demeaned[i][j] = closing_prices_matrix[i][j] - average_closing_prices[j]\n",
    "\n",
    "  return demeaned"
   ]
  },
  {
   "cell_type": "code",
   "execution_count": 5,
   "metadata": {},
   "outputs": [],
   "source": [
    "# Given an m x n matrix of the demeaned closing prices for n equities, returns\n",
    "# the associated covariance matrix calculated by demeaned transpose x demeaned.\n",
    "def compute_covariance_matrix(demeaned):\n",
    "    np_demeaned = np.array(demeaned)\n",
    "    np_demeaned_transpose = np_demeaned.transpose()\n",
    "    return np_demeaned_transpose.dot(np_demeaned)"
   ]
  },
  {
   "cell_type": "code",
   "execution_count": 4,
   "metadata": {},
   "outputs": [],
   "source": [
    "def estimated_portfolio_risk_based_on_stddev (asset_weights, covariance_matrix):\n",
    "  Wt = np.asmatrix(asset_weights)\n",
    "  W = Wt.transpose()\n",
    "  return np.sqrt(Wt.dot(covariance_matrix).dot(W))"
   ]
  },
  {
   "cell_type": "code",
   "execution_count": 6,
   "metadata": {},
   "outputs": [],
   "source": [
    "def expected_portfolio_return(average_closing_prices, asset_weights):\n",
    "  M = np.array(average_closing_prices)\n",
    "  W = np.array(asset_weights)\n",
    "  return M.dot(W)"
   ]
  },
  {
   "cell_type": "code",
   "execution_count": 7,
   "metadata": {},
   "outputs": [],
   "source": [
    "def sharpe_ratio(expected_return, portfolio_std_dev, risk_free_rate):\n",
    "  return (expected_return - risk_free_rate)/portfolio_std_dev"
   ]
  },
  {
   "cell_type": "code",
   "execution_count": 8,
   "metadata": {},
   "outputs": [],
   "source": [
    "# Given array of equities, returning dataframe with historical data dating back \n",
    "def get_closing_price_historical_data(equities, period, interval):\n",
    "  data = {}\n",
    "  for x in equities:\n",
    "    ticker = yf.Ticker(x)\n",
    "    history = ticker.history(period= period, interval= interval)['Close']\n",
    "    data[x] = history\n",
    "  return data"
   ]
  },
  {
   "cell_type": "code",
   "execution_count": 10,
   "metadata": {},
   "outputs": [
    {
     "output_type": "execute_result",
     "data": {
      "text/plain": [
       "                     $  Allocation  Shares\n",
       "0                  MCD      0.0211     142\n",
       "1               AMZN.O      0.0246      12\n",
       "2               FIVE.O      0.0213     169\n",
       "3                  TJX      0.0197     451\n",
       "4   DAN                     0.0266    1650\n",
       "5                   PG      0.0212     236\n",
       "6                  STZ      0.0146      97\n",
       "7                   EL      0.0204     106\n",
       "8               COST.O      0.0201      86\n",
       "9                  ZTS      0.0270     259\n",
       "10                 SYK      0.0242     150\n",
       "11              ICLR.O      0.0225     173\n",
       "12                 BMY      0.0248     593\n",
       "13                 DGX      0.0238     280\n",
       "14              ABBV.K      0.0282     394\n",
       "15                 HON      0.0296     206\n",
       "16                 RTX      0.0237     464\n",
       "17                  WM      0.0264     309\n",
       "18              AAPL.O      0.0228     282\n",
       "19              MSFT.O      0.0268     172\n",
       "20                   V      0.0331     236\n",
       "21              CSCO.O      0.0246     718\n",
       "22                MU.O      0.0232     398\n",
       "23              INTU.O      0.0284     112\n",
       "24              CYBR.O      0.0259     303\n",
       "25              FIVN.O      0.0250     242\n",
       "26                JAMF      0.0202     865\n",
       "27                 NOW      0.0208      58\n",
       "28                 HUN      0.0109     569\n",
       "29              LTHM.K      0.0138    1205\n",
       "30             GOOGL.O      0.0300      22\n",
       "31                FB.O      0.0308     158\n",
       "32              MTCH.O      0.0239     263\n",
       "33                 XLC      0.0300     618\n",
       "34                 AWK      0.0138     139\n",
       "35                 NEE      0.0136     272\n",
       "36              EQIX.O      0.0162      36\n",
       "37                 ARE      0.0098      90\n",
       "38                 PXD      0.0156     148\n",
       "39                 BKR      0.0122     853\n",
       "40                 ICE      0.0220     297\n",
       "41                  GS      0.0216     100\n",
       "42                 AXP      0.0221     236\n",
       "43              KBWB.O      0.0224     547\n",
       "44                 BAM      0.0222     753"
      ],
      "text/html": "<div>\n<style scoped>\n    .dataframe tbody tr th:only-of-type {\n        vertical-align: middle;\n    }\n\n    .dataframe tbody tr th {\n        vertical-align: top;\n    }\n\n    .dataframe thead th {\n        text-align: right;\n    }\n</style>\n<table border=\"1\" class=\"dataframe\">\n  <thead>\n    <tr style=\"text-align: right;\">\n      <th></th>\n      <th>$</th>\n      <th>Allocation</th>\n      <th>Shares</th>\n    </tr>\n  </thead>\n  <tbody>\n    <tr>\n      <th>0</th>\n      <td>MCD</td>\n      <td>0.0211</td>\n      <td>142</td>\n    </tr>\n    <tr>\n      <th>1</th>\n      <td>AMZN.O</td>\n      <td>0.0246</td>\n      <td>12</td>\n    </tr>\n    <tr>\n      <th>2</th>\n      <td>FIVE.O</td>\n      <td>0.0213</td>\n      <td>169</td>\n    </tr>\n    <tr>\n      <th>3</th>\n      <td>TJX</td>\n      <td>0.0197</td>\n      <td>451</td>\n    </tr>\n    <tr>\n      <th>4</th>\n      <td>DAN</td>\n      <td>0.0266</td>\n      <td>1650</td>\n    </tr>\n    <tr>\n      <th>5</th>\n      <td>PG</td>\n      <td>0.0212</td>\n      <td>236</td>\n    </tr>\n    <tr>\n      <th>6</th>\n      <td>STZ</td>\n      <td>0.0146</td>\n      <td>97</td>\n    </tr>\n    <tr>\n      <th>7</th>\n      <td>EL</td>\n      <td>0.0204</td>\n      <td>106</td>\n    </tr>\n    <tr>\n      <th>8</th>\n      <td>COST.O</td>\n      <td>0.0201</td>\n      <td>86</td>\n    </tr>\n    <tr>\n      <th>9</th>\n      <td>ZTS</td>\n      <td>0.0270</td>\n      <td>259</td>\n    </tr>\n    <tr>\n      <th>10</th>\n      <td>SYK</td>\n      <td>0.0242</td>\n      <td>150</td>\n    </tr>\n    <tr>\n      <th>11</th>\n      <td>ICLR.O</td>\n      <td>0.0225</td>\n      <td>173</td>\n    </tr>\n    <tr>\n      <th>12</th>\n      <td>BMY</td>\n      <td>0.0248</td>\n      <td>593</td>\n    </tr>\n    <tr>\n      <th>13</th>\n      <td>DGX</td>\n      <td>0.0238</td>\n      <td>280</td>\n    </tr>\n    <tr>\n      <th>14</th>\n      <td>ABBV.K</td>\n      <td>0.0282</td>\n      <td>394</td>\n    </tr>\n    <tr>\n      <th>15</th>\n      <td>HON</td>\n      <td>0.0296</td>\n      <td>206</td>\n    </tr>\n    <tr>\n      <th>16</th>\n      <td>RTX</td>\n      <td>0.0237</td>\n      <td>464</td>\n    </tr>\n    <tr>\n      <th>17</th>\n      <td>WM</td>\n      <td>0.0264</td>\n      <td>309</td>\n    </tr>\n    <tr>\n      <th>18</th>\n      <td>AAPL.O</td>\n      <td>0.0228</td>\n      <td>282</td>\n    </tr>\n    <tr>\n      <th>19</th>\n      <td>MSFT.O</td>\n      <td>0.0268</td>\n      <td>172</td>\n    </tr>\n    <tr>\n      <th>20</th>\n      <td>V</td>\n      <td>0.0331</td>\n      <td>236</td>\n    </tr>\n    <tr>\n      <th>21</th>\n      <td>CSCO.O</td>\n      <td>0.0246</td>\n      <td>718</td>\n    </tr>\n    <tr>\n      <th>22</th>\n      <td>MU.O</td>\n      <td>0.0232</td>\n      <td>398</td>\n    </tr>\n    <tr>\n      <th>23</th>\n      <td>INTU.O</td>\n      <td>0.0284</td>\n      <td>112</td>\n    </tr>\n    <tr>\n      <th>24</th>\n      <td>CYBR.O</td>\n      <td>0.0259</td>\n      <td>303</td>\n    </tr>\n    <tr>\n      <th>25</th>\n      <td>FIVN.O</td>\n      <td>0.0250</td>\n      <td>242</td>\n    </tr>\n    <tr>\n      <th>26</th>\n      <td>JAMF</td>\n      <td>0.0202</td>\n      <td>865</td>\n    </tr>\n    <tr>\n      <th>27</th>\n      <td>NOW</td>\n      <td>0.0208</td>\n      <td>58</td>\n    </tr>\n    <tr>\n      <th>28</th>\n      <td>HUN</td>\n      <td>0.0109</td>\n      <td>569</td>\n    </tr>\n    <tr>\n      <th>29</th>\n      <td>LTHM.K</td>\n      <td>0.0138</td>\n      <td>1205</td>\n    </tr>\n    <tr>\n      <th>30</th>\n      <td>GOOGL.O</td>\n      <td>0.0300</td>\n      <td>22</td>\n    </tr>\n    <tr>\n      <th>31</th>\n      <td>FB.O</td>\n      <td>0.0308</td>\n      <td>158</td>\n    </tr>\n    <tr>\n      <th>32</th>\n      <td>MTCH.O</td>\n      <td>0.0239</td>\n      <td>263</td>\n    </tr>\n    <tr>\n      <th>33</th>\n      <td>XLC</td>\n      <td>0.0300</td>\n      <td>618</td>\n    </tr>\n    <tr>\n      <th>34</th>\n      <td>AWK</td>\n      <td>0.0138</td>\n      <td>139</td>\n    </tr>\n    <tr>\n      <th>35</th>\n      <td>NEE</td>\n      <td>0.0136</td>\n      <td>272</td>\n    </tr>\n    <tr>\n      <th>36</th>\n      <td>EQIX.O</td>\n      <td>0.0162</td>\n      <td>36</td>\n    </tr>\n    <tr>\n      <th>37</th>\n      <td>ARE</td>\n      <td>0.0098</td>\n      <td>90</td>\n    </tr>\n    <tr>\n      <th>38</th>\n      <td>PXD</td>\n      <td>0.0156</td>\n      <td>148</td>\n    </tr>\n    <tr>\n      <th>39</th>\n      <td>BKR</td>\n      <td>0.0122</td>\n      <td>853</td>\n    </tr>\n    <tr>\n      <th>40</th>\n      <td>ICE</td>\n      <td>0.0220</td>\n      <td>297</td>\n    </tr>\n    <tr>\n      <th>41</th>\n      <td>GS</td>\n      <td>0.0216</td>\n      <td>100</td>\n    </tr>\n    <tr>\n      <th>42</th>\n      <td>AXP</td>\n      <td>0.0221</td>\n      <td>236</td>\n    </tr>\n    <tr>\n      <th>43</th>\n      <td>KBWB.O</td>\n      <td>0.0224</td>\n      <td>547</td>\n    </tr>\n    <tr>\n      <th>44</th>\n      <td>BAM</td>\n      <td>0.0222</td>\n      <td>753</td>\n    </tr>\n  </tbody>\n</table>\n</div>"
     },
     "metadata": {},
     "execution_count": 10
    }
   ],
   "source": [
    "senbet = pd.read_excel('Senbet Portfolio.xlsx')\n",
    "senbet"
   ]
  },
  {
   "cell_type": "code",
   "execution_count": 11,
   "metadata": {},
   "outputs": [
    {
     "output_type": "stream",
     "name": "stdout",
     "text": [
      "                Ticker  Allocation  Shares\n0                  MCD        2.11     142\n1               AMZN.O        2.46      12\n2               FIVE.O        2.13     169\n3                  TJX        1.97     451\n4   DAN                       2.66    1650\n5                   PG        2.12     236\n6                  STZ        1.46      97\n7                   EL        2.04     106\n8               COST.O        2.01      86\n9                  ZTS        2.70     259\n10                 SYK        2.42     150\n11              ICLR.O        2.25     173\n12                 BMY        2.48     593\n13                 DGX        2.38     280\n14              ABBV.K        2.82     394\n15                 HON        2.96     206\n16                 RTX        2.37     464\n17                  WM        2.64     309\n18              AAPL.O        2.28     282\n19              MSFT.O        2.68     172\n20                   V        3.31     236\n21              CSCO.O        2.46     718\n22                MU.O        2.32     398\n23              INTU.O        2.84     112\n24              CYBR.O        2.59     303\n25              FIVN.O        2.50     242\n26                JAMF        2.02     865\n27                 NOW        2.08      58\n28                 HUN        1.09     569\n29              LTHM.K        1.38    1205\n30             GOOGL.O        3.00      22\n31                FB.O        3.08     158\n32              MTCH.O        2.39     263\n33                 XLC        3.00     618\n34                 AWK        1.38     139\n35                 NEE        1.36     272\n36              EQIX.O        1.62      36\n37                 ARE        0.98      90\n38                 PXD        1.56     148\n39                 BKR        1.22     853\n40                 ICE        2.20     297\n41                  GS        2.16     100\n42                 AXP        2.21     236\n43              KBWB.O        2.24     547\n44                 BAM        2.22     753\n"
     ]
    }
   ],
   "source": [
    "trimmed_senbet = senbet\n",
    "trimmed_senbet.columns = ['Ticker', 'Allocation', 'Shares']\n",
    "trimmed_senbet['Allocation'] *= 100\n",
    "print(trimmed_senbet)"
   ]
  },
  {
   "cell_type": "code",
   "execution_count": 12,
   "metadata": {},
   "outputs": [
    {
     "output_type": "execute_result",
     "data": {
      "text/plain": [
       "   Ticker  Allocation  Shares\n",
       "0     MCD        2.11     142\n",
       "1    AMZN        2.46      12\n",
       "2    FIVE        2.13     169\n",
       "3     TJX        1.97     451\n",
       "4     DAN        2.66    1650\n",
       "5      PG        2.12     236\n",
       "6     STZ        1.46      97\n",
       "7      EL        2.04     106\n",
       "8    COST        2.01      86\n",
       "9     ZTS        2.70     259\n",
       "10    SYK        2.42     150\n",
       "11   ICLR        2.25     173\n",
       "12    BMY        2.48     593\n",
       "13    DGX        2.38     280\n",
       "14   ABBV        2.82     394\n",
       "15    HON        2.96     206\n",
       "16    RTX        2.37     464\n",
       "17     WM        2.64     309\n",
       "18   AAPL        2.28     282\n",
       "19   MSFT        2.68     172\n",
       "20      V        3.31     236\n",
       "21   CSCO        2.46     718\n",
       "22     MU        2.32     398\n",
       "23   INTU        2.84     112\n",
       "24   CYBR        2.59     303\n",
       "25   FIVN        2.50     242\n",
       "26   JAMF        2.02     865\n",
       "27    NOW        2.08      58\n",
       "28    HUN        1.09     569\n",
       "29   LTHM        1.38    1205\n",
       "30  GOOGL        3.00      22\n",
       "31     FB        3.08     158\n",
       "32   MTCH        2.39     263\n",
       "33    XLC        3.00     618\n",
       "34    AWK        1.38     139\n",
       "35    NEE        1.36     272\n",
       "36   EQIX        1.62      36\n",
       "37    ARE        0.98      90\n",
       "38    PXD        1.56     148\n",
       "39    BKR        1.22     853\n",
       "40    ICE        2.20     297\n",
       "41     GS        2.16     100\n",
       "42    AXP        2.21     236\n",
       "43   KBWB        2.24     547\n",
       "44    BAM        2.22     753"
      ],
      "text/html": "<div>\n<style scoped>\n    .dataframe tbody tr th:only-of-type {\n        vertical-align: middle;\n    }\n\n    .dataframe tbody tr th {\n        vertical-align: top;\n    }\n\n    .dataframe thead th {\n        text-align: right;\n    }\n</style>\n<table border=\"1\" class=\"dataframe\">\n  <thead>\n    <tr style=\"text-align: right;\">\n      <th></th>\n      <th>Ticker</th>\n      <th>Allocation</th>\n      <th>Shares</th>\n    </tr>\n  </thead>\n  <tbody>\n    <tr>\n      <th>0</th>\n      <td>MCD</td>\n      <td>2.11</td>\n      <td>142</td>\n    </tr>\n    <tr>\n      <th>1</th>\n      <td>AMZN</td>\n      <td>2.46</td>\n      <td>12</td>\n    </tr>\n    <tr>\n      <th>2</th>\n      <td>FIVE</td>\n      <td>2.13</td>\n      <td>169</td>\n    </tr>\n    <tr>\n      <th>3</th>\n      <td>TJX</td>\n      <td>1.97</td>\n      <td>451</td>\n    </tr>\n    <tr>\n      <th>4</th>\n      <td>DAN</td>\n      <td>2.66</td>\n      <td>1650</td>\n    </tr>\n    <tr>\n      <th>5</th>\n      <td>PG</td>\n      <td>2.12</td>\n      <td>236</td>\n    </tr>\n    <tr>\n      <th>6</th>\n      <td>STZ</td>\n      <td>1.46</td>\n      <td>97</td>\n    </tr>\n    <tr>\n      <th>7</th>\n      <td>EL</td>\n      <td>2.04</td>\n      <td>106</td>\n    </tr>\n    <tr>\n      <th>8</th>\n      <td>COST</td>\n      <td>2.01</td>\n      <td>86</td>\n    </tr>\n    <tr>\n      <th>9</th>\n      <td>ZTS</td>\n      <td>2.70</td>\n      <td>259</td>\n    </tr>\n    <tr>\n      <th>10</th>\n      <td>SYK</td>\n      <td>2.42</td>\n      <td>150</td>\n    </tr>\n    <tr>\n      <th>11</th>\n      <td>ICLR</td>\n      <td>2.25</td>\n      <td>173</td>\n    </tr>\n    <tr>\n      <th>12</th>\n      <td>BMY</td>\n      <td>2.48</td>\n      <td>593</td>\n    </tr>\n    <tr>\n      <th>13</th>\n      <td>DGX</td>\n      <td>2.38</td>\n      <td>280</td>\n    </tr>\n    <tr>\n      <th>14</th>\n      <td>ABBV</td>\n      <td>2.82</td>\n      <td>394</td>\n    </tr>\n    <tr>\n      <th>15</th>\n      <td>HON</td>\n      <td>2.96</td>\n      <td>206</td>\n    </tr>\n    <tr>\n      <th>16</th>\n      <td>RTX</td>\n      <td>2.37</td>\n      <td>464</td>\n    </tr>\n    <tr>\n      <th>17</th>\n      <td>WM</td>\n      <td>2.64</td>\n      <td>309</td>\n    </tr>\n    <tr>\n      <th>18</th>\n      <td>AAPL</td>\n      <td>2.28</td>\n      <td>282</td>\n    </tr>\n    <tr>\n      <th>19</th>\n      <td>MSFT</td>\n      <td>2.68</td>\n      <td>172</td>\n    </tr>\n    <tr>\n      <th>20</th>\n      <td>V</td>\n      <td>3.31</td>\n      <td>236</td>\n    </tr>\n    <tr>\n      <th>21</th>\n      <td>CSCO</td>\n      <td>2.46</td>\n      <td>718</td>\n    </tr>\n    <tr>\n      <th>22</th>\n      <td>MU</td>\n      <td>2.32</td>\n      <td>398</td>\n    </tr>\n    <tr>\n      <th>23</th>\n      <td>INTU</td>\n      <td>2.84</td>\n      <td>112</td>\n    </tr>\n    <tr>\n      <th>24</th>\n      <td>CYBR</td>\n      <td>2.59</td>\n      <td>303</td>\n    </tr>\n    <tr>\n      <th>25</th>\n      <td>FIVN</td>\n      <td>2.50</td>\n      <td>242</td>\n    </tr>\n    <tr>\n      <th>26</th>\n      <td>JAMF</td>\n      <td>2.02</td>\n      <td>865</td>\n    </tr>\n    <tr>\n      <th>27</th>\n      <td>NOW</td>\n      <td>2.08</td>\n      <td>58</td>\n    </tr>\n    <tr>\n      <th>28</th>\n      <td>HUN</td>\n      <td>1.09</td>\n      <td>569</td>\n    </tr>\n    <tr>\n      <th>29</th>\n      <td>LTHM</td>\n      <td>1.38</td>\n      <td>1205</td>\n    </tr>\n    <tr>\n      <th>30</th>\n      <td>GOOGL</td>\n      <td>3.00</td>\n      <td>22</td>\n    </tr>\n    <tr>\n      <th>31</th>\n      <td>FB</td>\n      <td>3.08</td>\n      <td>158</td>\n    </tr>\n    <tr>\n      <th>32</th>\n      <td>MTCH</td>\n      <td>2.39</td>\n      <td>263</td>\n    </tr>\n    <tr>\n      <th>33</th>\n      <td>XLC</td>\n      <td>3.00</td>\n      <td>618</td>\n    </tr>\n    <tr>\n      <th>34</th>\n      <td>AWK</td>\n      <td>1.38</td>\n      <td>139</td>\n    </tr>\n    <tr>\n      <th>35</th>\n      <td>NEE</td>\n      <td>1.36</td>\n      <td>272</td>\n    </tr>\n    <tr>\n      <th>36</th>\n      <td>EQIX</td>\n      <td>1.62</td>\n      <td>36</td>\n    </tr>\n    <tr>\n      <th>37</th>\n      <td>ARE</td>\n      <td>0.98</td>\n      <td>90</td>\n    </tr>\n    <tr>\n      <th>38</th>\n      <td>PXD</td>\n      <td>1.56</td>\n      <td>148</td>\n    </tr>\n    <tr>\n      <th>39</th>\n      <td>BKR</td>\n      <td>1.22</td>\n      <td>853</td>\n    </tr>\n    <tr>\n      <th>40</th>\n      <td>ICE</td>\n      <td>2.20</td>\n      <td>297</td>\n    </tr>\n    <tr>\n      <th>41</th>\n      <td>GS</td>\n      <td>2.16</td>\n      <td>100</td>\n    </tr>\n    <tr>\n      <th>42</th>\n      <td>AXP</td>\n      <td>2.21</td>\n      <td>236</td>\n    </tr>\n    <tr>\n      <th>43</th>\n      <td>KBWB</td>\n      <td>2.24</td>\n      <td>547</td>\n    </tr>\n    <tr>\n      <th>44</th>\n      <td>BAM</td>\n      <td>2.22</td>\n      <td>753</td>\n    </tr>\n  </tbody>\n</table>\n</div>"
     },
     "metadata": {},
     "execution_count": 12
    }
   ],
   "source": [
    "trimmed_senbet['Ticker'] = trimmed_senbet.apply(lambda x: x['Ticker'].replace('.O', ''), axis = 1)\n",
    "trimmed_senbet['Ticker'] = trimmed_senbet.apply(lambda x: x['Ticker'].replace('.K', ''), axis = 1)\n",
    "trimmed_senbet['Ticker'] = trimmed_senbet.apply(lambda x: x['Ticker'].replace(' ', ''), axis = 1)\n",
    "trimmed_senbet"
   ]
  },
  {
   "cell_type": "code",
   "execution_count": 14,
   "metadata": {},
   "outputs": [
    {
     "output_type": "execute_result",
     "data": {
      "text/plain": [
       "[2.11,\n",
       " 2.46,\n",
       " 2.13,\n",
       " 1.97,\n",
       " 2.6599999999999997,\n",
       " 2.12,\n",
       " 1.46,\n",
       " 2.04,\n",
       " 2.01,\n",
       " 2.7,\n",
       " 2.42,\n",
       " 2.25,\n",
       " 2.48,\n",
       " 2.3800000000000003,\n",
       " 2.82,\n",
       " 2.96,\n",
       " 2.37,\n",
       " 2.64,\n",
       " 2.2800000000000002,\n",
       " 2.68,\n",
       " 3.3099999999999996,\n",
       " 2.46,\n",
       " 2.32,\n",
       " 2.8400000000000003,\n",
       " 2.59,\n",
       " 2.5,\n",
       " 2.02,\n",
       " 2.08,\n",
       " 1.09,\n",
       " 1.38,\n",
       " 3.0,\n",
       " 3.08,\n",
       " 2.39,\n",
       " 3.0,\n",
       " 1.38,\n",
       " 1.3599999999999999,\n",
       " 1.6199999999999999,\n",
       " 0.98,\n",
       " 1.5599999999999998,\n",
       " 1.22,\n",
       " 2.1999999999999997,\n",
       " 2.16,\n",
       " 2.21,\n",
       " 2.2399999999999998,\n",
       " 2.22]"
      ]
     },
     "metadata": {},
     "execution_count": 14
    }
   ],
   "source": [
    "asset_weights = list(trimmed_senbet['Allocation'])\n",
    "asset_weights"
   ]
  },
  {
   "cell_type": "code",
   "execution_count": 16,
   "metadata": {},
   "outputs": [
    {
     "output_type": "execute_result",
     "data": {
      "text/plain": [
       "{'MCD': Date\n",
       " 2020-07-22    195.097626\n",
       " 2020-07-23    194.046616\n",
       " 2020-07-24    195.195847\n",
       " 2020-07-27    197.680984\n",
       " 2020-07-28    192.759842\n",
       "                  ...    \n",
       " 2021-03-31    224.139999\n",
       " 2021-04-01    225.210007\n",
       " 2021-04-05    228.850006\n",
       " 2021-04-06    231.910004\n",
       " 2021-04-07    232.610001\n",
       " Name: Close, Length: 179, dtype: float64,\n",
       " 'AMZN': Date\n",
       " 2020-07-22    3099.909912\n",
       " 2020-07-23    2986.550049\n",
       " 2020-07-24    3008.909912\n",
       " 2020-07-27    3055.209961\n",
       " 2020-07-28    3000.330078\n",
       "                  ...     \n",
       " 2021-03-31    3094.080078\n",
       " 2021-04-01    3161.000000\n",
       " 2021-04-05    3226.729980\n",
       " 2021-04-06    3223.820068\n",
       " 2021-04-07    3279.389893\n",
       " Name: Close, Length: 179, dtype: float64,\n",
       " 'FIVE': Date\n",
       " 2020-07-22    109.089996\n",
       " 2020-07-23    109.139999\n",
       " 2020-07-24    110.180000\n",
       " 2020-07-27    111.599998\n",
       " 2020-07-28    110.480003\n",
       "                  ...    \n",
       " 2021-03-31    190.789993\n",
       " 2021-04-01    195.619995\n",
       " 2021-04-05    199.149994\n",
       " 2021-04-06    197.429993\n",
       " 2021-04-07    194.660004\n",
       " Name: Close, Length: 179, dtype: float64,\n",
       " 'TJX': Date\n",
       " 2020-07-22    53.238632\n",
       " 2020-07-23    53.188820\n",
       " 2020-07-24    52.690704\n",
       " 2020-07-27    51.883759\n",
       " 2020-07-28    51.584888\n",
       "                 ...    \n",
       " 2021-03-31    66.150002\n",
       " 2021-04-01    65.980003\n",
       " 2021-04-05    67.760002\n",
       " 2021-04-06    67.639999\n",
       " 2021-04-07    67.779999\n",
       " Name: Close, Length: 179, dtype: float64,\n",
       " 'DAN': Date\n",
       " 2020-07-22    12.717729\n",
       " 2020-07-23    12.628097\n",
       " 2020-07-24    12.478710\n",
       " 2020-07-27    12.667933\n",
       " 2020-07-28    12.598219\n",
       "                 ...    \n",
       " 2021-03-31    24.330000\n",
       " 2021-04-01    24.570000\n",
       " 2021-04-05    24.610001\n",
       " 2021-04-06    25.040001\n",
       " 2021-04-07    24.290001\n",
       " Name: Close, Length: 179, dtype: float64,\n",
       " 'PG': Date\n",
       " 2020-07-22    123.909447\n",
       " 2020-07-23    124.711136\n",
       " 2020-07-24    124.513428\n",
       " 2020-07-27    124.869293\n",
       " 2020-07-28    126.411377\n",
       "                  ...    \n",
       " 2021-03-31    135.429993\n",
       " 2021-04-01    134.279999\n",
       " 2021-04-05    136.449997\n",
       " 2021-04-06    136.500000\n",
       " 2021-04-07    136.740005\n",
       " Name: Close, Length: 179, dtype: float64,\n",
       " 'STZ': Date\n",
       " 2020-07-22    177.381836\n",
       " 2020-07-23    176.897614\n",
       " 2020-07-24    177.737610\n",
       " 2020-07-27    176.788879\n",
       " 2020-07-28    177.411484\n",
       "                  ...    \n",
       " 2021-03-31    228.000000\n",
       " 2021-04-01    229.619995\n",
       " 2021-04-05    230.279999\n",
       " 2021-04-06    236.300003\n",
       " 2021-04-07    234.940002\n",
       " Name: Close, Length: 179, dtype: float64,\n",
       " 'EL': Date\n",
       " 2020-07-22    194.366638\n",
       " 2020-07-23    192.905685\n",
       " 2020-07-24    190.570129\n",
       " 2020-07-27    191.653427\n",
       " 2020-07-28    191.414917\n",
       "                  ...    \n",
       " 2021-03-31    290.850006\n",
       " 2021-04-01    292.329987\n",
       " 2021-04-05    295.269989\n",
       " 2021-04-06    295.000000\n",
       " 2021-04-07    295.130005\n",
       " Name: Close, Length: 179, dtype: float64,\n",
       " 'COST': Date\n",
       " 2020-07-22    317.993225\n",
       " 2020-07-23    315.872009\n",
       " 2020-07-24    315.552399\n",
       " 2020-07-27    317.315216\n",
       " 2020-07-28    317.286163\n",
       "                  ...    \n",
       " 2021-03-31    352.480011\n",
       " 2021-04-01    354.940002\n",
       " 2021-04-05    360.820007\n",
       " 2021-04-06    360.119995\n",
       " 2021-04-07    358.809998\n",
       " Name: Close, Length: 179, dtype: float64,\n",
       " 'ZTS': Date\n",
       " 2020-07-22    144.704330\n",
       " 2020-07-23    143.667252\n",
       " 2020-07-24    143.816833\n",
       " 2020-07-27    146.509277\n",
       " 2020-07-28    145.571899\n",
       "                  ...    \n",
       " 2021-03-31    157.479996\n",
       " 2021-04-01    157.889999\n",
       " 2021-04-05    158.410004\n",
       " 2021-04-06    155.899994\n",
       " 2021-04-07    157.880005\n",
       " Name: Close, Length: 179, dtype: float64,\n",
       " 'SYK': Date\n",
       " 2020-07-22    193.316513\n",
       " 2020-07-23    193.604218\n",
       " 2020-07-24    197.244949\n",
       " 2020-07-27    195.766830\n",
       " 2020-07-28    192.731216\n",
       "                  ...    \n",
       " 2021-03-31    243.580002\n",
       " 2021-04-01    242.949997\n",
       " 2021-04-05    248.479996\n",
       " 2021-04-06    248.389999\n",
       " 2021-04-07    247.440002\n",
       " Name: Close, Length: 179, dtype: float64,\n",
       " 'ICLR': Date\n",
       " 2020-07-22    196.100006\n",
       " 2020-07-23    189.059998\n",
       " 2020-07-24    185.059998\n",
       " 2020-07-27    186.509995\n",
       " 2020-07-28    185.660004\n",
       "                  ...    \n",
       " 2021-03-31    196.369995\n",
       " 2021-04-01    202.330002\n",
       " 2021-04-05    203.300003\n",
       " 2021-04-06    203.479996\n",
       " 2021-04-07    199.759995\n",
       " Name: Close, Length: 179, dtype: float64,\n",
       " 'BMY': Date\n",
       " 2020-07-22    58.477074\n",
       " 2020-07-23    58.496613\n",
       " 2020-07-24    56.522953\n",
       " 2020-07-27    56.718365\n",
       " 2020-07-28    58.066708\n",
       "                 ...    \n",
       " 2021-03-31    63.130001\n",
       " 2021-04-01    62.930000\n",
       " 2021-04-05    63.160000\n",
       " 2021-04-06    61.980000\n",
       " 2021-04-07    62.060001\n",
       " Name: Close, Length: 179, dtype: float64,\n",
       " 'DGX': Date\n",
       " 2020-07-22    127.928131\n",
       " 2020-07-23    125.798622\n",
       " 2020-07-24    123.225464\n",
       " 2020-07-27    122.288887\n",
       " 2020-07-28    121.717064\n",
       "                  ...    \n",
       " 2021-03-31    127.728531\n",
       " 2021-04-01    128.823288\n",
       " 2021-04-05    129.510010\n",
       " 2021-04-06    128.309998\n",
       " 2021-04-07    127.739998\n",
       " Name: Close, Length: 179, dtype: float64,\n",
       " 'ABBV': Date\n",
       " 2020-07-22     95.273087\n",
       " 2020-07-23     95.594894\n",
       " 2020-07-24     94.697746\n",
       " 2020-07-27     94.746506\n",
       " 2020-07-28     94.307678\n",
       "                  ...    \n",
       " 2021-03-31    108.220001\n",
       " 2021-04-01    108.519997\n",
       " 2021-04-05    106.139999\n",
       " 2021-04-06    105.379997\n",
       " 2021-04-07    105.209999\n",
       " Name: Close, Length: 179, dtype: float64,\n",
       " 'HON': Date\n",
       " 2020-07-22    152.348892\n",
       " 2020-07-23    151.481735\n",
       " 2020-07-24    147.244629\n",
       " 2020-07-27    148.555191\n",
       " 2020-07-28    149.786896\n",
       "                  ...    \n",
       " 2021-03-31    217.070007\n",
       " 2021-04-01    216.800003\n",
       " 2021-04-05    219.270004\n",
       " 2021-04-06    219.190002\n",
       " 2021-04-07    218.500000\n",
       " Name: Close, Length: 179, dtype: float64,\n",
       " 'RTX': Date\n",
       " 2020-07-22    62.320805\n",
       " 2020-07-23    61.821297\n",
       " 2020-07-24    60.792900\n",
       " 2020-07-27    59.833065\n",
       " 2020-07-28    59.744919\n",
       "                 ...    \n",
       " 2021-03-31    77.269997\n",
       " 2021-04-01    77.279999\n",
       " 2021-04-05    77.910004\n",
       " 2021-04-06    77.510002\n",
       " 2021-04-07    77.599998\n",
       " Name: Close, Length: 179, dtype: float64,\n",
       " 'WM': Date\n",
       " 2020-07-22    106.685768\n",
       " 2020-07-23    106.508308\n",
       " 2020-07-24    105.768875\n",
       " 2020-07-27    105.561836\n",
       " 2020-07-28    106.005493\n",
       "                  ...    \n",
       " 2021-03-31    129.020004\n",
       " 2021-04-01    129.279999\n",
       " 2021-04-05    130.990005\n",
       " 2021-04-06    131.600006\n",
       " 2021-04-07    132.410004\n",
       " Name: Close, Length: 179, dtype: float64,\n",
       " 'AAPL': Date\n",
       " 2020-07-22     96.785568\n",
       " 2020-07-23     92.380234\n",
       " 2020-07-24     92.151382\n",
       " 2020-07-27     94.335396\n",
       " 2020-07-28     92.785706\n",
       "                  ...    \n",
       " 2021-03-31    122.150002\n",
       " 2021-04-01    123.000000\n",
       " 2021-04-05    125.900002\n",
       " 2021-04-06    126.209999\n",
       " 2021-04-07    127.900002\n",
       " Name: Close, Length: 179, dtype: float64,\n",
       " 'MSFT': Date\n",
       " 2020-07-22    210.203629\n",
       " 2020-07-23    201.060898\n",
       " 2020-07-24    199.829971\n",
       " 2020-07-27    202.361343\n",
       " 2020-07-28    200.544693\n",
       "                  ...    \n",
       " 2021-03-31    235.770004\n",
       " 2021-04-01    242.350006\n",
       " 2021-04-05    249.070007\n",
       " 2021-04-06    247.860001\n",
       " 2021-04-07    249.899994\n",
       " Name: Close, Length: 179, dtype: float64,\n",
       " 'V': Date\n",
       " 2020-07-22    197.953766\n",
       " 2020-07-23    196.530273\n",
       " 2020-07-24    194.260681\n",
       " 2020-07-27    196.012665\n",
       " 2020-07-28    195.843445\n",
       "                  ...    \n",
       " 2021-03-31    211.729996\n",
       " 2021-04-01    216.860001\n",
       " 2021-04-05    219.039993\n",
       " 2021-04-06    218.649994\n",
       " 2021-04-07    219.270004\n",
       " Name: Close, Length: 179, dtype: float64,\n",
       " 'CSCO': Date\n",
       " 2020-07-22    45.769390\n",
       " 2020-07-23    46.267094\n",
       " 2020-07-24    45.281445\n",
       " 2020-07-27    46.052399\n",
       " 2020-07-28    45.164333\n",
       "                 ...    \n",
       " 2021-03-31    51.341923\n",
       " 2021-04-01    51.610001\n",
       " 2021-04-05    52.410000\n",
       " 2021-04-06    52.029999\n",
       " 2021-04-07    51.770000\n",
       " Name: Close, Length: 179, dtype: float64,\n",
       " 'MU': Date\n",
       " 2020-07-22    51.650002\n",
       " 2020-07-23    52.639999\n",
       " 2020-07-24    50.020000\n",
       " 2020-07-27    51.590000\n",
       " 2020-07-28    50.090000\n",
       "                 ...    \n",
       " 2021-03-31    88.209999\n",
       " 2021-04-01    92.410004\n",
       " 2021-04-05    93.750000\n",
       " 2021-04-06    93.489998\n",
       " 2021-04-07    93.959999\n",
       " Name: Close, Length: 179, dtype: float64,\n",
       " 'INTU': Date\n",
       " 2020-07-22    295.444153\n",
       " 2020-07-23    290.570587\n",
       " 2020-07-24    287.710205\n",
       " 2020-07-27    295.155121\n",
       " 2020-07-28    295.802917\n",
       "                  ...    \n",
       " 2021-03-31    383.059998\n",
       " 2021-04-01    395.230011\n",
       " 2021-04-05    402.140015\n",
       " 2021-04-06    401.200012\n",
       " 2021-04-07    401.049988\n",
       " Name: Close, Length: 179, dtype: float64,\n",
       " 'CYBR': Date\n",
       " 2020-07-22    117.160004\n",
       " 2020-07-23    116.849998\n",
       " 2020-07-24    113.519997\n",
       " 2020-07-27    114.430000\n",
       " 2020-07-28    112.680000\n",
       "                  ...    \n",
       " 2021-03-31    129.339996\n",
       " 2021-04-01    132.000000\n",
       " 2021-04-05    133.710007\n",
       " 2021-04-06    135.559998\n",
       " 2021-04-07    133.339996\n",
       " Name: Close, Length: 179, dtype: float64,\n",
       " 'FIVN': Date\n",
       " 2020-07-22    115.580002\n",
       " 2020-07-23    112.820000\n",
       " 2020-07-24    111.440002\n",
       " 2020-07-27    114.349998\n",
       " 2020-07-28    113.980003\n",
       "                  ...    \n",
       " 2021-03-31    156.330002\n",
       " 2021-04-01    164.220001\n",
       " 2021-04-05    162.490005\n",
       " 2021-04-06    167.970001\n",
       " 2021-04-07    163.970001\n",
       " Name: Close, Length: 179, dtype: float64,\n",
       " 'JAMF': Date\n",
       " 2020-07-22    39.200001\n",
       " 2020-07-23    39.880001\n",
       " 2020-07-24    39.700001\n",
       " 2020-07-27    40.290001\n",
       " 2020-07-28    40.500000\n",
       "                 ...    \n",
       " 2021-03-31    35.320000\n",
       " 2021-04-01    36.930000\n",
       " 2021-04-05    36.279999\n",
       " 2021-04-06    36.439999\n",
       " 2021-04-07    36.860001\n",
       " Name: Close, Length: 179, dtype: float64,\n",
       " 'NOW': Date\n",
       " 2020-07-22    441.600006\n",
       " 2020-07-23    430.850006\n",
       " 2020-07-24    425.190002\n",
       " 2020-07-27    433.809998\n",
       " 2020-07-28    435.040009\n",
       "                  ...    \n",
       " 2021-03-31    500.109985\n",
       " 2021-04-01    507.010010\n",
       " 2021-04-05    514.020020\n",
       " 2021-04-06    509.079987\n",
       " 2021-04-07    510.730011\n",
       " Name: Close, Length: 179, dtype: float64,\n",
       " 'HUN': Date\n",
       " 2020-07-22    19.099339\n",
       " 2020-07-23    18.981625\n",
       " 2020-07-24    18.952194\n",
       " 2020-07-27    19.452486\n",
       " 2020-07-28    18.471523\n",
       "                 ...    \n",
       " 2021-03-31    28.830000\n",
       " 2021-04-01    29.469999\n",
       " 2021-04-05    29.120001\n",
       " 2021-04-06    28.740000\n",
       " 2021-04-07    28.639999\n",
       " Name: Close, Length: 179, dtype: float64,\n",
       " 'LTHM': Date\n",
       " 2020-07-22     6.730000\n",
       " 2020-07-23     7.040000\n",
       " 2020-07-24     6.790000\n",
       " 2020-07-27     6.670000\n",
       " 2020-07-28     6.570000\n",
       "                 ...    \n",
       " 2021-03-31    17.320000\n",
       " 2021-04-01    18.809999\n",
       " 2021-04-05    17.459999\n",
       " 2021-04-06    18.040001\n",
       " 2021-04-07    16.870001\n",
       " Name: Close, Length: 179, dtype: float64,\n",
       " 'GOOGL': Date\n",
       " 2020-07-22    1564.849976\n",
       " 2020-07-23    1516.750000\n",
       " 2020-07-24    1508.209961\n",
       " 2020-07-27    1529.430054\n",
       " 2020-07-28    1503.650024\n",
       "                  ...     \n",
       " 2021-03-31    2062.520020\n",
       " 2021-04-01    2129.780029\n",
       " 2021-04-05    2218.959961\n",
       " 2021-04-06    2209.260010\n",
       " 2021-04-07    2239.030029\n",
       " Name: Close, Length: 179, dtype: float64,\n",
       " 'FB': Date\n",
       " 2020-07-22    239.869995\n",
       " 2020-07-23    232.600006\n",
       " 2020-07-24    230.710007\n",
       " 2020-07-27    233.500000\n",
       " 2020-07-28    230.119995\n",
       "                  ...    \n",
       " 2021-03-31    294.529999\n",
       " 2021-04-01    298.660004\n",
       " 2021-04-05    308.910004\n",
       " 2021-04-06    306.260010\n",
       " 2021-04-07    313.089996\n",
       " Name: Close, Length: 179, dtype: float64,\n",
       " 'MTCH': Date\n",
       " 2020-07-22     93.370003\n",
       " 2020-07-23     91.150002\n",
       " 2020-07-24     90.360001\n",
       " 2020-07-27     91.769997\n",
       " 2020-07-28     98.440002\n",
       "                  ...    \n",
       " 2021-03-31    137.380005\n",
       " 2021-04-01    142.660004\n",
       " 2021-04-05    144.149994\n",
       " 2021-04-06    143.139999\n",
       " 2021-04-07    141.860001\n",
       " Name: Close, Length: 179, dtype: float64,\n",
       " 'XLC': Date\n",
       " 2020-07-22    57.564022\n",
       " 2020-07-23    56.629150\n",
       " 2020-07-24    56.539639\n",
       " 2020-07-27    56.927513\n",
       " 2020-07-28    56.340736\n",
       "                 ...    \n",
       " 2021-03-31    73.320000\n",
       " 2021-04-01    74.580002\n",
       " 2021-04-05    76.150002\n",
       " 2021-04-06    76.339996\n",
       " 2021-04-07    76.930000\n",
       " Name: Close, Length: 179, dtype: float64,\n",
       " 'AWK': Date\n",
       " 2020-07-22    142.291870\n",
       " 2020-07-23    143.380417\n",
       " 2020-07-24    143.014282\n",
       " 2020-07-27    142.826248\n",
       " 2020-07-28    143.845520\n",
       "                  ...    \n",
       " 2021-03-31    149.919998\n",
       " 2021-04-01    150.589996\n",
       " 2021-04-05    152.029999\n",
       " 2021-04-06    152.800003\n",
       " 2021-04-07    152.929993\n",
       " Name: Close, Length: 179, dtype: float64,\n",
       " 'NEE': Date\n",
       " 2020-07-22    69.065224\n",
       " 2020-07-23    69.200691\n",
       " 2020-07-24    69.023354\n",
       " 2020-07-27    68.378075\n",
       " 2020-07-28    68.971642\n",
       "                 ...    \n",
       " 2021-03-31    75.610001\n",
       " 2021-04-01    75.769997\n",
       " 2021-04-05    76.779999\n",
       " 2021-04-06    77.559998\n",
       " 2021-04-07    77.410004\n",
       " Name: Close, Length: 179, dtype: float64,\n",
       " 'EQIX': Date\n",
       " 2020-07-22    727.262573\n",
       " 2020-07-23    728.419434\n",
       " 2020-07-24    729.111633\n",
       " 2020-07-27    745.535156\n",
       " 2020-07-28    744.081604\n",
       "                  ...    \n",
       " 2021-03-31    679.590027\n",
       " 2021-04-01    678.000000\n",
       " 2021-04-05    690.239990\n",
       " 2021-04-06    688.710022\n",
       " 2021-04-07    684.450012\n",
       " Name: Close, Length: 179, dtype: float64,\n",
       " 'ARE': Date\n",
       " 2020-07-22    165.661942\n",
       " 2020-07-23    165.299011\n",
       " 2020-07-24    165.328445\n",
       " 2020-07-27    167.103836\n",
       " 2020-07-28    170.468277\n",
       "                  ...    \n",
       " 2021-03-31    164.300003\n",
       " 2021-04-01    169.720001\n",
       " 2021-04-05    170.690002\n",
       " 2021-04-06    171.000000\n",
       " 2021-04-07    170.000000\n",
       " Name: Close, Length: 179, dtype: float64,\n",
       " 'PXD': Date\n",
       " 2020-07-22    101.015358\n",
       " 2020-07-23     99.192329\n",
       " 2020-07-24     98.226616\n",
       " 2020-07-27     97.083527\n",
       " 2020-07-28     95.142258\n",
       "                  ...    \n",
       " 2021-03-31    158.820007\n",
       " 2021-04-01    164.600006\n",
       " 2021-04-05    152.179993\n",
       " 2021-04-06    151.380005\n",
       " 2021-04-07    153.529999\n",
       " Name: Close, Length: 179, dtype: float64,\n",
       " 'BKR': Date\n",
       " 2020-07-22    15.965771\n",
       " 2020-07-23    16.188866\n",
       " 2020-07-24    15.878473\n",
       " 2020-07-27    15.839675\n",
       " 2020-07-28    15.393486\n",
       "                 ...    \n",
       " 2021-03-31    21.610001\n",
       " 2021-04-01    21.730000\n",
       " 2021-04-05    21.410000\n",
       " 2021-04-06    21.250000\n",
       " 2021-04-07    21.430000\n",
       " Name: Close, Length: 179, dtype: float64,\n",
       " 'ICE': Date\n",
       " 2020-07-22     95.233887\n",
       " 2020-07-23     95.025688\n",
       " 2020-07-24     95.491646\n",
       " 2020-07-27     93.726959\n",
       " 2020-07-28     92.120888\n",
       "                  ...    \n",
       " 2021-03-31    111.680000\n",
       " 2021-04-01    114.199997\n",
       " 2021-04-05    115.110001\n",
       " 2021-04-06    113.910004\n",
       " 2021-04-07    114.750000\n",
       " Name: Close, Length: 179, dtype: float64,\n",
       " 'GS': Date\n",
       " 2020-07-22    202.853455\n",
       " 2020-07-23    199.918991\n",
       " 2020-07-24    198.392654\n",
       " 2020-07-27    199.918991\n",
       " 2020-07-28    198.540359\n",
       "                  ...    \n",
       " 2021-03-31    327.000000\n",
       " 2021-04-01    327.640015\n",
       " 2021-04-05    323.540009\n",
       " 2021-04-06    327.059998\n",
       " 2021-04-07    326.549988\n",
       " Name: Close, Length: 179, dtype: float64,\n",
       " 'AXP': Date\n",
       " 2020-07-22     95.515427\n",
       " 2020-07-23     95.644043\n",
       " 2020-07-24     94.318268\n",
       " 2020-07-27     94.773384\n",
       " 2020-07-28     93.417923\n",
       "                  ...    \n",
       " 2021-03-31    141.440002\n",
       " 2021-04-01    144.570007\n",
       " 2021-04-05    146.059998\n",
       " 2021-04-06    146.149994\n",
       " 2021-04-07    147.130005\n",
       " Name: Close, Length: 179, dtype: float64,\n",
       " 'KBWB': Date\n",
       " 2020-07-22    37.716969\n",
       " 2020-07-23    38.295872\n",
       " 2020-07-24    38.129070\n",
       " 2020-07-27    37.559978\n",
       " 2020-07-28    37.432430\n",
       "                 ...    \n",
       " 2021-03-31    61.889999\n",
       " 2021-04-01    62.430000\n",
       " 2021-04-05    62.750000\n",
       " 2021-04-06    62.630001\n",
       " 2021-04-07    62.840000\n",
       " Name: Close, Length: 179, dtype: float64,\n",
       " 'BAM': Date\n",
       " 2020-07-22    34.220284\n",
       " 2020-07-23    33.586208\n",
       " 2020-07-24    33.189907\n",
       " 2020-07-27    33.397961\n",
       " 2020-07-28    33.744724\n",
       "                 ...    \n",
       " 2021-03-31    44.500000\n",
       " 2021-04-01    44.750000\n",
       " 2021-04-05    45.400002\n",
       " 2021-04-06    45.029999\n",
       " 2021-04-07    45.240002\n",
       " Name: Close, Length: 179, dtype: float64}"
      ]
     },
     "metadata": {},
     "execution_count": 16
    }
   ],
   "source": [
    "historical_data = get_closing_price_historical_data(trimmed_senbet['Ticker'], '179d', '1d')"
   ]
  },
  {
   "cell_type": "code",
   "execution_count": 82,
   "metadata": {},
   "outputs": [
    {
     "output_type": "execute_result",
     "data": {
      "text/plain": [
       "                   MCD         AMZN        FIVE        TJX        DAN  \\\n",
       "Date                                                                    \n",
       "2020-07-22  195.097626  3099.909912  109.089996  53.238632  12.717729   \n",
       "2020-07-23  194.046616  2986.550049  109.139999  53.188820  12.628097   \n",
       "2020-07-24  195.195847  3008.909912  110.180000  52.690704  12.478710   \n",
       "2020-07-27  197.680984  3055.209961  111.599998  51.883759  12.667933   \n",
       "2020-07-28  192.759842  3000.330078  110.480003  51.584888  12.598219   \n",
       "...                ...          ...         ...        ...        ...   \n",
       "2021-03-31  224.139999  3094.080078  190.789993  66.150002  24.330000   \n",
       "2021-04-01  225.210007  3161.000000  195.619995  65.980003  24.570000   \n",
       "2021-04-05  228.850006  3226.729980  199.149994  67.760002  24.610001   \n",
       "2021-04-06  231.910004  3223.820068  197.429993  67.639999  25.040001   \n",
       "2021-04-07  232.610001  3279.389893  194.660004  67.779999  24.290001   \n",
       "\n",
       "                    PG         STZ          EL        COST         ZTS  ...  \\\n",
       "Date                                                                    ...   \n",
       "2020-07-22  123.909447  177.381836  194.366638  317.993225  144.704330  ...   \n",
       "2020-07-23  124.711136  176.897614  192.905685  315.872009  143.667252  ...   \n",
       "2020-07-24  124.513428  177.737610  190.570129  315.552399  143.816833  ...   \n",
       "2020-07-27  124.869293  176.788879  191.653427  317.315216  146.509277  ...   \n",
       "2020-07-28  126.411377  177.411484  191.414917  317.286163  145.571899  ...   \n",
       "...                ...         ...         ...         ...         ...  ...   \n",
       "2021-03-31  135.429993  228.000000  290.850006  352.480011  157.479996  ...   \n",
       "2021-04-01  134.279999  229.619995  292.329987  354.940002  157.889999  ...   \n",
       "2021-04-05  136.449997  230.279999  295.269989  360.820007  158.410004  ...   \n",
       "2021-04-06  136.500000  236.300003  295.000000  360.119995  155.899994  ...   \n",
       "2021-04-07  136.740005  234.940002  295.130005  358.809998  157.880005  ...   \n",
       "\n",
       "                  NEE        EQIX         ARE         PXD        BKR  \\\n",
       "Date                                                                   \n",
       "2020-07-22  69.065224  727.262573  165.661942  101.015358  15.965771   \n",
       "2020-07-23  69.200691  728.419434  165.299011   99.192329  16.188866   \n",
       "2020-07-24  69.023354  729.111633  165.328445   98.226616  15.878473   \n",
       "2020-07-27  68.378075  745.535156  167.103836   97.083527  15.839675   \n",
       "2020-07-28  68.971642  744.081604  170.468277   95.142258  15.393486   \n",
       "...               ...         ...         ...         ...        ...   \n",
       "2021-03-31  75.610001  679.590027  164.300003  158.820007  21.610001   \n",
       "2021-04-01  75.769997  678.000000  169.720001  164.600006  21.730000   \n",
       "2021-04-05  76.779999  690.239990  170.690002  152.179993  21.410000   \n",
       "2021-04-06  77.559998  688.710022  171.000000  151.380005  21.250000   \n",
       "2021-04-07  77.410004  684.450012  170.000000  153.529999  21.430000   \n",
       "\n",
       "                   ICE          GS         AXP       KBWB        BAM  \n",
       "Date                                                                  \n",
       "2020-07-22   95.233887  202.853455   95.515427  37.716969  34.220284  \n",
       "2020-07-23   95.025688  199.918991   95.644043  38.295872  33.586208  \n",
       "2020-07-24   95.491646  198.392654   94.318268  38.129070  33.189907  \n",
       "2020-07-27   93.726959  199.918991   94.773384  37.559978  33.397961  \n",
       "2020-07-28   92.120888  198.540359   93.417923  37.432430  33.744724  \n",
       "...                ...         ...         ...        ...        ...  \n",
       "2021-03-31  111.680000  327.000000  141.440002  61.889999  44.500000  \n",
       "2021-04-01  114.199997  327.640015  144.570007  62.430000  44.750000  \n",
       "2021-04-05  115.110001  323.540009  146.059998  62.750000  45.400002  \n",
       "2021-04-06  113.910004  327.059998  146.149994  62.630001  45.029999  \n",
       "2021-04-07  114.750000  326.549988  147.130005  62.840000  45.240002  \n",
       "\n",
       "[179 rows x 45 columns]"
      ],
      "text/html": "<div>\n<style scoped>\n    .dataframe tbody tr th:only-of-type {\n        vertical-align: middle;\n    }\n\n    .dataframe tbody tr th {\n        vertical-align: top;\n    }\n\n    .dataframe thead th {\n        text-align: right;\n    }\n</style>\n<table border=\"1\" class=\"dataframe\">\n  <thead>\n    <tr style=\"text-align: right;\">\n      <th></th>\n      <th>MCD</th>\n      <th>AMZN</th>\n      <th>FIVE</th>\n      <th>TJX</th>\n      <th>DAN</th>\n      <th>PG</th>\n      <th>STZ</th>\n      <th>EL</th>\n      <th>COST</th>\n      <th>ZTS</th>\n      <th>...</th>\n      <th>NEE</th>\n      <th>EQIX</th>\n      <th>ARE</th>\n      <th>PXD</th>\n      <th>BKR</th>\n      <th>ICE</th>\n      <th>GS</th>\n      <th>AXP</th>\n      <th>KBWB</th>\n      <th>BAM</th>\n    </tr>\n    <tr>\n      <th>Date</th>\n      <th></th>\n      <th></th>\n      <th></th>\n      <th></th>\n      <th></th>\n      <th></th>\n      <th></th>\n      <th></th>\n      <th></th>\n      <th></th>\n      <th></th>\n      <th></th>\n      <th></th>\n      <th></th>\n      <th></th>\n      <th></th>\n      <th></th>\n      <th></th>\n      <th></th>\n      <th></th>\n      <th></th>\n    </tr>\n  </thead>\n  <tbody>\n    <tr>\n      <th>2020-07-22</th>\n      <td>195.097626</td>\n      <td>3099.909912</td>\n      <td>109.089996</td>\n      <td>53.238632</td>\n      <td>12.717729</td>\n      <td>123.909447</td>\n      <td>177.381836</td>\n      <td>194.366638</td>\n      <td>317.993225</td>\n      <td>144.704330</td>\n      <td>...</td>\n      <td>69.065224</td>\n      <td>727.262573</td>\n      <td>165.661942</td>\n      <td>101.015358</td>\n      <td>15.965771</td>\n      <td>95.233887</td>\n      <td>202.853455</td>\n      <td>95.515427</td>\n      <td>37.716969</td>\n      <td>34.220284</td>\n    </tr>\n    <tr>\n      <th>2020-07-23</th>\n      <td>194.046616</td>\n      <td>2986.550049</td>\n      <td>109.139999</td>\n      <td>53.188820</td>\n      <td>12.628097</td>\n      <td>124.711136</td>\n      <td>176.897614</td>\n      <td>192.905685</td>\n      <td>315.872009</td>\n      <td>143.667252</td>\n      <td>...</td>\n      <td>69.200691</td>\n      <td>728.419434</td>\n      <td>165.299011</td>\n      <td>99.192329</td>\n      <td>16.188866</td>\n      <td>95.025688</td>\n      <td>199.918991</td>\n      <td>95.644043</td>\n      <td>38.295872</td>\n      <td>33.586208</td>\n    </tr>\n    <tr>\n      <th>2020-07-24</th>\n      <td>195.195847</td>\n      <td>3008.909912</td>\n      <td>110.180000</td>\n      <td>52.690704</td>\n      <td>12.478710</td>\n      <td>124.513428</td>\n      <td>177.737610</td>\n      <td>190.570129</td>\n      <td>315.552399</td>\n      <td>143.816833</td>\n      <td>...</td>\n      <td>69.023354</td>\n      <td>729.111633</td>\n      <td>165.328445</td>\n      <td>98.226616</td>\n      <td>15.878473</td>\n      <td>95.491646</td>\n      <td>198.392654</td>\n      <td>94.318268</td>\n      <td>38.129070</td>\n      <td>33.189907</td>\n    </tr>\n    <tr>\n      <th>2020-07-27</th>\n      <td>197.680984</td>\n      <td>3055.209961</td>\n      <td>111.599998</td>\n      <td>51.883759</td>\n      <td>12.667933</td>\n      <td>124.869293</td>\n      <td>176.788879</td>\n      <td>191.653427</td>\n      <td>317.315216</td>\n      <td>146.509277</td>\n      <td>...</td>\n      <td>68.378075</td>\n      <td>745.535156</td>\n      <td>167.103836</td>\n      <td>97.083527</td>\n      <td>15.839675</td>\n      <td>93.726959</td>\n      <td>199.918991</td>\n      <td>94.773384</td>\n      <td>37.559978</td>\n      <td>33.397961</td>\n    </tr>\n    <tr>\n      <th>2020-07-28</th>\n      <td>192.759842</td>\n      <td>3000.330078</td>\n      <td>110.480003</td>\n      <td>51.584888</td>\n      <td>12.598219</td>\n      <td>126.411377</td>\n      <td>177.411484</td>\n      <td>191.414917</td>\n      <td>317.286163</td>\n      <td>145.571899</td>\n      <td>...</td>\n      <td>68.971642</td>\n      <td>744.081604</td>\n      <td>170.468277</td>\n      <td>95.142258</td>\n      <td>15.393486</td>\n      <td>92.120888</td>\n      <td>198.540359</td>\n      <td>93.417923</td>\n      <td>37.432430</td>\n      <td>33.744724</td>\n    </tr>\n    <tr>\n      <th>...</th>\n      <td>...</td>\n      <td>...</td>\n      <td>...</td>\n      <td>...</td>\n      <td>...</td>\n      <td>...</td>\n      <td>...</td>\n      <td>...</td>\n      <td>...</td>\n      <td>...</td>\n      <td>...</td>\n      <td>...</td>\n      <td>...</td>\n      <td>...</td>\n      <td>...</td>\n      <td>...</td>\n      <td>...</td>\n      <td>...</td>\n      <td>...</td>\n      <td>...</td>\n      <td>...</td>\n    </tr>\n    <tr>\n      <th>2021-03-31</th>\n      <td>224.139999</td>\n      <td>3094.080078</td>\n      <td>190.789993</td>\n      <td>66.150002</td>\n      <td>24.330000</td>\n      <td>135.429993</td>\n      <td>228.000000</td>\n      <td>290.850006</td>\n      <td>352.480011</td>\n      <td>157.479996</td>\n      <td>...</td>\n      <td>75.610001</td>\n      <td>679.590027</td>\n      <td>164.300003</td>\n      <td>158.820007</td>\n      <td>21.610001</td>\n      <td>111.680000</td>\n      <td>327.000000</td>\n      <td>141.440002</td>\n      <td>61.889999</td>\n      <td>44.500000</td>\n    </tr>\n    <tr>\n      <th>2021-04-01</th>\n      <td>225.210007</td>\n      <td>3161.000000</td>\n      <td>195.619995</td>\n      <td>65.980003</td>\n      <td>24.570000</td>\n      <td>134.279999</td>\n      <td>229.619995</td>\n      <td>292.329987</td>\n      <td>354.940002</td>\n      <td>157.889999</td>\n      <td>...</td>\n      <td>75.769997</td>\n      <td>678.000000</td>\n      <td>169.720001</td>\n      <td>164.600006</td>\n      <td>21.730000</td>\n      <td>114.199997</td>\n      <td>327.640015</td>\n      <td>144.570007</td>\n      <td>62.430000</td>\n      <td>44.750000</td>\n    </tr>\n    <tr>\n      <th>2021-04-05</th>\n      <td>228.850006</td>\n      <td>3226.729980</td>\n      <td>199.149994</td>\n      <td>67.760002</td>\n      <td>24.610001</td>\n      <td>136.449997</td>\n      <td>230.279999</td>\n      <td>295.269989</td>\n      <td>360.820007</td>\n      <td>158.410004</td>\n      <td>...</td>\n      <td>76.779999</td>\n      <td>690.239990</td>\n      <td>170.690002</td>\n      <td>152.179993</td>\n      <td>21.410000</td>\n      <td>115.110001</td>\n      <td>323.540009</td>\n      <td>146.059998</td>\n      <td>62.750000</td>\n      <td>45.400002</td>\n    </tr>\n    <tr>\n      <th>2021-04-06</th>\n      <td>231.910004</td>\n      <td>3223.820068</td>\n      <td>197.429993</td>\n      <td>67.639999</td>\n      <td>25.040001</td>\n      <td>136.500000</td>\n      <td>236.300003</td>\n      <td>295.000000</td>\n      <td>360.119995</td>\n      <td>155.899994</td>\n      <td>...</td>\n      <td>77.559998</td>\n      <td>688.710022</td>\n      <td>171.000000</td>\n      <td>151.380005</td>\n      <td>21.250000</td>\n      <td>113.910004</td>\n      <td>327.059998</td>\n      <td>146.149994</td>\n      <td>62.630001</td>\n      <td>45.029999</td>\n    </tr>\n    <tr>\n      <th>2021-04-07</th>\n      <td>232.610001</td>\n      <td>3279.389893</td>\n      <td>194.660004</td>\n      <td>67.779999</td>\n      <td>24.290001</td>\n      <td>136.740005</td>\n      <td>234.940002</td>\n      <td>295.130005</td>\n      <td>358.809998</td>\n      <td>157.880005</td>\n      <td>...</td>\n      <td>77.410004</td>\n      <td>684.450012</td>\n      <td>170.000000</td>\n      <td>153.529999</td>\n      <td>21.430000</td>\n      <td>114.750000</td>\n      <td>326.549988</td>\n      <td>147.130005</td>\n      <td>62.840000</td>\n      <td>45.240002</td>\n    </tr>\n  </tbody>\n</table>\n<p>179 rows × 45 columns</p>\n</div>"
     },
     "metadata": {},
     "execution_count": 82
    }
   ],
   "source": [
    "portfolio = pd.DataFrame(historical_data)\n",
    "# historical_df =historical_df.dropna(axis = 0)\n",
    "portfolio"
   ]
  },
  {
   "cell_type": "code",
   "execution_count": 55,
   "metadata": {},
   "outputs": [
    {
     "output_type": "execute_result",
     "data": {
      "text/plain": [
       "(179, 45)"
      ]
     },
     "metadata": {},
     "execution_count": 55
    }
   ],
   "source": [
    "portfolio.shape"
   ]
  },
  {
   "cell_type": "code",
   "execution_count": 83,
   "metadata": {},
   "outputs": [],
   "source": [
    "for index, x in trimmed_senbet.iterrows():\n",
    "    portfolio[x.Ticker]*=x.Shares"
   ]
  },
  {
   "cell_type": "code",
   "execution_count": 84,
   "metadata": {},
   "outputs": [
    {
     "output_type": "execute_result",
     "data": {
      "text/plain": [
       "                     MCD          AMZN          FIVE           TJX  \\\n",
       "Date                                                                 \n",
       "2020-07-22  27703.862854  37198.918945  18436.209381  24010.623123   \n",
       "2020-07-23  27554.619415  35838.600586  18444.659897  23988.157768   \n",
       "2020-07-24  27717.810211  36106.918945  18620.420052  23763.507660   \n",
       "2020-07-27  28070.699799  36662.519531  18860.399742  23399.575104   \n",
       "2020-07-28  27371.897552  36003.960938  18671.120567  23264.784695   \n",
       "...                  ...           ...           ...           ...   \n",
       "2021-03-31  31827.879913  37128.960938  32243.508865  29833.650688   \n",
       "2021-04-01  31979.820953  37932.000000  33059.779175  29756.981514   \n",
       "2021-04-05  32496.700867  38720.759766  33656.348969  30559.760963   \n",
       "2021-04-06  32931.220520  38685.840820  33365.668762  30505.639725   \n",
       "2021-04-07  33030.620087  39352.678711  32897.540619  30568.779449   \n",
       "\n",
       "                     DAN            PG           STZ            EL  \\\n",
       "Date                                                                 \n",
       "2020-07-22  20984.252214  29242.629425  17206.038086  20602.863647   \n",
       "2020-07-23  20836.359358  29431.828064  17159.068512  20448.002655   \n",
       "2020-07-24  20589.871788  29385.168945  17240.548157  20200.433716   \n",
       "2020-07-27  20902.088642  29469.153198  17148.521301  20315.263275   \n",
       "2020-07-28  20787.061214  29833.084961  17208.913925  20289.981201   \n",
       "...                  ...           ...           ...           ...   \n",
       "2021-03-31  40144.499874  31961.478271  22116.000000  30830.100647   \n",
       "2021-04-01  40540.499496  31690.079712  22273.139526  30986.978577   \n",
       "2021-04-05  40606.501007  32202.199280  22337.159882  31298.618835   \n",
       "2021-04-06  41316.001511  32214.000000  22921.100296  31270.000000   \n",
       "2021-04-07  40078.501511  32270.641296  22789.180237  31283.780518   \n",
       "\n",
       "                    COST           ZTS  ...           NEE          EQIX  \\\n",
       "Date                                    ...                               \n",
       "2020-07-22  27347.417358  37478.421585  ...  18785.740845  26181.452637   \n",
       "2020-07-23  27164.992798  37209.818161  ...  18822.588013  26223.099609   \n",
       "2020-07-24  27137.506287  37248.559875  ...  18774.352173  26248.018799   \n",
       "2020-07-27  27289.108582  37945.902832  ...  18598.836304  26839.265625   \n",
       "2020-07-28  27286.610046  37703.121948  ...  18760.286499  26786.937744   \n",
       "...                  ...           ...  ...           ...           ...   \n",
       "2021-03-31  30313.280945  40787.318893  ...  20565.920166  24465.240967   \n",
       "2021-04-01  30524.840210  40893.509842  ...  20609.439087  24408.000000   \n",
       "2021-04-05  31030.520630  41028.190948  ...  20884.159668  24848.639648   \n",
       "2021-04-06  30970.319580  40378.098419  ...  21096.319336  24793.560791   \n",
       "2021-04-07  30857.659790  40890.921265  ...  21055.520996  24640.200439   \n",
       "\n",
       "                     ARE           PXD           BKR           ICE  \\\n",
       "Date                                                                 \n",
       "2020-07-22  14909.574738  14950.272980  13618.802425  28284.464355   \n",
       "2020-07-23  14876.911011  14680.464752  13809.102409  28222.629387   \n",
       "2020-07-24  14879.560089  14537.539154  13544.337709  28361.018806   \n",
       "2020-07-27  15039.345245  14368.361938  13511.242732  27836.906891   \n",
       "2020-07-28  15342.144928  14081.054138  13130.643578  27359.903664   \n",
       "...                  ...           ...           ...           ...   \n",
       "2021-03-31  14787.000275  23505.361084  18433.330521  33168.960091   \n",
       "2021-04-01  15274.800110  24360.800903  18535.689610  33917.399094   \n",
       "2021-04-05  15362.100220  22522.638916  18262.729870  34187.670181   \n",
       "2021-04-06  15390.000000  22404.240723  18126.250000  33831.271088   \n",
       "2021-04-07  15300.000000  22722.439819  18279.790260  34080.750000   \n",
       "\n",
       "                      GS           AXP          KBWB           BAM  \n",
       "Date                                                                \n",
       "2020-07-22  20285.345459  22541.640686  20631.181789  25767.873482  \n",
       "2020-07-23  19991.899109  22571.994141  20947.841839  25290.414883  \n",
       "2020-07-24  19839.265442  22259.111206  20856.601444  24992.000027  \n",
       "2020-07-27  19991.899109  22366.518646  20545.308231  25148.664379  \n",
       "2020-07-28  19854.035950  22046.629822  20475.539356  25409.777378  \n",
       "...                  ...           ...           ...           ...  \n",
       "2021-03-31  32700.000000  33379.840576  33853.829666  33508.500000  \n",
       "2021-04-01  32764.001465  34118.521729  34149.210167  33696.750000  \n",
       "2021-04-05  32354.000854  34470.159424  34324.250000  34186.201149  \n",
       "2021-04-06  32705.999756  34491.398560  34258.610584  33907.589081  \n",
       "2021-04-07  32654.998779  34722.681152  34373.480083  34065.721264  \n",
       "\n",
       "[179 rows x 45 columns]"
      ],
      "text/html": "<div>\n<style scoped>\n    .dataframe tbody tr th:only-of-type {\n        vertical-align: middle;\n    }\n\n    .dataframe tbody tr th {\n        vertical-align: top;\n    }\n\n    .dataframe thead th {\n        text-align: right;\n    }\n</style>\n<table border=\"1\" class=\"dataframe\">\n  <thead>\n    <tr style=\"text-align: right;\">\n      <th></th>\n      <th>MCD</th>\n      <th>AMZN</th>\n      <th>FIVE</th>\n      <th>TJX</th>\n      <th>DAN</th>\n      <th>PG</th>\n      <th>STZ</th>\n      <th>EL</th>\n      <th>COST</th>\n      <th>ZTS</th>\n      <th>...</th>\n      <th>NEE</th>\n      <th>EQIX</th>\n      <th>ARE</th>\n      <th>PXD</th>\n      <th>BKR</th>\n      <th>ICE</th>\n      <th>GS</th>\n      <th>AXP</th>\n      <th>KBWB</th>\n      <th>BAM</th>\n    </tr>\n    <tr>\n      <th>Date</th>\n      <th></th>\n      <th></th>\n      <th></th>\n      <th></th>\n      <th></th>\n      <th></th>\n      <th></th>\n      <th></th>\n      <th></th>\n      <th></th>\n      <th></th>\n      <th></th>\n      <th></th>\n      <th></th>\n      <th></th>\n      <th></th>\n      <th></th>\n      <th></th>\n      <th></th>\n      <th></th>\n      <th></th>\n    </tr>\n  </thead>\n  <tbody>\n    <tr>\n      <th>2020-07-22</th>\n      <td>27703.862854</td>\n      <td>37198.918945</td>\n      <td>18436.209381</td>\n      <td>24010.623123</td>\n      <td>20984.252214</td>\n      <td>29242.629425</td>\n      <td>17206.038086</td>\n      <td>20602.863647</td>\n      <td>27347.417358</td>\n      <td>37478.421585</td>\n      <td>...</td>\n      <td>18785.740845</td>\n      <td>26181.452637</td>\n      <td>14909.574738</td>\n      <td>14950.272980</td>\n      <td>13618.802425</td>\n      <td>28284.464355</td>\n      <td>20285.345459</td>\n      <td>22541.640686</td>\n      <td>20631.181789</td>\n      <td>25767.873482</td>\n    </tr>\n    <tr>\n      <th>2020-07-23</th>\n      <td>27554.619415</td>\n      <td>35838.600586</td>\n      <td>18444.659897</td>\n      <td>23988.157768</td>\n      <td>20836.359358</td>\n      <td>29431.828064</td>\n      <td>17159.068512</td>\n      <td>20448.002655</td>\n      <td>27164.992798</td>\n      <td>37209.818161</td>\n      <td>...</td>\n      <td>18822.588013</td>\n      <td>26223.099609</td>\n      <td>14876.911011</td>\n      <td>14680.464752</td>\n      <td>13809.102409</td>\n      <td>28222.629387</td>\n      <td>19991.899109</td>\n      <td>22571.994141</td>\n      <td>20947.841839</td>\n      <td>25290.414883</td>\n    </tr>\n    <tr>\n      <th>2020-07-24</th>\n      <td>27717.810211</td>\n      <td>36106.918945</td>\n      <td>18620.420052</td>\n      <td>23763.507660</td>\n      <td>20589.871788</td>\n      <td>29385.168945</td>\n      <td>17240.548157</td>\n      <td>20200.433716</td>\n      <td>27137.506287</td>\n      <td>37248.559875</td>\n      <td>...</td>\n      <td>18774.352173</td>\n      <td>26248.018799</td>\n      <td>14879.560089</td>\n      <td>14537.539154</td>\n      <td>13544.337709</td>\n      <td>28361.018806</td>\n      <td>19839.265442</td>\n      <td>22259.111206</td>\n      <td>20856.601444</td>\n      <td>24992.000027</td>\n    </tr>\n    <tr>\n      <th>2020-07-27</th>\n      <td>28070.699799</td>\n      <td>36662.519531</td>\n      <td>18860.399742</td>\n      <td>23399.575104</td>\n      <td>20902.088642</td>\n      <td>29469.153198</td>\n      <td>17148.521301</td>\n      <td>20315.263275</td>\n      <td>27289.108582</td>\n      <td>37945.902832</td>\n      <td>...</td>\n      <td>18598.836304</td>\n      <td>26839.265625</td>\n      <td>15039.345245</td>\n      <td>14368.361938</td>\n      <td>13511.242732</td>\n      <td>27836.906891</td>\n      <td>19991.899109</td>\n      <td>22366.518646</td>\n      <td>20545.308231</td>\n      <td>25148.664379</td>\n    </tr>\n    <tr>\n      <th>2020-07-28</th>\n      <td>27371.897552</td>\n      <td>36003.960938</td>\n      <td>18671.120567</td>\n      <td>23264.784695</td>\n      <td>20787.061214</td>\n      <td>29833.084961</td>\n      <td>17208.913925</td>\n      <td>20289.981201</td>\n      <td>27286.610046</td>\n      <td>37703.121948</td>\n      <td>...</td>\n      <td>18760.286499</td>\n      <td>26786.937744</td>\n      <td>15342.144928</td>\n      <td>14081.054138</td>\n      <td>13130.643578</td>\n      <td>27359.903664</td>\n      <td>19854.035950</td>\n      <td>22046.629822</td>\n      <td>20475.539356</td>\n      <td>25409.777378</td>\n    </tr>\n    <tr>\n      <th>...</th>\n      <td>...</td>\n      <td>...</td>\n      <td>...</td>\n      <td>...</td>\n      <td>...</td>\n      <td>...</td>\n      <td>...</td>\n      <td>...</td>\n      <td>...</td>\n      <td>...</td>\n      <td>...</td>\n      <td>...</td>\n      <td>...</td>\n      <td>...</td>\n      <td>...</td>\n      <td>...</td>\n      <td>...</td>\n      <td>...</td>\n      <td>...</td>\n      <td>...</td>\n      <td>...</td>\n    </tr>\n    <tr>\n      <th>2021-03-31</th>\n      <td>31827.879913</td>\n      <td>37128.960938</td>\n      <td>32243.508865</td>\n      <td>29833.650688</td>\n      <td>40144.499874</td>\n      <td>31961.478271</td>\n      <td>22116.000000</td>\n      <td>30830.100647</td>\n      <td>30313.280945</td>\n      <td>40787.318893</td>\n      <td>...</td>\n      <td>20565.920166</td>\n      <td>24465.240967</td>\n      <td>14787.000275</td>\n      <td>23505.361084</td>\n      <td>18433.330521</td>\n      <td>33168.960091</td>\n      <td>32700.000000</td>\n      <td>33379.840576</td>\n      <td>33853.829666</td>\n      <td>33508.500000</td>\n    </tr>\n    <tr>\n      <th>2021-04-01</th>\n      <td>31979.820953</td>\n      <td>37932.000000</td>\n      <td>33059.779175</td>\n      <td>29756.981514</td>\n      <td>40540.499496</td>\n      <td>31690.079712</td>\n      <td>22273.139526</td>\n      <td>30986.978577</td>\n      <td>30524.840210</td>\n      <td>40893.509842</td>\n      <td>...</td>\n      <td>20609.439087</td>\n      <td>24408.000000</td>\n      <td>15274.800110</td>\n      <td>24360.800903</td>\n      <td>18535.689610</td>\n      <td>33917.399094</td>\n      <td>32764.001465</td>\n      <td>34118.521729</td>\n      <td>34149.210167</td>\n      <td>33696.750000</td>\n    </tr>\n    <tr>\n      <th>2021-04-05</th>\n      <td>32496.700867</td>\n      <td>38720.759766</td>\n      <td>33656.348969</td>\n      <td>30559.760963</td>\n      <td>40606.501007</td>\n      <td>32202.199280</td>\n      <td>22337.159882</td>\n      <td>31298.618835</td>\n      <td>31030.520630</td>\n      <td>41028.190948</td>\n      <td>...</td>\n      <td>20884.159668</td>\n      <td>24848.639648</td>\n      <td>15362.100220</td>\n      <td>22522.638916</td>\n      <td>18262.729870</td>\n      <td>34187.670181</td>\n      <td>32354.000854</td>\n      <td>34470.159424</td>\n      <td>34324.250000</td>\n      <td>34186.201149</td>\n    </tr>\n    <tr>\n      <th>2021-04-06</th>\n      <td>32931.220520</td>\n      <td>38685.840820</td>\n      <td>33365.668762</td>\n      <td>30505.639725</td>\n      <td>41316.001511</td>\n      <td>32214.000000</td>\n      <td>22921.100296</td>\n      <td>31270.000000</td>\n      <td>30970.319580</td>\n      <td>40378.098419</td>\n      <td>...</td>\n      <td>21096.319336</td>\n      <td>24793.560791</td>\n      <td>15390.000000</td>\n      <td>22404.240723</td>\n      <td>18126.250000</td>\n      <td>33831.271088</td>\n      <td>32705.999756</td>\n      <td>34491.398560</td>\n      <td>34258.610584</td>\n      <td>33907.589081</td>\n    </tr>\n    <tr>\n      <th>2021-04-07</th>\n      <td>33030.620087</td>\n      <td>39352.678711</td>\n      <td>32897.540619</td>\n      <td>30568.779449</td>\n      <td>40078.501511</td>\n      <td>32270.641296</td>\n      <td>22789.180237</td>\n      <td>31283.780518</td>\n      <td>30857.659790</td>\n      <td>40890.921265</td>\n      <td>...</td>\n      <td>21055.520996</td>\n      <td>24640.200439</td>\n      <td>15300.000000</td>\n      <td>22722.439819</td>\n      <td>18279.790260</td>\n      <td>34080.750000</td>\n      <td>32654.998779</td>\n      <td>34722.681152</td>\n      <td>34373.480083</td>\n      <td>34065.721264</td>\n    </tr>\n  </tbody>\n</table>\n<p>179 rows × 45 columns</p>\n</div>"
     },
     "metadata": {},
     "execution_count": 84
    }
   ],
   "source": [
    "portfolio"
   ]
  },
  {
   "cell_type": "code",
   "execution_count": 58,
   "metadata": {},
   "outputs": [
    {
     "output_type": "execute_result",
     "data": {
      "text/plain": [
       "                     MCD          AMZN          FIVE           TJX  \\\n",
       "Date                                                                 \n",
       "2020-07-22  27703.862854  37198.918945  18436.209381  24010.623123   \n",
       "2020-07-23  27554.619415  35838.600586  18444.659897  23988.157768   \n",
       "2020-07-24  27717.810211  36106.918945  18620.420052  23763.507660   \n",
       "2020-07-27  28070.699799  36662.519531  18860.399742  23399.575104   \n",
       "2020-07-28  27371.897552  36003.960938  18671.120567  23264.784695   \n",
       "...                  ...           ...           ...           ...   \n",
       "2021-03-31  31827.879913  37128.960938  32243.508865  29833.650688   \n",
       "2021-04-01  31979.820953  37932.000000  33059.779175  29756.981514   \n",
       "2021-04-05  32496.700867  38720.759766  33656.348969  30559.760963   \n",
       "2021-04-06  32931.220520  38685.840820  33365.668762  30505.639725   \n",
       "2021-04-07  33030.620087  39352.678711  32897.540619  30568.779449   \n",
       "\n",
       "                     DAN            PG           STZ            EL  \\\n",
       "Date                                                                 \n",
       "2020-07-22  20984.252214  29242.629425  17206.038086  20602.863647   \n",
       "2020-07-23  20836.359358  29431.828064  17159.068512  20448.002655   \n",
       "2020-07-24  20589.871788  29385.168945  17240.548157  20200.433716   \n",
       "2020-07-27  20902.088642  29469.153198  17148.521301  20315.263275   \n",
       "2020-07-28  20787.061214  29833.084961  17208.913925  20289.981201   \n",
       "...                  ...           ...           ...           ...   \n",
       "2021-03-31  40144.499874  31961.478271  22116.000000  30830.100647   \n",
       "2021-04-01  40540.499496  31690.079712  22273.139526  30986.978577   \n",
       "2021-04-05  40606.501007  32202.199280  22337.159882  31298.618835   \n",
       "2021-04-06  41316.001511  32214.000000  22921.100296  31270.000000   \n",
       "2021-04-07  40078.501511  32270.641296  22789.180237  31283.780518   \n",
       "\n",
       "                    COST           ZTS  ...          EQIX           ARE  \\\n",
       "Date                                    ...                               \n",
       "2020-07-22  27347.417358  37478.421585  ...  26181.452637  14909.574738   \n",
       "2020-07-23  27164.992798  37209.818161  ...  26223.099609  14876.911011   \n",
       "2020-07-24  27137.506287  37248.559875  ...  26248.018799  14879.560089   \n",
       "2020-07-27  27289.108582  37945.902832  ...  26839.265625  15039.345245   \n",
       "2020-07-28  27286.610046  37703.121948  ...  26786.937744  15342.144928   \n",
       "...                  ...           ...  ...           ...           ...   \n",
       "2021-03-31  30313.280945  40787.318893  ...  24465.240967  14787.000275   \n",
       "2021-04-01  30524.840210  40893.509842  ...  24408.000000  15274.800110   \n",
       "2021-04-05  31030.520630  41028.190948  ...  24848.639648  15362.100220   \n",
       "2021-04-06  30970.319580  40378.098419  ...  24793.560791  15390.000000   \n",
       "2021-04-07  30857.659790  40890.921265  ...  24640.200439  15300.000000   \n",
       "\n",
       "                     PXD           BKR           ICE            GS  \\\n",
       "Date                                                                 \n",
       "2020-07-22  14950.272980  13618.802425  28284.464355  20285.345459   \n",
       "2020-07-23  14680.464752  13809.102409  28222.629387  19991.899109   \n",
       "2020-07-24  14537.539154  13544.337709  28361.018806  19839.265442   \n",
       "2020-07-27  14368.361938  13511.242732  27836.906891  19991.899109   \n",
       "2020-07-28  14081.054138  13130.643578  27359.903664  19854.035950   \n",
       "...                  ...           ...           ...           ...   \n",
       "2021-03-31  23505.361084  18433.330521  33168.960091  32700.000000   \n",
       "2021-04-01  24360.800903  18535.689610  33917.399094  32764.001465   \n",
       "2021-04-05  22522.638916  18262.729870  34187.670181  32354.000854   \n",
       "2021-04-06  22404.240723  18126.250000  33831.271088  32705.999756   \n",
       "2021-04-07  22722.439819  18279.790260  34080.750000  32654.998779   \n",
       "\n",
       "                     AXP          KBWB           BAM     PortValue  \n",
       "Date                                                                \n",
       "2020-07-22  22541.640686  20631.181789  25767.873482  1.221269e+06  \n",
       "2020-07-23  22571.994141  20947.841839  25290.414883  1.209864e+06  \n",
       "2020-07-24  22259.111206  20856.601444  24992.000027  1.198857e+06  \n",
       "2020-07-27  22366.518646  20545.308231  25148.664379  1.207626e+06  \n",
       "2020-07-28  22046.629822  20475.539356  25409.777378  1.202633e+06  \n",
       "...                  ...           ...           ...           ...  \n",
       "2021-03-31  33379.840576  33853.829666  33508.500000  1.510228e+06  \n",
       "2021-04-01  34118.521729  34149.210167  33696.750000  1.534287e+06  \n",
       "2021-04-05  34470.159424  34324.250000  34186.201149  1.547504e+06  \n",
       "2021-04-06  34491.398560  34258.610584  33907.589081  1.547250e+06  \n",
       "2021-04-07  34722.681152  34373.480083  34065.721264  1.546876e+06  \n",
       "\n",
       "[179 rows x 46 columns]"
      ],
      "text/html": "<div>\n<style scoped>\n    .dataframe tbody tr th:only-of-type {\n        vertical-align: middle;\n    }\n\n    .dataframe tbody tr th {\n        vertical-align: top;\n    }\n\n    .dataframe thead th {\n        text-align: right;\n    }\n</style>\n<table border=\"1\" class=\"dataframe\">\n  <thead>\n    <tr style=\"text-align: right;\">\n      <th></th>\n      <th>MCD</th>\n      <th>AMZN</th>\n      <th>FIVE</th>\n      <th>TJX</th>\n      <th>DAN</th>\n      <th>PG</th>\n      <th>STZ</th>\n      <th>EL</th>\n      <th>COST</th>\n      <th>ZTS</th>\n      <th>...</th>\n      <th>EQIX</th>\n      <th>ARE</th>\n      <th>PXD</th>\n      <th>BKR</th>\n      <th>ICE</th>\n      <th>GS</th>\n      <th>AXP</th>\n      <th>KBWB</th>\n      <th>BAM</th>\n      <th>PortValue</th>\n    </tr>\n    <tr>\n      <th>Date</th>\n      <th></th>\n      <th></th>\n      <th></th>\n      <th></th>\n      <th></th>\n      <th></th>\n      <th></th>\n      <th></th>\n      <th></th>\n      <th></th>\n      <th></th>\n      <th></th>\n      <th></th>\n      <th></th>\n      <th></th>\n      <th></th>\n      <th></th>\n      <th></th>\n      <th></th>\n      <th></th>\n      <th></th>\n    </tr>\n  </thead>\n  <tbody>\n    <tr>\n      <th>2020-07-22</th>\n      <td>27703.862854</td>\n      <td>37198.918945</td>\n      <td>18436.209381</td>\n      <td>24010.623123</td>\n      <td>20984.252214</td>\n      <td>29242.629425</td>\n      <td>17206.038086</td>\n      <td>20602.863647</td>\n      <td>27347.417358</td>\n      <td>37478.421585</td>\n      <td>...</td>\n      <td>26181.452637</td>\n      <td>14909.574738</td>\n      <td>14950.272980</td>\n      <td>13618.802425</td>\n      <td>28284.464355</td>\n      <td>20285.345459</td>\n      <td>22541.640686</td>\n      <td>20631.181789</td>\n      <td>25767.873482</td>\n      <td>1.221269e+06</td>\n    </tr>\n    <tr>\n      <th>2020-07-23</th>\n      <td>27554.619415</td>\n      <td>35838.600586</td>\n      <td>18444.659897</td>\n      <td>23988.157768</td>\n      <td>20836.359358</td>\n      <td>29431.828064</td>\n      <td>17159.068512</td>\n      <td>20448.002655</td>\n      <td>27164.992798</td>\n      <td>37209.818161</td>\n      <td>...</td>\n      <td>26223.099609</td>\n      <td>14876.911011</td>\n      <td>14680.464752</td>\n      <td>13809.102409</td>\n      <td>28222.629387</td>\n      <td>19991.899109</td>\n      <td>22571.994141</td>\n      <td>20947.841839</td>\n      <td>25290.414883</td>\n      <td>1.209864e+06</td>\n    </tr>\n    <tr>\n      <th>2020-07-24</th>\n      <td>27717.810211</td>\n      <td>36106.918945</td>\n      <td>18620.420052</td>\n      <td>23763.507660</td>\n      <td>20589.871788</td>\n      <td>29385.168945</td>\n      <td>17240.548157</td>\n      <td>20200.433716</td>\n      <td>27137.506287</td>\n      <td>37248.559875</td>\n      <td>...</td>\n      <td>26248.018799</td>\n      <td>14879.560089</td>\n      <td>14537.539154</td>\n      <td>13544.337709</td>\n      <td>28361.018806</td>\n      <td>19839.265442</td>\n      <td>22259.111206</td>\n      <td>20856.601444</td>\n      <td>24992.000027</td>\n      <td>1.198857e+06</td>\n    </tr>\n    <tr>\n      <th>2020-07-27</th>\n      <td>28070.699799</td>\n      <td>36662.519531</td>\n      <td>18860.399742</td>\n      <td>23399.575104</td>\n      <td>20902.088642</td>\n      <td>29469.153198</td>\n      <td>17148.521301</td>\n      <td>20315.263275</td>\n      <td>27289.108582</td>\n      <td>37945.902832</td>\n      <td>...</td>\n      <td>26839.265625</td>\n      <td>15039.345245</td>\n      <td>14368.361938</td>\n      <td>13511.242732</td>\n      <td>27836.906891</td>\n      <td>19991.899109</td>\n      <td>22366.518646</td>\n      <td>20545.308231</td>\n      <td>25148.664379</td>\n      <td>1.207626e+06</td>\n    </tr>\n    <tr>\n      <th>2020-07-28</th>\n      <td>27371.897552</td>\n      <td>36003.960938</td>\n      <td>18671.120567</td>\n      <td>23264.784695</td>\n      <td>20787.061214</td>\n      <td>29833.084961</td>\n      <td>17208.913925</td>\n      <td>20289.981201</td>\n      <td>27286.610046</td>\n      <td>37703.121948</td>\n      <td>...</td>\n      <td>26786.937744</td>\n      <td>15342.144928</td>\n      <td>14081.054138</td>\n      <td>13130.643578</td>\n      <td>27359.903664</td>\n      <td>19854.035950</td>\n      <td>22046.629822</td>\n      <td>20475.539356</td>\n      <td>25409.777378</td>\n      <td>1.202633e+06</td>\n    </tr>\n    <tr>\n      <th>...</th>\n      <td>...</td>\n      <td>...</td>\n      <td>...</td>\n      <td>...</td>\n      <td>...</td>\n      <td>...</td>\n      <td>...</td>\n      <td>...</td>\n      <td>...</td>\n      <td>...</td>\n      <td>...</td>\n      <td>...</td>\n      <td>...</td>\n      <td>...</td>\n      <td>...</td>\n      <td>...</td>\n      <td>...</td>\n      <td>...</td>\n      <td>...</td>\n      <td>...</td>\n      <td>...</td>\n    </tr>\n    <tr>\n      <th>2021-03-31</th>\n      <td>31827.879913</td>\n      <td>37128.960938</td>\n      <td>32243.508865</td>\n      <td>29833.650688</td>\n      <td>40144.499874</td>\n      <td>31961.478271</td>\n      <td>22116.000000</td>\n      <td>30830.100647</td>\n      <td>30313.280945</td>\n      <td>40787.318893</td>\n      <td>...</td>\n      <td>24465.240967</td>\n      <td>14787.000275</td>\n      <td>23505.361084</td>\n      <td>18433.330521</td>\n      <td>33168.960091</td>\n      <td>32700.000000</td>\n      <td>33379.840576</td>\n      <td>33853.829666</td>\n      <td>33508.500000</td>\n      <td>1.510228e+06</td>\n    </tr>\n    <tr>\n      <th>2021-04-01</th>\n      <td>31979.820953</td>\n      <td>37932.000000</td>\n      <td>33059.779175</td>\n      <td>29756.981514</td>\n      <td>40540.499496</td>\n      <td>31690.079712</td>\n      <td>22273.139526</td>\n      <td>30986.978577</td>\n      <td>30524.840210</td>\n      <td>40893.509842</td>\n      <td>...</td>\n      <td>24408.000000</td>\n      <td>15274.800110</td>\n      <td>24360.800903</td>\n      <td>18535.689610</td>\n      <td>33917.399094</td>\n      <td>32764.001465</td>\n      <td>34118.521729</td>\n      <td>34149.210167</td>\n      <td>33696.750000</td>\n      <td>1.534287e+06</td>\n    </tr>\n    <tr>\n      <th>2021-04-05</th>\n      <td>32496.700867</td>\n      <td>38720.759766</td>\n      <td>33656.348969</td>\n      <td>30559.760963</td>\n      <td>40606.501007</td>\n      <td>32202.199280</td>\n      <td>22337.159882</td>\n      <td>31298.618835</td>\n      <td>31030.520630</td>\n      <td>41028.190948</td>\n      <td>...</td>\n      <td>24848.639648</td>\n      <td>15362.100220</td>\n      <td>22522.638916</td>\n      <td>18262.729870</td>\n      <td>34187.670181</td>\n      <td>32354.000854</td>\n      <td>34470.159424</td>\n      <td>34324.250000</td>\n      <td>34186.201149</td>\n      <td>1.547504e+06</td>\n    </tr>\n    <tr>\n      <th>2021-04-06</th>\n      <td>32931.220520</td>\n      <td>38685.840820</td>\n      <td>33365.668762</td>\n      <td>30505.639725</td>\n      <td>41316.001511</td>\n      <td>32214.000000</td>\n      <td>22921.100296</td>\n      <td>31270.000000</td>\n      <td>30970.319580</td>\n      <td>40378.098419</td>\n      <td>...</td>\n      <td>24793.560791</td>\n      <td>15390.000000</td>\n      <td>22404.240723</td>\n      <td>18126.250000</td>\n      <td>33831.271088</td>\n      <td>32705.999756</td>\n      <td>34491.398560</td>\n      <td>34258.610584</td>\n      <td>33907.589081</td>\n      <td>1.547250e+06</td>\n    </tr>\n    <tr>\n      <th>2021-04-07</th>\n      <td>33030.620087</td>\n      <td>39352.678711</td>\n      <td>32897.540619</td>\n      <td>30568.779449</td>\n      <td>40078.501511</td>\n      <td>32270.641296</td>\n      <td>22789.180237</td>\n      <td>31283.780518</td>\n      <td>30857.659790</td>\n      <td>40890.921265</td>\n      <td>...</td>\n      <td>24640.200439</td>\n      <td>15300.000000</td>\n      <td>22722.439819</td>\n      <td>18279.790260</td>\n      <td>34080.750000</td>\n      <td>32654.998779</td>\n      <td>34722.681152</td>\n      <td>34373.480083</td>\n      <td>34065.721264</td>\n      <td>1.546876e+06</td>\n    </tr>\n  </tbody>\n</table>\n<p>179 rows × 46 columns</p>\n</div>"
     },
     "metadata": {},
     "execution_count": 58
    }
   ],
   "source": [
    "portfolio[\"PortValue\"] = portfolio.sum(axis=1)\n",
    "portfolio"
   ]
  },
  {
   "cell_type": "code",
   "execution_count": null,
   "metadata": {},
   "outputs": [],
   "source": []
  },
  {
   "cell_type": "code",
   "execution_count": 78,
   "metadata": {},
   "outputs": [
    {
     "output_type": "stream",
     "name": "stdout",
     "text": [
      "[210.3414534311446, 3173.13062556837, 149.98423274610408, 60.34365055548451, 16.84000000000003, 133.50584669970962, 200.33053895657656, 239.3456143979673, 347.05422860604745, 158.08298674083892, 219.1330674590257, 192.3600537335431, 24.318888901402712, 120.54372684539311, 97.6873151183759, 184.71126972178303, 65.88861023433624, 113.85109347388858, 119.02332293798052, 218.23738235392898, 204.54609373385313, 43.4979782306328, 64.41603185260107, 349.053542041274, 124.91568743993365, 147.6291533374282, 498.1202105163897, 24.226385671625692, 13.672751353531288, 1726.4304205677497, 267.38365084532074, 129.35814856473732, 64.46299428788443, 148.4242099176639, 73.38982788974015, 725.0172729492188, 164.2409406389509, 111.56228048334677, 18.29789378151061, 104.72390452389995, 243.765465307488, 112.9928893639297, 46.47722827568256]\n"
     ]
    }
   ],
   "source": [
    "historical_nparray = historical_df.to_numpy()\n",
    "senbet_avg_closing_prices = compute_average(historical_nparray)\n",
    "print(senbet_avg_closing_prices)"
   ]
  },
  {
   "cell_type": "code",
   "execution_count": 17,
   "metadata": {
    "tags": []
   },
   "outputs": [],
   "source": [
    "senbet_demeaned = compute_stocks_demeaned(historical_nparray, senbet_avg_closing_prices)"
   ]
  },
  {
   "cell_type": "code",
   "execution_count": 18,
   "metadata": {},
   "outputs": [],
   "source": [
    "senbet_covariance_matrix = compute_covariance_matrix(senbet_demeaned)"
   ]
  },
  {
   "cell_type": "code",
   "execution_count": 19,
   "metadata": {},
   "outputs": [
    {
     "output_type": "stream",
     "name": "stdout",
     "text": [
      "[[14720.3919503]]\n"
     ]
    }
   ],
   "source": [
    "senbet_exp_risk= estimated_portfolio_risk_based_on_stddev(asset_weights, senbet_covariance_matrix)\n",
    "print(senbet_exp_risk)"
   ]
  },
  {
   "cell_type": "code",
   "execution_count": 20,
   "metadata": {},
   "outputs": [
    {
     "output_type": "stream",
     "name": "stdout",
     "text": [
      "29504.396676434328\n"
     ]
    }
   ],
   "source": [
    "senbet_exp_return = expected_portfolio_return(senbet_avg_closing_prices, asset_weights)\n",
    "print(senbet_exp_return)"
   ]
  },
  {
   "cell_type": "code",
   "execution_count": 21,
   "metadata": {},
   "outputs": [
    {
     "output_type": "execute_result",
     "data": {
      "text/plain": [
       "matrix([[0.45490531]])"
      ]
     },
     "metadata": {},
     "execution_count": 21
    }
   ],
   "source": [
    "sharpe_ratio(senbet_exp_return, senbet_exp_risk, .01485*1535893.08)"
   ]
  },
  {
   "cell_type": "code",
   "execution_count": 22,
   "metadata": {},
   "outputs": [],
   "source": [
    "apex = pd.DataFrame(index=['BATRA','PD','ACI'], columns=['Allocation'], data = [.0705, .1014, .0798])"
   ]
  },
  {
   "cell_type": "code",
   "execution_count": 23,
   "metadata": {},
   "outputs": [
    {
     "output_type": "execute_result",
     "data": {
      "text/plain": [
       "       Allocation\n",
       "BATRA      0.0705\n",
       "PD         0.1014\n",
       "ACI        0.0798"
      ],
      "text/html": "<div>\n<style scoped>\n    .dataframe tbody tr th:only-of-type {\n        vertical-align: middle;\n    }\n\n    .dataframe tbody tr th {\n        vertical-align: top;\n    }\n\n    .dataframe thead th {\n        text-align: right;\n    }\n</style>\n<table border=\"1\" class=\"dataframe\">\n  <thead>\n    <tr style=\"text-align: right;\">\n      <th></th>\n      <th>Allocation</th>\n    </tr>\n  </thead>\n  <tbody>\n    <tr>\n      <th>BATRA</th>\n      <td>0.0705</td>\n    </tr>\n    <tr>\n      <th>PD</th>\n      <td>0.1014</td>\n    </tr>\n    <tr>\n      <th>ACI</th>\n      <td>0.0798</td>\n    </tr>\n  </tbody>\n</table>\n</div>"
     },
     "metadata": {},
     "execution_count": 23
    }
   ],
   "source": [
    "apex"
   ]
  },
  {
   "cell_type": "code",
   "execution_count": 24,
   "metadata": {},
   "outputs": [],
   "source": [
    "apex_closing_prices = get_closing_price_historical_data(list(apex.index.values), '6mo', '1d')"
   ]
  },
  {
   "cell_type": "code",
   "execution_count": 25,
   "metadata": {},
   "outputs": [],
   "source": [
    "apex_historical_df = pd.DataFrame(apex_closing_prices)"
   ]
  },
  {
   "source": [
    "apex_historical_nparray = apex_historical_df.to_numpy()\n",
    "apex_avg_closing_prices = compute_average(apex_historical_nparray)\n",
    "print(apex_avg_closing_prices)"
   ],
   "cell_type": "code",
   "metadata": {},
   "execution_count": 26,
   "outputs": [
    {
     "output_type": "stream",
     "name": "stdout",
     "text": [
      "[26.315600036621095, 39.85192008972168, 16.30978335571289]\n"
     ]
    }
   ]
  },
  {
   "cell_type": "code",
   "execution_count": 27,
   "metadata": {},
   "outputs": [],
   "source": [
    "apex_demeaned = compute_stocks_demeaned(apex_historical_nparray, apex_avg_closing_prices)"
   ]
  },
  {
   "cell_type": "code",
   "execution_count": 28,
   "metadata": {},
   "outputs": [],
   "source": [
    "apex_covariance_matrix = compute_covariance_matrix(apex_demeaned)"
   ]
  },
  {
   "cell_type": "code",
   "execution_count": 29,
   "metadata": {},
   "outputs": [
    {
     "output_type": "stream",
     "name": "stdout",
     "text": [
      "[0.0705, 0.1014, 0.0798]\n"
     ]
    }
   ],
   "source": [
    "apex_asset_weights = list(apex['Allocation'])\n",
    "print(apex_asset_weights)"
   ]
  },
  {
   "cell_type": "code",
   "execution_count": 30,
   "metadata": {},
   "outputs": [
    {
     "output_type": "stream",
     "name": "stdout",
     "text": [
      "[[12.27824733]]\n"
     ]
    }
   ],
   "source": [
    "apex_exp_risk= estimated_portfolio_risk_based_on_stddev(apex_asset_weights, apex_covariance_matrix)\n",
    "print(apex_exp_risk)"
   ]
  },
  {
   "cell_type": "code",
   "execution_count": 31,
   "metadata": {},
   "outputs": [
    {
     "output_type": "stream",
     "name": "stdout",
     "text": [
      "7.197755211465454\n"
     ]
    }
   ],
   "source": [
    "apex_exp_return = expected_portfolio_return(apex_avg_closing_prices, apex_asset_weights)\n",
    "print(apex_exp_return)"
   ]
  },
  {
   "cell_type": "code",
   "execution_count": 32,
   "metadata": {},
   "outputs": [
    {
     "output_type": "execute_result",
     "data": {
      "text/plain": [
       "matrix([[0.46527449]])"
      ]
     },
     "metadata": {},
     "execution_count": 32
    }
   ],
   "source": [
    "sharpe_ratio(apex_exp_return, apex_exp_risk, 1.485)"
   ]
  },
  {
   "cell_type": "code",
   "execution_count": 59,
   "metadata": {},
   "outputs": [
    {
     "output_type": "execute_result",
     "data": {
      "text/plain": [
       "                     MCD          AMZN          FIVE           TJX  \\\n",
       "Date                                                                 \n",
       "2020-07-22  27703.862854  37198.918945  18436.209381  24010.623123   \n",
       "2020-07-23  27554.619415  35838.600586  18444.659897  23988.157768   \n",
       "2020-07-24  27717.810211  36106.918945  18620.420052  23763.507660   \n",
       "2020-07-27  28070.699799  36662.519531  18860.399742  23399.575104   \n",
       "2020-07-28  27371.897552  36003.960938  18671.120567  23264.784695   \n",
       "...                  ...           ...           ...           ...   \n",
       "2021-03-31  31827.879913  37128.960938  32243.508865  29833.650688   \n",
       "2021-04-01  31979.820953  37932.000000  33059.779175  29756.981514   \n",
       "2021-04-05  32496.700867  38720.759766  33656.348969  30559.760963   \n",
       "2021-04-06  32931.220520  38685.840820  33365.668762  30505.639725   \n",
       "2021-04-07  33030.620087  39352.678711  32897.540619  30568.779449   \n",
       "\n",
       "                     DAN            PG           STZ            EL  \\\n",
       "Date                                                                 \n",
       "2020-07-22  20984.252214  29242.629425  17206.038086  20602.863647   \n",
       "2020-07-23  20836.359358  29431.828064  17159.068512  20448.002655   \n",
       "2020-07-24  20589.871788  29385.168945  17240.548157  20200.433716   \n",
       "2020-07-27  20902.088642  29469.153198  17148.521301  20315.263275   \n",
       "2020-07-28  20787.061214  29833.084961  17208.913925  20289.981201   \n",
       "...                  ...           ...           ...           ...   \n",
       "2021-03-31  40144.499874  31961.478271  22116.000000  30830.100647   \n",
       "2021-04-01  40540.499496  31690.079712  22273.139526  30986.978577   \n",
       "2021-04-05  40606.501007  32202.199280  22337.159882  31298.618835   \n",
       "2021-04-06  41316.001511  32214.000000  22921.100296  31270.000000   \n",
       "2021-04-07  40078.501511  32270.641296  22789.180237  31283.780518   \n",
       "\n",
       "                    COST           ZTS  ...          EQIX           ARE  \\\n",
       "Date                                    ...                               \n",
       "2020-07-22  27347.417358  37478.421585  ...  26181.452637  14909.574738   \n",
       "2020-07-23  27164.992798  37209.818161  ...  26223.099609  14876.911011   \n",
       "2020-07-24  27137.506287  37248.559875  ...  26248.018799  14879.560089   \n",
       "2020-07-27  27289.108582  37945.902832  ...  26839.265625  15039.345245   \n",
       "2020-07-28  27286.610046  37703.121948  ...  26786.937744  15342.144928   \n",
       "...                  ...           ...  ...           ...           ...   \n",
       "2021-03-31  30313.280945  40787.318893  ...  24465.240967  14787.000275   \n",
       "2021-04-01  30524.840210  40893.509842  ...  24408.000000  15274.800110   \n",
       "2021-04-05  31030.520630  41028.190948  ...  24848.639648  15362.100220   \n",
       "2021-04-06  30970.319580  40378.098419  ...  24793.560791  15390.000000   \n",
       "2021-04-07  30857.659790  40890.921265  ...  24640.200439  15300.000000   \n",
       "\n",
       "                     PXD           BKR           ICE            GS  \\\n",
       "Date                                                                 \n",
       "2020-07-22  14950.272980  13618.802425  28284.464355  20285.345459   \n",
       "2020-07-23  14680.464752  13809.102409  28222.629387  19991.899109   \n",
       "2020-07-24  14537.539154  13544.337709  28361.018806  19839.265442   \n",
       "2020-07-27  14368.361938  13511.242732  27836.906891  19991.899109   \n",
       "2020-07-28  14081.054138  13130.643578  27359.903664  19854.035950   \n",
       "...                  ...           ...           ...           ...   \n",
       "2021-03-31  23505.361084  18433.330521  33168.960091  32700.000000   \n",
       "2021-04-01  24360.800903  18535.689610  33917.399094  32764.001465   \n",
       "2021-04-05  22522.638916  18262.729870  34187.670181  32354.000854   \n",
       "2021-04-06  22404.240723  18126.250000  33831.271088  32705.999756   \n",
       "2021-04-07  22722.439819  18279.790260  34080.750000  32654.998779   \n",
       "\n",
       "                     AXP          KBWB           BAM     PortValue  \n",
       "Date                                                                \n",
       "2020-07-22  22541.640686  20631.181789  25767.873482  1.221269e+06  \n",
       "2020-07-23  22571.994141  20947.841839  25290.414883  1.209864e+06  \n",
       "2020-07-24  22259.111206  20856.601444  24992.000027  1.198857e+06  \n",
       "2020-07-27  22366.518646  20545.308231  25148.664379  1.207626e+06  \n",
       "2020-07-28  22046.629822  20475.539356  25409.777378  1.202633e+06  \n",
       "...                  ...           ...           ...           ...  \n",
       "2021-03-31  33379.840576  33853.829666  33508.500000  1.510228e+06  \n",
       "2021-04-01  34118.521729  34149.210167  33696.750000  1.534287e+06  \n",
       "2021-04-05  34470.159424  34324.250000  34186.201149  1.547504e+06  \n",
       "2021-04-06  34491.398560  34258.610584  33907.589081  1.547250e+06  \n",
       "2021-04-07  34722.681152  34373.480083  34065.721264  1.546876e+06  \n",
       "\n",
       "[179 rows x 46 columns]"
      ],
      "text/html": "<div>\n<style scoped>\n    .dataframe tbody tr th:only-of-type {\n        vertical-align: middle;\n    }\n\n    .dataframe tbody tr th {\n        vertical-align: top;\n    }\n\n    .dataframe thead th {\n        text-align: right;\n    }\n</style>\n<table border=\"1\" class=\"dataframe\">\n  <thead>\n    <tr style=\"text-align: right;\">\n      <th></th>\n      <th>MCD</th>\n      <th>AMZN</th>\n      <th>FIVE</th>\n      <th>TJX</th>\n      <th>DAN</th>\n      <th>PG</th>\n      <th>STZ</th>\n      <th>EL</th>\n      <th>COST</th>\n      <th>ZTS</th>\n      <th>...</th>\n      <th>EQIX</th>\n      <th>ARE</th>\n      <th>PXD</th>\n      <th>BKR</th>\n      <th>ICE</th>\n      <th>GS</th>\n      <th>AXP</th>\n      <th>KBWB</th>\n      <th>BAM</th>\n      <th>PortValue</th>\n    </tr>\n    <tr>\n      <th>Date</th>\n      <th></th>\n      <th></th>\n      <th></th>\n      <th></th>\n      <th></th>\n      <th></th>\n      <th></th>\n      <th></th>\n      <th></th>\n      <th></th>\n      <th></th>\n      <th></th>\n      <th></th>\n      <th></th>\n      <th></th>\n      <th></th>\n      <th></th>\n      <th></th>\n      <th></th>\n      <th></th>\n      <th></th>\n    </tr>\n  </thead>\n  <tbody>\n    <tr>\n      <th>2020-07-22</th>\n      <td>27703.862854</td>\n      <td>37198.918945</td>\n      <td>18436.209381</td>\n      <td>24010.623123</td>\n      <td>20984.252214</td>\n      <td>29242.629425</td>\n      <td>17206.038086</td>\n      <td>20602.863647</td>\n      <td>27347.417358</td>\n      <td>37478.421585</td>\n      <td>...</td>\n      <td>26181.452637</td>\n      <td>14909.574738</td>\n      <td>14950.272980</td>\n      <td>13618.802425</td>\n      <td>28284.464355</td>\n      <td>20285.345459</td>\n      <td>22541.640686</td>\n      <td>20631.181789</td>\n      <td>25767.873482</td>\n      <td>1.221269e+06</td>\n    </tr>\n    <tr>\n      <th>2020-07-23</th>\n      <td>27554.619415</td>\n      <td>35838.600586</td>\n      <td>18444.659897</td>\n      <td>23988.157768</td>\n      <td>20836.359358</td>\n      <td>29431.828064</td>\n      <td>17159.068512</td>\n      <td>20448.002655</td>\n      <td>27164.992798</td>\n      <td>37209.818161</td>\n      <td>...</td>\n      <td>26223.099609</td>\n      <td>14876.911011</td>\n      <td>14680.464752</td>\n      <td>13809.102409</td>\n      <td>28222.629387</td>\n      <td>19991.899109</td>\n      <td>22571.994141</td>\n      <td>20947.841839</td>\n      <td>25290.414883</td>\n      <td>1.209864e+06</td>\n    </tr>\n    <tr>\n      <th>2020-07-24</th>\n      <td>27717.810211</td>\n      <td>36106.918945</td>\n      <td>18620.420052</td>\n      <td>23763.507660</td>\n      <td>20589.871788</td>\n      <td>29385.168945</td>\n      <td>17240.548157</td>\n      <td>20200.433716</td>\n      <td>27137.506287</td>\n      <td>37248.559875</td>\n      <td>...</td>\n      <td>26248.018799</td>\n      <td>14879.560089</td>\n      <td>14537.539154</td>\n      <td>13544.337709</td>\n      <td>28361.018806</td>\n      <td>19839.265442</td>\n      <td>22259.111206</td>\n      <td>20856.601444</td>\n      <td>24992.000027</td>\n      <td>1.198857e+06</td>\n    </tr>\n    <tr>\n      <th>2020-07-27</th>\n      <td>28070.699799</td>\n      <td>36662.519531</td>\n      <td>18860.399742</td>\n      <td>23399.575104</td>\n      <td>20902.088642</td>\n      <td>29469.153198</td>\n      <td>17148.521301</td>\n      <td>20315.263275</td>\n      <td>27289.108582</td>\n      <td>37945.902832</td>\n      <td>...</td>\n      <td>26839.265625</td>\n      <td>15039.345245</td>\n      <td>14368.361938</td>\n      <td>13511.242732</td>\n      <td>27836.906891</td>\n      <td>19991.899109</td>\n      <td>22366.518646</td>\n      <td>20545.308231</td>\n      <td>25148.664379</td>\n      <td>1.207626e+06</td>\n    </tr>\n    <tr>\n      <th>2020-07-28</th>\n      <td>27371.897552</td>\n      <td>36003.960938</td>\n      <td>18671.120567</td>\n      <td>23264.784695</td>\n      <td>20787.061214</td>\n      <td>29833.084961</td>\n      <td>17208.913925</td>\n      <td>20289.981201</td>\n      <td>27286.610046</td>\n      <td>37703.121948</td>\n      <td>...</td>\n      <td>26786.937744</td>\n      <td>15342.144928</td>\n      <td>14081.054138</td>\n      <td>13130.643578</td>\n      <td>27359.903664</td>\n      <td>19854.035950</td>\n      <td>22046.629822</td>\n      <td>20475.539356</td>\n      <td>25409.777378</td>\n      <td>1.202633e+06</td>\n    </tr>\n    <tr>\n      <th>...</th>\n      <td>...</td>\n      <td>...</td>\n      <td>...</td>\n      <td>...</td>\n      <td>...</td>\n      <td>...</td>\n      <td>...</td>\n      <td>...</td>\n      <td>...</td>\n      <td>...</td>\n      <td>...</td>\n      <td>...</td>\n      <td>...</td>\n      <td>...</td>\n      <td>...</td>\n      <td>...</td>\n      <td>...</td>\n      <td>...</td>\n      <td>...</td>\n      <td>...</td>\n      <td>...</td>\n    </tr>\n    <tr>\n      <th>2021-03-31</th>\n      <td>31827.879913</td>\n      <td>37128.960938</td>\n      <td>32243.508865</td>\n      <td>29833.650688</td>\n      <td>40144.499874</td>\n      <td>31961.478271</td>\n      <td>22116.000000</td>\n      <td>30830.100647</td>\n      <td>30313.280945</td>\n      <td>40787.318893</td>\n      <td>...</td>\n      <td>24465.240967</td>\n      <td>14787.000275</td>\n      <td>23505.361084</td>\n      <td>18433.330521</td>\n      <td>33168.960091</td>\n      <td>32700.000000</td>\n      <td>33379.840576</td>\n      <td>33853.829666</td>\n      <td>33508.500000</td>\n      <td>1.510228e+06</td>\n    </tr>\n    <tr>\n      <th>2021-04-01</th>\n      <td>31979.820953</td>\n      <td>37932.000000</td>\n      <td>33059.779175</td>\n      <td>29756.981514</td>\n      <td>40540.499496</td>\n      <td>31690.079712</td>\n      <td>22273.139526</td>\n      <td>30986.978577</td>\n      <td>30524.840210</td>\n      <td>40893.509842</td>\n      <td>...</td>\n      <td>24408.000000</td>\n      <td>15274.800110</td>\n      <td>24360.800903</td>\n      <td>18535.689610</td>\n      <td>33917.399094</td>\n      <td>32764.001465</td>\n      <td>34118.521729</td>\n      <td>34149.210167</td>\n      <td>33696.750000</td>\n      <td>1.534287e+06</td>\n    </tr>\n    <tr>\n      <th>2021-04-05</th>\n      <td>32496.700867</td>\n      <td>38720.759766</td>\n      <td>33656.348969</td>\n      <td>30559.760963</td>\n      <td>40606.501007</td>\n      <td>32202.199280</td>\n      <td>22337.159882</td>\n      <td>31298.618835</td>\n      <td>31030.520630</td>\n      <td>41028.190948</td>\n      <td>...</td>\n      <td>24848.639648</td>\n      <td>15362.100220</td>\n      <td>22522.638916</td>\n      <td>18262.729870</td>\n      <td>34187.670181</td>\n      <td>32354.000854</td>\n      <td>34470.159424</td>\n      <td>34324.250000</td>\n      <td>34186.201149</td>\n      <td>1.547504e+06</td>\n    </tr>\n    <tr>\n      <th>2021-04-06</th>\n      <td>32931.220520</td>\n      <td>38685.840820</td>\n      <td>33365.668762</td>\n      <td>30505.639725</td>\n      <td>41316.001511</td>\n      <td>32214.000000</td>\n      <td>22921.100296</td>\n      <td>31270.000000</td>\n      <td>30970.319580</td>\n      <td>40378.098419</td>\n      <td>...</td>\n      <td>24793.560791</td>\n      <td>15390.000000</td>\n      <td>22404.240723</td>\n      <td>18126.250000</td>\n      <td>33831.271088</td>\n      <td>32705.999756</td>\n      <td>34491.398560</td>\n      <td>34258.610584</td>\n      <td>33907.589081</td>\n      <td>1.547250e+06</td>\n    </tr>\n    <tr>\n      <th>2021-04-07</th>\n      <td>33030.620087</td>\n      <td>39352.678711</td>\n      <td>32897.540619</td>\n      <td>30568.779449</td>\n      <td>40078.501511</td>\n      <td>32270.641296</td>\n      <td>22789.180237</td>\n      <td>31283.780518</td>\n      <td>30857.659790</td>\n      <td>40890.921265</td>\n      <td>...</td>\n      <td>24640.200439</td>\n      <td>15300.000000</td>\n      <td>22722.439819</td>\n      <td>18279.790260</td>\n      <td>34080.750000</td>\n      <td>32654.998779</td>\n      <td>34722.681152</td>\n      <td>34373.480083</td>\n      <td>34065.721264</td>\n      <td>1.546876e+06</td>\n    </tr>\n  </tbody>\n</table>\n<p>179 rows × 46 columns</p>\n</div>"
     },
     "metadata": {},
     "execution_count": 59
    }
   ],
   "source": [
    "portfolio"
   ]
  },
  {
   "cell_type": "code",
   "execution_count": 60,
   "metadata": {},
   "outputs": [],
   "source": [
    "portvalue = list(portfolio['PortValue'])"
   ]
  },
  {
   "cell_type": "code",
   "execution_count": 85,
   "metadata": {},
   "outputs": [],
   "source": [
    "import statistics"
   ]
  },
  {
   "cell_type": "code",
   "execution_count": 86,
   "metadata": {},
   "outputs": [],
   "source": [
    "pct_change = []\n",
    "for i in range(1, len(portvalue)):\n",
    "    curr = portvalue[i]\n",
    "    yester = portvalue[i-1]\n",
    "    delta = curr-yester\n",
    "    pct_change.append(delta/curr * 100)"
   ]
  },
  {
   "cell_type": "code",
   "execution_count": 87,
   "metadata": {},
   "outputs": [
    {
     "output_type": "stream",
     "name": "stdout",
     "text": [
      "0.12713620064970435 1.0585996537432032 0.12009847178784856\n"
     ]
    }
   ],
   "source": [
    "avg_pct_change = statistics.mean(pct_change)\n",
    "stdev_pct_change = statistics.stdev(pct_change)\n",
    "print(avg_pct_change, stdev_pct_change, avg_pct_change/stdev_pct_change)"
   ]
  },
  {
   "cell_type": "code",
   "execution_count": 88,
   "metadata": {},
   "outputs": [
    {
     "output_type": "execute_result",
     "data": {
      "text/plain": [
       "                 MCD      AMZN      FIVE       TJX       DAN        PG  \\\n",
       "Date                                                                     \n",
       "2020-07-22  0.000000  0.000000  0.000000  0.000000  0.000000  0.000000   \n",
       "2020-07-23 -0.541628 -3.795679  0.045816 -0.093652 -0.709783  0.642837   \n",
       "2020-07-24  0.588758  0.743122  0.943911 -0.945358 -1.197130 -0.158785   \n",
       "2020-07-27  1.257146  1.515446  1.272400 -1.555296  1.493711  0.284990   \n",
       "2020-07-28 -2.552992 -1.829128 -1.013754 -0.579375 -0.553361  1.219893   \n",
       "...              ...       ...       ...       ...       ...       ...   \n",
       "2021-03-31 -0.374764  1.253686  0.151996 -0.559327 -1.356350 -0.014771   \n",
       "2021-04-01  0.475115  2.117049  2.469074 -0.257651  0.976800 -0.856415   \n",
       "2021-04-05  1.590561  2.037046  1.772533  2.626917  0.162539  1.590325   \n",
       "2021-04-06  1.319476 -0.090263 -0.871196 -0.177414  1.717254  0.036632   \n",
       "2021-04-07  0.300932  1.694517 -1.422988  0.206550 -3.087690  0.175520   \n",
       "\n",
       "                 STZ        EL      COST       ZTS  ...       NEE      EQIX  \\\n",
       "Date                                                ...                       \n",
       "2020-07-22  0.000000  0.000000  0.000000  0.000000  ...  0.000000  0.000000   \n",
       "2020-07-23 -0.273730 -0.757340 -0.671543 -0.721862  ...  0.195760  0.158818   \n",
       "2020-07-24  0.472605 -1.225562 -0.101286  0.104009  ... -0.256924  0.094937   \n",
       "2020-07-27 -0.536646  0.565238  0.555541  1.837729  ... -0.943693  2.202917   \n",
       "2020-07-28  0.350938 -0.124604 -0.009157 -0.643928  ...  0.860596 -0.195348   \n",
       "...              ...       ...       ...       ...  ...       ...       ...   \n",
       "2021-03-31 -2.609648 -1.471548  0.774515  0.279402  ...  1.838380  0.698951   \n",
       "2021-04-01  0.705511  0.506270  0.693072  0.259677  ...  0.211160 -0.234517   \n",
       "2021-04-05  0.286609  0.995700  1.629623  0.328265  ...  1.315450  1.773295   \n",
       "2021-04-06  2.547611 -0.091522 -0.194383 -1.610013  ...  1.005671 -0.222150   \n",
       "2021-04-07 -0.578871  0.044050 -0.365095  1.254124  ... -0.193766 -0.622399   \n",
       "\n",
       "                 ARE       PXD       BKR       ICE        GS       AXP  \\\n",
       "Date                                                                     \n",
       "2020-07-22  0.000000  0.000000  0.000000  0.000000  0.000000  0.000000   \n",
       "2020-07-23 -0.219560 -1.837873  1.378076 -0.219097 -1.467826  0.134474   \n",
       "2020-07-24  0.017803 -0.983149 -1.954800  0.487956 -0.769351 -1.405640   \n",
       "2020-07-27  1.062448 -1.177429 -0.244944 -1.882795  0.763478  0.480215   \n",
       "2020-07-28  1.973646 -2.040386 -2.898557 -1.743439 -0.694384 -1.450965   \n",
       "...              ...       ...       ...       ...       ...       ...   \n",
       "2021-03-31 -1.199027 -1.133351 -0.555294  0.402934 -1.532113 -1.145359   \n",
       "2021-04-01  3.193494  3.511542  0.552227  2.206652  0.195341  2.165044   \n",
       "2021-04-05  0.568282 -8.161397 -1.494627  0.790551 -1.267233  1.020122   \n",
       "2021-04-06  0.181285 -0.528463 -0.752940 -1.053461  1.076252  0.061578   \n",
       "2021-04-07 -0.588235  1.400374  0.839945  0.732023 -0.156181  0.666085   \n",
       "\n",
       "                KBWB       BAM  \n",
       "Date                            \n",
       "2020-07-22  0.000000  0.000000  \n",
       "2020-07-23  1.511660 -1.887903  \n",
       "2020-07-24 -0.437465 -1.194042  \n",
       "2020-07-27 -1.515155  0.622953  \n",
       "2020-07-28 -0.340743  1.027608  \n",
       "...              ...       ...  \n",
       "2021-03-31 -0.791730 -1.910109  \n",
       "2021-04-01  0.864970  0.558659  \n",
       "2021-04-05  0.509960  1.431721  \n",
       "2021-04-06 -0.191600 -0.821681  \n",
       "2021-04-07  0.334181  0.464197  \n",
       "\n",
       "[179 rows x 45 columns]"
      ],
      "text/html": "<div>\n<style scoped>\n    .dataframe tbody tr th:only-of-type {\n        vertical-align: middle;\n    }\n\n    .dataframe tbody tr th {\n        vertical-align: top;\n    }\n\n    .dataframe thead th {\n        text-align: right;\n    }\n</style>\n<table border=\"1\" class=\"dataframe\">\n  <thead>\n    <tr style=\"text-align: right;\">\n      <th></th>\n      <th>MCD</th>\n      <th>AMZN</th>\n      <th>FIVE</th>\n      <th>TJX</th>\n      <th>DAN</th>\n      <th>PG</th>\n      <th>STZ</th>\n      <th>EL</th>\n      <th>COST</th>\n      <th>ZTS</th>\n      <th>...</th>\n      <th>NEE</th>\n      <th>EQIX</th>\n      <th>ARE</th>\n      <th>PXD</th>\n      <th>BKR</th>\n      <th>ICE</th>\n      <th>GS</th>\n      <th>AXP</th>\n      <th>KBWB</th>\n      <th>BAM</th>\n    </tr>\n    <tr>\n      <th>Date</th>\n      <th></th>\n      <th></th>\n      <th></th>\n      <th></th>\n      <th></th>\n      <th></th>\n      <th></th>\n      <th></th>\n      <th></th>\n      <th></th>\n      <th></th>\n      <th></th>\n      <th></th>\n      <th></th>\n      <th></th>\n      <th></th>\n      <th></th>\n      <th></th>\n      <th></th>\n      <th></th>\n      <th></th>\n    </tr>\n  </thead>\n  <tbody>\n    <tr>\n      <th>2020-07-22</th>\n      <td>0.000000</td>\n      <td>0.000000</td>\n      <td>0.000000</td>\n      <td>0.000000</td>\n      <td>0.000000</td>\n      <td>0.000000</td>\n      <td>0.000000</td>\n      <td>0.000000</td>\n      <td>0.000000</td>\n      <td>0.000000</td>\n      <td>...</td>\n      <td>0.000000</td>\n      <td>0.000000</td>\n      <td>0.000000</td>\n      <td>0.000000</td>\n      <td>0.000000</td>\n      <td>0.000000</td>\n      <td>0.000000</td>\n      <td>0.000000</td>\n      <td>0.000000</td>\n      <td>0.000000</td>\n    </tr>\n    <tr>\n      <th>2020-07-23</th>\n      <td>-0.541628</td>\n      <td>-3.795679</td>\n      <td>0.045816</td>\n      <td>-0.093652</td>\n      <td>-0.709783</td>\n      <td>0.642837</td>\n      <td>-0.273730</td>\n      <td>-0.757340</td>\n      <td>-0.671543</td>\n      <td>-0.721862</td>\n      <td>...</td>\n      <td>0.195760</td>\n      <td>0.158818</td>\n      <td>-0.219560</td>\n      <td>-1.837873</td>\n      <td>1.378076</td>\n      <td>-0.219097</td>\n      <td>-1.467826</td>\n      <td>0.134474</td>\n      <td>1.511660</td>\n      <td>-1.887903</td>\n    </tr>\n    <tr>\n      <th>2020-07-24</th>\n      <td>0.588758</td>\n      <td>0.743122</td>\n      <td>0.943911</td>\n      <td>-0.945358</td>\n      <td>-1.197130</td>\n      <td>-0.158785</td>\n      <td>0.472605</td>\n      <td>-1.225562</td>\n      <td>-0.101286</td>\n      <td>0.104009</td>\n      <td>...</td>\n      <td>-0.256924</td>\n      <td>0.094937</td>\n      <td>0.017803</td>\n      <td>-0.983149</td>\n      <td>-1.954800</td>\n      <td>0.487956</td>\n      <td>-0.769351</td>\n      <td>-1.405640</td>\n      <td>-0.437465</td>\n      <td>-1.194042</td>\n    </tr>\n    <tr>\n      <th>2020-07-27</th>\n      <td>1.257146</td>\n      <td>1.515446</td>\n      <td>1.272400</td>\n      <td>-1.555296</td>\n      <td>1.493711</td>\n      <td>0.284990</td>\n      <td>-0.536646</td>\n      <td>0.565238</td>\n      <td>0.555541</td>\n      <td>1.837729</td>\n      <td>...</td>\n      <td>-0.943693</td>\n      <td>2.202917</td>\n      <td>1.062448</td>\n      <td>-1.177429</td>\n      <td>-0.244944</td>\n      <td>-1.882795</td>\n      <td>0.763478</td>\n      <td>0.480215</td>\n      <td>-1.515155</td>\n      <td>0.622953</td>\n    </tr>\n    <tr>\n      <th>2020-07-28</th>\n      <td>-2.552992</td>\n      <td>-1.829128</td>\n      <td>-1.013754</td>\n      <td>-0.579375</td>\n      <td>-0.553361</td>\n      <td>1.219893</td>\n      <td>0.350938</td>\n      <td>-0.124604</td>\n      <td>-0.009157</td>\n      <td>-0.643928</td>\n      <td>...</td>\n      <td>0.860596</td>\n      <td>-0.195348</td>\n      <td>1.973646</td>\n      <td>-2.040386</td>\n      <td>-2.898557</td>\n      <td>-1.743439</td>\n      <td>-0.694384</td>\n      <td>-1.450965</td>\n      <td>-0.340743</td>\n      <td>1.027608</td>\n    </tr>\n    <tr>\n      <th>...</th>\n      <td>...</td>\n      <td>...</td>\n      <td>...</td>\n      <td>...</td>\n      <td>...</td>\n      <td>...</td>\n      <td>...</td>\n      <td>...</td>\n      <td>...</td>\n      <td>...</td>\n      <td>...</td>\n      <td>...</td>\n      <td>...</td>\n      <td>...</td>\n      <td>...</td>\n      <td>...</td>\n      <td>...</td>\n      <td>...</td>\n      <td>...</td>\n      <td>...</td>\n      <td>...</td>\n    </tr>\n    <tr>\n      <th>2021-03-31</th>\n      <td>-0.374764</td>\n      <td>1.253686</td>\n      <td>0.151996</td>\n      <td>-0.559327</td>\n      <td>-1.356350</td>\n      <td>-0.014771</td>\n      <td>-2.609648</td>\n      <td>-1.471548</td>\n      <td>0.774515</td>\n      <td>0.279402</td>\n      <td>...</td>\n      <td>1.838380</td>\n      <td>0.698951</td>\n      <td>-1.199027</td>\n      <td>-1.133351</td>\n      <td>-0.555294</td>\n      <td>0.402934</td>\n      <td>-1.532113</td>\n      <td>-1.145359</td>\n      <td>-0.791730</td>\n      <td>-1.910109</td>\n    </tr>\n    <tr>\n      <th>2021-04-01</th>\n      <td>0.475115</td>\n      <td>2.117049</td>\n      <td>2.469074</td>\n      <td>-0.257651</td>\n      <td>0.976800</td>\n      <td>-0.856415</td>\n      <td>0.705511</td>\n      <td>0.506270</td>\n      <td>0.693072</td>\n      <td>0.259677</td>\n      <td>...</td>\n      <td>0.211160</td>\n      <td>-0.234517</td>\n      <td>3.193494</td>\n      <td>3.511542</td>\n      <td>0.552227</td>\n      <td>2.206652</td>\n      <td>0.195341</td>\n      <td>2.165044</td>\n      <td>0.864970</td>\n      <td>0.558659</td>\n    </tr>\n    <tr>\n      <th>2021-04-05</th>\n      <td>1.590561</td>\n      <td>2.037046</td>\n      <td>1.772533</td>\n      <td>2.626917</td>\n      <td>0.162539</td>\n      <td>1.590325</td>\n      <td>0.286609</td>\n      <td>0.995700</td>\n      <td>1.629623</td>\n      <td>0.328265</td>\n      <td>...</td>\n      <td>1.315450</td>\n      <td>1.773295</td>\n      <td>0.568282</td>\n      <td>-8.161397</td>\n      <td>-1.494627</td>\n      <td>0.790551</td>\n      <td>-1.267233</td>\n      <td>1.020122</td>\n      <td>0.509960</td>\n      <td>1.431721</td>\n    </tr>\n    <tr>\n      <th>2021-04-06</th>\n      <td>1.319476</td>\n      <td>-0.090263</td>\n      <td>-0.871196</td>\n      <td>-0.177414</td>\n      <td>1.717254</td>\n      <td>0.036632</td>\n      <td>2.547611</td>\n      <td>-0.091522</td>\n      <td>-0.194383</td>\n      <td>-1.610013</td>\n      <td>...</td>\n      <td>1.005671</td>\n      <td>-0.222150</td>\n      <td>0.181285</td>\n      <td>-0.528463</td>\n      <td>-0.752940</td>\n      <td>-1.053461</td>\n      <td>1.076252</td>\n      <td>0.061578</td>\n      <td>-0.191600</td>\n      <td>-0.821681</td>\n    </tr>\n    <tr>\n      <th>2021-04-07</th>\n      <td>0.300932</td>\n      <td>1.694517</td>\n      <td>-1.422988</td>\n      <td>0.206550</td>\n      <td>-3.087690</td>\n      <td>0.175520</td>\n      <td>-0.578871</td>\n      <td>0.044050</td>\n      <td>-0.365095</td>\n      <td>1.254124</td>\n      <td>...</td>\n      <td>-0.193766</td>\n      <td>-0.622399</td>\n      <td>-0.588235</td>\n      <td>1.400374</td>\n      <td>0.839945</td>\n      <td>0.732023</td>\n      <td>-0.156181</td>\n      <td>0.666085</td>\n      <td>0.334181</td>\n      <td>0.464197</td>\n    </tr>\n  </tbody>\n</table>\n<p>179 rows × 45 columns</p>\n</div>"
     },
     "metadata": {},
     "execution_count": 88
    }
   ],
   "source": [
    "for sym in portfolio.columns:\n",
    "    data = list(portfolio[sym])\n",
    "    pct_change = []\n",
    "    for i in range(1, len(data)):\n",
    "        curr = data[i]\n",
    "        yester = data[i-1]\n",
    "        delta = curr-yester\n",
    "        pct_change.append(delta/curr * 100)\n",
    "    pct_change.insert(0, 0)\n",
    "    portfolio[sym] = pct_change\n",
    "\n",
    "portfolio"
   ]
  },
  {
   "cell_type": "code",
   "execution_count": 89,
   "metadata": {},
   "outputs": [
    {
     "output_type": "stream",
     "name": "stdout",
     "text": [
      "[0.09239359861747862, 0.011687206484009173, 0.2976827231015651, 0.11384797864388435, 0.3063949789927734, 0.05011737027493199, 0.14230228268159265, 0.217858301949982, 0.06007457018184038, 0.03763042893965515, 0.12446672727306908, -0.004680875781625016, 0.02325920003316419, -0.013828219382013271, 0.04352071175081204, 0.18903405530342068, 0.09949756278808686, 0.11365006752312624, 0.1265187335577643, 0.08027292192583253, 0.04434044899664236, 0.05562775181297461, 0.29838340808641045, 0.15053391966328328, 0.03175540581053435, 0.14599722171659538, -0.07606839738235602, 0.05122720453110951, 0.20194727942001067, 0.41053965854526064, 0.18221429775995174, 0.12146953868414499, 0.1884300918087621, 0.15349197679526466, 0.030348593478685956, 0.050107365367051654, -0.04842914931960268, 0.005835203713245938, 0.1867509088090611, 0.12890037388677436, 0.09521325272284864, 0.2505484717178994, 0.21406438745705006, 0.26306607746844946, 0.13583811981787666]\n"
     ]
    }
   ],
   "source": [
    "senbet_port = portfolio.to_numpy()\n",
    "senbet_avg_returns = compute_average(senbet_port)\n",
    "print(senbet_avg_returns)"
   ]
  },
  {
   "cell_type": "code",
   "execution_count": 90,
   "metadata": {},
   "outputs": [],
   "source": [
    "senbet_demeaned = compute_stocks_demeaned(senbet_port, senbet_avg_returns)"
   ]
  },
  {
   "cell_type": "code",
   "execution_count": 91,
   "metadata": {},
   "outputs": [],
   "source": [
    "senbet_covmat = compute_covariance_matrix(senbet_demeaned)"
   ]
  },
  {
   "cell_type": "code",
   "execution_count": 92,
   "metadata": {},
   "outputs": [],
   "source": [
    "senbet_asset_weights = list(trimmed_senbet['Allocation'])"
   ]
  },
  {
   "cell_type": "code",
   "execution_count": 97,
   "metadata": {},
   "outputs": [
    {
     "output_type": "execute_result",
     "data": {
      "text/plain": [
       "matrix([[1421.36038569]])"
      ]
     },
     "metadata": {},
     "execution_count": 97
    }
   ],
   "source": [
    "estimated_portfolio_risk_based_on_stddev(senbet_asset_weights, senbet_covmat)"
   ]
  },
  {
   "cell_type": "code",
   "execution_count": 99,
   "metadata": {},
   "outputs": [
    {
     "output_type": "execute_result",
     "data": {
      "text/plain": [
       "11.937223616913187"
      ]
     },
     "metadata": {},
     "execution_count": 99
    }
   ],
   "source": [
    "expected_portfolio_return(asset_weights=senbet_asset_weights, average_closing_prices = senbet_avg_returns)"
   ]
  },
  {
   "cell_type": "code",
   "execution_count": 101,
   "metadata": {},
   "outputs": [
    {
     "output_type": "execute_result",
     "data": {
      "text/plain": [
       "0.0074134777660894826"
      ]
     },
     "metadata": {},
     "execution_count": 101
    }
   ],
   "source": [
    "(11.937223616913187-1.4) / 1421.36038569"
   ]
  },
  {
   "cell_type": "code",
   "execution_count": null,
   "metadata": {},
   "outputs": [],
   "source": []
  }
 ]
}